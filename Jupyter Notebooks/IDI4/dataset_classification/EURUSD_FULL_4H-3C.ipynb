{
 "cells": [
  {
   "cell_type": "markdown",
   "metadata": {},
   "source": [
    "   #### Mawrer Amed Ramirez Martinez ms723737@iteso.mx\n",
    "   #### Avance de TOG IDI 4\n",
    "\n",
    "#  Ajuste de Dataset (Preparacion para Clasificacion)\n",
    "# El objetivo de este Notebook es SOLO agregar YHat\n"
   ]
  },
  {
   "cell_type": "code",
   "execution_count": 8,
   "metadata": {},
   "outputs": [],
   "source": [
    "import matplotlib.pyplot as plt\n",
    "from datetime import datetime\n",
    "import seaborn as sns\n",
    "import pandas as pd\n",
    "import os, glob"
   ]
  },
  {
   "cell_type": "code",
   "execution_count": 9,
   "metadata": {},
   "outputs": [],
   "source": [
    "import warnings\n",
    "warnings.filterwarnings(\"ignore\")"
   ]
  },
  {
   "cell_type": "code",
   "execution_count": 10,
   "metadata": {},
   "outputs": [],
   "source": [
    "SOURCE_TYPE = \"EURUSD_FULL\"\n",
    "FRECUENCIA = \"4H\"\n",
    "NUM_FEATURES = 0"
   ]
  },
  {
   "cell_type": "code",
   "execution_count": 11,
   "metadata": {},
   "outputs": [
    {
     "name": "stdout",
     "output_type": "stream",
     "text": [
      "R-EURUSD_FULL_1D_144F.csv\n",
      "R-EURUSD_FULL_1D_44F.csv\n",
      "R-EURUSD_FULL_1D_69F.csv\n",
      "R-EURUSD_FULL_1H_44F.csv\n",
      "R-EURUSD_FULL_1H_49F.csv\n",
      "R-EURUSD_FULL_4H_144F.csv\n"
     ]
    }
   ],
   "source": [
    "pwd = os.getcwd()\n",
    "datasource_path = os.path.join(pwd, r'../../../Datasets/Junio2020/procesados-regression/')\n",
    "filenames = glob.glob(datasource_path + \"/*.csv\")\n",
    "filenames.sort()\n",
    "for file in filenames:\n",
    "    print(os.path.basename(file))"
   ]
  },
  {
   "cell_type": "markdown",
   "metadata": {},
   "source": [
    "## Read CSV"
   ]
  },
  {
   "cell_type": "markdown",
   "metadata": {},
   "source": [
    "### Read Dataset From Regression"
   ]
  },
  {
   "cell_type": "code",
   "execution_count": 12,
   "metadata": {
    "scrolled": true
   },
   "outputs": [
    {
     "name": "stdout",
     "output_type": "stream",
     "text": [
      "                 Gmt time     Open     High      Low    Close       Volume  \\\n",
      "0     2004-01-01 00:00:00  1.25950  1.25965  1.25826  1.25869   19408.8998   \n",
      "1     2004-01-01 04:00:00  1.25908  1.25960  1.24698  1.25910   41634.6001   \n",
      "2     2004-01-01 08:00:00  1.25900  1.25953  1.25723  1.25785   23757.6001   \n",
      "3     2004-01-01 12:00:00  1.25785  1.26052  1.25727  1.25911   25753.3003   \n",
      "4     2004-01-01 16:00:00  1.25905  1.25968  1.25371  1.25461  234854.4999   \n",
      "...                   ...      ...      ...      ...      ...          ...   \n",
      "26489 2020-05-29 08:00:00  1.11051  1.11420  1.10962  1.11354   74257.9698   \n",
      "26490 2020-05-29 12:00:00  1.11355  1.11452  1.10944  1.11070  113196.9590   \n",
      "26491 2020-05-29 16:00:00  1.11069  1.11112  1.10811  1.10998   54751.2294   \n",
      "26492 2020-05-29 20:00:00  1.10997  1.11094  1.10982  1.11071    4646.7427   \n",
      "26493 2020-05-31 20:00:00  1.11213  1.11217  1.11028  1.11158   10126.4174   \n",
      "\n",
      "       Open_Bid  High_Bid  Low_Bid  Close_Bid  ...  momentum_uo  \\\n",
      "0       1.25934   1.25953  1.25814    1.25854  ...     0.000000   \n",
      "1       1.25898   1.25948  1.24679    1.25900  ...    86.509636   \n",
      "2       1.25884   1.25938  1.25709    1.25775  ...    78.111588   \n",
      "3       1.25775   1.26035  1.25710    1.25897  ...    74.539877   \n",
      "4       1.25890   1.25958  1.25357    1.25451  ...    60.634548   \n",
      "...         ...       ...      ...        ...  ...          ...   \n",
      "26489   1.11049   1.11417  1.10959    1.11352  ...    70.534370   \n",
      "26490   1.11354   1.11451  1.10940    1.11067  ...    64.216867   \n",
      "26491   1.11067   1.11111  1.10809    1.10997  ...    56.909494   \n",
      "26492   1.10993   1.11085  1.10979    1.11036  ...    62.729783   \n",
      "26493   1.11129   1.11195  1.11023    1.11156  ...    62.231127   \n",
      "\n",
      "       momentum_stoch momentum_stoch_signal  momentum_wr  momentum_ao  \\\n",
      "0           30.935252             30.935252   -69.064748     0.000000   \n",
      "1           95.659037             63.297144    -4.340963     0.000000   \n",
      "2           85.793212             70.795834   -14.206788     0.000000   \n",
      "3           89.586411             90.346220   -10.413589     0.000000   \n",
      "4           56.351551             77.243725   -43.648449     0.000000   \n",
      "...               ...                   ...          ...          ...   \n",
      "26489       96.823869             96.552777    -3.176131     0.012410   \n",
      "26490       81.895735             91.312170   -18.104265     0.012677   \n",
      "26491       76.067475             84.929026   -23.932525     0.012556   \n",
      "26492       78.559370             78.840860   -21.440630     0.012424   \n",
      "26493       80.821918             78.482921   -19.178082     0.012000   \n",
      "\n",
      "       momentum_kama  momentum_roc  others_dr  others_dlr  others_cr  \n",
      "0           1.258690      0.000000  -0.422734    0.000000   0.000000  \n",
      "1           1.258882      0.000000   0.032574    0.032568   0.032574  \n",
      "2           1.258416      0.000000  -0.099277   -0.099327  -0.066736  \n",
      "3           1.258725      0.000000   0.100171    0.100121   0.033368  \n",
      "4           1.257113      0.000000  -0.357395   -0.358035  -0.324147  \n",
      "...              ...           ...        ...         ...        ...  \n",
      "26489       1.107160      1.068281   0.270139    0.269775 -11.531831  \n",
      "26490       1.107672      1.265477  -0.255042   -0.255368 -11.757462  \n",
      "26491       1.107986      0.930211  -0.064824   -0.064845 -11.814664  \n",
      "26492       1.108467      0.818742   0.065767    0.065745 -11.756668  \n",
      "26493       1.109038      0.943525   0.078328    0.078298 -11.687548  \n",
      "\n",
      "[26494 rows x 144 columns]\n",
      "(26494, 144)\n"
     ]
    }
   ],
   "source": [
    "if FRECUENCIA ==\"1D\":\n",
    "    dateparse = lambda x: pd.datetime.strptime(x, '%Y-%m-%d')\n",
    "else:\n",
    "    dateparse = lambda x: pd.datetime.strptime(x, '%Y-%m-%d %H:%M:%S')\n",
    "DATASET_FULL = pd.read_csv(filenames[5], header=0, parse_dates=['Gmt time'], date_parser=dateparse)\n",
    "print(DATASET_FULL)\n",
    "print(DATASET_FULL.shape)"
   ]
  },
  {
   "cell_type": "code",
   "execution_count": 14,
   "metadata": {},
   "outputs": [],
   "source": [
    "#DEFINE VALUES\n",
    "NEG_UNO = -0.0029 #-0.001793 Value Optimized best win rathe\n",
    "UNO = 0.0029 # 0.001931 Value optimized\n"
   ]
  },
  {
   "cell_type": "code",
   "execution_count": 15,
   "metadata": {},
   "outputs": [
    {
     "data": {
      "text/plain": [
       "<matplotlib.lines.Line2D at 0x24db767c0f0>"
      ]
     },
     "execution_count": 15,
     "metadata": {},
     "output_type": "execute_result"
    },
    {
     "data": {
      "image/png": "[encoded data removed]",
      "text/plain": [
       "<Figure size 1296x360 with 1 Axes>"
      ]
     },
     "metadata": {
      "needs_background": "light"
     },
     "output_type": "display_data"
    }
   ],
   "source": [
    "plt.figure(figsize=(18,5))\n",
    "sns.distplot(DATASET_FULL['Pct_Range_Close']);\n",
    "plt.axvline(UNO, 0, 1, linewidth=1, color='r')\n",
    "plt.axvline(NEG_UNO, 0, 1, linewidth=1, color='r')"
   ]
  },
  {
   "cell_type": "markdown",
   "metadata": {},
   "source": [
    "### Add Col 'YHat' "
   ]
  },
  {
   "cell_type": "code",
   "execution_count": 16,
   "metadata": {},
   "outputs": [
    {
     "name": "stdout",
     "output_type": "stream",
     "text": [
      "0    0.0\n",
      "1    0.0\n",
      "2    0.0\n",
      "3   -1.0\n",
      "4    0.0\n",
      "Name: Class, dtype: float64\n"
     ]
    }
   ],
   "source": [
    "DATASET_FULL['Class'] = 0\n",
    "\n",
    "DATASET_FULL.loc[DATASET_FULL['Pct_Range_Close'] <= NEG_UNO, 'Class'] = -1\n",
    "DATASET_FULL.loc[DATASET_FULL['Pct_Range_Close'] >= UNO, 'Class'] = 1\n",
    "\n",
    "DATASET_FULL['Class'] = DATASET_FULL['Class'].shift(-1)\n",
    "DATASET_FULL['Class'].fillna(0, inplace=True)\n",
    "print(DATASET_FULL['Class'].head(5))"
   ]
  },
  {
   "cell_type": "code",
   "execution_count": 17,
   "metadata": {},
   "outputs": [
    {
     "name": "stdout",
     "output_type": "stream",
     "text": [
      " 0.0    22509\n",
      "-1.0     1995\n",
      " 1.0     1990\n",
      "Name: Class, dtype: int64\n"
     ]
    }
   ],
   "source": [
    "print(DATASET_FULL['Class'].value_counts())"
   ]
  },
  {
   "cell_type": "code",
   "execution_count": 18,
   "metadata": {},
   "outputs": [
    {
     "data": {
      "text/plain": [
       "count    26494.000000\n",
       "mean        -0.000189\n",
       "std          0.387836\n",
       "min         -1.000000\n",
       "25%          0.000000\n",
       "50%          0.000000\n",
       "75%          0.000000\n",
       "max          1.000000\n",
       "Name: Class, dtype: float64"
      ]
     },
     "execution_count": 18,
     "metadata": {},
     "output_type": "execute_result"
    }
   ],
   "source": [
    "DATASET_FULL['Class'].describe()"
   ]
  },
  {
   "cell_type": "code",
   "execution_count": 19,
   "metadata": {},
   "outputs": [
    {
     "data": {
      "image/png": "[encoded data removed]",
      "text/plain": [
       "<Figure size 1296x360 with 1 Axes>"
      ]
     },
     "metadata": {
      "needs_background": "light"
     },
     "output_type": "display_data"
    }
   ],
   "source": [
    "plt.figure(figsize=(18,5))\n",
    "sns.distplot(DATASET_FULL['Class'],kde=False);"
   ]
  },
  {
   "cell_type": "code",
   "execution_count": 17,
   "metadata": {},
   "outputs": [
    {
     "data": {
      "text/html": [
       "<div>\n",
       "<style scoped>\n",
       "    .dataframe tbody tr th:only-of-type {\n",
       "        vertical-align: middle;\n",
       "    }\n",
       "\n",
       "    .dataframe tbody tr th {\n",
       "        vertical-align: top;\n",
       "    }\n",
       "\n",
       "    .dataframe thead th {\n",
       "        text-align: right;\n",
       "    }\n",
       "</style>\n",
       "<table border=\"1\" class=\"dataframe\">\n",
       "  <thead>\n",
       "    <tr style=\"text-align: right;\">\n",
       "      <th></th>\n",
       "      <th>Close</th>\n",
       "      <th>Pct_Range_Close</th>\n",
       "      <th>Class</th>\n",
       "    </tr>\n",
       "  </thead>\n",
       "  <tbody>\n",
       "    <tr>\n",
       "      <th>0</th>\n",
       "      <td>1.25869</td>\n",
       "      <td>0.000000</td>\n",
       "      <td>0.0</td>\n",
       "    </tr>\n",
       "    <tr>\n",
       "      <th>1</th>\n",
       "      <td>1.25910</td>\n",
       "      <td>0.000326</td>\n",
       "      <td>0.0</td>\n",
       "    </tr>\n",
       "    <tr>\n",
       "      <th>2</th>\n",
       "      <td>1.25785</td>\n",
       "      <td>-0.000993</td>\n",
       "      <td>0.0</td>\n",
       "    </tr>\n",
       "    <tr>\n",
       "      <th>3</th>\n",
       "      <td>1.25911</td>\n",
       "      <td>0.001002</td>\n",
       "      <td>-1.0</td>\n",
       "    </tr>\n",
       "    <tr>\n",
       "      <th>4</th>\n",
       "      <td>1.25461</td>\n",
       "      <td>-0.003574</td>\n",
       "      <td>1.0</td>\n",
       "    </tr>\n",
       "    <tr>\n",
       "      <th>5</th>\n",
       "      <td>1.25733</td>\n",
       "      <td>0.002168</td>\n",
       "      <td>0.0</td>\n",
       "    </tr>\n",
       "    <tr>\n",
       "      <th>6</th>\n",
       "      <td>1.25630</td>\n",
       "      <td>-0.000819</td>\n",
       "      <td>0.0</td>\n",
       "    </tr>\n",
       "    <tr>\n",
       "      <th>7</th>\n",
       "      <td>1.25733</td>\n",
       "      <td>0.000820</td>\n",
       "      <td>1.0</td>\n",
       "    </tr>\n",
       "    <tr>\n",
       "      <th>8</th>\n",
       "      <td>1.26003</td>\n",
       "      <td>0.002147</td>\n",
       "      <td>0.0</td>\n",
       "    </tr>\n",
       "    <tr>\n",
       "      <th>9</th>\n",
       "      <td>1.25846</td>\n",
       "      <td>-0.001246</td>\n",
       "      <td>0.0</td>\n",
       "    </tr>\n",
       "  </tbody>\n",
       "</table>\n",
       "</div>"
      ],
      "text/plain": [
       "     Close  Pct_Range_Close  Class\n",
       "0  1.25869         0.000000    0.0\n",
       "1  1.25910         0.000326    0.0\n",
       "2  1.25785        -0.000993    0.0\n",
       "3  1.25911         0.001002   -1.0\n",
       "4  1.25461        -0.003574    1.0\n",
       "5  1.25733         0.002168    0.0\n",
       "6  1.25630        -0.000819    0.0\n",
       "7  1.25733         0.000820    1.0\n",
       "8  1.26003         0.002147    0.0\n",
       "9  1.25846        -0.001246    0.0"
      ]
     },
     "execution_count": 17,
     "metadata": {},
     "output_type": "execute_result"
    }
   ],
   "source": [
    "DATASET_FULL[['Close','Pct_Range_Close','Class']].head(10)"
   ]
  },
  {
   "cell_type": "markdown",
   "metadata": {},
   "source": [
    "### Save CSV File 'DF_EURUSD_ASK_1H_PROC.csv'"
   ]
  },
  {
   "cell_type": "code",
   "execution_count": 18,
   "metadata": {},
   "outputs": [
    {
     "name": "stdout",
     "output_type": "stream",
     "text": [
      "3C-EURUSD_FULL_4H_145F_0.002Sep.csv\n"
     ]
    }
   ],
   "source": [
    "#Get the Final number of Features\n",
    "NUM_FEATURES = str(DATASET_FULL.shape[1])\n",
    "filename = '3C-' + SOURCE_TYPE + '_' + FRECUENCIA + '_' + NUM_FEATURES + 'F' + '_' + str(UNO) + 'Sep.csv'\n",
    "print(filename)"
   ]
  },
  {
   "cell_type": "code",
   "execution_count": 19,
   "metadata": {},
   "outputs": [],
   "source": [
    "pwd = os.getcwd()\n",
    "filename_path = os.path.join(pwd, r'../../../Datasets/Junio2020/procesados_classification/' + filename)\n",
    "DATASET_FULL.to_csv(filename_path, header=True, index=False)"
   ]
  },
  {
   "cell_type": "code",
   "execution_count": 20,
   "metadata": {},
   "outputs": [
    {
     "data": {
      "text/plain": [
       "'C:\\\\Users\\\\maw\\\\Documents\\\\ITESO\\\\forex_prediction\\\\Jupyter Notebooks\\\\IDI4\\\\dataset_classification\\\\../../../Datasets/Junio2020/procesados_classification/3C-EURUSD_FULL_4H_145F_0.002Sep.csv'"
      ]
     },
     "execution_count": 20,
     "metadata": {},
     "output_type": "execute_result"
    }
   ],
   "source": [
    "filename_path"
   ]
  },
  {
   "cell_type": "code",
   "execution_count": null,
   "metadata": {},
   "outputs": [],
   "source": []
  }
 ],
 "metadata": {
  "kernelspec": {
   "display_name": "Python 3",
   "language": "python",
   "name": "python3"
  },
  "language_info": {
   "codemirror_mode": {
    "name": "ipython",
    "version": 3
   },
   "file_extension": ".py",
   "mimetype": "text/x-python",
   "name": "python",
   "nbconvert_exporter": "python",
   "pygments_lexer": "ipython3",
   "version": "3.7.3"
  }
 },
 "nbformat": 4,
 "nbformat_minor": 2
}
