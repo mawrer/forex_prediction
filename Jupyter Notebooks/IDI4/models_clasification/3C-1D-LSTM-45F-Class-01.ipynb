{
 "cells": [
  {
   "cell_type": "code",
   "execution_count": 1,
   "metadata": {
    "colab": {},
    "colab_type": "code",
    "id": "MHL60GoYoBLT",
    "outputId": "55db4102-144e-4e32-f6b2-38133dd62787"
   },
   "outputs": [
    {
     "name": "stderr",
     "output_type": "stream",
     "text": [
      "Using TensorFlow backend.\n"
     ]
    }
   ],
   "source": [
    "# Mawrer Amed Ramirez Martinez\n",
    "# Avance de TOG IDI 4\n",
    "# ms723737@iteso.mx\n",
    "# mawrer@gmail.com\n",
    "\n",
    "import numpy as np\n",
    "np.random.seed(1)\n",
    "\n",
    "#Tensorflow\n",
    "import tensorflow as tf\n",
    "tf.random.set_seed(2)\n",
    "from tensorflow.keras import Sequential\n",
    "from tensorflow.keras.layers import Dense, LSTM, Dropout\n",
    "\n",
    "#Pandas\n",
    "import pandas as pd \n",
    "\n",
    "#Keras\n",
    "from keras import backend as K\n",
    "from keras import metrics\n",
    "from keras.callbacks import ModelCheckpoint\n",
    "from keras.layers import Activation\n",
    "from keras.layers.advanced_activations import LeakyReLU\n",
    "from keras.wrappers.scikit_learn import KerasClassifier\n",
    "from keras.utils import np_utils\n",
    "\n",
    "#Statistics Libraries\n",
    "from statsmodels.tsa.arima_model import ARIMA\n",
    "from scipy import stats\n",
    "import math as m\n",
    "\n",
    "#plots\n",
    "import seaborn as sns\n",
    "import matplotlib.pyplot as plt\n",
    "from matplotlib import pyplot\n",
    "from matplotlib.pyplot import figure\n",
    "\n",
    "#OverSampling\n",
    "from imblearn.over_sampling import RandomOverSampler\n",
    "\n",
    "#SKlearn\n",
    "from sklearn.model_selection import cross_val_score\n",
    "from sklearn.model_selection import KFold\n",
    "from sklearn.preprocessing import LabelEncoder\n",
    "from sklearn.pipeline import Pipeline\n",
    "from sklearn.metrics import confusion_matrix\n",
    "from sklearn.preprocessing import MinMaxScaler\n",
    "from sklearn.model_selection import train_test_split\\\n",
    "\n",
    "from sklearn.metrics import mean_squared_error\n",
    "from sklearn.metrics import mean_absolute_error\n",
    "from sklearn.preprocessing import OneHotEncoder\n",
    "\n",
    "#global\n",
    "import os, glob"
   ]
  },
  {
   "cell_type": "code",
   "execution_count": 2,
   "metadata": {},
   "outputs": [],
   "source": [
    "import warnings\n",
    "warnings.filterwarnings(\"ignore\")"
   ]
  },
  {
   "cell_type": "code",
   "execution_count": 3,
   "metadata": {},
   "outputs": [],
   "source": [
    "ID = \"01\"\n",
    "MODEL_NAME = \"3C-1D-LSTM\"\n",
    "NUM_FEATURES = 0\n",
    "TARGET_NAME = \"Class\"\n",
    "FRECUENCIA = \"1D\"\n",
    "ACC_RESULT = 0"
   ]
  },
  {
   "cell_type": "code",
   "execution_count": 4,
   "metadata": {},
   "outputs": [],
   "source": [
    "RANGE = 24\n",
    "\n",
    "HYPER_L1_IN = RANGE\n",
    "EPOCHS = 100\n",
    "BATCH_SIZE = 32\n",
    "\n",
    "TEST_SIZE = .20\n",
    "VAL_SIZE = .10\n",
    "\n",
    "START_IN = 0\n",
    "\n",
    "TRAINING_TIME_ELAPSED = 0\n",
    "\n",
    "TRAIN_MSE=0\n",
    "TRAIN_RMSE=0\n",
    "TRAIN_MAE=0\n",
    "TEST_MSE=0\n",
    "TEST_RMSE=0\n",
    "TEST_MAE=0\n"
   ]
  },
  {
   "cell_type": "code",
   "execution_count": 5,
   "metadata": {},
   "outputs": [
    {
     "name": "stdout",
     "output_type": "stream",
     "text": [
      "3C-EURUSD_FULL_1D_21F.csv\n",
      "3C-EURUSD_FULL_1D_45F.csv\n",
      "3C-EURUSD_FULL_1H_45F.csv\n",
      "5C-EURUSD_FULL_1D_21F.csv\n",
      "5C-EURUSD_FULL_1D_45F.csv\n",
      "C-EURUSD_FULL_1D_21F.csv\n",
      "C-EURUSD_FULL_1H_25F.csv\n",
      "C-EURUSD_FULL_1H_45F.csv\n",
      "C-EURUSD_FULL_1H_54F.csv\n"
     ]
    }
   ],
   "source": [
    "pwd = os.getcwd()\n",
    "datasource_path = os.path.join(pwd, r'../../../Datasets/Junio2020/procesados_classification/')\n",
    "filenames = glob.glob(datasource_path + \"/*.csv\")\n",
    "filenames.sort()\n",
    "for file in filenames:\n",
    "    print(os.path.basename(file))"
   ]
  },
  {
   "cell_type": "code",
   "execution_count": 6,
   "metadata": {
    "colab": {},
    "colab_type": "code",
    "id": "rS_SC_nwoBLb",
    "outputId": "45629160-abff-4b56-f141-eadb3244e91c"
   },
   "outputs": [
    {
     "data": {
      "text/html": [
       "<div>\n",
       "<style scoped>\n",
       "    .dataframe tbody tr th:only-of-type {\n",
       "        vertical-align: middle;\n",
       "    }\n",
       "\n",
       "    .dataframe tbody tr th {\n",
       "        vertical-align: top;\n",
       "    }\n",
       "\n",
       "    .dataframe thead th {\n",
       "        text-align: right;\n",
       "    }\n",
       "</style>\n",
       "<table border=\"1\" class=\"dataframe\">\n",
       "  <thead>\n",
       "    <tr style=\"text-align: right;\">\n",
       "      <th></th>\n",
       "      <th>Gmt time</th>\n",
       "      <th>Open</th>\n",
       "      <th>High</th>\n",
       "      <th>Low</th>\n",
       "      <th>Close</th>\n",
       "      <th>Volume</th>\n",
       "      <th>Open_Bid</th>\n",
       "      <th>High_Bid</th>\n",
       "      <th>Low_Bid</th>\n",
       "      <th>Close_Bid</th>\n",
       "      <th>...</th>\n",
       "      <th>S3</th>\n",
       "      <th>SO%k</th>\n",
       "      <th>SO%k1</th>\n",
       "      <th>SO%d2</th>\n",
       "      <th>Trix_5</th>\n",
       "      <th>MACD_5_25</th>\n",
       "      <th>MACDsign_5_25</th>\n",
       "      <th>MACDdiff_5_25</th>\n",
       "      <th>Mass_Index_25_8_9</th>\n",
       "      <th>Class</th>\n",
       "    </tr>\n",
       "  </thead>\n",
       "  <tbody>\n",
       "    <tr>\n",
       "      <th>0</th>\n",
       "      <td>2004-01-01</td>\n",
       "      <td>1.25950</td>\n",
       "      <td>1.26052</td>\n",
       "      <td>1.24698</td>\n",
       "      <td>1.25733</td>\n",
       "      <td>4.621817e+05</td>\n",
       "      <td>1.25934</td>\n",
       "      <td>1.26035</td>\n",
       "      <td>1.24679</td>\n",
       "      <td>1.25723</td>\n",
       "      <td>...</td>\n",
       "      <td>1.235827</td>\n",
       "      <td>0.764402</td>\n",
       "      <td>0.764402</td>\n",
       "      <td>0.764402</td>\n",
       "      <td>0.0</td>\n",
       "      <td>0.0</td>\n",
       "      <td>0.0</td>\n",
       "      <td>0.0</td>\n",
       "      <td>24.730803</td>\n",
       "      <td>0.0</td>\n",
       "    </tr>\n",
       "    <tr>\n",
       "      <th>1</th>\n",
       "      <td>2004-01-02</td>\n",
       "      <td>1.25717</td>\n",
       "      <td>1.26282</td>\n",
       "      <td>1.25214</td>\n",
       "      <td>1.25832</td>\n",
       "      <td>1.066578e+06</td>\n",
       "      <td>1.25701</td>\n",
       "      <td>1.26263</td>\n",
       "      <td>1.25198</td>\n",
       "      <td>1.25806</td>\n",
       "      <td>...</td>\n",
       "      <td>1.242020</td>\n",
       "      <td>0.578652</td>\n",
       "      <td>0.578652</td>\n",
       "      <td>0.625089</td>\n",
       "      <td>0.0</td>\n",
       "      <td>0.0</td>\n",
       "      <td>0.0</td>\n",
       "      <td>0.0</td>\n",
       "      <td>24.730803</td>\n",
       "      <td>1.0</td>\n",
       "    </tr>\n",
       "    <tr>\n",
       "      <th>2</th>\n",
       "      <td>2004-01-04</td>\n",
       "      <td>1.25925</td>\n",
       "      <td>1.26487</td>\n",
       "      <td>1.25789</td>\n",
       "      <td>1.26318</td>\n",
       "      <td>6.879980e+04</td>\n",
       "      <td>1.25855</td>\n",
       "      <td>1.26477</td>\n",
       "      <td>1.25779</td>\n",
       "      <td>1.26308</td>\n",
       "      <td>...</td>\n",
       "      <td>1.252110</td>\n",
       "      <td>0.757880</td>\n",
       "      <td>0.757880</td>\n",
       "      <td>0.717021</td>\n",
       "      <td>0.0</td>\n",
       "      <td>0.0</td>\n",
       "      <td>0.0</td>\n",
       "      <td>0.0</td>\n",
       "      <td>24.730803</td>\n",
       "      <td>1.0</td>\n",
       "    </tr>\n",
       "    <tr>\n",
       "      <th>3</th>\n",
       "      <td>2004-01-05</td>\n",
       "      <td>1.26324</td>\n",
       "      <td>1.26935</td>\n",
       "      <td>1.26301</td>\n",
       "      <td>1.26830</td>\n",
       "      <td>1.119689e+06</td>\n",
       "      <td>1.26308</td>\n",
       "      <td>1.26924</td>\n",
       "      <td>1.26288</td>\n",
       "      <td>1.26820</td>\n",
       "      <td>...</td>\n",
       "      <td>1.258083</td>\n",
       "      <td>0.834385</td>\n",
       "      <td>0.834385</td>\n",
       "      <td>0.796242</td>\n",
       "      <td>0.0</td>\n",
       "      <td>0.0</td>\n",
       "      <td>0.0</td>\n",
       "      <td>0.0</td>\n",
       "      <td>24.730803</td>\n",
       "      <td>1.0</td>\n",
       "    </tr>\n",
       "    <tr>\n",
       "      <th>4</th>\n",
       "      <td>2004-01-06</td>\n",
       "      <td>1.26836</td>\n",
       "      <td>1.28093</td>\n",
       "      <td>1.26666</td>\n",
       "      <td>1.27150</td>\n",
       "      <td>1.125442e+06</td>\n",
       "      <td>1.26820</td>\n",
       "      <td>1.28083</td>\n",
       "      <td>1.26650</td>\n",
       "      <td>1.27140</td>\n",
       "      <td>...</td>\n",
       "      <td>1.250860</td>\n",
       "      <td>0.339173</td>\n",
       "      <td>0.339173</td>\n",
       "      <td>0.490270</td>\n",
       "      <td>0.0</td>\n",
       "      <td>0.0</td>\n",
       "      <td>0.0</td>\n",
       "      <td>0.0</td>\n",
       "      <td>24.730803</td>\n",
       "      <td>-1.0</td>\n",
       "    </tr>\n",
       "  </tbody>\n",
       "</table>\n",
       "<p>5 rows × 45 columns</p>\n",
       "</div>"
      ],
      "text/plain": [
       "    Gmt time     Open     High      Low    Close        Volume  Open_Bid  \\\n",
       "0 2004-01-01  1.25950  1.26052  1.24698  1.25733  4.621817e+05   1.25934   \n",
       "1 2004-01-02  1.25717  1.26282  1.25214  1.25832  1.066578e+06   1.25701   \n",
       "2 2004-01-04  1.25925  1.26487  1.25789  1.26318  6.879980e+04   1.25855   \n",
       "3 2004-01-05  1.26324  1.26935  1.26301  1.26830  1.119689e+06   1.26308   \n",
       "4 2004-01-06  1.26836  1.28093  1.26666  1.27150  1.125442e+06   1.26820   \n",
       "\n",
       "   High_Bid  Low_Bid  Close_Bid  ...        S3      SO%k     SO%k1     SO%d2  \\\n",
       "0   1.26035  1.24679    1.25723  ...  1.235827  0.764402  0.764402  0.764402   \n",
       "1   1.26263  1.25198    1.25806  ...  1.242020  0.578652  0.578652  0.625089   \n",
       "2   1.26477  1.25779    1.26308  ...  1.252110  0.757880  0.757880  0.717021   \n",
       "3   1.26924  1.26288    1.26820  ...  1.258083  0.834385  0.834385  0.796242   \n",
       "4   1.28083  1.26650    1.27140  ...  1.250860  0.339173  0.339173  0.490270   \n",
       "\n",
       "   Trix_5  MACD_5_25  MACDsign_5_25  MACDdiff_5_25  Mass_Index_25_8_9  Class  \n",
       "0     0.0        0.0            0.0            0.0          24.730803    0.0  \n",
       "1     0.0        0.0            0.0            0.0          24.730803    1.0  \n",
       "2     0.0        0.0            0.0            0.0          24.730803    1.0  \n",
       "3     0.0        0.0            0.0            0.0          24.730803    1.0  \n",
       "4     0.0        0.0            0.0            0.0          24.730803   -1.0  \n",
       "\n",
       "[5 rows x 45 columns]"
      ]
     },
     "execution_count": 6,
     "metadata": {},
     "output_type": "execute_result"
    }
   ],
   "source": [
    "if FRECUENCIA ==\"1D\":\n",
    "    dateparse = lambda x: pd.datetime.strptime(x, '%Y-%m-%d')\n",
    "else:\n",
    "    dateparse = lambda x: pd.datetime.strptime(x, '%Y-%m-%d %H:%M:%S')\n",
    "DATASET = pd.read_csv(filenames[1], header=0, parse_dates=['Gmt time'], date_parser=dateparse)\n",
    "DATASET.head()\n"
   ]
  },
  {
   "cell_type": "code",
   "execution_count": 9,
   "metadata": {},
   "outputs": [
    {
     "data": {
      "text/plain": [
       "Gmt time                datetime64[ns]\n",
       "Open                           float64\n",
       "High                           float64\n",
       "Low                            float64\n",
       "Close                          float64\n",
       "Volume                         float64\n",
       "Open_Bid                       float64\n",
       "High_Bid                       float64\n",
       "Low_Bid                        float64\n",
       "Close_Bid                      float64\n",
       "Volume_Bid                     float64\n",
       "Spread                         float64\n",
       "day_name                        object\n",
       "weekday                          int64\n",
       "Pct_Range_Close                float64\n",
       "Pct_Range_Close_diff           float64\n",
       "MA_Close_5                     float64\n",
       "MA_Close_25                    float64\n",
       "MA_Close_50                    float64\n",
       "MA_Close_200                   float64\n",
       "EMA_Close_5                    float64\n",
       "Momentum_1                     float64\n",
       "Momentum_2                     float64\n",
       "Momentum_5                     float64\n",
       "Momentum_24                    float64\n",
       "rsi                            float64\n",
       "Rolling_Mean25                 float64\n",
       "Bollinger_High                 float64\n",
       "Bollinger_Low                  float64\n",
       "PP                             float64\n",
       "R1                             float64\n",
       "S1                             float64\n",
       "R2                             float64\n",
       "S2                             float64\n",
       "R3                             float64\n",
       "S3                             float64\n",
       "SO%k                           float64\n",
       "SO%k1                          float64\n",
       "SO%d2                          float64\n",
       "Trix_5                         float64\n",
       "MACD_5_25                      float64\n",
       "MACDsign_5_25                  float64\n",
       "MACDdiff_5_25                  float64\n",
       "Mass_Index_25_8_9              float64\n",
       "Class                          float64\n",
       "dtype: object"
      ]
     },
     "execution_count": 9,
     "metadata": {},
     "output_type": "execute_result"
    }
   ],
   "source": [
    "DATASET.dtypes"
   ]
  },
  {
   "cell_type": "code",
   "execution_count": 12,
   "metadata": {
    "scrolled": true
   },
   "outputs": [
    {
     "name": "stdout",
     "output_type": "stream",
     "text": [
      "Shape:  (5137, 45)\n",
      "              Open         High          Low        Close        Volume  \\\n",
      "count  5137.000000  5137.000000  5137.000000  5137.000000  5.137000e+03   \n",
      "mean      1.263948     1.268773     1.259111     1.263939  4.156849e+05   \n",
      "std       0.122827     0.123592     0.121990     0.122823  4.429918e+05   \n",
      "min       1.039090     1.041820     1.034050     1.039090  5.400000e+01   \n",
      "25%       1.149190     1.153490     1.145380     1.149120  1.159636e+05   \n",
      "50%       1.270260     1.275990     1.265560     1.270260  2.200810e+05   \n",
      "75%       1.350610     1.355180     1.345920     1.350700  7.439951e+05   \n",
      "max       1.597400     1.604030     1.589800     1.597370  2.237468e+06   \n",
      "\n",
      "          Open_Bid     High_Bid      Low_Bid    Close_Bid    Volume_Bid  ...  \\\n",
      "count  5137.000000  5137.000000  5137.000000  5137.000000  5.137000e+03  ...   \n",
      "mean      1.263810     1.268680     1.259015     1.263822  4.616911e+05  ...   \n",
      "std       0.122817     0.123571     0.121969     0.122813  5.305200e+05  ...   \n",
      "min       1.039070     1.041780     1.034030     1.039060  5.400000e+01  ...   \n",
      "25%       1.149180     1.153450     1.145280     1.149100  1.154682e+05  ...   \n",
      "50%       1.270030     1.275890     1.265440     1.270210  2.168718e+05  ...   \n",
      "75%       1.350500     1.355040     1.345840     1.350580  7.692461e+05  ...   \n",
      "max       1.597200     1.603890     1.589540     1.597210  2.697619e+06  ...   \n",
      "\n",
      "                S3         SO%k        SO%k1        SO%d2        Trix_5  \\\n",
      "count  5137.000000  5137.000000  5137.000000  5137.000000  5.137000e+03   \n",
      "mean      1.249448     0.500685     0.500685     0.500692 -2.781290e-05   \n",
      "std       0.120759     0.291052     0.291052     0.204464  1.471157e-03   \n",
      "min       1.014310     0.000000     0.000000     0.035964 -7.245395e-03   \n",
      "25%       1.138660     0.228448     0.228448     0.326485 -9.119452e-04   \n",
      "50%       1.253383     0.508889     0.508889     0.501370 -4.305397e-07   \n",
      "75%       1.335867     0.768072     0.768072     0.674298  8.826205e-04   \n",
      "max       1.581153     1.000000     1.000000     0.955865  1.085883e-02   \n",
      "\n",
      "         MACD_5_25  MACDsign_5_25  MACDdiff_5_25  Mass_Index_25_8_9  \\\n",
      "count  5137.000000    5137.000000    5137.000000        5137.000000   \n",
      "mean     -0.000327      -0.000327       0.000009          24.948553   \n",
      "std       0.012573       0.011443       0.004653           0.832962   \n",
      "min      -0.067202      -0.054559      -0.022310          21.687426   \n",
      "25%      -0.007221      -0.006284      -0.002618          24.455108   \n",
      "50%      -0.000010      -0.000088       0.000096          24.889547   \n",
      "75%       0.007308       0.006560       0.002733          25.369009   \n",
      "max       0.076299       0.052234       0.035914          30.744898   \n",
      "\n",
      "             Class  \n",
      "count  5137.000000  \n",
      "mean      0.007203  \n",
      "std       0.816107  \n",
      "min      -1.000000  \n",
      "25%      -1.000000  \n",
      "50%       0.000000  \n",
      "75%       1.000000  \n",
      "max       1.000000  \n",
      "\n",
      "[8 rows x 43 columns]\n",
      "Open                    float64\n",
      "High                    float64\n",
      "Low                     float64\n",
      "Close                   float64\n",
      "Volume                  float64\n",
      "Open_Bid                float64\n",
      "High_Bid                float64\n",
      "Low_Bid                 float64\n",
      "Close_Bid               float64\n",
      "Volume_Bid              float64\n",
      "Spread                  float64\n",
      "weekday                   int64\n",
      "Pct_Range_Close         float64\n",
      "Pct_Range_Close_diff    float64\n",
      "MA_Close_5              float64\n",
      "MA_Close_25             float64\n",
      "MA_Close_50             float64\n",
      "MA_Close_200            float64\n",
      "EMA_Close_5             float64\n",
      "Momentum_1              float64\n",
      "Momentum_2              float64\n",
      "Momentum_5              float64\n",
      "Momentum_24             float64\n",
      "rsi                     float64\n",
      "Rolling_Mean25          float64\n",
      "Bollinger_High          float64\n",
      "Bollinger_Low           float64\n",
      "PP                      float64\n",
      "R1                      float64\n",
      "S1                      float64\n",
      "R2                      float64\n",
      "S2                      float64\n",
      "R3                      float64\n",
      "S3                      float64\n",
      "SO%k                    float64\n",
      "SO%k1                   float64\n",
      "SO%d2                   float64\n",
      "Trix_5                  float64\n",
      "MACD_5_25               float64\n",
      "MACDsign_5_25           float64\n",
      "MACDdiff_5_25           float64\n",
      "Mass_Index_25_8_9       float64\n",
      "Class                   float64\n",
      "dtype: object\n"
     ]
    }
   ],
   "source": [
    "#Describe DATASET\n",
    "print('Shape: ', DATASET.shape)\n",
    "print(DATASET.describe())\n",
    "DATASET = DATASET.drop(['day_name'], axis = 1)\n",
    "DATASET = DATASET.drop(['Gmt time'], axis = 1)\n",
    "print(DATASET.dtypes)\n"
   ]
  },
  {
   "cell_type": "code",
   "execution_count": 13,
   "metadata": {},
   "outputs": [
    {
     "name": "stdout",
     "output_type": "stream",
     "text": [
      "(4938, 43)\n",
      "      Open     High      Low    Close        Volume  Open_Bid  High_Bid  \\\n",
      "0  1.23655  1.23817  1.22801  1.23179  1.078729e+06   1.23639   1.23804   \n",
      "1  1.23158  1.23241  1.22967  1.23109  8.212280e+04   1.23088   1.23231   \n",
      "2  1.23140  1.23154  1.21310  1.21496  1.130388e+06   1.23124   1.23140   \n",
      "3  1.21495  1.21669  1.20594  1.20711  1.123270e+06   1.21479   1.21656   \n",
      "4  1.20718  1.21160  1.20519  1.20794  1.118725e+06   1.20702   1.21156   \n",
      "\n",
      "   Low_Bid  Close_Bid   Volume_Bid  ...        S3      SO%k     SO%k1  \\\n",
      "0  1.22791    1.23169  1291823.750  ...  1.216983  0.372047  0.372047   \n",
      "1  1.22955    1.23099    93508.000  ...  1.226963  0.518248  0.518248   \n",
      "2  1.21298    1.21486  1348137.000  ...  1.189753  0.100868  0.100868   \n",
      "3  1.20583    1.20701  1344214.000  ...  1.192387  0.108837  0.108837   \n",
      "4  1.20504    1.20784  1355827.375  ...  1.198477  0.429017  0.429017   \n",
      "\n",
      "      SO%d2    Trix_5  MACD_5_25  MACDsign_5_25  MACDdiff_5_25  \\\n",
      "0  0.465089  0.001033   0.007685       0.006724       0.000960   \n",
      "1  0.500529  0.000707   0.006466       0.006673      -0.000206   \n",
      "2  0.234088 -0.000051   0.001415       0.005621      -0.004206   \n",
      "3  0.150587 -0.000975  -0.003743       0.003748      -0.007491   \n",
      "4  0.336207 -0.001648  -0.006608       0.001677      -0.008285   \n",
      "\n",
      "   Mass_Index_25_8_9  Class  \n",
      "0          24.895479    0.0  \n",
      "1          24.537966   -1.0  \n",
      "2          24.630783   -1.0  \n",
      "3          24.746555    0.0  \n",
      "4          24.668388    1.0  \n",
      "\n",
      "[5 rows x 43 columns]\n"
     ]
    }
   ],
   "source": [
    "DF_Full = DATASET[199:]\n",
    "DF_Full.reset_index(drop=True, inplace=True)\n",
    "print(DF_Full.shape)\n",
    "print(DF_Full.head())"
   ]
  },
  {
   "cell_type": "code",
   "execution_count": 14,
   "metadata": {},
   "outputs": [
    {
     "name": "stdout",
     "output_type": "stream",
     "text": [
      "Total:  4938\n",
      "Start:  0\n"
     ]
    }
   ],
   "source": [
    "total = DF_Full.shape[0]\n",
    "print('Total: ', total)\n",
    "print('Start: ', START_IN)"
   ]
  },
  {
   "cell_type": "code",
   "execution_count": 15,
   "metadata": {},
   "outputs": [
    {
     "name": "stdout",
     "output_type": "stream",
     "text": [
      "(4938, 43)\n"
     ]
    }
   ],
   "source": [
    "#Shape the first START of the total\n",
    "DF_Full = DF_Full.iloc[START_IN:]\n",
    "DF_Full.reset_index(drop=True, inplace=True) #reset indexes from iloc\n",
    "NUM_FEATURES = DF_Full.shape[1]\n",
    "print(DF_Full.shape)"
   ]
  },
  {
   "cell_type": "code",
   "execution_count": 16,
   "metadata": {},
   "outputs": [
    {
     "name": "stdout",
     "output_type": "stream",
     "text": [
      "Total:  5137\n"
     ]
    }
   ],
   "source": [
    "\n",
    "total = DATASET.shape[0]\n",
    "print('Total: ', total)"
   ]
  },
  {
   "cell_type": "code",
   "execution_count": 17,
   "metadata": {},
   "outputs": [
    {
     "data": {
      "text/plain": [
       "0     0.0\n",
       "1    -1.0\n",
       "2    -1.0\n",
       "3     0.0\n",
       "4     1.0\n",
       "5    -1.0\n",
       "6     0.0\n",
       "7     1.0\n",
       "8     1.0\n",
       "9     0.0\n",
       "10   -1.0\n",
       "11   -1.0\n",
       "Name: Class, dtype: float64"
      ]
     },
     "execution_count": 17,
     "metadata": {},
     "output_type": "execute_result"
    }
   ],
   "source": [
    "DF_Full[TARGET_NAME][0:12]"
   ]
  },
  {
   "cell_type": "markdown",
   "metadata": {},
   "source": [
    "### Generate VECTOR Y"
   ]
  },
  {
   "cell_type": "code",
   "execution_count": 18,
   "metadata": {},
   "outputs": [
    {
     "name": "stdout",
     "output_type": "stream",
     "text": [
      "[1 0 0 ... 2 1 1]\n",
      "[-1.  0.  1.]\n",
      "[[0. 1. 0.]\n",
      " [1. 0. 0.]\n",
      " [1. 0. 0.]\n",
      " ...\n",
      " [0. 0. 1.]\n",
      " [0. 1. 0.]\n",
      " [0. 1. 0.]]\n"
     ]
    }
   ],
   "source": [
    "#generate the VECTOR Y\n",
    "uniques, ids = np.unique(DF_Full[TARGET_NAME], return_inverse=True)\n",
    "\n",
    "#target_y = np_utils.to_categorical(DF_Full[TARGET_NAME],num_classes=5)\n",
    "target_y = np_utils.to_categorical(ids,len(uniques))\n",
    "print(ids)\n",
    "print(uniques)\n",
    "print(target_y)"
   ]
  },
  {
   "cell_type": "code",
   "execution_count": 19,
   "metadata": {},
   "outputs": [
    {
     "name": "stdout",
     "output_type": "stream",
     "text": [
      "[[0. 1. 0.]\n",
      " [1. 0. 0.]\n",
      " [1. 0. 0.]\n",
      " [0. 1. 0.]\n",
      " [0. 0. 1.]\n",
      " [1. 0. 0.]\n",
      " [0. 1. 0.]\n",
      " [0. 0. 1.]\n",
      " [0. 0. 1.]\n",
      " [0. 1. 0.]]\n"
     ]
    },
    {
     "data": {
      "text/plain": [
       "(4938, 3)"
      ]
     },
     "execution_count": 19,
     "metadata": {},
     "output_type": "execute_result"
    }
   ],
   "source": [
    "close_y = target_y\n",
    "print(close_y[:10])   \n",
    "#   [1. 0. 0. 0. 0.]   =  0\n",
    "#   [0. 1. 0. 0. 0.]   =  1\n",
    "#   [0. 0. 1. 0. 0.]   =   2 \n",
    "#   [0. 0. 0. 1. 0.]   =  -2\n",
    "#   [0. 0. 0. 0. 1.]   =  -1\n",
    "close_y.shape"
   ]
  },
  {
   "cell_type": "markdown",
   "metadata": {},
   "source": [
    "### REMOVE COLUMNS "
   ]
  },
  {
   "cell_type": "code",
   "execution_count": 20,
   "metadata": {},
   "outputs": [
    {
     "name": "stdout",
     "output_type": "stream",
     "text": [
      "(4938, 43)\n",
      "(4938, 42)\n"
     ]
    },
    {
     "data": {
      "text/html": [
       "<div>\n",
       "<style scoped>\n",
       "    .dataframe tbody tr th:only-of-type {\n",
       "        vertical-align: middle;\n",
       "    }\n",
       "\n",
       "    .dataframe tbody tr th {\n",
       "        vertical-align: top;\n",
       "    }\n",
       "\n",
       "    .dataframe thead th {\n",
       "        text-align: right;\n",
       "    }\n",
       "</style>\n",
       "<table border=\"1\" class=\"dataframe\">\n",
       "  <thead>\n",
       "    <tr style=\"text-align: right;\">\n",
       "      <th></th>\n",
       "      <th>Open</th>\n",
       "      <th>High</th>\n",
       "      <th>Low</th>\n",
       "      <th>Close</th>\n",
       "      <th>Volume</th>\n",
       "      <th>Open_Bid</th>\n",
       "      <th>High_Bid</th>\n",
       "      <th>Low_Bid</th>\n",
       "      <th>Close_Bid</th>\n",
       "      <th>Volume_Bid</th>\n",
       "      <th>...</th>\n",
       "      <th>R3</th>\n",
       "      <th>S3</th>\n",
       "      <th>SO%k</th>\n",
       "      <th>SO%k1</th>\n",
       "      <th>SO%d2</th>\n",
       "      <th>Trix_5</th>\n",
       "      <th>MACD_5_25</th>\n",
       "      <th>MACDsign_5_25</th>\n",
       "      <th>MACDdiff_5_25</th>\n",
       "      <th>Mass_Index_25_8_9</th>\n",
       "    </tr>\n",
       "  </thead>\n",
       "  <tbody>\n",
       "    <tr>\n",
       "      <th>0</th>\n",
       "      <td>1.23655</td>\n",
       "      <td>1.23817</td>\n",
       "      <td>1.22801</td>\n",
       "      <td>1.23179</td>\n",
       "      <td>1.078729e+06</td>\n",
       "      <td>1.23639</td>\n",
       "      <td>1.23804</td>\n",
       "      <td>1.22791</td>\n",
       "      <td>1.23169</td>\n",
       "      <td>1291823.750</td>\n",
       "      <td>...</td>\n",
       "      <td>1.247463</td>\n",
       "      <td>1.216983</td>\n",
       "      <td>0.372047</td>\n",
       "      <td>0.372047</td>\n",
       "      <td>0.465089</td>\n",
       "      <td>0.001033</td>\n",
       "      <td>0.007685</td>\n",
       "      <td>0.006724</td>\n",
       "      <td>0.000960</td>\n",
       "      <td>24.895479</td>\n",
       "    </tr>\n",
       "    <tr>\n",
       "      <th>1</th>\n",
       "      <td>1.23158</td>\n",
       "      <td>1.23241</td>\n",
       "      <td>1.22967</td>\n",
       "      <td>1.23109</td>\n",
       "      <td>8.212280e+04</td>\n",
       "      <td>1.23088</td>\n",
       "      <td>1.23231</td>\n",
       "      <td>1.22955</td>\n",
       "      <td>1.23099</td>\n",
       "      <td>93508.000</td>\n",
       "      <td>...</td>\n",
       "      <td>1.235183</td>\n",
       "      <td>1.226963</td>\n",
       "      <td>0.518248</td>\n",
       "      <td>0.518248</td>\n",
       "      <td>0.500529</td>\n",
       "      <td>0.000707</td>\n",
       "      <td>0.006466</td>\n",
       "      <td>0.006673</td>\n",
       "      <td>-0.000206</td>\n",
       "      <td>24.537966</td>\n",
       "    </tr>\n",
       "    <tr>\n",
       "      <th>2</th>\n",
       "      <td>1.23140</td>\n",
       "      <td>1.23154</td>\n",
       "      <td>1.21310</td>\n",
       "      <td>1.21496</td>\n",
       "      <td>1.130388e+06</td>\n",
       "      <td>1.23124</td>\n",
       "      <td>1.23140</td>\n",
       "      <td>1.21298</td>\n",
       "      <td>1.21486</td>\n",
       "      <td>1348137.000</td>\n",
       "      <td>...</td>\n",
       "      <td>1.245073</td>\n",
       "      <td>1.189753</td>\n",
       "      <td>0.100868</td>\n",
       "      <td>0.100868</td>\n",
       "      <td>0.234088</td>\n",
       "      <td>-0.000051</td>\n",
       "      <td>0.001415</td>\n",
       "      <td>0.005621</td>\n",
       "      <td>-0.004206</td>\n",
       "      <td>24.630783</td>\n",
       "    </tr>\n",
       "    <tr>\n",
       "      <th>3</th>\n",
       "      <td>1.21495</td>\n",
       "      <td>1.21669</td>\n",
       "      <td>1.20594</td>\n",
       "      <td>1.20711</td>\n",
       "      <td>1.123270e+06</td>\n",
       "      <td>1.21479</td>\n",
       "      <td>1.21656</td>\n",
       "      <td>1.20583</td>\n",
       "      <td>1.20701</td>\n",
       "      <td>1344214.000</td>\n",
       "      <td>...</td>\n",
       "      <td>1.224637</td>\n",
       "      <td>1.192387</td>\n",
       "      <td>0.108837</td>\n",
       "      <td>0.108837</td>\n",
       "      <td>0.150587</td>\n",
       "      <td>-0.000975</td>\n",
       "      <td>-0.003743</td>\n",
       "      <td>0.003748</td>\n",
       "      <td>-0.007491</td>\n",
       "      <td>24.746555</td>\n",
       "    </tr>\n",
       "    <tr>\n",
       "      <th>4</th>\n",
       "      <td>1.20718</td>\n",
       "      <td>1.21160</td>\n",
       "      <td>1.20519</td>\n",
       "      <td>1.20794</td>\n",
       "      <td>1.118725e+06</td>\n",
       "      <td>1.20702</td>\n",
       "      <td>1.21156</td>\n",
       "      <td>1.20504</td>\n",
       "      <td>1.20784</td>\n",
       "      <td>1355827.375</td>\n",
       "      <td>...</td>\n",
       "      <td>1.217707</td>\n",
       "      <td>1.198477</td>\n",
       "      <td>0.429017</td>\n",
       "      <td>0.429017</td>\n",
       "      <td>0.336207</td>\n",
       "      <td>-0.001648</td>\n",
       "      <td>-0.006608</td>\n",
       "      <td>0.001677</td>\n",
       "      <td>-0.008285</td>\n",
       "      <td>24.668388</td>\n",
       "    </tr>\n",
       "  </tbody>\n",
       "</table>\n",
       "<p>5 rows × 42 columns</p>\n",
       "</div>"
      ],
      "text/plain": [
       "      Open     High      Low    Close        Volume  Open_Bid  High_Bid  \\\n",
       "0  1.23655  1.23817  1.22801  1.23179  1.078729e+06   1.23639   1.23804   \n",
       "1  1.23158  1.23241  1.22967  1.23109  8.212280e+04   1.23088   1.23231   \n",
       "2  1.23140  1.23154  1.21310  1.21496  1.130388e+06   1.23124   1.23140   \n",
       "3  1.21495  1.21669  1.20594  1.20711  1.123270e+06   1.21479   1.21656   \n",
       "4  1.20718  1.21160  1.20519  1.20794  1.118725e+06   1.20702   1.21156   \n",
       "\n",
       "   Low_Bid  Close_Bid   Volume_Bid  ...        R3        S3      SO%k  \\\n",
       "0  1.22791    1.23169  1291823.750  ...  1.247463  1.216983  0.372047   \n",
       "1  1.22955    1.23099    93508.000  ...  1.235183  1.226963  0.518248   \n",
       "2  1.21298    1.21486  1348137.000  ...  1.245073  1.189753  0.100868   \n",
       "3  1.20583    1.20701  1344214.000  ...  1.224637  1.192387  0.108837   \n",
       "4  1.20504    1.20784  1355827.375  ...  1.217707  1.198477  0.429017   \n",
       "\n",
       "      SO%k1     SO%d2    Trix_5  MACD_5_25  MACDsign_5_25  MACDdiff_5_25  \\\n",
       "0  0.372047  0.465089  0.001033   0.007685       0.006724       0.000960   \n",
       "1  0.518248  0.500529  0.000707   0.006466       0.006673      -0.000206   \n",
       "2  0.100868  0.234088 -0.000051   0.001415       0.005621      -0.004206   \n",
       "3  0.108837  0.150587 -0.000975  -0.003743       0.003748      -0.007491   \n",
       "4  0.429017  0.336207 -0.001648  -0.006608       0.001677      -0.008285   \n",
       "\n",
       "   Mass_Index_25_8_9  \n",
       "0          24.895479  \n",
       "1          24.537966  \n",
       "2          24.630783  \n",
       "3          24.746555  \n",
       "4          24.668388  \n",
       "\n",
       "[5 rows x 42 columns]"
      ]
     },
     "execution_count": 20,
     "metadata": {},
     "output_type": "execute_result"
    }
   ],
   "source": [
    "#REMOVE CLASS FROM Data\n",
    "print(DF_Full.shape)\n",
    "DF_Full = DF_Full.drop(['Class'], axis = 1)\n",
    "DF_Full.reset_index(drop=True, inplace=True)\n",
    "print(DF_Full.shape)\n",
    "DF_Full.head()"
   ]
  },
  {
   "cell_type": "markdown",
   "metadata": {},
   "source": [
    "### SPLIT in 3 Sub Datasets"
   ]
  },
  {
   "cell_type": "code",
   "execution_count": 21,
   "metadata": {},
   "outputs": [
    {
     "name": "stdout",
     "output_type": "stream",
     "text": [
      "Sum of %s: 0.30000000000000004\n",
      "count of Val and Test: 1541\n",
      "end of train:  3596\n",
      "count val:  513\n",
      "count test:  1027\n",
      "end_val 4109\n"
     ]
    }
   ],
   "source": [
    "s1 = TEST_SIZE + VAL_SIZE\n",
    "print('Sum of %s:',s1)\n",
    "f1 = int(total * s1)\n",
    "print('count of Val and Test:',f1)\n",
    "end_train = total - f1\n",
    "print('end of train: ', end_train)\n",
    "\n",
    "count_val= int(total * VAL_SIZE)\n",
    "print('count val: ',count_val)\n",
    "\n",
    "count_test= int(total * TEST_SIZE)\n",
    "print('count test: ',count_test)\n",
    "\n",
    "\n",
    "end_val = end_train + count_val\n",
    "print('end_val', end_val)\n",
    "\n"
   ]
  },
  {
   "cell_type": "code",
   "execution_count": 22,
   "metadata": {},
   "outputs": [
    {
     "data": {
      "text/plain": [
       "array([[0., 1., 0.],\n",
       "       [1., 0., 0.],\n",
       "       [1., 0., 0.],\n",
       "       ...,\n",
       "       [1., 0., 0.],\n",
       "       [1., 0., 0.],\n",
       "       [1., 0., 0.]], dtype=float32)"
      ]
     },
     "execution_count": 22,
     "metadata": {},
     "output_type": "execute_result"
    }
   ],
   "source": [
    "close_y[:end_train,:]"
   ]
  },
  {
   "cell_type": "code",
   "execution_count": 23,
   "metadata": {},
   "outputs": [
    {
     "name": "stdout",
     "output_type": "stream",
     "text": [
      "data_training.shape:  (3596, 42)\n",
      "data_val.shape:  (513, 42)\n",
      "data_test.shape:  (829, 42)\n",
      "data_training_y.shape:  (3596, 3)\n",
      "data_val_y.shape:  (513, 3)\n",
      "data_test_y.shape:  (829, 3)\n"
     ]
    }
   ],
   "source": [
    "data_training = DF_Full.iloc[:end_train]\n",
    "data_val = DF_Full.iloc[end_train: end_val]\n",
    "data_test = DF_Full.iloc[end_val:]\n",
    "\n",
    "print(\"data_training.shape: \",data_training.shape)\n",
    "print(\"data_val.shape: \", data_val.shape)\n",
    "print(\"data_test.shape: \", data_test.shape)\n",
    "\n",
    "data_training_y = close_y[:end_train,:]\n",
    "data_val_y = close_y[end_train: end_val,:]\n",
    "data_test_y = close_y[end_val:,:]\n",
    "\n",
    "print(\"data_training_y.shape: \", data_training_y.shape)\n",
    "print(\"data_val_y.shape: \", data_val_y.shape)\n",
    "print(\"data_test_y.shape: \", data_test_y.shape)"
   ]
  },
  {
   "cell_type": "code",
   "execution_count": 24,
   "metadata": {},
   "outputs": [
    {
     "data": {
      "text/plain": [
       "4109    1.17336\n",
       "4110    1.17427\n",
       "4111    1.17414\n",
       "4112    1.18138\n",
       "4113    1.18644\n",
       "4114    1.18314\n",
       "4115    1.18223\n",
       "4116    1.18149\n",
       "4117    1.17948\n",
       "4118    1.17716\n",
       "Name: Close, dtype: float64"
      ]
     },
     "execution_count": 24,
     "metadata": {},
     "output_type": "execute_result"
    }
   ],
   "source": [
    "data_test['Close'].head(10)"
   ]
  },
  {
   "cell_type": "code",
   "execution_count": 25,
   "metadata": {},
   "outputs": [
    {
     "data": {
      "text/plain": [
       "array([ 0.,  0.,  1.,  1., -1.,  0.,  0., -1., -1.,  1.])"
      ]
     },
     "execution_count": 25,
     "metadata": {},
     "output_type": "execute_result"
    }
   ],
   "source": [
    "uniques_data_test_y = uniques[data_test_y.argmax(1)]\n",
    "uniques_data_test_y[:10]"
   ]
  },
  {
   "cell_type": "markdown",
   "metadata": {},
   "source": [
    "### SCALAR"
   ]
  },
  {
   "cell_type": "code",
   "execution_count": 26,
   "metadata": {},
   "outputs": [
    {
     "name": "stdout",
     "output_type": "stream",
     "text": [
      "[[0.34423101 0.33894661 0.33438201 ... 0.57385074 0.39967666 0.42004268]\n",
      " [0.33519908 0.32853916 0.33743607 ... 0.57336787 0.37963807 0.35071301]\n",
      " [0.33487197 0.32696721 0.30695073 ... 0.56352136 0.31093976 0.36871221]\n",
      " ...\n",
      " [0.15359732 0.14964315 0.13827869 ... 0.65640364 0.45410909 0.58300109]\n",
      " [0.13960419 0.13504382 0.13860985 ... 0.65991417 0.40893634 0.55549692]\n",
      " [0.13673288 0.1325323  0.12245649 ... 0.65702066 0.36195187 0.56224193]]\n"
     ]
    }
   ],
   "source": [
    "# DATA SET SCALER TRAINING\n",
    "scaler = MinMaxScaler(feature_range=(0, 1))\n",
    "data_training_array = np.array(data_training)\n",
    "data_training_array_scaled = scaler.fit_transform(data_training_array)\n",
    "print(data_training_array_scaled)\n",
    "    "
   ]
  },
  {
   "cell_type": "code",
   "execution_count": 27,
   "metadata": {},
   "outputs": [
    {
     "name": "stdout",
     "output_type": "stream",
     "text": [
      "(3596, 42)\n",
      "[0.37669362 0.42690746 0.22466157 0.33182137 0.44717204 0.47414792\n",
      " 0.30587499 0.43527102 0.48605834 0.61154273]\n"
     ]
    },
    {
     "data": {
      "image/png": "[encoded data removed]",
      "text/plain": [
       "<Figure size 1080x360 with 1 Axes>"
      ]
     },
     "metadata": {
      "needs_background": "light"
     },
     "output_type": "display_data"
    }
   ],
   "source": [
    "print(data_training_array_scaled.shape)\n",
    "print(data_training_array_scaled[:10,12])\n",
    "plt.figure(figsize=(15,5))\n",
    "plt.plot(data_training_array_scaled[:10,12], color = 'red', label = 'train_x')\n",
    "plt.title('train_x')\n",
    "plt.xlabel('hours')\n",
    "plt.ylabel('Loss')\n",
    "plt.legend()\n",
    "plt.show()"
   ]
  },
  {
   "cell_type": "code",
   "execution_count": 28,
   "metadata": {},
   "outputs": [
    {
     "data": {
      "text/plain": [
       "array([[0., 1., 0.],\n",
       "       [1., 0., 0.],\n",
       "       [1., 0., 0.],\n",
       "       [0., 1., 0.],\n",
       "       [0., 0., 1.],\n",
       "       [1., 0., 0.],\n",
       "       [0., 1., 0.],\n",
       "       [0., 0., 1.],\n",
       "       [0., 0., 1.],\n",
       "       [0., 1., 0.]], dtype=float32)"
      ]
     },
     "execution_count": 28,
     "metadata": {},
     "output_type": "execute_result"
    }
   ],
   "source": [
    "data_training_y[:10]"
   ]
  },
  {
   "cell_type": "markdown",
   "metadata": {},
   "source": [
    "### CHART MA's"
   ]
  },
  {
   "cell_type": "code",
   "execution_count": 29,
   "metadata": {},
   "outputs": [
    {
     "name": "stdout",
     "output_type": "stream",
     "text": [
      "(3596, 42)\n"
     ]
    },
    {
     "data": {
      "image/png": "[encoded data removed]",
      "text/plain": [
       "<Figure size 1008x360 with 1 Axes>"
      ]
     },
     "metadata": {
      "needs_background": "light"
     },
     "output_type": "display_data"
    }
   ],
   "source": [
    "INICIO = 0\n",
    "FIN = 3596\n",
    "\n",
    "IDX_Close = DF_Full.columns.get_loc(\"Close\")\n",
    "IDX_MA_Close_5 = DF_Full.columns.get_loc(\"MA_Close_5\")\n",
    "IDX_MA_Close_25 = DF_Full.columns.get_loc(\"MA_Close_25\")\n",
    "IDX_MA_Close_50 = DF_Full.columns.get_loc(\"MA_Close_50\")\n",
    "IDX_MA_Close_200 = DF_Full.columns.get_loc(\"MA_Close_200\")\n",
    "\n",
    "print(data_training_array_scaled.shape)\n",
    "plt.figure(figsize=(14,5))\n",
    "pyplot.plot(data_training_array_scaled[INICIO:FIN,IDX_Close], color = 'red', label = 'Close')\n",
    "pyplot.plot(data_training_array_scaled[INICIO:FIN,IDX_MA_Close_5], color = 'orange', label = 'MA_Close_5')\n",
    "pyplot.plot(data_training_array_scaled[INICIO:FIN,IDX_MA_Close_25], color = 'blue', label = 'MA_Close_25')\n",
    "pyplot.plot(data_training_array_scaled[INICIO:FIN,IDX_MA_Close_50], color = 'green', label = 'MA_Close_50')\n",
    "pyplot.plot(data_training_array_scaled[INICIO:FIN,IDX_MA_Close_200], color = 'gray', label = 'MA_Close_200')\n",
    "plt.title('Close, Moving Avg 5, Moving Avg 25, Moving Avg 50, Moving Avg 200')\n",
    "plt.xlabel('Time')\n",
    "plt.ylabel('Price')\n",
    "plt.legend()\n",
    "plt.show()"
   ]
  },
  {
   "cell_type": "code",
   "execution_count": 30,
   "metadata": {},
   "outputs": [
    {
     "name": "stdout",
     "output_type": "stream",
     "text": [
      "(3596, 42)\n"
     ]
    },
    {
     "data": {
      "image/png": "[encoded data removed]",
      "text/plain": [
       "<Figure size 1008x360 with 1 Axes>"
      ]
     },
     "metadata": {
      "needs_background": "light"
     },
     "output_type": "display_data"
    }
   ],
   "source": [
    "print(data_training_array_scaled.shape)\n",
    "INICIO = 0\n",
    "FIN = 710\n",
    "\n",
    "\n",
    "IDX_Close = DF_Full.columns.get_loc(\"Close\")\n",
    "IDX_Volume = DF_Full.columns.get_loc(\"Volume\")\n",
    "IDX_weekday = DF_Full.columns.get_loc(\"weekday\")\n",
    "IDX_Pct_Range_Close = DF_Full.columns.get_loc(\"Pct_Range_Close\")\n",
    "IDX_Pct_Range_Close_diff = DF_Full.columns.get_loc(\"Pct_Range_Close_diff\")\n",
    "\n",
    "plt.figure(figsize=(14,5))\n",
    "pyplot.plot(data_training_array_scaled[INICIO:FIN,IDX_Close], color = 'red', label = 'Close')\n",
    "pyplot.plot(data_training_array_scaled[INICIO:FIN,IDX_Volume], color = 'blue', label = 'Volume')\n",
    "pyplot.plot(data_training_array_scaled[INICIO:FIN,IDX_weekday], color = 'green', label = 'weekday')\n",
    "pyplot.plot(data_training_array_scaled[INICIO:FIN,IDX_Pct_Range_Close], color = 'gray', label = 'Pct_Range_Close')\n",
    "pyplot.plot(data_training_array_scaled[INICIO:FIN,IDX_Pct_Range_Close_diff], color = 'orange', label = 'Pct_Range_Close_diff')\n",
    "plt.xlabel('Time')\n",
    "plt.ylabel('Price')\n",
    "plt.legend()\n",
    "plt.show()"
   ]
  },
  {
   "cell_type": "code",
   "execution_count": 31,
   "metadata": {},
   "outputs": [
    {
     "name": "stdout",
     "output_type": "stream",
     "text": [
      "(3596, 42)\n"
     ]
    },
    {
     "data": {
      "image/png": "[encoded data removed]",
      "text/plain": [
       "<Figure size 1008x360 with 1 Axes>"
      ]
     },
     "metadata": {
      "needs_background": "light"
     },
     "output_type": "display_data"
    }
   ],
   "source": [
    "print(data_training_array_scaled.shape)\n",
    "INICIO = 0\n",
    "FIN = 710\n",
    "\n",
    "\n",
    "IDX_Close = DF_Full.columns.get_loc(\"Close\")\n",
    "IDX_Close_Bid = DF_Full.columns.get_loc(\"Close_Bid\")\n",
    "IDX_Spread = DF_Full.columns.get_loc(\"Spread\")\n",
    "\n",
    "plt.figure(figsize=(14,5))\n",
    "pyplot.plot(data_training_array_scaled[INICIO:FIN,IDX_Close], color = 'red', label = 'Close')\n",
    "pyplot.plot(data_training_array_scaled[INICIO:FIN,IDX_Close_Bid], color = 'blue', label = 'Close_Bid')\n",
    "pyplot.plot(data_training_array_scaled[INICIO:FIN,IDX_Spread], color = 'green', label = 'Spread')\n",
    "plt.xlabel('Time')\n",
    "plt.ylabel('Price')\n",
    "plt.legend()\n",
    "plt.show()"
   ]
  },
  {
   "cell_type": "code",
   "execution_count": 32,
   "metadata": {},
   "outputs": [
    {
     "data": {
      "text/plain": [
       "array([[0., 1., 0.],\n",
       "       [1., 0., 0.],\n",
       "       [1., 0., 0.],\n",
       "       ...,\n",
       "       [1., 0., 0.],\n",
       "       [1., 0., 0.],\n",
       "       [1., 0., 0.]], dtype=float32)"
      ]
     },
     "execution_count": 32,
     "metadata": {},
     "output_type": "execute_result"
    }
   ],
   "source": [
    "data_training_y"
   ]
  },
  {
   "cell_type": "code",
   "execution_count": 33,
   "metadata": {},
   "outputs": [
    {
     "data": {
      "text/plain": [
       "[<matplotlib.lines.Line2D at 0x246bd856ac8>,\n",
       " <matplotlib.lines.Line2D at 0x246c0593088>,\n",
       " <matplotlib.lines.Line2D at 0x246c0593248>]"
      ]
     },
     "execution_count": 33,
     "metadata": {},
     "output_type": "execute_result"
    },
    {
     "data": {
      "image/png": "[encoded data removed]",
      "text/plain": [
       "<Figure size 1152x360 with 1 Axes>"
      ]
     },
     "metadata": {
      "needs_background": "light"
     },
     "output_type": "display_data"
    }
   ],
   "source": [
    "# Target para el entrenamiento\n",
    "pyplot.figure(figsize=(16,5))\n",
    "pyplot.plot(data_training_y)"
   ]
  },
  {
   "cell_type": "code",
   "execution_count": 34,
   "metadata": {
    "colab": {},
    "colab_type": "code",
    "id": "3Lf8pl2FoBLj",
    "outputId": "33ad0467-0e5b-420a-df86-b4563f3e1136"
   },
   "outputs": [
    {
     "name": "stdout",
     "output_type": "stream",
     "text": [
      "(3572, 24, 42)\n",
      "(3572, 3)\n"
     ]
    }
   ],
   "source": [
    "X_train = []\n",
    "y_train = []\n",
    "for i in range(RANGE, data_training_array_scaled.shape[0]):\n",
    "    indx_start = i-RANGE\n",
    "    X_train.append(data_training_array_scaled[indx_start:i])\n",
    "    y_train.append(data_training_y[i])\n",
    "\n",
    "X_train_np, y_train_np = np.array(X_train), np.array(y_train)\n",
    "\n",
    "print(X_train_np.shape)\n",
    "print(y_train_np.shape)"
   ]
  },
  {
   "cell_type": "code",
   "execution_count": 35,
   "metadata": {},
   "outputs": [
    {
     "data": {
      "text/plain": [
       "array([0.33404984, 0.3327747 , 0.30339187, 0.2890921 , 0.29060405,\n",
       "       0.29579569, 0.2779984 , 0.2778891 , 0.28466555, 0.30852885,\n",
       "       0.31055086, 0.30648863, 0.28630501, 0.2881995 , 0.28798091,\n",
       "       0.29180632, 0.30918464, 0.31869353, 0.32514209, 0.32776523,\n",
       "       0.32446809, 0.32151705, 0.30297289, 0.30974934])"
      ]
     },
     "execution_count": 35,
     "metadata": {},
     "output_type": "execute_result"
    }
   ],
   "source": [
    "X_train_np[0,:,3]"
   ]
  },
  {
   "cell_type": "code",
   "execution_count": 36,
   "metadata": {},
   "outputs": [
    {
     "name": "stdout",
     "output_type": "stream",
     "text": [
      "[-1.  0.  1. -1.  0.  0.  0.  1.  0.  0.  1. -1.  0. -1.  1. -1.  0.  1.\n",
      "  0. -1. -1.  1.  1.  1.]\n"
     ]
    }
   ],
   "source": [
    "array = y_train_np[:RANGE]\n",
    "uniques_y = uniques[array.argmax(1)]\n",
    "print(uniques_y)"
   ]
  },
  {
   "cell_type": "code",
   "execution_count": 37,
   "metadata": {},
   "outputs": [
    {
     "name": "stdout",
     "output_type": "stream",
     "text": [
      "(24, 42)\n",
      "(513, 42)\n",
      "<bound method NDFrame.head of         Open     High      Low    Close       Volume  Open_Bid  High_Bid  \\\n",
      "0    1.08930  1.09391  1.08597  1.09110  263000.3125   1.08925   1.09389   \n",
      "1    1.09110  1.09761  1.08737  1.08750  324862.9688   1.09106   1.09760   \n",
      "2    1.08750  1.09212  1.07781  1.08583  369161.4688   1.08745   1.09210   \n",
      "3    1.08583  1.08630  1.07896  1.08020  340257.3438   1.08581   1.08629   \n",
      "4    1.07943  1.07980  1.07897  1.07975    7272.6099   1.07913   1.07977   \n",
      "..       ...      ...      ...      ...          ...       ...       ...   \n",
      "532  1.17944  1.18156  1.17941  1.18084    7998.0498   1.17886   1.18151   \n",
      "533  1.18083  1.18084  1.17303  1.17318  214015.8594   1.18079   1.18079   \n",
      "534  1.17321  1.17733  1.16963  1.17480  232977.6250   1.17319   1.17732   \n",
      "535  1.17480  1.17883  1.17467  1.17569  206706.3750   1.17476   1.17877   \n",
      "536  1.17569  1.17791  1.16993  1.17141  194164.4219   1.17565   1.17787   \n",
      "\n",
      "     Low_Bid  Close_Bid   Volume_Bid  ...        R3        S3      SO%k  \\\n",
      "0    1.08595    1.09105  275003.3750  ...  1.102623  1.078803  0.646096   \n",
      "1    1.08732    1.08746  322863.2188  ...  1.104523  1.073803  0.012695   \n",
      "2    1.07780    1.08580  363617.8438  ...  1.107007  1.064077  0.560447   \n",
      "3    1.07892    1.07947  335113.9063  ...  1.092020  1.070000  0.168937   \n",
      "4    1.07893    1.07971    6192.8901  ...  1.080873  1.078383  0.939759   \n",
      "..       ...        ...          ...  ...       ...       ...       ...   \n",
      "532  1.17886    1.18079    8763.9297  ...  1.183947  1.177497  0.665116   \n",
      "533  1.17301    1.17315  218487.7969  ...  1.186147  1.162717  0.019206   \n",
      "534  1.16961    1.17477  202565.5469  ...  1.185910  1.162810  0.671429   \n",
      "535  1.17464    1.17566  210086.4375  ...  1.182283  1.169803  0.245192   \n",
      "536  1.16990    1.17138  190971.3281  ...  1.184217  1.160277  0.185464   \n",
      "\n",
      "        SO%k1     SO%d2    Trix_5  MACD_5_25  MACDsign_5_25  MACDdiff_5_25  \\\n",
      "0    0.646096  0.577723  0.000328   0.001438       0.000536       0.000902   \n",
      "1    0.012695  0.201038  0.000218   0.000666       0.000562       0.000104   \n",
      "2    0.560447  0.440644  0.000030  -0.000254       0.000399      -0.000653   \n",
      "3    0.168937  0.259506 -0.000325  -0.002258      -0.000132      -0.002125   \n",
      "4    0.939759  0.713008 -0.000642  -0.003548      -0.000816      -0.002733   \n",
      "..        ...       ...       ...        ...            ...            ...   \n",
      "532  0.665116  0.673570 -0.001257  -0.005993      -0.003123      -0.002871   \n",
      "533  0.019206  0.237327 -0.001289  -0.007593      -0.004017      -0.003576   \n",
      "534  0.671429  0.526728 -0.001278  -0.007967      -0.004807      -0.003160   \n",
      "535  0.245192  0.339038 -0.001182  -0.007765      -0.005398      -0.002367   \n",
      "536  0.185464  0.236655 -0.001176  -0.008539      -0.006026      -0.002512   \n",
      "\n",
      "     Mass_Index_25_8_9  \n",
      "0            24.387947  \n",
      "1            24.467863  \n",
      "2            24.648996  \n",
      "3            24.759255  \n",
      "4            24.739985  \n",
      "..                 ...  \n",
      "532          24.561452  \n",
      "533          24.516079  \n",
      "534          24.568888  \n",
      "535          24.551027  \n",
      "536          24.625124  \n",
      "\n",
      "[537 rows x 42 columns]>\n"
     ]
    }
   ],
   "source": [
    "#\n",
    "#Obtener los ultimos valores de Train para agregarlos a Val DF\n",
    "# APPEND DE X\n",
    "last_range_training_x = data_training.tail(RANGE)\n",
    "print(last_range_training_x.shape)\n",
    "print(data_val.shape)\n",
    "data_val_x1 = last_range_training_x.append(data_val, ignore_index = True)\n",
    "data_val_x1.shape\n",
    "print(data_val_x1.head)"
   ]
  },
  {
   "cell_type": "code",
   "execution_count": 38,
   "metadata": {},
   "outputs": [
    {
     "data": {
      "text/plain": [
       "array([[1., 0., 0.],\n",
       "       [1., 0., 0.],\n",
       "       [1., 0., 0.],\n",
       "       [0., 1., 0.],\n",
       "       [0., 0., 1.],\n",
       "       [0., 1., 0.],\n",
       "       [0., 0., 1.],\n",
       "       [0., 0., 1.],\n",
       "       [1., 0., 0.],\n",
       "       [0., 1., 0.],\n",
       "       [0., 0., 1.],\n",
       "       [0., 0., 1.],\n",
       "       [0., 0., 1.],\n",
       "       [0., 0., 1.],\n",
       "       [1., 0., 0.],\n",
       "       [1., 0., 0.],\n",
       "       [0., 0., 1.],\n",
       "       [0., 0., 1.],\n",
       "       [0., 1., 0.],\n",
       "       [0., 0., 1.],\n",
       "       [1., 0., 0.],\n",
       "       [1., 0., 0.],\n",
       "       [1., 0., 0.],\n",
       "       [1., 0., 0.]], dtype=float32)"
      ]
     },
     "execution_count": 38,
     "metadata": {},
     "output_type": "execute_result"
    }
   ],
   "source": [
    "last_range_train_y = data_training_y[-RANGE:]\n",
    "last_range_train_y"
   ]
  },
  {
   "cell_type": "code",
   "execution_count": 39,
   "metadata": {},
   "outputs": [
    {
     "data": {
      "text/plain": [
       "(24, 3)"
      ]
     },
     "execution_count": 39,
     "metadata": {},
     "output_type": "execute_result"
    }
   ],
   "source": [
    "last_range_train_y.shape"
   ]
  },
  {
   "cell_type": "code",
   "execution_count": 40,
   "metadata": {},
   "outputs": [
    {
     "name": "stdout",
     "output_type": "stream",
     "text": [
      "(24, 3)\n",
      "(513, 3)\n",
      "(537, 3)\n",
      "[[1. 0. 0.]\n",
      " [1. 0. 0.]\n",
      " [1. 0. 0.]\n",
      " [0. 1. 0.]\n",
      " [0. 0. 1.]\n",
      " [0. 1. 0.]\n",
      " [0. 0. 1.]\n",
      " [0. 0. 1.]\n",
      " [1. 0. 0.]\n",
      " [0. 1. 0.]]\n"
     ]
    }
   ],
   "source": [
    "#Append de los datos de Train al DF de Val en Y\n",
    "last_range_train_y = data_training_y[-RANGE:]\n",
    "print(last_range_train_y.shape)\n",
    "print(data_val_y.shape)\n",
    "data_val_y1 = np.concatenate((last_range_train_y,data_val_y))\n",
    "print(data_val_y1.shape)\n",
    "print(data_val_y1[:10])"
   ]
  },
  {
   "cell_type": "code",
   "execution_count": 41,
   "metadata": {},
   "outputs": [
    {
     "name": "stdout",
     "output_type": "stream",
     "text": [
      "[[0.07663511 0.07829072 0.0730581  0.07776523 0.11687159 0.07677348\n",
      "  0.07834101 0.07309037 0.07776401 0.10129632 0.03333333 0.16666667\n",
      "  0.46288902 0.55045519 0.06621955 0.04057304 0.00912899 0.00533471\n",
      "  0.07435497 0.48039914 0.43773969 0.44589542 0.5079361  0.55543508\n",
      "  0.04057304 0.0319015  0.06339135 0.07633457 0.07998895 0.08053342\n",
      "  0.08216613 0.08609424 0.08562757 0.11377629 0.64609572 0.64609572\n",
      "  0.59258748 0.41831125 0.4783233  0.51590802 0.39866623 0.32162104]\n",
      " [0.07990623 0.08497606 0.07563381 0.07120737 0.14454115 0.08006325\n",
      "  0.08504563 0.075612   0.07122294 0.1190506  0.025      0.33333333\n",
      "  0.38283808 0.4420648  0.06687752 0.04029083 0.01010051 0.00523929\n",
      "  0.07041004 0.4161321  0.42991313 0.44189353 0.48880674 0.50330594\n",
      "  0.04029083 0.03165717 0.06308139 0.07725117 0.079268   0.0755762\n",
      "  0.08715994 0.08282116 0.08896075 0.10495551 0.01269531 0.01269531\n",
      "  0.18056099 0.41226156 0.47294398 0.51615091 0.38496265 0.33711858]\n",
      " [0.07336398 0.07505646 0.05804541 0.06816526 0.16435472 0.07350188\n",
      "  0.07510617 0.05808945 0.06819838 0.13416911 0.01666667 0.5\n",
      "  0.41129837 0.52301975 0.06458209 0.03957982 0.01100817 0.0051656\n",
      "  0.06704856 0.43905916 0.40267668 0.40029488 0.49498501 0.47993322\n",
      "  0.03957982 0.03079537 0.06254786 0.06703412 0.07640825 0.06519052\n",
      "  0.08447874 0.06528591 0.09331727 0.08779616 0.56044724 0.56044724\n",
      "  0.44264768 0.40186521 0.46653063 0.51462165 0.37196101 0.37224416]\n",
      " [0.07032911 0.06454061 0.06016117 0.0579095  0.15142666 0.07052109\n",
      "  0.06460649 0.06015093 0.05666497 0.12359517 0.6        0.66666667\n",
      "  0.35241307 0.45785546 0.06021182 0.03874574 0.01165872 0.00476605\n",
      "  0.05902881 0.39201711 0.38678876 0.37107051 0.465076   0.40701517\n",
      "  0.03874574 0.03074694 0.06095491 0.06074013 0.06195929 0.06326883\n",
      "  0.06592433 0.07171691 0.0670261  0.09824584 0.16893733 0.16893733\n",
      "  0.24451506 0.38223709 0.45256959 0.50964628 0.34667783 0.39362585]\n",
      " [0.05869846 0.0527961  0.06017956 0.05708977 0.00249122 0.05837983\n",
      "  0.05282371 0.06016934 0.05710225 0.00157725 0.025      1.\n",
      "  0.4293551  0.5591896  0.05664532 0.03741073 0.01237232 0.0042302\n",
      "  0.0558041  0.45355191 0.39633717 0.38239166 0.46313721 0.40148346\n",
      "  0.03741073 0.0295295  0.05955056 0.05649932 0.05360233 0.06670828\n",
      "  0.05018786 0.07934805 0.04747146 0.11303535 0.93975904 0.93975904\n",
      "  0.7405655  0.36476999 0.44357753 0.5032494  0.33624868 0.3898889 ]\n",
      " [0.05922547 0.06347457 0.06023476 0.06714515 0.13048217 0.05941584\n",
      "  0.06352218 0.06027977 0.06717805 0.10360623 0.01666667 0.\n",
      "  0.51856845 0.56834464 0.05446579 0.03648493 0.01337987 0.00382037\n",
      "  0.06149367 0.52447137 0.48360335 0.40192723 0.47903526 0.49161021\n",
      "  0.03648493 0.02785691 0.05940889 0.06350215 0.06731832 0.06988458\n",
      "  0.06748787 0.07560219 0.07113702 0.1057141  0.93442623 0.93442623\n",
      "  0.90202689 0.36414412 0.44854121 0.49946586 0.35542202 0.40186394]\n",
      " [0.06931143 0.06661848 0.06553336 0.06885748 0.12793152 0.06946691\n",
      "  0.06666667 0.06558071 0.06887253 0.10539443 0.025      0.16666667\n",
      "  0.45005312 0.45067096 0.05398353 0.0356822  0.01446604 0.00352548\n",
      "  0.06454211 0.47006415 0.49448227 0.42583329 0.47882846 0.50601971\n",
      "  0.0356822  0.02624545 0.05944804 0.06689969 0.06880828 0.07349539\n",
      "  0.06876011 0.0810452  0.07058734 0.11119475 0.77737882 0.77737882\n",
      "  0.84132604 0.37178064 0.45378212 0.49784751 0.37130728 0.42684766]\n",
      " [0.07101968 0.07420725 0.07143908 0.07619863 0.13543879 0.07115724\n",
      "  0.07427487 0.07147064 0.07621529 0.11295055 0.025      0.33333333\n",
      "  0.4959436  0.53602356 0.05563219 0.03511543 0.01577205 0.00329388\n",
      "  0.07049681 0.5067712  0.48282069 0.45584751 0.50175783 0.56574874\n",
      "  0.03511543 0.02460528 0.05998043 0.0738903  0.07676872 0.07978678\n",
      "  0.07732688 0.0861791  0.08007228 0.1154934  0.78506098 0.78506098\n",
      "  0.82669437 0.38853447 0.46458052 0.49945485 0.39497326 0.45683392]\n",
      " [0.07836153 0.08347638 0.07491629 0.08226465 0.13802136 0.07850015\n",
      "  0.0835276  0.07496779 0.08226441 0.11739513 0.03333333 0.5\n",
      "  0.4853621  0.49389257 0.06063053 0.03518912 0.01726966 0.00289548\n",
      "  0.07656245 0.49845569 0.50152618 0.50302775 0.5079878  0.61104751\n",
      "  0.03518912 0.02480933 0.05992044 0.08021485 0.08579857 0.08303651\n",
      "  0.08925854 0.08656096 0.09454528 0.1129001  0.67244898 0.67244898\n",
      "  0.73969881 0.41035783 0.47727126 0.50415131 0.4176372  0.47770699]\n",
      " [0.08439493 0.0800795  0.06396953 0.06322865 0.15126972 0.08455261\n",
      "  0.0800759  0.06397939 0.06309671 0.12556001 0.09166667 0.66666667\n",
      "  0.28188505 0.3499826  0.0618904  0.0343715  0.01810772 0.00236206\n",
      "  0.06577841 0.33475885 0.38819754 0.45037123 0.50028436 0.46027151\n",
      "  0.0343715  0.02364718 0.05947885 0.06904453 0.07455782 0.06411339\n",
      "  0.08564991 0.06808015 0.09074429 0.08753741 0.15068493 0.15068493\n",
      "  0.33022218 0.40796385 0.4661787  0.5049274  0.38887458 0.52957688]]\n"
     ]
    }
   ],
   "source": [
    "data_val_x2 = scaler.transform(data_val_x1)\n",
    "data_val_x2.shape\n",
    "print(data_val_x2[:10])"
   ]
  },
  {
   "cell_type": "code",
   "execution_count": 42,
   "metadata": {
    "colab": {},
    "colab_type": "code",
    "id": "CePFSn77oBLn",
    "outputId": "42f59747-5fe8-44a2-af41-2a1d57cb5e1b",
    "scrolled": true
   },
   "outputs": [
    {
     "name": "stdout",
     "output_type": "stream",
     "text": [
      "(513, 24, 42)\n",
      "(513, 3)\n"
     ]
    }
   ],
   "source": [
    "X_val = []\n",
    "y_val = []\n",
    "for i in range(RANGE, data_val_x2.shape[0]):\n",
    "    indx_start = i-RANGE\n",
    "    X_val.append(data_val_x2[indx_start:i])\n",
    "    y_val.append(data_val_y1[i])\n",
    "\n",
    "X_val_np = np.array(X_val)\n",
    "y_val_np = np.array(y_val)\n",
    "print(X_val_np.shape)\n",
    "print(y_val_np.shape)"
   ]
  },
  {
   "cell_type": "code",
   "execution_count": 43,
   "metadata": {},
   "outputs": [
    {
     "name": "stdout",
     "output_type": "stream",
     "text": [
      "(24, 42)\n",
      "(829, 42)\n"
     ]
    },
    {
     "data": {
      "text/plain": [
       "(853, 42)"
      ]
     },
     "execution_count": 43,
     "metadata": {},
     "output_type": "execute_result"
    }
   ],
   "source": [
    "\n",
    "#Obtener los ultimos valores de Val para agregarlos a TEST DF\n",
    "# Append en X\n",
    "last_range_data_training_x = data_training.tail(RANGE)\n",
    "print(last_range_data_training_x.shape)\n",
    "print(data_test.shape)\n",
    "data_test_x1 = last_range_data_training_x.append(data_test, ignore_index = True)\n",
    "data_test_x1.shape\n"
   ]
  },
  {
   "cell_type": "code",
   "execution_count": 44,
   "metadata": {},
   "outputs": [
    {
     "name": "stdout",
     "output_type": "stream",
     "text": [
      "(24, 3)\n",
      "(829, 3)\n",
      "(853, 3)\n"
     ]
    }
   ],
   "source": [
    "#Append de los datos de Val al DF de Test de Y\n",
    "last_range_training_y = data_training_y[-RANGE:,:]\n",
    "print(last_range_training_y.shape)\n",
    "print(data_test_y.shape)\n",
    "data_test_y1 = np.concatenate((last_range_training_y,data_test_y))\n",
    "print(data_test_y1.shape)"
   ]
  },
  {
   "cell_type": "code",
   "execution_count": 45,
   "metadata": {},
   "outputs": [
    {
     "name": "stdout",
     "output_type": "stream",
     "text": [
      "[[0.07663511 0.07829072 0.0730581  0.07776523 0.11687159 0.07677348\n",
      "  0.07834101 0.07309037 0.07776401 0.10129632 0.03333333 0.16666667\n",
      "  0.46288902 0.55045519 0.06621955 0.04057304 0.00912899 0.00533471\n",
      "  0.07435497 0.48039914 0.43773969 0.44589542 0.5079361  0.55543508\n",
      "  0.04057304 0.0319015  0.06339135 0.07633457 0.07998895 0.08053342\n",
      "  0.08216613 0.08609424 0.08562757 0.11377629 0.64609572 0.64609572\n",
      "  0.59258748 0.41831125 0.4783233  0.51590802 0.39866623 0.32162104]\n",
      " [0.07990623 0.08497606 0.07563381 0.07120737 0.14454115 0.08006325\n",
      "  0.08504563 0.075612   0.07122294 0.1190506  0.025      0.33333333\n",
      "  0.38283808 0.4420648  0.06687752 0.04029083 0.01010051 0.00523929\n",
      "  0.07041004 0.4161321  0.42991313 0.44189353 0.48880674 0.50330594\n",
      "  0.04029083 0.03165717 0.06308139 0.07725117 0.079268   0.0755762\n",
      "  0.08715994 0.08282116 0.08896075 0.10495551 0.01269531 0.01269531\n",
      "  0.18056099 0.41226156 0.47294398 0.51615091 0.38496265 0.33711858]\n",
      " [0.07336398 0.07505646 0.05804541 0.06816526 0.16435472 0.07350188\n",
      "  0.07510617 0.05808945 0.06819838 0.13416911 0.01666667 0.5\n",
      "  0.41129837 0.52301975 0.06458209 0.03957982 0.01100817 0.0051656\n",
      "  0.06704856 0.43905916 0.40267668 0.40029488 0.49498501 0.47993322\n",
      "  0.03957982 0.03079537 0.06254786 0.06703412 0.07640825 0.06519052\n",
      "  0.08447874 0.06528591 0.09331727 0.08779616 0.56044724 0.56044724\n",
      "  0.44264768 0.40186521 0.46653063 0.51462165 0.37196101 0.37224416]\n",
      " [0.07032911 0.06454061 0.06016117 0.0579095  0.15142666 0.07052109\n",
      "  0.06460649 0.06015093 0.05666497 0.12359517 0.6        0.66666667\n",
      "  0.35241307 0.45785546 0.06021182 0.03874574 0.01165872 0.00476605\n",
      "  0.05902881 0.39201711 0.38678876 0.37107051 0.465076   0.40701517\n",
      "  0.03874574 0.03074694 0.06095491 0.06074013 0.06195929 0.06326883\n",
      "  0.06592433 0.07171691 0.0670261  0.09824584 0.16893733 0.16893733\n",
      "  0.24451506 0.38223709 0.45256959 0.50964628 0.34667783 0.39362585]\n",
      " [0.05869846 0.0527961  0.06017956 0.05708977 0.00249122 0.05837983\n",
      "  0.05282371 0.06016934 0.05710225 0.00157725 0.025      1.\n",
      "  0.4293551  0.5591896  0.05664532 0.03741073 0.01237232 0.0042302\n",
      "  0.0558041  0.45355191 0.39633717 0.38239166 0.46313721 0.40148346\n",
      "  0.03741073 0.0295295  0.05955056 0.05649932 0.05360233 0.06670828\n",
      "  0.05018786 0.07934805 0.04747146 0.11303535 0.93975904 0.93975904\n",
      "  0.7405655  0.36476999 0.44357753 0.5032494  0.33624868 0.3898889 ]\n",
      " [0.05922547 0.06347457 0.06023476 0.06714515 0.13048217 0.05941584\n",
      "  0.06352218 0.06027977 0.06717805 0.10360623 0.01666667 0.\n",
      "  0.51856845 0.56834464 0.05446579 0.03648493 0.01337987 0.00382037\n",
      "  0.06149367 0.52447137 0.48360335 0.40192723 0.47903526 0.49161021\n",
      "  0.03648493 0.02785691 0.05940889 0.06350215 0.06731832 0.06988458\n",
      "  0.06748787 0.07560219 0.07113702 0.1057141  0.93442623 0.93442623\n",
      "  0.90202689 0.36414412 0.44854121 0.49946586 0.35542202 0.40186394]\n",
      " [0.06931143 0.06661848 0.06553336 0.06885748 0.12793152 0.06946691\n",
      "  0.06666667 0.06558071 0.06887253 0.10539443 0.025      0.16666667\n",
      "  0.45005312 0.45067096 0.05398353 0.0356822  0.01446604 0.00352548\n",
      "  0.06454211 0.47006415 0.49448227 0.42583329 0.47882846 0.50601971\n",
      "  0.0356822  0.02624545 0.05944804 0.06689969 0.06880828 0.07349539\n",
      "  0.06876011 0.0810452  0.07058734 0.11119475 0.77737882 0.77737882\n",
      "  0.84132604 0.37178064 0.45378212 0.49784751 0.37130728 0.42684766]\n",
      " [0.07101968 0.07420725 0.07143908 0.07619863 0.13543879 0.07115724\n",
      "  0.07427487 0.07147064 0.07621529 0.11295055 0.025      0.33333333\n",
      "  0.4959436  0.53602356 0.05563219 0.03511543 0.01577205 0.00329388\n",
      "  0.07049681 0.5067712  0.48282069 0.45584751 0.50175783 0.56574874\n",
      "  0.03511543 0.02460528 0.05998043 0.0738903  0.07676872 0.07978678\n",
      "  0.07732688 0.0861791  0.08007228 0.1154934  0.78506098 0.78506098\n",
      "  0.82669437 0.38853447 0.46458052 0.49945485 0.39497326 0.45683392]\n",
      " [0.07836153 0.08347638 0.07491629 0.08226465 0.13802136 0.07850015\n",
      "  0.0835276  0.07496779 0.08226441 0.11739513 0.03333333 0.5\n",
      "  0.4853621  0.49389257 0.06063053 0.03518912 0.01726966 0.00289548\n",
      "  0.07656245 0.49845569 0.50152618 0.50302775 0.5079878  0.61104751\n",
      "  0.03518912 0.02480933 0.05992044 0.08021485 0.08579857 0.08303651\n",
      "  0.08925854 0.08656096 0.09454528 0.1129001  0.67244898 0.67244898\n",
      "  0.73969881 0.41035783 0.47727126 0.50415131 0.4176372  0.47770699]\n",
      " [0.08439493 0.0800795  0.06396953 0.06322865 0.15126972 0.08455261\n",
      "  0.0800759  0.06397939 0.06309671 0.12556001 0.09166667 0.66666667\n",
      "  0.28188505 0.3499826  0.0618904  0.0343715  0.01810772 0.00236206\n",
      "  0.06577841 0.33475885 0.38819754 0.45037123 0.50028436 0.46027151\n",
      "  0.0343715  0.02364718 0.05947885 0.06904453 0.07455782 0.06411339\n",
      "  0.08564991 0.06808015 0.09074429 0.08753741 0.15068493 0.15068493\n",
      "  0.33022218 0.40796385 0.4661787  0.5049274  0.38887458 0.52957688]]\n"
     ]
    }
   ],
   "source": [
    "data_test_x2 = scaler.transform(data_test_x1)\n",
    "data_test_x2.shape\n",
    "print(data_test_x2[:10])"
   ]
  },
  {
   "cell_type": "code",
   "execution_count": 46,
   "metadata": {
    "colab": {},
    "colab_type": "code",
    "id": "CePFSn77oBLn",
    "outputId": "42f59747-5fe8-44a2-af41-2a1d57cb5e1b",
    "scrolled": true
   },
   "outputs": [
    {
     "name": "stdout",
     "output_type": "stream",
     "text": [
      "(829, 24, 42)\n",
      "(829, 3)\n"
     ]
    }
   ],
   "source": [
    "X_test = []\n",
    "y_test = []\n",
    "for i in range(RANGE, data_test_x2.shape[0]):\n",
    "    X_test.append(data_test_x2[i-RANGE:i])\n",
    "    y_test.append(data_test_y1[i])\n",
    "\n",
    "X_test_np = np.array(X_test)\n",
    "y_test_np = np.array(y_test)\n",
    "print(X_test_np.shape)\n",
    "print(y_test_np.shape)"
   ]
  },
  {
   "cell_type": "code",
   "execution_count": 47,
   "metadata": {},
   "outputs": [
    {
     "data": {
      "text/plain": [
       "[<matplotlib.lines.Line2D at 0x246c0634e48>,\n",
       " <matplotlib.lines.Line2D at 0x246c03ec108>,\n",
       " <matplotlib.lines.Line2D at 0x246c0413308>]"
      ]
     },
     "execution_count": 47,
     "metadata": {},
     "output_type": "execute_result"
    },
    {
     "data": {
      "image/png": "[encoded data removed]",
      "text/plain": [
       "<Figure size 432x288 with 1 Axes>"
      ]
     },
     "metadata": {
      "needs_background": "light"
     },
     "output_type": "display_data"
    }
   ],
   "source": [
    "# Y del dataset de pruebas\n",
    "pyplot.plot(y_test_np)"
   ]
  },
  {
   "cell_type": "code",
   "execution_count": 48,
   "metadata": {},
   "outputs": [
    {
     "data": {
      "text/plain": [
       "[<matplotlib.lines.Line2D at 0x246c06ffd88>,\n",
       " <matplotlib.lines.Line2D at 0x246c07123c8>,\n",
       " <matplotlib.lines.Line2D at 0x246c0705e88>]"
      ]
     },
     "execution_count": 48,
     "metadata": {},
     "output_type": "execute_result"
    },
    {
     "data": {
      "image/png": "[encoded data removed]",
      "text/plain": [
       "<Figure size 432x288 with 1 Axes>"
      ]
     },
     "metadata": {
      "needs_background": "light"
     },
     "output_type": "display_data"
    }
   ],
   "source": [
    "\n",
    "# Y de Val y Test comparados\n",
    "pyplot.plot(y_train_np)\n",
    "pyplot.plot(y_test_np)\n",
    "pyplot.plot(y_val_np)\n"
   ]
  },
  {
   "cell_type": "code",
   "execution_count": 49,
   "metadata": {},
   "outputs": [
    {
     "name": "stdout",
     "output_type": "stream",
     "text": [
      "24\n",
      "42\n"
     ]
    }
   ],
   "source": [
    "x_shape = X_train_np.shape[1]\n",
    "print(x_shape)\n",
    "y_shape = X_train_np.shape[2]\n",
    "print(y_shape)"
   ]
  },
  {
   "cell_type": "markdown",
   "metadata": {},
   "source": [
    "### Oversampling Inbalanced Class"
   ]
  },
  {
   "cell_type": "code",
   "execution_count": 50,
   "metadata": {},
   "outputs": [
    {
     "name": "stdout",
     "output_type": "stream",
     "text": [
      "(3572, 24, 42)\n",
      "(3572, 3)\n"
     ]
    }
   ],
   "source": [
    "#Check Current Shape\n",
    "print(X_train_np.shape)\n",
    "print(y_train_np.shape)"
   ]
  },
  {
   "cell_type": "code",
   "execution_count": 51,
   "metadata": {
    "scrolled": true
   },
   "outputs": [],
   "source": [
    "#oversample = RandomOverSampler(sampling_strategy='minority')\n",
    "#oversample\n"
   ]
  },
  {
   "cell_type": "code",
   "execution_count": 52,
   "metadata": {},
   "outputs": [],
   "source": [
    "#X_over, y_over = oversample.fit_resample(X_train_np, y_train_np)"
   ]
  },
  {
   "cell_type": "markdown",
   "metadata": {},
   "source": [
    "### BUILD LSTM MODEL "
   ]
  },
  {
   "cell_type": "code",
   "execution_count": 53,
   "metadata": {
    "colab": {},
    "colab_type": "code",
    "id": "dPyrqmjooBLu",
    "outputId": "ac844281-9522-427d-afa6-d93b642f46af"
   },
   "outputs": [],
   "source": [
    "model = Sequential()\n",
    "model.add(LSTM(units = RANGE, activation = 'relu', return_sequences = True, input_shape = (x_shape, y_shape)))\n",
    "model.add(LSTM(units = 80, activation = 'relu'))\n",
    "model.add(Dense(units = 3, activation = 'softmax'))\n",
    "model.compile(optimizer='adam', loss = 'categorical_crossentropy', metrics=[\"acc\"])\n"
   ]
  },
  {
   "cell_type": "code",
   "execution_count": 54,
   "metadata": {},
   "outputs": [
    {
     "name": "stdout",
     "output_type": "stream",
     "text": [
      "Model: \"sequential\"\n",
      "_________________________________________________________________\n",
      "Layer (type)                 Output Shape              Param #   \n",
      "=================================================================\n",
      "lstm (LSTM)                  (None, 24, 24)            6432      \n",
      "_________________________________________________________________\n",
      "lstm_1 (LSTM)                (None, 80)                33600     \n",
      "_________________________________________________________________\n",
      "dense (Dense)                (None, 3)                 243       \n",
      "=================================================================\n",
      "Total params: 40,275\n",
      "Trainable params: 40,275\n",
      "Non-trainable params: 0\n",
      "_________________________________________________________________\n"
     ]
    }
   ],
   "source": [
    "model.summary()"
   ]
  },
  {
   "cell_type": "code",
   "execution_count": 55,
   "metadata": {},
   "outputs": [
    {
     "name": "stdout",
     "output_type": "stream",
     "text": [
      "Epoch 1/100\n",
      "112/112 [==============================] - 2s 15ms/step - loss: 1.0987 - acc: 0.3513 - val_loss: 1.1039 - val_acc: 0.3275\n",
      "Epoch 2/100\n",
      "112/112 [==============================] - 1s 12ms/step - loss: 1.0965 - acc: 0.3539 - val_loss: 1.1046 - val_acc: 0.3275\n",
      "Epoch 3/100\n",
      "112/112 [==============================] - 1s 12ms/step - loss: 1.0964 - acc: 0.3516 - val_loss: 1.1079 - val_acc: 0.3216\n",
      "Epoch 4/100\n",
      "112/112 [==============================] - 1s 13ms/step - loss: 1.0962 - acc: 0.3407 - val_loss: 1.1073 - val_acc: 0.3275\n",
      "Epoch 5/100\n",
      "112/112 [==============================] - 1s 13ms/step - loss: 1.0958 - acc: 0.3567 - val_loss: 1.1027 - val_acc: 0.3275\n",
      "Epoch 6/100\n",
      "112/112 [==============================] - 1s 12ms/step - loss: 1.0947 - acc: 0.3586 - val_loss: 1.1058 - val_acc: 0.3275\n",
      "Epoch 7/100\n",
      "112/112 [==============================] - 1s 12ms/step - loss: 1.0971 - acc: 0.3530 - val_loss: 1.1103 - val_acc: 0.3275\n",
      "Epoch 8/100\n",
      "112/112 [==============================] - 1s 12ms/step - loss: 1.0965 - acc: 0.3539 - val_loss: 1.1046 - val_acc: 0.3275\n",
      "Epoch 9/100\n",
      "112/112 [==============================] - 1s 12ms/step - loss: 1.0950 - acc: 0.3477 - val_loss: 1.1127 - val_acc: 0.3275\n",
      "Epoch 10/100\n",
      "112/112 [==============================] - 1s 12ms/step - loss: 1.0967 - acc: 0.3508 - val_loss: 1.1044 - val_acc: 0.3275\n",
      "Epoch 11/100\n",
      "112/112 [==============================] - 1s 12ms/step - loss: 1.0961 - acc: 0.3508 - val_loss: 1.1124 - val_acc: 0.3275\n",
      "Epoch 12/100\n",
      "112/112 [==============================] - 1s 12ms/step - loss: 1.0948 - acc: 0.3614 - val_loss: 1.1053 - val_acc: 0.3275\n",
      "Epoch 13/100\n",
      "112/112 [==============================] - 1s 12ms/step - loss: 1.0939 - acc: 0.3525 - val_loss: 1.1046 - val_acc: 0.3333\n",
      "Epoch 14/100\n",
      "112/112 [==============================] - 1s 12ms/step - loss: 1.0932 - acc: 0.3527 - val_loss: 1.1083 - val_acc: 0.3138\n",
      "Epoch 15/100\n",
      "112/112 [==============================] - 1s 12ms/step - loss: 1.0936 - acc: 0.3597 - val_loss: 1.1096 - val_acc: 0.3372\n",
      "Epoch 16/100\n",
      "112/112 [==============================] - 1s 12ms/step - loss: 1.0923 - acc: 0.3533 - val_loss: 1.1092 - val_acc: 0.3216\n",
      "Epoch 17/100\n",
      "112/112 [==============================] - 1s 13ms/step - loss: 1.0919 - acc: 0.3555 - val_loss: 1.1086 - val_acc: 0.3216\n",
      "Epoch 18/100\n",
      "112/112 [==============================] - 1s 12ms/step - loss: 1.0917 - acc: 0.3597 - val_loss: 1.1037 - val_acc: 0.3333\n",
      "Epoch 19/100\n",
      "112/112 [==============================] - 1s 12ms/step - loss: 1.0923 - acc: 0.3589 - val_loss: 1.1064 - val_acc: 0.3275\n",
      "Epoch 20/100\n",
      "112/112 [==============================] - 1s 12ms/step - loss: 1.0909 - acc: 0.3541 - val_loss: 1.1052 - val_acc: 0.3275\n",
      "Epoch 21/100\n",
      "112/112 [==============================] - 1s 12ms/step - loss: 1.0907 - acc: 0.3575 - val_loss: 1.1028 - val_acc: 0.3275\n",
      "Epoch 22/100\n",
      "112/112 [==============================] - 1s 12ms/step - loss: 1.0901 - acc: 0.3525 - val_loss: 1.1110 - val_acc: 0.3275\n",
      "Epoch 23/100\n",
      "112/112 [==============================] - 1s 13ms/step - loss: 1.0892 - acc: 0.3665 - val_loss: 1.1000 - val_acc: 0.3333\n",
      "Epoch 24/100\n",
      "112/112 [==============================] - 1s 12ms/step - loss: 1.0895 - acc: 0.3592 - val_loss: 1.0992 - val_acc: 0.3372\n",
      "Epoch 25/100\n",
      "112/112 [==============================] - 1s 12ms/step - loss: 1.0877 - acc: 0.3676 - val_loss: 1.1054 - val_acc: 0.3294\n",
      "Epoch 26/100\n",
      "112/112 [==============================] - 1s 12ms/step - loss: 1.0841 - acc: 0.3656 - val_loss: 1.0941 - val_acc: 0.3450\n",
      "Epoch 27/100\n",
      "112/112 [==============================] - 1s 12ms/step - loss: 1.0792 - acc: 0.3861 - val_loss: 1.0913 - val_acc: 0.3509\n",
      "Epoch 28/100\n",
      "112/112 [==============================] - 1s 13ms/step - loss: 1.0791 - acc: 0.3936 - val_loss: 1.0743 - val_acc: 0.3860\n",
      "Epoch 29/100\n",
      "112/112 [==============================] - 1s 12ms/step - loss: 1.0699 - acc: 0.4045 - val_loss: 1.0842 - val_acc: 0.4327\n",
      "Epoch 30/100\n",
      "112/112 [==============================] - 1s 12ms/step - loss: 1.0679 - acc: 0.4227 - val_loss: 1.0668 - val_acc: 0.4172\n",
      "Epoch 31/100\n",
      "112/112 [==============================] - 1s 12ms/step - loss: 1.0643 - acc: 0.4174 - val_loss: 1.0741 - val_acc: 0.4308\n",
      "Epoch 32/100\n",
      "112/112 [==============================] - 1s 12ms/step - loss: 1.0606 - acc: 0.4222 - val_loss: 1.0830 - val_acc: 0.3938\n",
      "Epoch 33/100\n",
      "112/112 [==============================] - 1s 12ms/step - loss: 1.0590 - acc: 0.4244 - val_loss: 1.0847 - val_acc: 0.4483\n",
      "Epoch 34/100\n",
      "112/112 [==============================] - ETA: 0s - loss: 1.0565 - acc: 0.411 - 1s 12ms/step - loss: 1.0561 - acc: 0.4118 - val_loss: 1.0984 - val_acc: 0.4211\n",
      "Epoch 35/100\n",
      "112/112 [==============================] - 1s 12ms/step - loss: 1.0531 - acc: 0.4281 - val_loss: 1.0696 - val_acc: 0.4055\n",
      "Epoch 36/100\n",
      "112/112 [==============================] - 1s 12ms/step - loss: 1.0500 - acc: 0.4219 - val_loss: 1.0611 - val_acc: 0.4055\n",
      "Epoch 37/100\n",
      "112/112 [==============================] - 1s 12ms/step - loss: 1.0441 - acc: 0.4339 - val_loss: 1.0619 - val_acc: 0.4113\n",
      "Epoch 38/100\n",
      "112/112 [==============================] - 1s 12ms/step - loss: 1.0384 - acc: 0.4384 - val_loss: 1.0556 - val_acc: 0.4405\n",
      "Epoch 39/100\n",
      "112/112 [==============================] - 1s 13ms/step - loss: 1.0360 - acc: 0.4443 - val_loss: 1.0389 - val_acc: 0.4269\n",
      "Epoch 40/100\n",
      "112/112 [==============================] - 2s 15ms/step - loss: 1.0327 - acc: 0.4390 - val_loss: 1.0465 - val_acc: 0.4347\n",
      "Epoch 41/100\n",
      "112/112 [==============================] - 1s 12ms/step - loss: 1.0321 - acc: 0.4499 - val_loss: 1.0534 - val_acc: 0.4366\n",
      "Epoch 42/100\n",
      "112/112 [==============================] - 1s 12ms/step - loss: 1.0264 - acc: 0.4468 - val_loss: 1.0447 - val_acc: 0.4327\n",
      "Epoch 43/100\n",
      "112/112 [==============================] - 1s 13ms/step - loss: 1.0253 - acc: 0.4588 - val_loss: 1.0586 - val_acc: 0.4425\n",
      "Epoch 44/100\n",
      "112/112 [==============================] - 1s 13ms/step - loss: 1.0228 - acc: 0.4558 - val_loss: 1.0485 - val_acc: 0.4347\n",
      "Epoch 45/100\n",
      "112/112 [==============================] - 1s 13ms/step - loss: 1.0225 - acc: 0.4524 - val_loss: 1.0713 - val_acc: 0.4288\n",
      "Epoch 46/100\n",
      "112/112 [==============================] - 1s 12ms/step - loss: 1.0213 - acc: 0.4597 - val_loss: 1.0516 - val_acc: 0.4172\n",
      "Epoch 47/100\n",
      "112/112 [==============================] - 1s 12ms/step - loss: 1.0199 - acc: 0.4532 - val_loss: 1.0532 - val_acc: 0.4327\n",
      "Epoch 48/100\n",
      "112/112 [==============================] - 1s 12ms/step - loss: 1.0186 - acc: 0.4530 - val_loss: 1.0709 - val_acc: 0.4211\n",
      "Epoch 49/100\n",
      "112/112 [==============================] - 1s 12ms/step - loss: 1.0187 - acc: 0.4521 - val_loss: 1.0542 - val_acc: 0.4386\n",
      "Epoch 50/100\n",
      "112/112 [==============================] - 1s 13ms/step - loss: 1.0185 - acc: 0.4546 - val_loss: 1.0769 - val_acc: 0.4347\n",
      "Epoch 51/100\n",
      "112/112 [==============================] - 1s 13ms/step - loss: 1.0200 - acc: 0.4510 - val_loss: 1.0535 - val_acc: 0.4425\n",
      "Epoch 52/100\n",
      "112/112 [==============================] - 1s 12ms/step - loss: 1.0144 - acc: 0.4591 - val_loss: 1.0654 - val_acc: 0.4269\n",
      "Epoch 53/100\n",
      "112/112 [==============================] - 1s 12ms/step - loss: 1.0124 - acc: 0.4616 - val_loss: 1.0473 - val_acc: 0.4327\n",
      "Epoch 54/100\n",
      "112/112 [==============================] - 1s 13ms/step - loss: 1.0106 - acc: 0.4611 - val_loss: 1.1975 - val_acc: 0.4152\n",
      "Epoch 55/100\n",
      "112/112 [==============================] - 1s 12ms/step - loss: 1.0158 - acc: 0.4541 - val_loss: 1.1005 - val_acc: 0.4327\n",
      "Epoch 56/100\n",
      "112/112 [==============================] - 1s 12ms/step - loss: 1.0107 - acc: 0.4588 - val_loss: 1.0488 - val_acc: 0.4308\n",
      "Epoch 57/100\n",
      "112/112 [==============================] - 1s 13ms/step - loss: 1.0101 - acc: 0.4642 - val_loss: 1.0588 - val_acc: 0.4308\n",
      "Epoch 58/100\n",
      "112/112 [==============================] - 1s 12ms/step - loss: 1.0092 - acc: 0.4633 - val_loss: 1.0732 - val_acc: 0.4308\n",
      "Epoch 59/100\n",
      "112/112 [==============================] - 1s 13ms/step - loss: 1.0062 - acc: 0.4678 - val_loss: 1.0539 - val_acc: 0.4386\n",
      "Epoch 60/100\n",
      "112/112 [==============================] - 1s 13ms/step - loss: 1.0027 - acc: 0.4653 - val_loss: 1.1539 - val_acc: 0.4074\n",
      "Epoch 61/100\n",
      "112/112 [==============================] - 1s 13ms/step - loss: 1.0022 - acc: 0.4768 - val_loss: 1.0638 - val_acc: 0.4288\n",
      "Epoch 62/100\n",
      "112/112 [==============================] - 1s 13ms/step - loss: 0.9995 - acc: 0.4681 - val_loss: 1.1044 - val_acc: 0.4191\n",
      "Epoch 63/100\n",
      "112/112 [==============================] - 1s 12ms/step - loss: 0.9970 - acc: 0.4737 - val_loss: 1.0959 - val_acc: 0.4347\n",
      "Epoch 64/100\n",
      "112/112 [==============================] - 1s 12ms/step - loss: 0.9989 - acc: 0.4728 - val_loss: 1.0407 - val_acc: 0.4230\n",
      "Epoch 65/100\n",
      "112/112 [==============================] - 1s 13ms/step - loss: 1.0067 - acc: 0.4636 - val_loss: 1.0490 - val_acc: 0.4288\n",
      "Epoch 66/100\n",
      "112/112 [==============================] - 1s 13ms/step - loss: 0.9995 - acc: 0.4745 - val_loss: 1.0948 - val_acc: 0.4308\n",
      "Epoch 67/100\n",
      "112/112 [==============================] - 1s 13ms/step - loss: 0.9952 - acc: 0.4731 - val_loss: 1.1225 - val_acc: 0.4230\n",
      "Epoch 68/100\n",
      "112/112 [==============================] - 1s 13ms/step - loss: 0.9930 - acc: 0.4773 - val_loss: 1.0968 - val_acc: 0.4347\n",
      "Epoch 69/100\n",
      "112/112 [==============================] - 1s 13ms/step - loss: 0.9885 - acc: 0.4829 - val_loss: 1.0911 - val_acc: 0.4172\n",
      "Epoch 70/100\n",
      "112/112 [==============================] - 1s 12ms/step - loss: 0.9878 - acc: 0.4773 - val_loss: 1.1074 - val_acc: 0.4405\n",
      "Epoch 71/100\n",
      "112/112 [==============================] - 1s 12ms/step - loss: 0.9871 - acc: 0.4793 - val_loss: 1.0751 - val_acc: 0.4347\n",
      "Epoch 72/100\n",
      "112/112 [==============================] - 1s 12ms/step - loss: 0.9841 - acc: 0.4908 - val_loss: 1.1363 - val_acc: 0.4152\n",
      "Epoch 73/100\n",
      "112/112 [==============================] - 1s 13ms/step - loss: 0.9817 - acc: 0.4852 - val_loss: 1.2018 - val_acc: 0.3899\n",
      "Epoch 74/100\n",
      "112/112 [==============================] - 1s 12ms/step - loss: 0.9858 - acc: 0.4754 - val_loss: 1.1104 - val_acc: 0.4464\n",
      "Epoch 75/100\n",
      "112/112 [==============================] - 1s 12ms/step - loss: 0.9805 - acc: 0.4871 - val_loss: 1.0961 - val_acc: 0.4444\n",
      "Epoch 76/100\n",
      "112/112 [==============================] - 1s 13ms/step - loss: 0.9803 - acc: 0.4910 - val_loss: 1.1097 - val_acc: 0.4444\n",
      "Epoch 77/100\n",
      "112/112 [==============================] - ETA: 0s - loss: 0.9791 - acc: 0.486 - 1s 13ms/step - loss: 0.9791 - acc: 0.4866 - val_loss: 1.0838 - val_acc: 0.4405\n",
      "Epoch 78/100\n",
      "112/112 [==============================] - 1s 12ms/step - loss: 0.9763 - acc: 0.4930 - val_loss: 1.1473 - val_acc: 0.4405\n",
      "Epoch 79/100\n",
      "112/112 [==============================] - 1s 12ms/step - loss: 0.9685 - acc: 0.4994 - val_loss: 1.0852 - val_acc: 0.4366\n",
      "Epoch 80/100\n",
      "112/112 [==============================] - 1s 12ms/step - loss: 0.9638 - acc: 0.5050 - val_loss: 1.1419 - val_acc: 0.4288\n",
      "Epoch 81/100\n",
      "112/112 [==============================] - 1s 12ms/step - loss: 0.9641 - acc: 0.4986 - val_loss: 1.1263 - val_acc: 0.4308\n",
      "Epoch 82/100\n",
      "112/112 [==============================] - ETA: 0s - loss: 0.9681 - acc: 0.505 - 1s 12ms/step - loss: 0.9681 - acc: 0.5053 - val_loss: 1.0892 - val_acc: 0.4347\n",
      "Epoch 83/100\n",
      "112/112 [==============================] - 1s 12ms/step - loss: 0.9627 - acc: 0.5081 - val_loss: 1.1454 - val_acc: 0.4308\n",
      "Epoch 84/100\n",
      "112/112 [==============================] - 1s 13ms/step - loss: 0.9652 - acc: 0.4936 - val_loss: 1.1301 - val_acc: 0.4288\n",
      "Epoch 85/100\n",
      "112/112 [==============================] - 1s 13ms/step - loss: 0.9547 - acc: 0.5101 - val_loss: 1.1464 - val_acc: 0.4288\n",
      "Epoch 86/100\n",
      "112/112 [==============================] - 1s 12ms/step - loss: 0.9586 - acc: 0.5090 - val_loss: 1.0861 - val_acc: 0.4308\n",
      "Epoch 87/100\n",
      "112/112 [==============================] - 1s 12ms/step - loss: 0.9509 - acc: 0.5090 - val_loss: 1.1264 - val_acc: 0.4250\n",
      "Epoch 88/100\n",
      "112/112 [==============================] - 1s 12ms/step - loss: 0.9445 - acc: 0.5202 - val_loss: 1.1091 - val_acc: 0.4288\n",
      "Epoch 89/100\n",
      "112/112 [==============================] - 1s 12ms/step - loss: 0.9367 - acc: 0.5213 - val_loss: 1.1741 - val_acc: 0.4405\n",
      "Epoch 90/100\n",
      "112/112 [==============================] - 1s 12ms/step - loss: 0.9426 - acc: 0.5238 - val_loss: 1.2245 - val_acc: 0.4191\n",
      "Epoch 91/100\n",
      "112/112 [==============================] - 1s 12ms/step - loss: 0.9379 - acc: 0.5266 - val_loss: 1.1627 - val_acc: 0.4035\n",
      "Epoch 92/100\n",
      "112/112 [==============================] - 1s 12ms/step - loss: 0.9370 - acc: 0.5249 - val_loss: 1.1863 - val_acc: 0.4035\n",
      "Epoch 93/100\n",
      "112/112 [==============================] - 1s 13ms/step - loss: 0.9302 - acc: 0.5255 - val_loss: 1.1200 - val_acc: 0.4386\n",
      "Epoch 94/100\n",
      "112/112 [==============================] - 1s 13ms/step - loss: 0.9251 - acc: 0.5294 - val_loss: 1.1556 - val_acc: 0.4308\n",
      "Epoch 95/100\n",
      "112/112 [==============================] - 1s 13ms/step - loss: 0.9212 - acc: 0.5370 - val_loss: 1.3011 - val_acc: 0.4269\n",
      "Epoch 96/100\n",
      "112/112 [==============================] - 1s 13ms/step - loss: 0.9251 - acc: 0.5431 - val_loss: 1.2867 - val_acc: 0.3782\n",
      "Epoch 97/100\n",
      "112/112 [==============================] - 1s 12ms/step - loss: 0.9319 - acc: 0.5328 - val_loss: 1.4178 - val_acc: 0.4035\n",
      "Epoch 98/100\n",
      "112/112 [==============================] - 1s 12ms/step - loss: 0.9318 - acc: 0.5316 - val_loss: 1.2163 - val_acc: 0.4074\n",
      "Epoch 99/100\n",
      "112/112 [==============================] - 1s 12ms/step - loss: 0.9112 - acc: 0.5347 - val_loss: 1.2424 - val_acc: 0.4191\n",
      "Epoch 100/100\n",
      "112/112 [==============================] - 1s 12ms/step - loss: 0.9051 - acc: 0.5456 - val_loss: 1.3484 - val_acc: 0.4113\n"
     ]
    }
   ],
   "source": [
    "history = model.fit(X_train_np, y_train_np, epochs=EPOCHS, batch_size=BATCH_SIZE, validation_data=(X_val_np, y_val_np),shuffle=True)"
   ]
  },
  {
   "cell_type": "code",
   "execution_count": 56,
   "metadata": {},
   "outputs": [
    {
     "name": "stdout",
     "output_type": "stream",
     "text": [
      "dict_keys(['loss', 'acc', 'val_loss', 'val_acc'])\n"
     ]
    }
   ],
   "source": [
    "print(history.history.keys())"
   ]
  },
  {
   "cell_type": "code",
   "execution_count": 57,
   "metadata": {},
   "outputs": [
    {
     "data": {
      "image/png": "[encoded data removed]",
      "text/plain": [
       "<Figure size 432x288 with 1 Axes>"
      ]
     },
     "metadata": {
      "needs_background": "light"
     },
     "output_type": "display_data"
    }
   ],
   "source": [
    "plt.plot(history.history['acc'])\n",
    "plt.plot(history.history['val_acc'])\n",
    "plt.title('model accuracy')\n",
    "plt.ylabel('accuracy')\n",
    "plt.xlabel('epoch')\n",
    "plt.legend(['train', 'val'], loc='upper left')\n",
    "plt.show()"
   ]
  },
  {
   "cell_type": "code",
   "execution_count": 58,
   "metadata": {},
   "outputs": [
    {
     "data": {
      "image/png": "[encoded data removed]",
      "text/plain": [
       "<Figure size 432x288 with 1 Axes>"
      ]
     },
     "metadata": {
      "needs_background": "light"
     },
     "output_type": "display_data"
    }
   ],
   "source": [
    "plt.plot(history.history['loss'])\n",
    "plt.plot(history.history['val_loss'])\n",
    "plt.title('model loss')\n",
    "plt.ylabel('loss')\n",
    "plt.xlabel('epoch')\n",
    "plt.legend(['train', 'val'], loc='upper left')\n",
    "plt.show()"
   ]
  },
  {
   "cell_type": "code",
   "execution_count": 60,
   "metadata": {},
   "outputs": [
    {
     "name": "stdout",
     "output_type": "stream",
     "text": [
      "C:\\Users\\marami3\\Documents\\ITESO\\IDI4\\forex_prediction\\Jupyter Notebooks\\IDI4\\models_clasification\\../../../Models/2020/LSTM/\n"
     ]
    }
   ],
   "source": [
    "pwd = os.getcwd()\n",
    "source_data = os.path.join(pwd, r'../../../Models/2020/LSTM/')\n",
    "print(source_data)"
   ]
  },
  {
   "cell_type": "code",
   "execution_count": 61,
   "metadata": {},
   "outputs": [
    {
     "name": "stdout",
     "output_type": "stream",
     "text": [
      "3C-1D-LSTM_1D_43F_Class_01\n"
     ]
    }
   ],
   "source": [
    "file_name = MODEL_NAME + '_' + FRECUENCIA + '_' + str(NUM_FEATURES) + 'F_' + TARGET_NAME + \"_\"+ ID \n",
    "print(file_name)\n",
    "\n"
   ]
  },
  {
   "cell_type": "code",
   "execution_count": 62,
   "metadata": {},
   "outputs": [],
   "source": [
    "model.save(source_data + file_name + '.hdf5')"
   ]
  },
  {
   "cell_type": "code",
   "execution_count": 63,
   "metadata": {},
   "outputs": [
    {
     "name": "stdout",
     "output_type": "stream",
     "text": [
      "C:\\Users\\marami3\\Documents\\ITESO\\IDI4\\forex_prediction\\Jupyter Notebooks\\IDI4\\models_clasification\\../../../Models/2020/LSTM/3C-1D-LSTM_1D_43F_Class_01\n"
     ]
    }
   ],
   "source": [
    "#Load Model\n",
    "filepath = os.path.join(source_data, file_name)\n",
    "print(filepath)\n",
    "model = tf.keras.models.load_model(filepath+'.hdf5')\n",
    "FILENAME = os.path.splitext(file_name)[0]\n",
    "\n",
    "\n"
   ]
  },
  {
   "cell_type": "code",
   "execution_count": 64,
   "metadata": {},
   "outputs": [],
   "source": [
    "def precision(label, confusion_matrix):\n",
    "    #print('label',label)\n",
    "    col = confusion_matrix[:, label]\n",
    "    return confusion_matrix[label, label] / col.sum()\n",
    "    \n",
    "def recall(label, confusion_matrix):\n",
    "    row = confusion_matrix[label, :]\n",
    "    return confusion_matrix[label, label] / row.sum()\n",
    "\n",
    "def precision_macro_average(confusion_matrix):\n",
    "    rows, columns = confusion_matrix.shape\n",
    "    sum_of_precisions = 0\n",
    "    for label in range(rows):\n",
    "        sum_of_precisions += precision(label, confusion_matrix)\n",
    "    return sum_of_precisions / rows\n",
    "\n",
    "def recall_macro_average(confusion_matrix):\n",
    "    rows, columns = confusion_matrix.shape\n",
    "    sum_of_recalls = 0\n",
    "    for label in range(columns):\n",
    "        sum_of_recalls += recall(label, confusion_matrix)\n",
    "    return sum_of_recalls / columns\n",
    "\n",
    "def accuracy(confusion_matrix):\n",
    "    diagonal_sum = confusion_matrix.trace()\n",
    "    sum_of_all_elements = confusion_matrix.sum()\n",
    "    return diagonal_sum / sum_of_all_elements "
   ]
  },
  {
   "cell_type": "markdown",
   "metadata": {},
   "source": [
    "### CONFUSION MATRIX TEST"
   ]
  },
  {
   "cell_type": "code",
   "execution_count": 65,
   "metadata": {
    "colab": {},
    "colab_type": "code",
    "id": "NOvVxqGhoBMG",
    "outputId": "7b1cabe0-9caa-4e51-ad2e-19ddb4f6aa50"
   },
   "outputs": [
    {
     "name": "stdout",
     "output_type": "stream",
     "text": [
      "(829, 24, 42)\n",
      "(829, 3)\n",
      "(829, 3)\n"
     ]
    }
   ],
   "source": [
    "#TEST\n",
    "y_test_pred = model.predict(X_test_np)\n",
    "print(X_test_np.shape)\n",
    "\n",
    "print(y_test_pred.shape)\n",
    "print(y_test_np.shape)"
   ]
  },
  {
   "cell_type": "code",
   "execution_count": 66,
   "metadata": {},
   "outputs": [
    {
     "name": "stdout",
     "output_type": "stream",
     "text": [
      "[0.16041471 0.537444   0.30214128]\n",
      "[[0. 1. 0.]\n",
      " [0. 1. 0.]\n",
      " [0. 0. 1.]\n",
      " [0. 0. 1.]]\n"
     ]
    }
   ],
   "source": [
    "ID = 4\n",
    "print(y_test_pred[ID])\n",
    "print(y_test_np[:ID])"
   ]
  },
  {
   "cell_type": "code",
   "execution_count": 67,
   "metadata": {},
   "outputs": [
    {
     "name": "stdout",
     "output_type": "stream",
     "text": [
      "[ 1.  1.  1.  0.  0.  0.  0.  1.  1. -1. -1.  1.  0. -1.  1.  1.  1. -1.\n",
      "  0.  1.  0.  1.  1.  0.  0.  1.  1.  1.  1. -1.  0. -1.  0.  1.  1.  0.\n",
      "  0. -1. -1.  1.  0.  0.  0.  0.  0.  0. -1. -1.  0. -1.  1.  1.  1.  1.\n",
      "  0.  1.  1.  0. -1. -1.  0.  0. -1. -1. -1.  1.  0. -1. -1. -1. -1. -1.\n",
      " -1. -1. -1.  1.  1. -1. -1. -1. -1.  1.  0.  0.  0.  0.  0.  0. -1.  0.\n",
      "  0.  1.  1.  1.  1.  0. -1.  1.  1.  1.  1.  0. -1.  1.  1. -1.  1.  0.\n",
      "  1.  1.  1. -1. -1.  0. -1. -1. -1.  1.  1.  0.  1.  1.  1.  1.  1.  0.\n",
      " -1. -1. -1. -1.  1.  0. -1.  1.  1.  1.  1.  0.  1.  1.  1.  1.  0.  0.\n",
      " -1.  1. -1.  1.  1.  0. -1.  1.  1.  1.  0.  0.  1.  0.  0. -1. -1.  0.\n",
      " -1.  1. -1.  1.  1.  0.  1.  1.  1.  1.  0.  0.  1.  0.  0.  1. -1.  0.\n",
      "  1. -1. -1. -1. -1.  0.  1.  1. -1.  1. -1.  0.  1. -1. -1.  0. -1.  0.\n",
      "  1. -1. -1. -1. -1.  0. -1. -1. -1.  0.  0.  0.  1. -1. -1.  1.  0.  0.\n",
      "  1.  0. -1.  0. -1.  0. -1. -1. -1.  1. -1.  0.  0.  0.  1.  0.  0.  0.\n",
      " -1. -1. -1.  1.  1.  0. -1.  1.  0.  0.  0.  0.  0.  1. -1. -1. -1.  0.\n",
      " -1.  1.  1.  1.  0.  0.  0.  0.  0.  0.  0.  0.  0. -1. -1.  1. -1.  0.\n",
      " -1.  1.  1.  1.  0.  0. -1.  1.  1.  1.  0.  0.  1.  1.  0.  0.  0.  0.\n",
      "  1.  0.  0.  1. -1.  0. -1.  1. -1. -1. -1.  0. -1.  1. -1. -1. -1.  0.\n",
      "  0.  1.  0.  1.  0.  0.  1.  0. -1. -1. -1.  0. -1. -1. -1. -1.  1.  0.\n",
      "  0.  0.  0.  0.  0.  0.  0.  0.  0. -1. -1.  0.  0. -1. -1.  1. -1.  0.\n",
      "  1.  1.  1. -1.  0.  0.  0.  0.  1.  0.  0.  0.  0. -1.  1.  1. -1.  0.\n",
      "  1.  1.  1.  1. -1. -1. -1. -1.  1.  1.  1.  0.  0.  1.  1.  0.  0.  0.\n",
      " -1.  1.  1.  1. -1.  0. -1.  1.  1.  1.  1.  0.  0. -1.  0.  0.  0.  0.\n",
      "  1.  1.  1.  1.  1.  0. -1.  1.  1.  1.  0.  0.  1.  1. -1. -1. -1.  0.\n",
      " -1.  1.  1.  1.  0.  0.  0.  0.  0.  0.  0.  0. -1. -1.  1.  1.  1.  0.\n",
      "  1.  1.  1.  1.  0.  0.  1.  1.  1.  0.  0.  0.  1.  0.  0.  0. -1.  0.\n",
      " -1.  1.  1.  1. -1.  0.  1.  1.  1.  1. -1.  0.  0.  1.  0.  0.  0.  0.\n",
      "  0.  1.  1.  1. -1. -1. -1. -1.  1.  1.  1.  0.  1.  1.  1. -1. -1.  0.\n",
      "  1.  1.  1.  1. -1.  0.  1.  1.  1.  1.  0.  0.  0.  1.  1.  1. -1.  0.\n",
      "  0.  1.  1.  1.  0.  0.  0.  1.  1.  1. -1.  0. -1. -1.  1.  1.  0.  0.\n",
      " -1. -1.  1.  1.  0.  0.  1.  1.  0.  1. -1.  0. -1.  1. -1.  0. -1.  0.\n",
      " -1. -1.  1.  1.  1.  0.  1.  1.  0.  1. -1.  0. -1. -1. -1. -1. -1.  0.\n",
      " -1.  1.  1.  1. -1.  0.  1.  1.  1.  1. -1.  0.  0.  0.  1.  1. -1.  0.\n",
      "  1.  1.  1.  1.  0.  0.  0.  0.  0.  1. -1.  0.  1. -1.  1.  1.  1. -1.\n",
      " -1. -1.  1.  1.  1.  0.  1.  1.  1. -1. -1. -1. -1. -1.  1.  1.  1.  0.\n",
      "  0.  1.  0.  1.  0.  0.  1.  1.  1.  1. -1.  0. -1.  1.  0.  1. -1.  0.\n",
      " -1.  1.  1.  1.  1.  0. -1.  1.  1.  1.  1.  0.  1.  1.  1.  1.  0.  0.\n",
      "  1.  1. -1. -1. -1.  0.  0. -1.  0.  0.  0.  0.  1.  1.  1. -1. -1. -1.\n",
      " -1.  1.  1.  1. -1.  0.  1.  1.  1. -1. -1.  0.  1.  1.  1.  1. -1.  0.\n",
      " -1.  1.  1.  1. -1.  0.  0.  1.  0.  1.  0.  0. -1.  1. -1. -1. -1. -1.\n",
      " -1. -1.  1.  1.  1.  0.  1.  0.  0. -1. -1.  0.  1.  1.  1.  1. -1.  0.\n",
      "  1.  1.  1.  1. -1.  0.  0.  1.  0.  0. -1.  0.  0.  1.  1.  1.  0.  0.\n",
      "  1.  1.  0.  1. -1.  0.  0. -1.  0.  1. -1.  0. -1.  1.  1. -1. -1. -1.\n",
      "  0. -1.  1.  1.  1.  0.  1.  1.  1.  1.  1. -1.  1.  1.  1.  1. -1.  0.\n",
      " -1.  0.  0.  0.  0.  0. -1.  1.  1.  1.  1. -1. -1.  0.  0.  1.  1.  0.\n",
      "  1.  1.  1.  1.  0.  0.  1.  1.  1.  1.  0.  0. -1.  1.  1.  1. -1.  0.\n",
      "  0.  1.  1. -1. -1.  0.  0.  1.  1. -1. -1.  0.  1.  1.  1.  1. -1.  0.\n",
      " -1.]\n",
      "(829,)\n",
      "[ 0.  0.  1.  1. -1.  0.  0. -1. -1.  1.  1. -1. -1.  0.  0.  1. -1. -1.\n",
      "  0.  1.  0. -1.  1. -1.  0.  0.  0.  0.  1.  1.  0.  0.  1.  0.  0.  0.\n",
      " -1.  0.  0.  1.  1.  1.  0. -1. -1.  0.  1.  0. -1.  0. -1. -1. -1.  0.\n",
      "  0.  0. -1.  1. -1. -1.  0.  1.  1.  1. -1.  0.  0.  0.  0.  1.  1.  1.\n",
      "  0.  1. -1.  1. -1.  0. -1. -1.  1.  1.  1.  0.  1.  0. -1.  1.  0.  1.\n",
      "  0.  1.  1.  0.  1.  0. -1.  1.  0.  1. -1.  0. -1.  0. -1.  0.  0.  0.\n",
      "  1.  1.  1.  1. -1.  0.  0. -1. -1.  1. -1.  0.  1. -1. -1.  1.  1.  0.\n",
      "  1.  1.  0. -1.  0.  0.  1.  1.  0. -1.  0.  0.  1. -1.  1. -1.  1.  0.\n",
      "  1. -1. -1.  0.  1.  0. -1.  0.  0. -1.  1.  0.  1.  1.  0. -1.  0.  0.\n",
      "  1.  0.  0. -1. -1.  0. -1.  1. -1. -1.  1.  0. -1. -1. -1.  1. -1.  0.\n",
      " -1. -1. -1.  1.  1.  0. -1. -1.  0. -1.  0.  0.  1.  0. -1.  0. -1.  1.\n",
      " -1. -1.  1.  1. -1.  0.  1.  1.  1.  0. -1.  0.  0. -1.  1. -1.  1.  0.\n",
      "  1. -1.  0.  1.  1.  0.  1. -1. -1.  0.  1.  0. -1.  0.  0.  1.  1.  0.\n",
      "  0. -1. -1.  0.  1.  0.  1. -1.  0.  0.  1.  1. -1.  0.  1. -1.  0.  0.\n",
      "  1. -1. -1. -1.  0.  0.  0.  1.  0. -1. -1. -1.  0. -1.  0.  1.  1.  0.\n",
      "  1.  1.  0. -1.  1.  1.  1.  0.  0. -1. -1.  0.  0. -1.  1.  0. -1.  0.\n",
      "  1.  0.  1.  1. -1.  0.  1.  0.  0.  1. -1.  0.  0.  0.  0. -1. -1.  0.\n",
      " -1. -1. -1.  1.  0.  0. -1.  0.  1.  1. -1.  0.  1.  0. -1. -1.  1.  0.\n",
      " -1.  0. -1. -1.  1.  0. -1. -1. -1.  1.  0.  0.  0.  1.  0. -1. -1.  0.\n",
      " -1.  1.  0.  0.  1.  0.  1. -1.  0.  0. -1.  0.  0. -1.  1.  1. -1.  1.\n",
      "  0.  0.  0.  1.  0.  1. -1. -1.  1.  0. -1.  0.  1.  1.  0.  1. -1.  0.\n",
      "  1.  0. -1.  1.  0.  0.  1.  0. -1.  1.  0.  0.  1. -1.  1. -1. -1.  0.\n",
      "  0. -1.  0.  0. -1.  0.  0.  0.  1. -1.  1.  0.  0.  0.  1. -1.  0.  0.\n",
      " -1. -1. -1. -1.  0.  0. -1.  1. -1.  1.  0.  0.  0.  1.  0.  0.  0.  0.\n",
      "  1.  1.  0.  0.  0.  0. -1. -1.  0. -1.  1.  0.  1.  1.  1. -1.  1.  0.\n",
      "  0.  1.  1. -1. -1.  0.  1. -1. -1. -1.  0.  0. -1.  0.  1. -1.  0.  0.\n",
      "  1.  0.  0.  0.  1.  0.  0. -1.  0. -1.  0.  0.  0. -1. -1. -1.  0.  0.\n",
      "  1.  1.  0. -1.  1. -1.  0.  0.  0.  1.  1.  0.  0. -1.  0. -1.  0.  0.\n",
      "  0.  0.  0.  1.  1.  0.  0. -1. -1.  0.  1.  0.  1.  0. -1.  1.  1.  0.\n",
      "  0.  0. -1.  0. -1.  0.  0. -1.  1.  1.  1.  0.  0. -1.  0.  0.  0.  0.\n",
      " -1.  0.  0.  0. -1.  0.  0.  0.  1.  0.  1.  0.  0. -1.  0.  1. -1.  0.\n",
      "  0. -1.  0.  0.  0.  0.  0.  0. -1.  0.  1.  0.  1. -1.  0. -1.  0.  0.\n",
      "  0. -1. -1. -1. -1.  0.  0.  0.  0.  0.  1.  0. -1.  0.  0. -1. -1.  0.\n",
      " -1.  0.  1.  0.  0.  0.  1.  0. -1.  1.  1.  0. -1.  1. -1.  0. -1.  0.\n",
      " -1.  1. -1. -1.  1.  0. -1.  1.  1.  0.  0.  0.  0.  0.  1.  1.  1.  0.\n",
      "  0.  0.  1.  1.  1.  0.  0. -1.  0. -1. -1.  0.  0.  0.  1.  0.  0.  0.\n",
      " -1. -1.  0. -1. -1.  0.  0. -1.  0.  0.  1.  0.  1.  0.  0.  0. -1.  0.\n",
      "  0.  0. -1.  0.  0.  0.  1.  0.  0.  1. -1.  0.  0.  1.  1.  1. -1.  0.\n",
      "  0.  0. -1.  0. -1.  0.  0.  0.  0.  0.  1.  0.  1.  0.  0. -1.  0.  0.\n",
      "  1. -1. -1.  0.  0.  0.  1.  0.  1.  0. -1.  0.  0.  0.  0. -1. -1.  0.\n",
      "  0.  0.  0.  0.  1.  0. -1. -1. -1. -1. -1.  0. -1.  0. -1. -1.  0.  0.\n",
      "  0. -1.  0. -1.  1.  0.  0.  1.  0.  1.  1.  1.  1.  1. -1.  1.  1.  1.\n",
      "  0. -1. -1. -1. -1.  1.  0. -1. -1. -1.  1.  0.  1.  1.  1.  1.  1.  0.\n",
      " -1.  0. -1. -1. -1.  0.  0.  1. -1.  1.  1.  0.  0.  1. -1. -1.  1.  0.\n",
      "  0.  0. -1. -1.  1.  0.  0.  0.  1.  1.  1. -1. -1. -1. -1.  1.  0.  0.\n",
      " -1.  1. -1.  0.  0.  0.  1.  0.  1. -1. -1.  0.  0.  1.  1.  1.  1.  0.\n",
      "  0.]\n",
      "(829,)\n"
     ]
    }
   ],
   "source": [
    "uniques_y_test_pred = uniques[y_test_pred.argmax(1)]\n",
    "uniques_y_test_np = uniques[y_test_np.argmax(1)]\n",
    "print(uniques_y_test_pred)\n",
    "print(uniques_y_test_pred.shape)\n",
    "print(uniques_y_test_np)\n",
    "print(uniques_y_test_np.shape)"
   ]
  },
  {
   "cell_type": "code",
   "execution_count": 68,
   "metadata": {},
   "outputs": [
    {
     "name": "stdout",
     "output_type": "stream",
     "text": [
      "[-1.  0.  1.]\n"
     ]
    }
   ],
   "source": [
    "print(uniques)"
   ]
  },
  {
   "cell_type": "code",
   "execution_count": 69,
   "metadata": {},
   "outputs": [
    {
     "data": {
      "text/plain": [
       "array([[ 70,  54, 113],\n",
       "       [ 79, 162, 127],\n",
       "       [ 73,  59,  92]], dtype=int64)"
      ]
     },
     "execution_count": 69,
     "metadata": {},
     "output_type": "execute_result"
    }
   ],
   "source": [
    "conf_matrix_test = confusion_matrix(uniques_y_test_np, uniques_y_test_pred)\n",
    "conf_matrix_test"
   ]
  },
  {
   "cell_type": "code",
   "execution_count": 70,
   "metadata": {},
   "outputs": [
    {
     "name": "stdout",
     "output_type": "stream",
     "text": [
      "indx Value Precision Recall\n",
      "0\n",
      "   -1        0.315     0.295\n",
      "1\n",
      "    0        0.589     0.440\n",
      "2\n",
      "    1        0.277     0.411\n"
     ]
    }
   ],
   "source": [
    "print(\"indx Value Precision Recall\")\n",
    "for label in uniques:\n",
    "    indx = int(np.where(uniques == label)[0])\n",
    "    print (indx)\n",
    "    print(f\"{int(label):5d}    {precision(indx, conf_matrix_test):9.3f}    {recall(indx, conf_matrix_test):6.3f}\")"
   ]
  },
  {
   "cell_type": "code",
   "execution_count": 71,
   "metadata": {},
   "outputs": [
    {
     "name": "stdout",
     "output_type": "stream",
     "text": [
      "precision total: 0.39383821938038804\n",
      "recall total: 0.3820967756025544\n"
     ]
    }
   ],
   "source": [
    "print(\"precision total:\", precision_macro_average(conf_matrix_test))\n",
    "print(\"recall total:\", recall_macro_average(conf_matrix_test))"
   ]
  },
  {
   "cell_type": "code",
   "execution_count": 72,
   "metadata": {},
   "outputs": [
    {
     "data": {
      "text/plain": [
       "0.390832328106152"
      ]
     },
     "execution_count": 72,
     "metadata": {},
     "output_type": "execute_result"
    }
   ],
   "source": [
    "accuracy(conf_matrix_test)"
   ]
  },
  {
   "cell_type": "markdown",
   "metadata": {},
   "source": [
    "### CONFUSION MATRIX TRAIN"
   ]
  },
  {
   "cell_type": "code",
   "execution_count": 73,
   "metadata": {},
   "outputs": [
    {
     "name": "stdout",
     "output_type": "stream",
     "text": [
      "(3572, 24, 42)\n",
      "(3572, 3)\n",
      "(3572, 3)\n"
     ]
    }
   ],
   "source": [
    "#TRAIN\n",
    "y_train_pred = model.predict(X_train_np)\n",
    "print(X_train_np.shape)\n",
    "\n",
    "print(y_train_pred.shape)\n",
    "print(y_train_np.shape)"
   ]
  },
  {
   "cell_type": "code",
   "execution_count": 74,
   "metadata": {},
   "outputs": [
    {
     "name": "stdout",
     "output_type": "stream",
     "text": [
      "[[0.08204588 0.8460322  0.07192192]\n",
      " [0.5730881  0.24104972 0.18586214]\n",
      " [0.5799338  0.04019433 0.37987185]\n",
      " [0.23648249 0.45141447 0.31210303]]\n",
      "[[1. 0. 0.]\n",
      " [0. 1. 0.]\n",
      " [0. 0. 1.]\n",
      " [1. 0. 0.]]\n"
     ]
    }
   ],
   "source": [
    "ID = 4\n",
    "print(y_train_pred[:ID])\n",
    "print(y_train_np[:ID])"
   ]
  },
  {
   "cell_type": "code",
   "execution_count": 75,
   "metadata": {},
   "outputs": [
    {
     "name": "stdout",
     "output_type": "stream",
     "text": [
      "[ 0. -1. -1. ... -1. -1. -1.]\n",
      "(3572,)\n",
      "[-1.  0.  1. ... -1. -1. -1.]\n",
      "(3572,)\n"
     ]
    }
   ],
   "source": [
    "uniques_y_train_pred = uniques[y_train_pred.argmax(1)]\n",
    "uniques_y_train_np = uniques[y_train_np.argmax(1)]\n",
    "print(uniques_y_train_pred)\n",
    "print(uniques_y_train_pred.shape)\n",
    "print(uniques_y_train_np)\n",
    "print(uniques_y_train_np.shape)"
   ]
  },
  {
   "cell_type": "code",
   "execution_count": 76,
   "metadata": {},
   "outputs": [
    {
     "name": "stdout",
     "output_type": "stream",
     "text": [
      "[-1.  0.  1.]\n"
     ]
    }
   ],
   "source": [
    "print(uniques)"
   ]
  },
  {
   "cell_type": "code",
   "execution_count": 77,
   "metadata": {},
   "outputs": [
    {
     "data": {
      "text/plain": [
       "array([[543, 214, 459],\n",
       "       [150, 669, 282],\n",
       "       [260, 206, 789]], dtype=int64)"
      ]
     },
     "execution_count": 77,
     "metadata": {},
     "output_type": "execute_result"
    }
   ],
   "source": [
    "conf_matrix_train = confusion_matrix(uniques_y_train_np, uniques_y_train_pred)\n",
    "conf_matrix_train"
   ]
  },
  {
   "cell_type": "code",
   "execution_count": 78,
   "metadata": {},
   "outputs": [
    {
     "name": "stdout",
     "output_type": "stream",
     "text": [
      "indx Value Precision Recall\n",
      "0\n",
      "   -1        0.570     0.447\n",
      "1\n",
      "    0        0.614     0.608\n",
      "2\n",
      "    1        0.516     0.629\n"
     ]
    }
   ],
   "source": [
    "print(\"indx Value Precision Recall\")\n",
    "for label in uniques:\n",
    "    indx = int(np.where(uniques == label)[0])\n",
    "    print (indx)\n",
    "    print(f\"{int(label):5d}    {precision(indx, conf_matrix_train):9.3f}    {recall(indx, conf_matrix_train):6.3f}\")"
   ]
  },
  {
   "cell_type": "code",
   "execution_count": 79,
   "metadata": {},
   "outputs": [
    {
     "name": "stdout",
     "output_type": "stream",
     "text": [
      "precision total: 0.5665969955374089\n",
      "recall total: 0.5609535797962126\n"
     ]
    }
   ],
   "source": [
    "print(\"precision total:\", precision_macro_average(conf_matrix_train))\n",
    "print(\"recall total:\", recall_macro_average(conf_matrix_train))"
   ]
  },
  {
   "cell_type": "code",
   "execution_count": 80,
   "metadata": {},
   "outputs": [
    {
     "data": {
      "text/plain": [
       "0.5601903695408734"
      ]
     },
     "execution_count": 80,
     "metadata": {},
     "output_type": "execute_result"
    }
   ],
   "source": [
    "accuracy(conf_matrix_train)"
   ]
  },
  {
   "cell_type": "markdown",
   "metadata": {},
   "source": [
    "### TEST RESULTS TO CSV"
   ]
  },
  {
   "cell_type": "code",
   "execution_count": 81,
   "metadata": {},
   "outputs": [
    {
     "name": "stdout",
     "output_type": "stream",
     "text": [
      "data_test.shape:  (829, 42)\n"
     ]
    }
   ],
   "source": [
    "print(\"data_test.shape: \", data_test.shape)\n"
   ]
  },
  {
   "cell_type": "code",
   "execution_count": 82,
   "metadata": {},
   "outputs": [
    {
     "name": "stdout",
     "output_type": "stream",
     "text": [
      "        Open     High      Low    Close       Volume\n",
      "0    1.17145  1.17390  1.16697  1.17336  209621.9375\n",
      "1    1.17319  1.17438  1.17308  1.17427    8920.6504\n",
      "2    1.17427  1.17562  1.17198  1.17414  152661.7344\n",
      "3    1.17412  1.18259  1.17408  1.18138  214738.0938\n",
      "4    1.18135  1.18694  1.17955  1.18644  216994.3750\n",
      "..       ...      ...      ...      ...          ...\n",
      "824  1.09019  1.09960  1.08970  1.09787  221915.4388\n",
      "825  1.09788  1.10311  1.09342  1.10169  339215.8879\n",
      "826  1.10168  1.10937  1.09919  1.10782  290715.4826\n",
      "827  1.10780  1.11452  1.10702  1.11071  330692.3901\n",
      "828  1.11213  1.11217  1.11028  1.11158   10126.4174\n",
      "\n",
      "[829 rows x 5 columns]\n"
     ]
    }
   ],
   "source": [
    "data_test_res = data_test\n",
    "data_test_res.reset_index(drop=True, inplace=True)\n",
    "results_data_test = pd.DataFrame(data_test_res['Open'])\n",
    "results_data_test['High'] = data_test_res['High']\n",
    "results_data_test['Low'] = data_test_res['Low']\n",
    "results_data_test['Close'] = data_test_res['Close']\n",
    "results_data_test['Volume'] = data_test_res['Volume']\n",
    "print(results_data_test)"
   ]
  },
  {
   "cell_type": "code",
   "execution_count": 83,
   "metadata": {},
   "outputs": [
    {
     "data": {
      "text/plain": [
       "array([ 1.,  1.,  1.,  0.,  0.,  0.,  0.,  1.,  1., -1., -1.,  1.,  0.,\n",
       "       -1.,  1.,  1.,  1., -1.,  0.,  1.,  0.,  1.,  1.,  0.,  0.,  1.,\n",
       "        1.,  1.,  1., -1.,  0., -1.,  0.,  1.,  1.,  0.,  0., -1., -1.,\n",
       "        1.,  0.,  0.,  0.,  0.,  0.,  0., -1., -1.,  0., -1.,  1.,  1.,\n",
       "        1.,  1.,  0.,  1.,  1.,  0., -1., -1.,  0.,  0., -1., -1., -1.,\n",
       "        1.,  0., -1., -1., -1., -1., -1., -1., -1., -1.,  1.,  1., -1.,\n",
       "       -1., -1., -1.,  1.,  0.,  0.,  0.,  0.,  0.,  0., -1.,  0.,  0.,\n",
       "        1.,  1.,  1.,  1.,  0., -1.,  1.,  1.,  1.,  1.,  0., -1.,  1.,\n",
       "        1., -1.,  1.,  0.,  1.,  1.,  1., -1., -1.,  0., -1., -1., -1.,\n",
       "        1.,  1.,  0.,  1.,  1.,  1.,  1.,  1.,  0., -1., -1., -1., -1.,\n",
       "        1.,  0., -1.,  1.,  1.,  1.,  1.,  0.,  1.,  1.,  1.,  1.,  0.,\n",
       "        0., -1.,  1., -1.,  1.,  1.,  0., -1.,  1.,  1.,  1.,  0.,  0.,\n",
       "        1.,  0.,  0., -1., -1.,  0., -1.,  1., -1.,  1.,  1.,  0.,  1.,\n",
       "        1.,  1.,  1.,  0.,  0.,  1.,  0.,  0.,  1., -1.,  0.,  1., -1.,\n",
       "       -1., -1., -1.,  0.,  1.,  1., -1.,  1., -1.,  0.,  1., -1., -1.,\n",
       "        0., -1.,  0.,  1., -1., -1., -1., -1.,  0., -1., -1., -1.,  0.,\n",
       "        0.,  0.,  1., -1., -1.,  1.,  0.,  0.,  1.,  0., -1.,  0., -1.,\n",
       "        0., -1., -1., -1.,  1., -1.,  0.,  0.,  0.,  1.,  0.,  0.,  0.,\n",
       "       -1., -1., -1.,  1.,  1.,  0., -1.,  1.,  0.,  0.,  0.,  0.,  0.,\n",
       "        1., -1., -1., -1.,  0., -1.,  1.,  1.,  1.,  0.,  0.,  0.,  0.,\n",
       "        0.,  0.,  0.,  0.,  0., -1., -1.,  1., -1.,  0., -1.,  1.,  1.,\n",
       "        1.,  0.,  0., -1.,  1.,  1.,  1.,  0.,  0.,  1.,  1.,  0.,  0.,\n",
       "        0.,  0.,  1.,  0.,  0.,  1., -1.,  0., -1.,  1., -1., -1., -1.,\n",
       "        0., -1.,  1., -1., -1., -1.,  0.,  0.,  1.,  0.,  1.,  0.,  0.,\n",
       "        1.,  0., -1., -1., -1.,  0., -1., -1., -1., -1.,  1.,  0.,  0.,\n",
       "        0.,  0.,  0.,  0.,  0.,  0.,  0.,  0., -1., -1.,  0.,  0., -1.,\n",
       "       -1.,  1., -1.,  0.,  1.,  1.,  1., -1.,  0.,  0.,  0.,  0.,  1.,\n",
       "        0.,  0.,  0.,  0., -1.,  1.,  1., -1.,  0.,  1.,  1.,  1.,  1.,\n",
       "       -1., -1., -1., -1.,  1.,  1.,  1.,  0.,  0.,  1.,  1.,  0.,  0.,\n",
       "        0., -1.,  1.,  1.,  1., -1.,  0., -1.,  1.,  1.,  1.,  1.,  0.,\n",
       "        0., -1.,  0.,  0.,  0.,  0.,  1.,  1.,  1.,  1.,  1.,  0., -1.,\n",
       "        1.,  1.,  1.,  0.,  0.,  1.,  1., -1., -1., -1.,  0., -1.,  1.,\n",
       "        1.,  1.,  0.,  0.,  0.,  0.,  0.,  0.,  0.,  0., -1., -1.,  1.,\n",
       "        1.,  1.,  0.,  1.,  1.,  1.,  1.,  0.,  0.,  1.,  1.,  1.,  0.,\n",
       "        0.,  0.,  1.,  0.,  0.,  0., -1.,  0., -1.,  1.,  1.,  1., -1.,\n",
       "        0.,  1.,  1.,  1.,  1., -1.,  0.,  0.,  1.,  0.,  0.,  0.,  0.,\n",
       "        0.,  1.,  1.,  1., -1., -1., -1., -1.,  1.,  1.,  1.,  0.,  1.,\n",
       "        1.,  1., -1., -1.,  0.,  1.,  1.,  1.,  1., -1.,  0.,  1.,  1.,\n",
       "        1.,  1.,  0.,  0.,  0.,  1.,  1.,  1., -1.,  0.,  0.,  1.,  1.,\n",
       "        1.,  0.,  0.,  0.,  1.,  1.,  1., -1.,  0., -1., -1.,  1.,  1.,\n",
       "        0.,  0., -1., -1.,  1.,  1.,  0.,  0.,  1.,  1.,  0.,  1., -1.,\n",
       "        0., -1.,  1., -1.,  0., -1.,  0., -1., -1.,  1.,  1.,  1.,  0.,\n",
       "        1.,  1.,  0.,  1., -1.,  0., -1., -1., -1., -1., -1.,  0., -1.,\n",
       "        1.,  1.,  1., -1.,  0.,  1.,  1.,  1.,  1., -1.,  0.,  0.,  0.,\n",
       "        1.,  1., -1.,  0.,  1.,  1.,  1.,  1.,  0.,  0.,  0.,  0.,  0.,\n",
       "        1., -1.,  0.,  1., -1.,  1.,  1.,  1., -1., -1., -1.,  1.,  1.,\n",
       "        1.,  0.,  1.,  1.,  1., -1., -1., -1., -1., -1.,  1.,  1.,  1.,\n",
       "        0.,  0.,  1.,  0.,  1.,  0.,  0.,  1.,  1.,  1.,  1., -1.,  0.,\n",
       "       -1.,  1.,  0.,  1., -1.,  0., -1.,  1.,  1.,  1.,  1.,  0., -1.,\n",
       "        1.,  1.,  1.,  1.,  0.,  1.,  1.,  1.,  1.,  0.,  0.,  1.,  1.,\n",
       "       -1., -1., -1.,  0.,  0., -1.,  0.,  0.,  0.,  0.,  1.,  1.,  1.,\n",
       "       -1., -1., -1., -1.,  1.,  1.,  1., -1.,  0.,  1.,  1.,  1., -1.,\n",
       "       -1.,  0.,  1.,  1.,  1.,  1., -1.,  0., -1.,  1.,  1.,  1., -1.,\n",
       "        0.,  0.,  1.,  0.,  1.,  0.,  0., -1.,  1., -1., -1., -1., -1.,\n",
       "       -1., -1.,  1.,  1.,  1.,  0.,  1.,  0.,  0., -1., -1.,  0.,  1.,\n",
       "        1.,  1.,  1., -1.,  0.,  1.,  1.,  1.,  1., -1.,  0.,  0.,  1.,\n",
       "        0.,  0., -1.,  0.,  0.,  1.,  1.,  1.,  0.,  0.,  1.,  1.,  0.,\n",
       "        1., -1.,  0.,  0., -1.,  0.,  1., -1.,  0., -1.,  1.,  1., -1.,\n",
       "       -1., -1.,  0., -1.,  1.,  1.,  1.,  0.,  1.,  1.,  1.,  1.,  1.,\n",
       "       -1.,  1.,  1.,  1.,  1., -1.,  0., -1.,  0.,  0.,  0.,  0.,  0.,\n",
       "       -1.,  1.,  1.,  1.,  1., -1., -1.,  0.,  0.,  1.,  1.,  0.,  1.,\n",
       "        1.,  1.,  1.,  0.,  0.,  1.,  1.,  1.,  1.,  0.,  0., -1.,  1.,\n",
       "        1.,  1., -1.,  0.,  0.,  1.,  1., -1., -1.,  0.,  0.,  1.,  1.,\n",
       "       -1., -1.,  0.,  1.,  1.,  1.,  1., -1.,  0., -1.])"
      ]
     },
     "execution_count": 83,
     "metadata": {},
     "output_type": "execute_result"
    }
   ],
   "source": [
    "uniques_y_test_pred[:]"
   ]
  },
  {
   "cell_type": "code",
   "execution_count": 84,
   "metadata": {},
   "outputs": [
    {
     "name": "stdout",
     "output_type": "stream",
     "text": [
      "     Real_Class\n",
      "0           1.0\n",
      "1           1.0\n",
      "2           1.0\n",
      "3           0.0\n",
      "4           0.0\n",
      "..          ...\n",
      "824         1.0\n",
      "825         1.0\n",
      "826        -1.0\n",
      "827         0.0\n",
      "828        -1.0\n",
      "\n",
      "[829 rows x 1 columns]\n"
     ]
    }
   ],
   "source": [
    "\n",
    "uniques_y_test_pred_pd = pd.DataFrame({'Real_Class': uniques_y_test_pred[:]})\n",
    "print(uniques_y_test_pred_pd)"
   ]
  },
  {
   "cell_type": "code",
   "execution_count": 85,
   "metadata": {},
   "outputs": [],
   "source": [
    "results_data_test['Real_Class'] = uniques_y_test_np\n",
    "results_data_test['Predicted_Class'] = uniques_y_test_pred_pd"
   ]
  },
  {
   "cell_type": "code",
   "execution_count": 86,
   "metadata": {},
   "outputs": [
    {
     "data": {
      "text/html": [
       "<div>\n",
       "<style scoped>\n",
       "    .dataframe tbody tr th:only-of-type {\n",
       "        vertical-align: middle;\n",
       "    }\n",
       "\n",
       "    .dataframe tbody tr th {\n",
       "        vertical-align: top;\n",
       "    }\n",
       "\n",
       "    .dataframe thead th {\n",
       "        text-align: right;\n",
       "    }\n",
       "</style>\n",
       "<table border=\"1\" class=\"dataframe\">\n",
       "  <thead>\n",
       "    <tr style=\"text-align: right;\">\n",
       "      <th></th>\n",
       "      <th>Open</th>\n",
       "      <th>High</th>\n",
       "      <th>Low</th>\n",
       "      <th>Close</th>\n",
       "      <th>Volume</th>\n",
       "      <th>Real_Class</th>\n",
       "      <th>Predicted_Class</th>\n",
       "    </tr>\n",
       "  </thead>\n",
       "  <tbody>\n",
       "    <tr>\n",
       "      <th>0</th>\n",
       "      <td>1.17145</td>\n",
       "      <td>1.17390</td>\n",
       "      <td>1.16697</td>\n",
       "      <td>1.17336</td>\n",
       "      <td>209621.9375</td>\n",
       "      <td>0.0</td>\n",
       "      <td>1.0</td>\n",
       "    </tr>\n",
       "    <tr>\n",
       "      <th>1</th>\n",
       "      <td>1.17319</td>\n",
       "      <td>1.17438</td>\n",
       "      <td>1.17308</td>\n",
       "      <td>1.17427</td>\n",
       "      <td>8920.6504</td>\n",
       "      <td>0.0</td>\n",
       "      <td>1.0</td>\n",
       "    </tr>\n",
       "    <tr>\n",
       "      <th>2</th>\n",
       "      <td>1.17427</td>\n",
       "      <td>1.17562</td>\n",
       "      <td>1.17198</td>\n",
       "      <td>1.17414</td>\n",
       "      <td>152661.7344</td>\n",
       "      <td>1.0</td>\n",
       "      <td>1.0</td>\n",
       "    </tr>\n",
       "    <tr>\n",
       "      <th>3</th>\n",
       "      <td>1.17412</td>\n",
       "      <td>1.18259</td>\n",
       "      <td>1.17408</td>\n",
       "      <td>1.18138</td>\n",
       "      <td>214738.0938</td>\n",
       "      <td>1.0</td>\n",
       "      <td>0.0</td>\n",
       "    </tr>\n",
       "    <tr>\n",
       "      <th>4</th>\n",
       "      <td>1.18135</td>\n",
       "      <td>1.18694</td>\n",
       "      <td>1.17955</td>\n",
       "      <td>1.18644</td>\n",
       "      <td>216994.3750</td>\n",
       "      <td>-1.0</td>\n",
       "      <td>0.0</td>\n",
       "    </tr>\n",
       "    <tr>\n",
       "      <th>5</th>\n",
       "      <td>1.18641</td>\n",
       "      <td>1.18799</td>\n",
       "      <td>1.18254</td>\n",
       "      <td>1.18314</td>\n",
       "      <td>204817.6406</td>\n",
       "      <td>0.0</td>\n",
       "      <td>0.0</td>\n",
       "    </tr>\n",
       "    <tr>\n",
       "      <th>6</th>\n",
       "      <td>1.18314</td>\n",
       "      <td>1.18750</td>\n",
       "      <td>1.18055</td>\n",
       "      <td>1.18223</td>\n",
       "      <td>199182.5000</td>\n",
       "      <td>0.0</td>\n",
       "      <td>0.0</td>\n",
       "    </tr>\n",
       "    <tr>\n",
       "      <th>7</th>\n",
       "      <td>1.18150</td>\n",
       "      <td>1.18183</td>\n",
       "      <td>1.18059</td>\n",
       "      <td>1.18149</td>\n",
       "      <td>7389.2700</td>\n",
       "      <td>-1.0</td>\n",
       "      <td>1.0</td>\n",
       "    </tr>\n",
       "    <tr>\n",
       "      <th>8</th>\n",
       "      <td>1.18149</td>\n",
       "      <td>1.18199</td>\n",
       "      <td>1.17808</td>\n",
       "      <td>1.17948</td>\n",
       "      <td>187651.9063</td>\n",
       "      <td>-1.0</td>\n",
       "      <td>1.0</td>\n",
       "    </tr>\n",
       "    <tr>\n",
       "      <th>9</th>\n",
       "      <td>1.17946</td>\n",
       "      <td>1.17953</td>\n",
       "      <td>1.17362</td>\n",
       "      <td>1.17716</td>\n",
       "      <td>192445.1250</td>\n",
       "      <td>1.0</td>\n",
       "      <td>-1.0</td>\n",
       "    </tr>\n",
       "  </tbody>\n",
       "</table>\n",
       "</div>"
      ],
      "text/plain": [
       "      Open     High      Low    Close       Volume  Real_Class  \\\n",
       "0  1.17145  1.17390  1.16697  1.17336  209621.9375         0.0   \n",
       "1  1.17319  1.17438  1.17308  1.17427    8920.6504         0.0   \n",
       "2  1.17427  1.17562  1.17198  1.17414  152661.7344         1.0   \n",
       "3  1.17412  1.18259  1.17408  1.18138  214738.0938         1.0   \n",
       "4  1.18135  1.18694  1.17955  1.18644  216994.3750        -1.0   \n",
       "5  1.18641  1.18799  1.18254  1.18314  204817.6406         0.0   \n",
       "6  1.18314  1.18750  1.18055  1.18223  199182.5000         0.0   \n",
       "7  1.18150  1.18183  1.18059  1.18149    7389.2700        -1.0   \n",
       "8  1.18149  1.18199  1.17808  1.17948  187651.9063        -1.0   \n",
       "9  1.17946  1.17953  1.17362  1.17716  192445.1250         1.0   \n",
       "\n",
       "   Predicted_Class  \n",
       "0              1.0  \n",
       "1              1.0  \n",
       "2              1.0  \n",
       "3              0.0  \n",
       "4              0.0  \n",
       "5              0.0  \n",
       "6              0.0  \n",
       "7              1.0  \n",
       "8              1.0  \n",
       "9             -1.0  "
      ]
     },
     "execution_count": 86,
     "metadata": {},
     "output_type": "execute_result"
    }
   ],
   "source": [
    "results_data_test.head(10)"
   ]
  },
  {
   "cell_type": "markdown",
   "metadata": {},
   "source": [
    "### Test Result Save CSV File "
   ]
  },
  {
   "cell_type": "code",
   "execution_count": 87,
   "metadata": {},
   "outputs": [
    {
     "name": "stdout",
     "output_type": "stream",
     "text": [
      "C:\\Users\\marami3\\Documents\\ITESO\\IDI4\\forex_prediction\\Jupyter Notebooks\\IDI4\\models_clasification\\../../../Results/LSTM/3C-1D-LSTM_1D_43F_Class_01_Test.csv\n"
     ]
    }
   ],
   "source": [
    "pwd = os.getcwd()\n",
    "filename_path = os.path.join(pwd, r'../../../Results/LSTM/' + FILENAME + '_Test.csv')\n",
    "print(filename_path)"
   ]
  },
  {
   "cell_type": "code",
   "execution_count": 88,
   "metadata": {},
   "outputs": [],
   "source": [
    "#SAVE\n",
    "results_data_test.to_csv(filename_path, header=True, index=False)"
   ]
  },
  {
   "cell_type": "markdown",
   "metadata": {},
   "source": [
    "### TRAIN RESULTS TO CSV"
   ]
  },
  {
   "cell_type": "code",
   "execution_count": 89,
   "metadata": {},
   "outputs": [
    {
     "name": "stdout",
     "output_type": "stream",
     "text": [
      "data_train.shape:  (3596, 42)\n"
     ]
    }
   ],
   "source": [
    "print(\"data_train.shape: \", data_training.shape)\n"
   ]
  },
  {
   "cell_type": "code",
   "execution_count": 90,
   "metadata": {},
   "outputs": [
    {
     "name": "stdout",
     "output_type": "stream",
     "text": [
      "         Open     High      Low    Close        Volume\n",
      "0     1.23655  1.23817  1.22801  1.23179  1.078729e+06\n",
      "1     1.23158  1.23241  1.22967  1.23109  8.212280e+04\n",
      "2     1.23140  1.23154  1.21310  1.21496  1.130388e+06\n",
      "3     1.21495  1.21669  1.20594  1.20711  1.123270e+06\n",
      "4     1.20718  1.21160  1.20519  1.20794  1.118725e+06\n",
      "...       ...      ...      ...      ...           ...\n",
      "3591  1.12887  1.13117  1.11607  1.12843  4.503077e+05\n",
      "3592  1.12843  1.13765  1.12742  1.13165  4.213447e+05\n",
      "3593  1.13165  1.13340  1.12142  1.12580  3.638887e+05\n",
      "3594  1.12395  1.12532  1.12160  1.12237  1.277672e+04\n",
      "3595  1.12237  1.12393  1.11282  1.11765  2.643780e+05\n",
      "\n",
      "[3596 rows x 5 columns]\n",
      "(3596, 5)\n",
      "(3572, 5)\n"
     ]
    }
   ],
   "source": [
    "data_training_res = data_training\n",
    "data_training_res.reset_index(drop=True, inplace=True)\n",
    "results_data_train = pd.DataFrame(data_training_res['Open'])\n",
    "results_data_train['High'] = data_training_res['High']\n",
    "results_data_train['Low'] = data_training_res['Low']\n",
    "results_data_train['Close'] = data_training_res['Close']\n",
    "results_data_train['Volume'] = data_training_res['Volume']\n",
    "print(results_data_train)\n",
    "print(results_data_train.shape)\n",
    "results_data_train = results_data_train.iloc[RANGE:]\n",
    "results_data_train.reset_index(drop=True, inplace=True)\n",
    "print(results_data_train.shape)"
   ]
  },
  {
   "cell_type": "code",
   "execution_count": 91,
   "metadata": {},
   "outputs": [
    {
     "name": "stdout",
     "output_type": "stream",
     "text": [
      "[ 0. -1. -1. ... -1. -1. -1.]\n",
      "(3572,)\n"
     ]
    }
   ],
   "source": [
    "print(uniques_y_train_pred[:])\n",
    "print(uniques_y_train_pred.shape)"
   ]
  },
  {
   "cell_type": "code",
   "execution_count": 92,
   "metadata": {},
   "outputs": [
    {
     "name": "stdout",
     "output_type": "stream",
     "text": [
      "      Real_Class\n",
      "0            0.0\n",
      "1           -1.0\n",
      "2           -1.0\n",
      "3            0.0\n",
      "4            0.0\n",
      "...          ...\n",
      "3567        -1.0\n",
      "3568        -1.0\n",
      "3569        -1.0\n",
      "3570        -1.0\n",
      "3571        -1.0\n",
      "\n",
      "[3572 rows x 1 columns]\n",
      "(3572, 1)\n"
     ]
    }
   ],
   "source": [
    "\n",
    "uniques_y_train_pred_pd = pd.DataFrame({'Real_Class': uniques_y_train_pred[:]})\n",
    "print(uniques_y_train_pred_pd)\n",
    "print(uniques_y_train_pred_pd.shape)\n"
   ]
  },
  {
   "cell_type": "code",
   "execution_count": 93,
   "metadata": {},
   "outputs": [],
   "source": [
    "results_data_train['Real_Class'] = uniques_y_train_np\n",
    "results_data_train['Predicted_Class'] = uniques_y_train_pred_pd"
   ]
  },
  {
   "cell_type": "code",
   "execution_count": 94,
   "metadata": {},
   "outputs": [
    {
     "data": {
      "text/html": [
       "<div>\n",
       "<style scoped>\n",
       "    .dataframe tbody tr th:only-of-type {\n",
       "        vertical-align: middle;\n",
       "    }\n",
       "\n",
       "    .dataframe tbody tr th {\n",
       "        vertical-align: top;\n",
       "    }\n",
       "\n",
       "    .dataframe thead th {\n",
       "        text-align: right;\n",
       "    }\n",
       "</style>\n",
       "<table border=\"1\" class=\"dataframe\">\n",
       "  <thead>\n",
       "    <tr style=\"text-align: right;\">\n",
       "      <th></th>\n",
       "      <th>Open</th>\n",
       "      <th>High</th>\n",
       "      <th>Low</th>\n",
       "      <th>Close</th>\n",
       "      <th>Volume</th>\n",
       "      <th>Real_Class</th>\n",
       "      <th>Predicted_Class</th>\n",
       "    </tr>\n",
       "  </thead>\n",
       "  <tbody>\n",
       "    <tr>\n",
       "      <th>0</th>\n",
       "      <td>1.21846</td>\n",
       "      <td>1.22227</td>\n",
       "      <td>1.21573</td>\n",
       "      <td>1.21868</td>\n",
       "      <td>1.061680e+06</td>\n",
       "      <td>-1.0</td>\n",
       "      <td>0.0</td>\n",
       "    </tr>\n",
       "    <tr>\n",
       "      <th>1</th>\n",
       "      <td>1.21819</td>\n",
       "      <td>1.21847</td>\n",
       "      <td>1.21594</td>\n",
       "      <td>1.21664</td>\n",
       "      <td>7.823640e+04</td>\n",
       "      <td>0.0</td>\n",
       "      <td>-1.0</td>\n",
       "    </tr>\n",
       "    <tr>\n",
       "      <th>2</th>\n",
       "      <td>1.21663</td>\n",
       "      <td>1.21796</td>\n",
       "      <td>1.21227</td>\n",
       "      <td>1.21730</td>\n",
       "      <td>1.110667e+06</td>\n",
       "      <td>1.0</td>\n",
       "      <td>-1.0</td>\n",
       "    </tr>\n",
       "    <tr>\n",
       "      <th>3</th>\n",
       "      <td>1.21715</td>\n",
       "      <td>1.23465</td>\n",
       "      <td>1.21675</td>\n",
       "      <td>1.23245</td>\n",
       "      <td>1.111821e+06</td>\n",
       "      <td>-1.0</td>\n",
       "      <td>0.0</td>\n",
       "    </tr>\n",
       "    <tr>\n",
       "      <th>4</th>\n",
       "      <td>1.23252</td>\n",
       "      <td>1.23314</td>\n",
       "      <td>1.22287</td>\n",
       "      <td>1.22667</td>\n",
       "      <td>1.113433e+06</td>\n",
       "      <td>0.0</td>\n",
       "      <td>0.0</td>\n",
       "    </tr>\n",
       "    <tr>\n",
       "      <th>5</th>\n",
       "      <td>1.22680</td>\n",
       "      <td>1.23330</td>\n",
       "      <td>1.22526</td>\n",
       "      <td>1.22766</td>\n",
       "      <td>1.113054e+06</td>\n",
       "      <td>0.0</td>\n",
       "      <td>0.0</td>\n",
       "    </tr>\n",
       "    <tr>\n",
       "      <th>6</th>\n",
       "      <td>1.22761</td>\n",
       "      <td>1.23610</td>\n",
       "      <td>1.22378</td>\n",
       "      <td>1.22740</td>\n",
       "      <td>1.067122e+06</td>\n",
       "      <td>0.0</td>\n",
       "      <td>0.0</td>\n",
       "    </tr>\n",
       "    <tr>\n",
       "      <th>7</th>\n",
       "      <td>1.22812</td>\n",
       "      <td>1.22868</td>\n",
       "      <td>1.22662</td>\n",
       "      <td>1.22761</td>\n",
       "      <td>7.687460e+04</td>\n",
       "      <td>1.0</td>\n",
       "      <td>1.0</td>\n",
       "    </tr>\n",
       "    <tr>\n",
       "      <th>8</th>\n",
       "      <td>1.22741</td>\n",
       "      <td>1.23156</td>\n",
       "      <td>1.22465</td>\n",
       "      <td>1.23009</td>\n",
       "      <td>1.119237e+06</td>\n",
       "      <td>0.0</td>\n",
       "      <td>1.0</td>\n",
       "    </tr>\n",
       "    <tr>\n",
       "      <th>9</th>\n",
       "      <td>1.23002</td>\n",
       "      <td>1.23472</td>\n",
       "      <td>1.22778</td>\n",
       "      <td>1.23138</td>\n",
       "      <td>1.117918e+06</td>\n",
       "      <td>0.0</td>\n",
       "      <td>1.0</td>\n",
       "    </tr>\n",
       "  </tbody>\n",
       "</table>\n",
       "</div>"
      ],
      "text/plain": [
       "      Open     High      Low    Close        Volume  Real_Class  \\\n",
       "0  1.21846  1.22227  1.21573  1.21868  1.061680e+06        -1.0   \n",
       "1  1.21819  1.21847  1.21594  1.21664  7.823640e+04         0.0   \n",
       "2  1.21663  1.21796  1.21227  1.21730  1.110667e+06         1.0   \n",
       "3  1.21715  1.23465  1.21675  1.23245  1.111821e+06        -1.0   \n",
       "4  1.23252  1.23314  1.22287  1.22667  1.113433e+06         0.0   \n",
       "5  1.22680  1.23330  1.22526  1.22766  1.113054e+06         0.0   \n",
       "6  1.22761  1.23610  1.22378  1.22740  1.067122e+06         0.0   \n",
       "7  1.22812  1.22868  1.22662  1.22761  7.687460e+04         1.0   \n",
       "8  1.22741  1.23156  1.22465  1.23009  1.119237e+06         0.0   \n",
       "9  1.23002  1.23472  1.22778  1.23138  1.117918e+06         0.0   \n",
       "\n",
       "   Predicted_Class  \n",
       "0              0.0  \n",
       "1             -1.0  \n",
       "2             -1.0  \n",
       "3              0.0  \n",
       "4              0.0  \n",
       "5              0.0  \n",
       "6              0.0  \n",
       "7              1.0  \n",
       "8              1.0  \n",
       "9              1.0  "
      ]
     },
     "execution_count": 94,
     "metadata": {},
     "output_type": "execute_result"
    }
   ],
   "source": [
    "results_data_train.head(10)\n",
    "#results_data_train.tail(10)"
   ]
  },
  {
   "cell_type": "code",
   "execution_count": 95,
   "metadata": {},
   "outputs": [
    {
     "data": {
      "text/plain": [
       "array([-1.,  0.,  1., -1.,  0.,  0.,  0.,  1.,  0.,  0.,  1., -1.,  0.,\n",
       "       -1.,  1., -1.,  0.,  1.,  0., -1.])"
      ]
     },
     "execution_count": 95,
     "metadata": {},
     "output_type": "execute_result"
    }
   ],
   "source": [
    "uniques_y_train_np[:20]"
   ]
  },
  {
   "cell_type": "markdown",
   "metadata": {},
   "source": [
    "### Test Result Save CSV File "
   ]
  },
  {
   "cell_type": "code",
   "execution_count": 96,
   "metadata": {},
   "outputs": [
    {
     "name": "stdout",
     "output_type": "stream",
     "text": [
      "C:\\Users\\marami3\\Documents\\ITESO\\IDI4\\forex_prediction\\Jupyter Notebooks\\IDI4\\models_clasification\\../../../Results/LSTM/3C-1D-LSTM_1D_43F_Class_01_Train.csv\n"
     ]
    }
   ],
   "source": [
    "pwd = os.getcwd()\n",
    "filename_path = os.path.join(pwd, r'../../../Results/LSTM/' + FILENAME + '_Train.csv')\n",
    "print(filename_path)"
   ]
  },
  {
   "cell_type": "code",
   "execution_count": 97,
   "metadata": {},
   "outputs": [],
   "source": [
    "#Save\n",
    "results_data_train.to_csv(filename_path, header=True, index=False)"
   ]
  },
  {
   "cell_type": "code",
   "execution_count": null,
   "metadata": {},
   "outputs": [],
   "source": []
  }
 ],
 "metadata": {
  "colab": {
   "name": "RDI_hour.ipynb",
   "provenance": []
  },
  "kernelspec": {
   "display_name": "Python 3",
   "language": "python",
   "name": "python3"
  },
  "language_info": {
   "codemirror_mode": {
    "name": "ipython",
    "version": 3
   },
   "file_extension": ".py",
   "mimetype": "text/x-python",
   "name": "python",
   "nbconvert_exporter": "python",
   "pygments_lexer": "ipython3",
   "version": "3.7.3"
  }
 },
 "nbformat": 4,
 "nbformat_minor": 1
}
