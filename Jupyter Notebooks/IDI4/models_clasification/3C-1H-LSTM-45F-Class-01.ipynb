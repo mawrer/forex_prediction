{
 "cells": [
  {
   "cell_type": "code",
   "execution_count": 2,
   "metadata": {
    "colab": {},
    "colab_type": "code",
    "id": "MHL60GoYoBLT",
    "outputId": "55db4102-144e-4e32-f6b2-38133dd62787"
   },
   "outputs": [],
   "source": [
    "# Mawrer Amed Ramirez Martinez\n",
    "# Avance de TOG IDI 4\n",
    "# ms723737@iteso.mx\n",
    "# mawrer@gmail.com\n",
    "\n",
    "import numpy as np\n",
    "np.random.seed(1)\n",
    "\n",
    "#Tensorflow\n",
    "import tensorflow as tf\n",
    "tf.random.set_seed(2)\n",
    "from tensorflow.keras import Sequential\n",
    "from tensorflow.keras.layers import Dense, LSTM, Dropout\n",
    "\n",
    "#Pandas\n",
    "import pandas as pd \n",
    "\n",
    "#Keras\n",
    "from keras import backend as K\n",
    "from keras import metrics\n",
    "from keras.callbacks import ModelCheckpoint\n",
    "from keras.layers import Activation\n",
    "from keras.layers.advanced_activations import LeakyReLU\n",
    "from keras.wrappers.scikit_learn import KerasClassifier\n",
    "from keras.utils import np_utils\n",
    "\n",
    "#Statistics Libraries\n",
    "from statsmodels.tsa.arima_model import ARIMA\n",
    "from scipy import stats\n",
    "import math as m\n",
    "\n",
    "#plots\n",
    "import seaborn as sns\n",
    "import matplotlib.pyplot as plt\n",
    "from matplotlib import pyplot\n",
    "from matplotlib.pyplot import figure\n",
    "\n",
    "#OverSampling\n",
    "from imblearn.over_sampling import RandomOverSampler\n",
    "\n",
    "#SKlearn\n",
    "from sklearn.model_selection import cross_val_score\n",
    "from sklearn.model_selection import KFold\n",
    "from sklearn.preprocessing import LabelEncoder\n",
    "from sklearn.pipeline import Pipeline\n",
    "from sklearn.metrics import confusion_matrix\n",
    "from sklearn.preprocessing import MinMaxScaler\n",
    "from sklearn.model_selection import train_test_split\\\n",
    "\n",
    "from sklearn.metrics import mean_squared_error\n",
    "from sklearn.metrics import mean_absolute_error\n",
    "from sklearn.preprocessing import OneHotEncoder\n",
    "\n",
    "#global\n",
    "import os, glob"
   ]
  },
  {
   "cell_type": "code",
   "execution_count": 3,
   "metadata": {},
   "outputs": [],
   "source": [
    "import warnings\n",
    "warnings.filterwarnings(\"ignore\")"
   ]
  },
  {
   "cell_type": "code",
   "execution_count": 10,
   "metadata": {},
   "outputs": [],
   "source": [
    "ID = \"01\"\n",
    "MODEL_NAME = \"3C-1H-LSTM\"\n",
    "NUM_FEATURES = 0\n",
    "TARGET_NAME = \"Class\"\n",
    "FRECUENCIA = \"1H\"\n",
    "ACC_RESULT = 0"
   ]
  },
  {
   "cell_type": "code",
   "execution_count": 11,
   "metadata": {},
   "outputs": [],
   "source": [
    "RANGE = 24\n",
    "\n",
    "HYPER_L1_IN = RANGE\n",
    "EPOCHS = 100\n",
    "BATCH_SIZE = 32\n",
    "\n",
    "TEST_SIZE = .20\n",
    "VAL_SIZE = .10\n",
    "\n",
    "START_IN = 0\n",
    "\n",
    "TRAINING_TIME_ELAPSED = 0\n",
    "\n",
    "TRAIN_MSE=0\n",
    "TRAIN_RMSE=0\n",
    "TRAIN_MAE=0\n",
    "TEST_MSE=0\n",
    "TEST_RMSE=0\n",
    "TEST_MAE=0\n"
   ]
  },
  {
   "cell_type": "code",
   "execution_count": 12,
   "metadata": {},
   "outputs": [
    {
     "name": "stdout",
     "output_type": "stream",
     "text": [
      "3C-EURUSD_FULL_1D_21F.csv\n",
      "3C-EURUSD_FULL_1D_45F.csv\n",
      "3C-EURUSD_FULL_1H_45F.csv\n",
      "5C-EURUSD_FULL_1D_21F.csv\n",
      "C-EURUSD_FULL_1D_21F.csv\n",
      "C-EURUSD_FULL_1H_25F.csv\n",
      "C-EURUSD_FULL_1H_45F.csv\n",
      "C-EURUSD_FULL_1H_54F.csv\n"
     ]
    }
   ],
   "source": [
    "pwd = os.getcwd()\n",
    "datasource_path = os.path.join(pwd, r'../../../Datasets/Junio2020/procesados_classification/')\n",
    "filenames = glob.glob(datasource_path + \"/*.csv\")\n",
    "filenames.sort()\n",
    "for file in filenames:\n",
    "    print(os.path.basename(file))"
   ]
  },
  {
   "cell_type": "code",
   "execution_count": 13,
   "metadata": {
    "colab": {},
    "colab_type": "code",
    "id": "rS_SC_nwoBLb",
    "outputId": "45629160-abff-4b56-f141-eadb3244e91c"
   },
   "outputs": [
    {
     "data": {
      "text/html": [
       "<div>\n",
       "<style scoped>\n",
       "    .dataframe tbody tr th:only-of-type {\n",
       "        vertical-align: middle;\n",
       "    }\n",
       "\n",
       "    .dataframe tbody tr th {\n",
       "        vertical-align: top;\n",
       "    }\n",
       "\n",
       "    .dataframe thead th {\n",
       "        text-align: right;\n",
       "    }\n",
       "</style>\n",
       "<table border=\"1\" class=\"dataframe\">\n",
       "  <thead>\n",
       "    <tr style=\"text-align: right;\">\n",
       "      <th></th>\n",
       "      <th>Gmt time</th>\n",
       "      <th>Open</th>\n",
       "      <th>High</th>\n",
       "      <th>Low</th>\n",
       "      <th>Close</th>\n",
       "      <th>Volume</th>\n",
       "      <th>Open_Bid</th>\n",
       "      <th>High_Bid</th>\n",
       "      <th>Low_Bid</th>\n",
       "      <th>Close_Bid</th>\n",
       "      <th>...</th>\n",
       "      <th>S3</th>\n",
       "      <th>SO%k</th>\n",
       "      <th>SO%k1</th>\n",
       "      <th>SO%d2</th>\n",
       "      <th>Trix_5</th>\n",
       "      <th>MACD_5_25</th>\n",
       "      <th>MACDsign_5_25</th>\n",
       "      <th>MACDdiff_5_25</th>\n",
       "      <th>Mass_Index_25_8_9</th>\n",
       "      <th>Class</th>\n",
       "    </tr>\n",
       "  </thead>\n",
       "  <tbody>\n",
       "    <tr>\n",
       "      <th>0</th>\n",
       "      <td>2004-01-01 00:00:00</td>\n",
       "      <td>1.25950</td>\n",
       "      <td>1.25960</td>\n",
       "      <td>1.25826</td>\n",
       "      <td>1.25910</td>\n",
       "      <td>6654.2002</td>\n",
       "      <td>1.25934</td>\n",
       "      <td>1.25948</td>\n",
       "      <td>1.25814</td>\n",
       "      <td>1.25900</td>\n",
       "      <td>...</td>\n",
       "      <td>1.257033</td>\n",
       "      <td>0.626866</td>\n",
       "      <td>0.626866</td>\n",
       "      <td>0.626866</td>\n",
       "      <td>0.0</td>\n",
       "      <td>0.0</td>\n",
       "      <td>0.0</td>\n",
       "      <td>0.0</td>\n",
       "      <td>24.237076</td>\n",
       "      <td>1.0</td>\n",
       "    </tr>\n",
       "    <tr>\n",
       "      <th>1</th>\n",
       "      <td>2004-01-01 01:00:00</td>\n",
       "      <td>1.25958</td>\n",
       "      <td>1.25960</td>\n",
       "      <td>1.25947</td>\n",
       "      <td>1.25951</td>\n",
       "      <td>660.6000</td>\n",
       "      <td>1.25942</td>\n",
       "      <td>1.25948</td>\n",
       "      <td>1.25934</td>\n",
       "      <td>1.25941</td>\n",
       "      <td>...</td>\n",
       "      <td>1.259323</td>\n",
       "      <td>0.307692</td>\n",
       "      <td>0.307692</td>\n",
       "      <td>0.387486</td>\n",
       "      <td>0.0</td>\n",
       "      <td>0.0</td>\n",
       "      <td>0.0</td>\n",
       "      <td>0.0</td>\n",
       "      <td>24.237076</td>\n",
       "      <td>0.0</td>\n",
       "    </tr>\n",
       "    <tr>\n",
       "      <th>2</th>\n",
       "      <td>2004-01-01 02:00:00</td>\n",
       "      <td>1.25955</td>\n",
       "      <td>1.25962</td>\n",
       "      <td>1.25944</td>\n",
       "      <td>1.25951</td>\n",
       "      <td>2091.0000</td>\n",
       "      <td>1.25945</td>\n",
       "      <td>1.25948</td>\n",
       "      <td>1.25927</td>\n",
       "      <td>1.25936</td>\n",
       "      <td>...</td>\n",
       "      <td>1.259247</td>\n",
       "      <td>0.388889</td>\n",
       "      <td>0.388889</td>\n",
       "      <td>0.388457</td>\n",
       "      <td>0.0</td>\n",
       "      <td>0.0</td>\n",
       "      <td>0.0</td>\n",
       "      <td>0.0</td>\n",
       "      <td>24.237076</td>\n",
       "      <td>-1.0</td>\n",
       "    </tr>\n",
       "    <tr>\n",
       "      <th>3</th>\n",
       "      <td>2004-01-01 03:00:00</td>\n",
       "      <td>1.25950</td>\n",
       "      <td>1.25965</td>\n",
       "      <td>1.25834</td>\n",
       "      <td>1.25869</td>\n",
       "      <td>10003.0996</td>\n",
       "      <td>1.25934</td>\n",
       "      <td>1.25953</td>\n",
       "      <td>1.25821</td>\n",
       "      <td>1.25854</td>\n",
       "      <td>...</td>\n",
       "      <td>1.256827</td>\n",
       "      <td>0.267176</td>\n",
       "      <td>0.267176</td>\n",
       "      <td>0.306592</td>\n",
       "      <td>0.0</td>\n",
       "      <td>0.0</td>\n",
       "      <td>0.0</td>\n",
       "      <td>0.0</td>\n",
       "      <td>24.237076</td>\n",
       "      <td>1.0</td>\n",
       "    </tr>\n",
       "    <tr>\n",
       "      <th>4</th>\n",
       "      <td>2004-01-01 04:00:00</td>\n",
       "      <td>1.25908</td>\n",
       "      <td>1.25960</td>\n",
       "      <td>1.25843</td>\n",
       "      <td>1.25950</td>\n",
       "      <td>7603.3999</td>\n",
       "      <td>1.25898</td>\n",
       "      <td>1.25948</td>\n",
       "      <td>1.25829</td>\n",
       "      <td>1.25940</td>\n",
       "      <td>...</td>\n",
       "      <td>1.257583</td>\n",
       "      <td>0.914530</td>\n",
       "      <td>0.914530</td>\n",
       "      <td>0.713559</td>\n",
       "      <td>0.0</td>\n",
       "      <td>0.0</td>\n",
       "      <td>0.0</td>\n",
       "      <td>0.0</td>\n",
       "      <td>24.237076</td>\n",
       "      <td>0.0</td>\n",
       "    </tr>\n",
       "  </tbody>\n",
       "</table>\n",
       "<p>5 rows × 45 columns</p>\n",
       "</div>"
      ],
      "text/plain": [
       "             Gmt time     Open     High      Low    Close      Volume  \\\n",
       "0 2004-01-01 00:00:00  1.25950  1.25960  1.25826  1.25910   6654.2002   \n",
       "1 2004-01-01 01:00:00  1.25958  1.25960  1.25947  1.25951    660.6000   \n",
       "2 2004-01-01 02:00:00  1.25955  1.25962  1.25944  1.25951   2091.0000   \n",
       "3 2004-01-01 03:00:00  1.25950  1.25965  1.25834  1.25869  10003.0996   \n",
       "4 2004-01-01 04:00:00  1.25908  1.25960  1.25843  1.25950   7603.3999   \n",
       "\n",
       "   Open_Bid  High_Bid  Low_Bid  Close_Bid  ...        S3      SO%k     SO%k1  \\\n",
       "0   1.25934   1.25948  1.25814    1.25900  ...  1.257033  0.626866  0.626866   \n",
       "1   1.25942   1.25948  1.25934    1.25941  ...  1.259323  0.307692  0.307692   \n",
       "2   1.25945   1.25948  1.25927    1.25936  ...  1.259247  0.388889  0.388889   \n",
       "3   1.25934   1.25953  1.25821    1.25854  ...  1.256827  0.267176  0.267176   \n",
       "4   1.25898   1.25948  1.25829    1.25940  ...  1.257583  0.914530  0.914530   \n",
       "\n",
       "      SO%d2  Trix_5  MACD_5_25  MACDsign_5_25  MACDdiff_5_25  \\\n",
       "0  0.626866     0.0        0.0            0.0            0.0   \n",
       "1  0.387486     0.0        0.0            0.0            0.0   \n",
       "2  0.388457     0.0        0.0            0.0            0.0   \n",
       "3  0.306592     0.0        0.0            0.0            0.0   \n",
       "4  0.713559     0.0        0.0            0.0            0.0   \n",
       "\n",
       "   Mass_Index_25_8_9  Class  \n",
       "0          24.237076    1.0  \n",
       "1          24.237076    0.0  \n",
       "2          24.237076   -1.0  \n",
       "3          24.237076    1.0  \n",
       "4          24.237076    0.0  \n",
       "\n",
       "[5 rows x 45 columns]"
      ]
     },
     "execution_count": 13,
     "metadata": {},
     "output_type": "execute_result"
    }
   ],
   "source": [
    "if FRECUENCIA ==\"1D\":\n",
    "    dateparse = lambda x: pd.datetime.strptime(x, '%Y-%m-%d')\n",
    "else:\n",
    "    dateparse = lambda x: pd.datetime.strptime(x, '%Y-%m-%d %H:%M:%S')\n",
    "DATASET = pd.read_csv(filenames[2], header=0, parse_dates=['Gmt time'], date_parser=dateparse)\n",
    "DATASET.head()\n"
   ]
  },
  {
   "cell_type": "code",
   "execution_count": 14,
   "metadata": {
    "scrolled": true
   },
   "outputs": [
    {
     "name": "stdout",
     "output_type": "stream",
     "text": [
      "Shape:  (102514, 45)\n",
      "                Open           High            Low          Close  \\\n",
      "count  102514.000000  102514.000000  102514.000000  102514.000000   \n",
      "mean        1.264046       1.265085       1.263008       1.264047   \n",
      "std         0.122828       0.123008       0.122629       0.122829   \n",
      "min         1.035600       1.037040       1.034050       1.035630   \n",
      "25%         1.149838       1.150705       1.149015       1.149833   \n",
      "50%         1.270655       1.271820       1.269425       1.270670   \n",
      "75%         1.350917       1.352038       1.349740       1.350920   \n",
      "max         1.601460       1.604030       1.598830       1.601570   \n",
      "\n",
      "              Volume       Open_Bid       High_Bid        Low_Bid  \\\n",
      "count  102514.000000  102514.000000  102514.000000  102514.000000   \n",
      "mean    20711.113359       1.263956       1.265001       1.262923   \n",
      "std     32706.529958       0.122803       0.122983       0.122604   \n",
      "min         0.380000       1.035580       1.037020       1.034030   \n",
      "25%      4984.647625       1.149787       1.150692       1.148982   \n",
      "50%     11612.515150       1.270550       1.271705       1.269300   \n",
      "75%     25196.404325       1.350840       1.351958       1.349618   \n",
      "max    491584.312500       1.601300       1.603890       1.598790   \n",
      "\n",
      "           Close_Bid     Volume_Bid  ...             S3           SO%k  \\\n",
      "count  102514.000000  102514.000000  ...  102514.000000  102514.000000   \n",
      "mean        1.263959   23001.976952  ...       1.260932       0.501674   \n",
      "std         0.122804   39147.465272  ...       0.122277       0.284810   \n",
      "min         1.035620       0.150000  ...       1.030317       0.000000   \n",
      "25%         1.149785    4935.717375  ...       1.147458       0.257143   \n",
      "50%         1.270560   11578.579550  ...       1.267037       0.503106   \n",
      "75%         1.350838   29609.950200  ...       1.347413       0.747475   \n",
      "max         1.601420  591638.812500  ...       1.597057       1.000000   \n",
      "\n",
      "               SO%k1          SO%d2         Trix_5      MACD_5_25  \\\n",
      "count  102514.000000  102514.000000  102514.000000  102514.000000   \n",
      "mean        0.501680       0.501680      -0.000001      -0.000014   \n",
      "std         0.284806       0.197337       0.000335       0.002838   \n",
      "min         0.000000       0.012589      -0.003704      -0.020185   \n",
      "25%         0.257143       0.341962      -0.000155      -0.001441   \n",
      "50%         0.503106       0.503158       0.000002       0.000025   \n",
      "75%         0.747475       0.663001       0.000156       0.001463   \n",
      "max         1.000000       0.989202       0.003414       0.024277   \n",
      "\n",
      "       MACDsign_5_25  MACDdiff_5_25  Mass_Index_25_8_9          Class  \n",
      "count  102514.000000   1.025140e+05      102514.000000  102514.000000  \n",
      "mean       -0.000014   8.702021e-08          24.893904       0.001405  \n",
      "std         0.002582   1.054012e-03           0.996903       0.820868  \n",
      "min        -0.017768  -1.193121e-02          13.667327      -1.000000  \n",
      "25%        -0.001348  -5.120318e-04          24.312887      -1.000000  \n",
      "50%         0.000026   5.527972e-06          24.883585       0.000000  \n",
      "75%         0.001372   5.191413e-04          25.456823       1.000000  \n",
      "max         0.018848   1.063718e-02          36.640975       1.000000  \n",
      "\n",
      "[8 rows x 43 columns]\n",
      "Open                    float64\n",
      "High                    float64\n",
      "Low                     float64\n",
      "Close                   float64\n",
      "Volume                  float64\n",
      "Open_Bid                float64\n",
      "High_Bid                float64\n",
      "Low_Bid                 float64\n",
      "Close_Bid               float64\n",
      "Volume_Bid              float64\n",
      "Spread                  float64\n",
      "weekday                   int64\n",
      "Pct_Range_Close         float64\n",
      "Pct_Range_Close_diff    float64\n",
      "MA_Close_5              float64\n",
      "MA_Close_25             float64\n",
      "MA_Close_50             float64\n",
      "MA_Close_200            float64\n",
      "EMA_Close_5             float64\n",
      "Momentum_1              float64\n",
      "Momentum_2              float64\n",
      "Momentum_5              float64\n",
      "Momentum_24             float64\n",
      "rsi                     float64\n",
      "Rolling_Mean25          float64\n",
      "Bollinger_High          float64\n",
      "Bollinger_Low           float64\n",
      "PP                      float64\n",
      "R1                      float64\n",
      "S1                      float64\n",
      "R2                      float64\n",
      "S2                      float64\n",
      "R3                      float64\n",
      "S3                      float64\n",
      "SO%k                    float64\n",
      "SO%k1                   float64\n",
      "SO%d2                   float64\n",
      "Trix_5                  float64\n",
      "MACD_5_25               float64\n",
      "MACDsign_5_25           float64\n",
      "MACDdiff_5_25           float64\n",
      "Mass_Index_25_8_9       float64\n",
      "Class                   float64\n",
      "dtype: object\n"
     ]
    }
   ],
   "source": [
    "#Describe DATASET\n",
    "print('Shape: ', DATASET.shape)\n",
    "print(DATASET.describe())\n",
    "DATASET = DATASET.drop(['day_name'], axis = 1)\n",
    "DATASET = DATASET.drop(['Gmt time'], axis = 1)\n",
    "print(DATASET.dtypes)\n"
   ]
  },
  {
   "cell_type": "code",
   "execution_count": 15,
   "metadata": {},
   "outputs": [
    {
     "name": "stdout",
     "output_type": "stream",
     "text": [
      "(102315, 43)\n",
      "      Open     High      Low    Close      Volume  Open_Bid  High_Bid  \\\n",
      "0  1.27584  1.27666  1.27351  1.27436  25980.0000   1.27580   1.27649   \n",
      "1  1.27435  1.27891  1.27331  1.27891  24881.5996   1.27419   1.27884   \n",
      "2  1.27890  1.27957  1.27550  1.27552  24909.9004   1.27880   1.27947   \n",
      "3  1.27523  1.27566  1.27374  1.27462  26329.6992   1.27513   1.27555   \n",
      "4  1.27465  1.27482  1.27195  1.27277  25984.5000   1.27449   1.27467   \n",
      "\n",
      "   Low_Bid  Close_Bid  Volume_Bid  ...        S3      SO%k     SO%k1  \\\n",
      "0  1.27341    1.27426  30272.0996  ...  1.269877  0.269841  0.269841   \n",
      "1  1.27318    1.27871  28934.9004  ...  1.269577  1.000000  1.000000   \n",
      "2  1.27536    1.27538  32662.0000  ...  1.270087  0.004914  0.004914   \n",
      "3  1.27358    1.27452  31190.5996  ...  1.271767  0.458333  0.458333   \n",
      "4  1.27184    1.27262  32288.5996  ...  1.268670  0.285714  0.285714   \n",
      "\n",
      "      SO%d2    Trix_5  MACD_5_25  MACDsign_5_25  MACDdiff_5_25  \\\n",
      "0  0.316855  0.000012  -0.001993      -0.002640       0.000647   \n",
      "1  0.772285  0.000116  -0.000874      -0.002287       0.001413   \n",
      "2  0.260704  0.000124  -0.001032      -0.002036       0.001004   \n",
      "3  0.392457  0.000071  -0.001334      -0.001895       0.000562   \n",
      "4  0.321295 -0.000043  -0.001959      -0.001908      -0.000051   \n",
      "\n",
      "   Mass_Index_25_8_9  Class  \n",
      "0          25.320386    1.0  \n",
      "1          25.581101   -1.0  \n",
      "2          25.695259   -1.0  \n",
      "3          25.748162   -1.0  \n",
      "4          25.799591    1.0  \n",
      "\n",
      "[5 rows x 43 columns]\n"
     ]
    }
   ],
   "source": [
    "DF_Full = DATASET[199:]\n",
    "DF_Full.reset_index(drop=True, inplace=True)\n",
    "print(DF_Full.shape)\n",
    "print(DF_Full.head())"
   ]
  },
  {
   "cell_type": "code",
   "execution_count": 16,
   "metadata": {},
   "outputs": [
    {
     "name": "stdout",
     "output_type": "stream",
     "text": [
      "Total:  102315\n",
      "Start:  0\n"
     ]
    }
   ],
   "source": [
    "total = DF_Full.shape[0]\n",
    "print('Total: ', total)\n",
    "print('Start: ', START_IN)"
   ]
  },
  {
   "cell_type": "code",
   "execution_count": 17,
   "metadata": {},
   "outputs": [
    {
     "name": "stdout",
     "output_type": "stream",
     "text": [
      "(102315, 43)\n"
     ]
    }
   ],
   "source": [
    "#Shape the first START of the total\n",
    "DF_Full = DF_Full.iloc[START_IN:]\n",
    "DF_Full.reset_index(drop=True, inplace=True) #reset indexes from iloc\n",
    "NUM_FEATURES = DF_Full.shape[1]\n",
    "print(DF_Full.shape)"
   ]
  },
  {
   "cell_type": "code",
   "execution_count": 18,
   "metadata": {},
   "outputs": [
    {
     "name": "stdout",
     "output_type": "stream",
     "text": [
      "Total:  102514\n"
     ]
    }
   ],
   "source": [
    "\n",
    "total = DATASET.shape[0]\n",
    "print('Total: ', total)"
   ]
  },
  {
   "cell_type": "code",
   "execution_count": 19,
   "metadata": {},
   "outputs": [
    {
     "data": {
      "text/plain": [
       "0     1.0\n",
       "1    -1.0\n",
       "2    -1.0\n",
       "3    -1.0\n",
       "4     1.0\n",
       "5     0.0\n",
       "6     1.0\n",
       "7     1.0\n",
       "8    -1.0\n",
       "9     0.0\n",
       "10    1.0\n",
       "11    0.0\n",
       "Name: Class, dtype: float64"
      ]
     },
     "execution_count": 19,
     "metadata": {},
     "output_type": "execute_result"
    }
   ],
   "source": [
    "DF_Full[TARGET_NAME][0:12]"
   ]
  },
  {
   "cell_type": "markdown",
   "metadata": {},
   "source": [
    "### Generate VECTOR Y"
   ]
  },
  {
   "cell_type": "code",
   "execution_count": 20,
   "metadata": {},
   "outputs": [
    {
     "name": "stdout",
     "output_type": "stream",
     "text": [
      "[2 0 0 ... 1 2 1]\n",
      "[-1.  0.  1.]\n",
      "[[0. 0. 1.]\n",
      " [1. 0. 0.]\n",
      " [1. 0. 0.]\n",
      " ...\n",
      " [0. 1. 0.]\n",
      " [0. 0. 1.]\n",
      " [0. 1. 0.]]\n"
     ]
    }
   ],
   "source": [
    "#generate the VECTOR Y\n",
    "uniques, ids = np.unique(DF_Full[TARGET_NAME], return_inverse=True)\n",
    "\n",
    "#target_y = np_utils.to_categorical(DF_Full[TARGET_NAME],num_classes=5)\n",
    "target_y = np_utils.to_categorical(ids,len(uniques))\n",
    "print(ids)\n",
    "print(uniques)\n",
    "print(target_y)"
   ]
  },
  {
   "cell_type": "code",
   "execution_count": 21,
   "metadata": {},
   "outputs": [
    {
     "name": "stdout",
     "output_type": "stream",
     "text": [
      "[[0. 0. 1.]\n",
      " [1. 0. 0.]\n",
      " [1. 0. 0.]\n",
      " [1. 0. 0.]\n",
      " [0. 0. 1.]\n",
      " [0. 1. 0.]\n",
      " [0. 0. 1.]\n",
      " [0. 0. 1.]\n",
      " [1. 0. 0.]\n",
      " [0. 1. 0.]]\n"
     ]
    },
    {
     "data": {
      "text/plain": [
       "(102315, 3)"
      ]
     },
     "execution_count": 21,
     "metadata": {},
     "output_type": "execute_result"
    }
   ],
   "source": [
    "close_y = target_y\n",
    "print(close_y[:10])   \n",
    "#   [1. 0. 0. 0. 0.]   =  0\n",
    "#   [0. 1. 0. 0. 0.]   =  1\n",
    "#   [0. 0. 1. 0. 0.]   =   2 \n",
    "#   [0. 0. 0. 1. 0.]   =  -2\n",
    "#   [0. 0. 0. 0. 1.]   =  -1\n",
    "close_y.shape"
   ]
  },
  {
   "cell_type": "markdown",
   "metadata": {},
   "source": [
    "### REMOVE COLUMNS "
   ]
  },
  {
   "cell_type": "code",
   "execution_count": 22,
   "metadata": {},
   "outputs": [
    {
     "name": "stdout",
     "output_type": "stream",
     "text": [
      "(102315, 43)\n",
      "(102315, 42)\n"
     ]
    },
    {
     "data": {
      "text/html": [
       "<div>\n",
       "<style scoped>\n",
       "    .dataframe tbody tr th:only-of-type {\n",
       "        vertical-align: middle;\n",
       "    }\n",
       "\n",
       "    .dataframe tbody tr th {\n",
       "        vertical-align: top;\n",
       "    }\n",
       "\n",
       "    .dataframe thead th {\n",
       "        text-align: right;\n",
       "    }\n",
       "</style>\n",
       "<table border=\"1\" class=\"dataframe\">\n",
       "  <thead>\n",
       "    <tr style=\"text-align: right;\">\n",
       "      <th></th>\n",
       "      <th>Open</th>\n",
       "      <th>High</th>\n",
       "      <th>Low</th>\n",
       "      <th>Close</th>\n",
       "      <th>Volume</th>\n",
       "      <th>Open_Bid</th>\n",
       "      <th>High_Bid</th>\n",
       "      <th>Low_Bid</th>\n",
       "      <th>Close_Bid</th>\n",
       "      <th>Volume_Bid</th>\n",
       "      <th>...</th>\n",
       "      <th>R3</th>\n",
       "      <th>S3</th>\n",
       "      <th>SO%k</th>\n",
       "      <th>SO%k1</th>\n",
       "      <th>SO%d2</th>\n",
       "      <th>Trix_5</th>\n",
       "      <th>MACD_5_25</th>\n",
       "      <th>MACDsign_5_25</th>\n",
       "      <th>MACDdiff_5_25</th>\n",
       "      <th>Mass_Index_25_8_9</th>\n",
       "    </tr>\n",
       "  </thead>\n",
       "  <tbody>\n",
       "    <tr>\n",
       "      <th>0</th>\n",
       "      <td>1.27584</td>\n",
       "      <td>1.27666</td>\n",
       "      <td>1.27351</td>\n",
       "      <td>1.27436</td>\n",
       "      <td>25980.0000</td>\n",
       "      <td>1.27580</td>\n",
       "      <td>1.27649</td>\n",
       "      <td>1.27341</td>\n",
       "      <td>1.27426</td>\n",
       "      <td>30272.0996</td>\n",
       "      <td>...</td>\n",
       "      <td>1.279327</td>\n",
       "      <td>1.269877</td>\n",
       "      <td>0.269841</td>\n",
       "      <td>0.269841</td>\n",
       "      <td>0.316855</td>\n",
       "      <td>0.000012</td>\n",
       "      <td>-0.001993</td>\n",
       "      <td>-0.002640</td>\n",
       "      <td>0.000647</td>\n",
       "      <td>25.320386</td>\n",
       "    </tr>\n",
       "    <tr>\n",
       "      <th>1</th>\n",
       "      <td>1.27435</td>\n",
       "      <td>1.27891</td>\n",
       "      <td>1.27331</td>\n",
       "      <td>1.27891</td>\n",
       "      <td>24881.5996</td>\n",
       "      <td>1.27419</td>\n",
       "      <td>1.27884</td>\n",
       "      <td>1.27318</td>\n",
       "      <td>1.27871</td>\n",
       "      <td>28934.9004</td>\n",
       "      <td>...</td>\n",
       "      <td>1.286377</td>\n",
       "      <td>1.269577</td>\n",
       "      <td>1.000000</td>\n",
       "      <td>1.000000</td>\n",
       "      <td>0.772285</td>\n",
       "      <td>0.000116</td>\n",
       "      <td>-0.000874</td>\n",
       "      <td>-0.002287</td>\n",
       "      <td>0.001413</td>\n",
       "      <td>25.581101</td>\n",
       "    </tr>\n",
       "    <tr>\n",
       "      <th>2</th>\n",
       "      <td>1.27890</td>\n",
       "      <td>1.27957</td>\n",
       "      <td>1.27550</td>\n",
       "      <td>1.27552</td>\n",
       "      <td>24909.9004</td>\n",
       "      <td>1.27880</td>\n",
       "      <td>1.27947</td>\n",
       "      <td>1.27536</td>\n",
       "      <td>1.27538</td>\n",
       "      <td>32662.0000</td>\n",
       "      <td>...</td>\n",
       "      <td>1.282297</td>\n",
       "      <td>1.270087</td>\n",
       "      <td>0.004914</td>\n",
       "      <td>0.004914</td>\n",
       "      <td>0.260704</td>\n",
       "      <td>0.000124</td>\n",
       "      <td>-0.001032</td>\n",
       "      <td>-0.002036</td>\n",
       "      <td>0.001004</td>\n",
       "      <td>25.695259</td>\n",
       "    </tr>\n",
       "    <tr>\n",
       "      <th>3</th>\n",
       "      <td>1.27523</td>\n",
       "      <td>1.27566</td>\n",
       "      <td>1.27374</td>\n",
       "      <td>1.27462</td>\n",
       "      <td>26329.6992</td>\n",
       "      <td>1.27513</td>\n",
       "      <td>1.27555</td>\n",
       "      <td>1.27358</td>\n",
       "      <td>1.27452</td>\n",
       "      <td>31190.5996</td>\n",
       "      <td>...</td>\n",
       "      <td>1.277527</td>\n",
       "      <td>1.271767</td>\n",
       "      <td>0.458333</td>\n",
       "      <td>0.458333</td>\n",
       "      <td>0.392457</td>\n",
       "      <td>0.000071</td>\n",
       "      <td>-0.001334</td>\n",
       "      <td>-0.001895</td>\n",
       "      <td>0.000562</td>\n",
       "      <td>25.748162</td>\n",
       "    </tr>\n",
       "    <tr>\n",
       "      <th>4</th>\n",
       "      <td>1.27465</td>\n",
       "      <td>1.27482</td>\n",
       "      <td>1.27195</td>\n",
       "      <td>1.27277</td>\n",
       "      <td>25984.5000</td>\n",
       "      <td>1.27449</td>\n",
       "      <td>1.27467</td>\n",
       "      <td>1.27184</td>\n",
       "      <td>1.27262</td>\n",
       "      <td>32288.5996</td>\n",
       "      <td>...</td>\n",
       "      <td>1.277280</td>\n",
       "      <td>1.268670</td>\n",
       "      <td>0.285714</td>\n",
       "      <td>0.285714</td>\n",
       "      <td>0.321295</td>\n",
       "      <td>-0.000043</td>\n",
       "      <td>-0.001959</td>\n",
       "      <td>-0.001908</td>\n",
       "      <td>-0.000051</td>\n",
       "      <td>25.799591</td>\n",
       "    </tr>\n",
       "  </tbody>\n",
       "</table>\n",
       "<p>5 rows × 42 columns</p>\n",
       "</div>"
      ],
      "text/plain": [
       "      Open     High      Low    Close      Volume  Open_Bid  High_Bid  \\\n",
       "0  1.27584  1.27666  1.27351  1.27436  25980.0000   1.27580   1.27649   \n",
       "1  1.27435  1.27891  1.27331  1.27891  24881.5996   1.27419   1.27884   \n",
       "2  1.27890  1.27957  1.27550  1.27552  24909.9004   1.27880   1.27947   \n",
       "3  1.27523  1.27566  1.27374  1.27462  26329.6992   1.27513   1.27555   \n",
       "4  1.27465  1.27482  1.27195  1.27277  25984.5000   1.27449   1.27467   \n",
       "\n",
       "   Low_Bid  Close_Bid  Volume_Bid  ...        R3        S3      SO%k  \\\n",
       "0  1.27341    1.27426  30272.0996  ...  1.279327  1.269877  0.269841   \n",
       "1  1.27318    1.27871  28934.9004  ...  1.286377  1.269577  1.000000   \n",
       "2  1.27536    1.27538  32662.0000  ...  1.282297  1.270087  0.004914   \n",
       "3  1.27358    1.27452  31190.5996  ...  1.277527  1.271767  0.458333   \n",
       "4  1.27184    1.27262  32288.5996  ...  1.277280  1.268670  0.285714   \n",
       "\n",
       "      SO%k1     SO%d2    Trix_5  MACD_5_25  MACDsign_5_25  MACDdiff_5_25  \\\n",
       "0  0.269841  0.316855  0.000012  -0.001993      -0.002640       0.000647   \n",
       "1  1.000000  0.772285  0.000116  -0.000874      -0.002287       0.001413   \n",
       "2  0.004914  0.260704  0.000124  -0.001032      -0.002036       0.001004   \n",
       "3  0.458333  0.392457  0.000071  -0.001334      -0.001895       0.000562   \n",
       "4  0.285714  0.321295 -0.000043  -0.001959      -0.001908      -0.000051   \n",
       "\n",
       "   Mass_Index_25_8_9  \n",
       "0          25.320386  \n",
       "1          25.581101  \n",
       "2          25.695259  \n",
       "3          25.748162  \n",
       "4          25.799591  \n",
       "\n",
       "[5 rows x 42 columns]"
      ]
     },
     "execution_count": 22,
     "metadata": {},
     "output_type": "execute_result"
    }
   ],
   "source": [
    "#REMOVE CLASS FROM Data\n",
    "print(DF_Full.shape)\n",
    "DF_Full = DF_Full.drop(['Class'], axis = 1)\n",
    "DF_Full.reset_index(drop=True, inplace=True)\n",
    "print(DF_Full.shape)\n",
    "DF_Full.head()"
   ]
  },
  {
   "cell_type": "markdown",
   "metadata": {},
   "source": [
    "### SPLIT in 3 Sub Datasets"
   ]
  },
  {
   "cell_type": "code",
   "execution_count": 23,
   "metadata": {},
   "outputs": [
    {
     "name": "stdout",
     "output_type": "stream",
     "text": [
      "Sum of %s: 0.30000000000000004\n",
      "count of Val and Test: 30754\n",
      "end of train:  71760\n",
      "count val:  10251\n",
      "count test:  20502\n",
      "end_val 82011\n"
     ]
    }
   ],
   "source": [
    "s1 = TEST_SIZE + VAL_SIZE\n",
    "print('Sum of %s:',s1)\n",
    "f1 = int(total * s1)\n",
    "print('count of Val and Test:',f1)\n",
    "end_train = total - f1\n",
    "print('end of train: ', end_train)\n",
    "\n",
    "count_val= int(total * VAL_SIZE)\n",
    "print('count val: ',count_val)\n",
    "\n",
    "count_test= int(total * TEST_SIZE)\n",
    "print('count test: ',count_test)\n",
    "\n",
    "\n",
    "end_val = end_train + count_val\n",
    "print('end_val', end_val)\n",
    "\n"
   ]
  },
  {
   "cell_type": "code",
   "execution_count": 24,
   "metadata": {},
   "outputs": [
    {
     "data": {
      "text/plain": [
       "array([[0., 0., 1.],\n",
       "       [1., 0., 0.],\n",
       "       [1., 0., 0.],\n",
       "       ...,\n",
       "       [1., 0., 0.],\n",
       "       [1., 0., 0.],\n",
       "       [0., 0., 1.]], dtype=float32)"
      ]
     },
     "execution_count": 24,
     "metadata": {},
     "output_type": "execute_result"
    }
   ],
   "source": [
    "close_y[:end_train,:]"
   ]
  },
  {
   "cell_type": "code",
   "execution_count": 25,
   "metadata": {},
   "outputs": [
    {
     "name": "stdout",
     "output_type": "stream",
     "text": [
      "data_training.shape:  (71760, 42)\n",
      "data_val.shape:  (10251, 42)\n",
      "data_test.shape:  (20304, 42)\n",
      "data_training_y.shape:  (71760, 3)\n",
      "data_val_y.shape:  (10251, 3)\n",
      "data_test_y.shape:  (20304, 3)\n"
     ]
    }
   ],
   "source": [
    "data_training = DF_Full.iloc[:end_train]\n",
    "data_val = DF_Full.iloc[end_train: end_val]\n",
    "data_test = DF_Full.iloc[end_val:]\n",
    "\n",
    "print(\"data_training.shape: \",data_training.shape)\n",
    "print(\"data_val.shape: \", data_val.shape)\n",
    "print(\"data_test.shape: \", data_test.shape)\n",
    "\n",
    "data_training_y = close_y[:end_train,:]\n",
    "data_val_y = close_y[end_train: end_val,:]\n",
    "data_test_y = close_y[end_val:,:]\n",
    "\n",
    "print(\"data_training_y.shape: \", data_training_y.shape)\n",
    "print(\"data_val_y.shape: \", data_val_y.shape)\n",
    "print(\"data_test_y.shape: \", data_test_y.shape)"
   ]
  },
  {
   "cell_type": "code",
   "execution_count": 26,
   "metadata": {},
   "outputs": [
    {
     "data": {
      "text/plain": [
       "82011    1.05892\n",
       "82012    1.05958\n",
       "82013    1.05765\n",
       "82014    1.05935\n",
       "82015    1.05927\n",
       "82016    1.06081\n",
       "82017    1.06089\n",
       "82018    1.06139\n",
       "82019    1.05724\n",
       "82020    1.05668\n",
       "Name: Close, dtype: float64"
      ]
     },
     "execution_count": 26,
     "metadata": {},
     "output_type": "execute_result"
    }
   ],
   "source": [
    "data_test['Close'].head(10)"
   ]
  },
  {
   "cell_type": "code",
   "execution_count": 27,
   "metadata": {},
   "outputs": [
    {
     "data": {
      "text/plain": [
       "array([ 1., -1.,  1.,  0.,  1.,  0.,  1., -1., -1.,  1.])"
      ]
     },
     "execution_count": 27,
     "metadata": {},
     "output_type": "execute_result"
    }
   ],
   "source": [
    "uniques_data_test_y = uniques[data_test_y.argmax(1)]\n",
    "uniques_data_test_y[:10]"
   ]
  },
  {
   "cell_type": "markdown",
   "metadata": {},
   "source": [
    "### SCALAR"
   ]
  },
  {
   "cell_type": "code",
   "execution_count": 28,
   "metadata": {},
   "outputs": [
    {
     "name": "stdout",
     "output_type": "stream",
     "text": [
      "[[0.41258817 0.41034601 0.41126011 ... 0.41315402 0.53166507 0.50723591]\n",
      " [0.40990024 0.41439867 0.41089817 ... 0.42279995 0.56757562 0.51858435]\n",
      " [0.41810835 0.41558746 0.41486147 ... 0.42965331 0.54840226 0.52355343]\n",
      " ...\n",
      " [0.10666931 0.10403646 0.10530792 ... 0.44831182 0.53811262 0.64933964]\n",
      " [0.10417982 0.10146076 0.10134463 ... 0.449332   0.50835243 0.64645987]\n",
      " [0.1011311  0.09915524 0.09877482 ... 0.44559999 0.47572457 0.64456464]]\n"
     ]
    }
   ],
   "source": [
    "# DATA SET SCALER TRAINING\n",
    "scaler = MinMaxScaler(feature_range=(0, 1))\n",
    "data_training_array = np.array(data_training)\n",
    "data_training_array_scaled = scaler.fit_transform(data_training_array)\n",
    "print(data_training_array_scaled)\n",
    "    "
   ]
  },
  {
   "cell_type": "code",
   "execution_count": 29,
   "metadata": {},
   "outputs": [
    {
     "name": "stdout",
     "output_type": "stream",
     "text": [
      "(71760, 42)\n",
      "[0.40877665 0.52469149 0.37275203 0.42025758 0.40204232 0.48047382\n",
      " 0.44247083 0.47617625 0.45947971 0.33986952]\n"
     ]
    },
    {
     "data": {
      "image/png": "[encoded data removed]",
      "text/plain": [
       "<Figure size 1080x360 with 1 Axes>"
      ]
     },
     "metadata": {
      "needs_background": "light"
     },
     "output_type": "display_data"
    }
   ],
   "source": [
    "print(data_training_array_scaled.shape)\n",
    "print(data_training_array_scaled[:10,12])\n",
    "plt.figure(figsize=(15,5))\n",
    "plt.plot(data_training_array_scaled[:10,12], color = 'red', label = 'train_x')\n",
    "plt.title('train_x')\n",
    "plt.xlabel('hours')\n",
    "plt.ylabel('Loss')\n",
    "plt.legend()\n",
    "plt.show()"
   ]
  },
  {
   "cell_type": "code",
   "execution_count": 30,
   "metadata": {},
   "outputs": [
    {
     "data": {
      "text/plain": [
       "array([[0., 0., 1.],\n",
       "       [1., 0., 0.],\n",
       "       [1., 0., 0.],\n",
       "       [1., 0., 0.],\n",
       "       [0., 0., 1.],\n",
       "       [0., 1., 0.],\n",
       "       [0., 0., 1.],\n",
       "       [0., 0., 1.],\n",
       "       [1., 0., 0.],\n",
       "       [0., 1., 0.]], dtype=float32)"
      ]
     },
     "execution_count": 30,
     "metadata": {},
     "output_type": "execute_result"
    }
   ],
   "source": [
    "data_training_y[:10]"
   ]
  },
  {
   "cell_type": "markdown",
   "metadata": {},
   "source": [
    "### CHART MA's"
   ]
  },
  {
   "cell_type": "code",
   "execution_count": 31,
   "metadata": {},
   "outputs": [
    {
     "name": "stdout",
     "output_type": "stream",
     "text": [
      "(71760, 42)\n"
     ]
    },
    {
     "data": {
      "image/png": "[encoded data removed]",
      "text/plain": [
       "<Figure size 1008x360 with 1 Axes>"
      ]
     },
     "metadata": {
      "needs_background": "light"
     },
     "output_type": "display_data"
    }
   ],
   "source": [
    "INICIO = 0\n",
    "FIN = 3596\n",
    "\n",
    "IDX_Close = DF_Full.columns.get_loc(\"Close\")\n",
    "IDX_MA_Close_5 = DF_Full.columns.get_loc(\"MA_Close_5\")\n",
    "IDX_MA_Close_25 = DF_Full.columns.get_loc(\"MA_Close_25\")\n",
    "IDX_MA_Close_50 = DF_Full.columns.get_loc(\"MA_Close_50\")\n",
    "IDX_MA_Close_200 = DF_Full.columns.get_loc(\"MA_Close_200\")\n",
    "\n",
    "print(data_training_array_scaled.shape)\n",
    "plt.figure(figsize=(14,5))\n",
    "pyplot.plot(data_training_array_scaled[INICIO:FIN,IDX_Close], color = 'red', label = 'Close')\n",
    "pyplot.plot(data_training_array_scaled[INICIO:FIN,IDX_MA_Close_5], color = 'orange', label = 'MA_Close_5')\n",
    "pyplot.plot(data_training_array_scaled[INICIO:FIN,IDX_MA_Close_25], color = 'blue', label = 'MA_Close_25')\n",
    "pyplot.plot(data_training_array_scaled[INICIO:FIN,IDX_MA_Close_50], color = 'green', label = 'MA_Close_50')\n",
    "pyplot.plot(data_training_array_scaled[INICIO:FIN,IDX_MA_Close_200], color = 'gray', label = 'MA_Close_200')\n",
    "plt.title('Close, Moving Avg 5, Moving Avg 25, Moving Avg 50, Moving Avg 200')\n",
    "plt.xlabel('Time')\n",
    "plt.ylabel('Price')\n",
    "plt.legend()\n",
    "plt.show()"
   ]
  },
  {
   "cell_type": "code",
   "execution_count": 32,
   "metadata": {},
   "outputs": [
    {
     "name": "stdout",
     "output_type": "stream",
     "text": [
      "(71760, 42)\n"
     ]
    },
    {
     "data": {
      "image/png": "[encoded data removed]",
      "text/plain": [
       "<Figure size 1008x360 with 1 Axes>"
      ]
     },
     "metadata": {
      "needs_background": "light"
     },
     "output_type": "display_data"
    }
   ],
   "source": [
    "print(data_training_array_scaled.shape)\n",
    "INICIO = 0\n",
    "FIN = 710\n",
    "\n",
    "\n",
    "IDX_Close = DF_Full.columns.get_loc(\"Close\")\n",
    "IDX_Volume = DF_Full.columns.get_loc(\"Volume\")\n",
    "IDX_weekday = DF_Full.columns.get_loc(\"weekday\")\n",
    "IDX_Pct_Range_Close = DF_Full.columns.get_loc(\"Pct_Range_Close\")\n",
    "IDX_Pct_Range_Close_diff = DF_Full.columns.get_loc(\"Pct_Range_Close_diff\")\n",
    "\n",
    "plt.figure(figsize=(14,5))\n",
    "pyplot.plot(data_training_array_scaled[INICIO:FIN,IDX_Close], color = 'red', label = 'Close')\n",
    "pyplot.plot(data_training_array_scaled[INICIO:FIN,IDX_Volume], color = 'blue', label = 'Volume')\n",
    "pyplot.plot(data_training_array_scaled[INICIO:FIN,IDX_weekday], color = 'green', label = 'weekday')\n",
    "pyplot.plot(data_training_array_scaled[INICIO:FIN,IDX_Pct_Range_Close], color = 'gray', label = 'Pct_Range_Close')\n",
    "pyplot.plot(data_training_array_scaled[INICIO:FIN,IDX_Pct_Range_Close_diff], color = 'orange', label = 'Pct_Range_Close_diff')\n",
    "plt.xlabel('Time')\n",
    "plt.ylabel('Price')\n",
    "plt.legend()\n",
    "plt.show()"
   ]
  },
  {
   "cell_type": "code",
   "execution_count": 33,
   "metadata": {},
   "outputs": [
    {
     "name": "stdout",
     "output_type": "stream",
     "text": [
      "(71760, 42)\n"
     ]
    },
    {
     "data": {
      "image/png": "[encoded data removed]",
      "text/plain": [
       "<Figure size 1008x360 with 1 Axes>"
      ]
     },
     "metadata": {
      "needs_background": "light"
     },
     "output_type": "display_data"
    }
   ],
   "source": [
    "print(data_training_array_scaled.shape)\n",
    "INICIO = 0\n",
    "FIN = 710\n",
    "\n",
    "\n",
    "IDX_Close = DF_Full.columns.get_loc(\"Close\")\n",
    "IDX_Close_Bid = DF_Full.columns.get_loc(\"Close_Bid\")\n",
    "IDX_Spread = DF_Full.columns.get_loc(\"Spread\")\n",
    "\n",
    "plt.figure(figsize=(14,5))\n",
    "pyplot.plot(data_training_array_scaled[INICIO:FIN,IDX_Close], color = 'red', label = 'Close')\n",
    "pyplot.plot(data_training_array_scaled[INICIO:FIN,IDX_Close_Bid], color = 'blue', label = 'Close_Bid')\n",
    "pyplot.plot(data_training_array_scaled[INICIO:FIN,IDX_Spread], color = 'green', label = 'Spread')\n",
    "plt.xlabel('Time')\n",
    "plt.ylabel('Price')\n",
    "plt.legend()\n",
    "plt.show()"
   ]
  },
  {
   "cell_type": "code",
   "execution_count": 34,
   "metadata": {},
   "outputs": [
    {
     "data": {
      "text/plain": [
       "array([[0., 0., 1.],\n",
       "       [1., 0., 0.],\n",
       "       [1., 0., 0.],\n",
       "       ...,\n",
       "       [1., 0., 0.],\n",
       "       [1., 0., 0.],\n",
       "       [0., 0., 1.]], dtype=float32)"
      ]
     },
     "execution_count": 34,
     "metadata": {},
     "output_type": "execute_result"
    }
   ],
   "source": [
    "data_training_y"
   ]
  },
  {
   "cell_type": "code",
   "execution_count": 35,
   "metadata": {},
   "outputs": [
    {
     "data": {
      "text/plain": [
       "[<matplotlib.lines.Line2D at 0x2330927a508>,\n",
       " <matplotlib.lines.Line2D at 0x2330927a688>,\n",
       " <matplotlib.lines.Line2D at 0x2330927a848>]"
      ]
     },
     "execution_count": 35,
     "metadata": {},
     "output_type": "execute_result"
    },
    {
     "data": {
      "image/png": "[encoded data removed]",
      "text/plain": [
       "<Figure size 1152x360 with 1 Axes>"
      ]
     },
     "metadata": {
      "needs_background": "light"
     },
     "output_type": "display_data"
    }
   ],
   "source": [
    "# Target para el entrenamiento\n",
    "pyplot.figure(figsize=(16,5))\n",
    "pyplot.plot(data_training_y)"
   ]
  },
  {
   "cell_type": "code",
   "execution_count": 36,
   "metadata": {
    "colab": {},
    "colab_type": "code",
    "id": "3Lf8pl2FoBLj",
    "outputId": "33ad0467-0e5b-420a-df86-b4563f3e1136"
   },
   "outputs": [
    {
     "name": "stdout",
     "output_type": "stream",
     "text": [
      "(71736, 24, 42)\n",
      "(71736, 3)\n"
     ]
    }
   ],
   "source": [
    "X_train = []\n",
    "y_train = []\n",
    "for i in range(RANGE, data_training_array_scaled.shape[0]):\n",
    "    indx_start = i-RANGE\n",
    "    X_train.append(data_training_array_scaled[indx_start:i])\n",
    "    y_train.append(data_training_y[i])\n",
    "\n",
    "X_train_np, y_train_np = np.array(X_train), np.array(y_train)\n",
    "\n",
    "print(X_train_np.shape)\n",
    "print(y_train_np.shape)"
   ]
  },
  {
   "cell_type": "code",
   "execution_count": 37,
   "metadata": {},
   "outputs": [
    {
     "data": {
      "text/plain": [
       "array([0.40956007, 0.4177704 , 0.41165325, 0.41002923, 0.40669097,\n",
       "       0.41073297, 0.41120214, 0.41484716, 0.4169223 , 0.40770147,\n",
       "       0.40741275, 0.41049839, 0.41006532, 0.41345772, 0.41457649,\n",
       "       0.4135299 , 0.41677794, 0.41221264, 0.41224873, 0.40903678,\n",
       "       0.40766538, 0.40732253, 0.4069075 , 0.40616767])"
      ]
     },
     "execution_count": 37,
     "metadata": {},
     "output_type": "execute_result"
    }
   ],
   "source": [
    "X_train_np[0,:,3]"
   ]
  },
  {
   "cell_type": "code",
   "execution_count": 38,
   "metadata": {},
   "outputs": [
    {
     "name": "stdout",
     "output_type": "stream",
     "text": [
      "[-1.  1. -1.  1.  1. -1.  1.  1.  1. -1. -1. -1. -1.  0.  0.  1. -1.  1.\n",
      " -1.  0.  0.  1.  1. -1.]\n"
     ]
    }
   ],
   "source": [
    "array = y_train_np[:RANGE]\n",
    "uniques_y = uniques[array.argmax(1)]\n",
    "print(uniques_y)"
   ]
  },
  {
   "cell_type": "code",
   "execution_count": 39,
   "metadata": {},
   "outputs": [
    {
     "name": "stdout",
     "output_type": "stream",
     "text": [
      "(24, 42)\n",
      "(10251, 42)\n",
      "<bound method NDFrame.head of           Open     High      Low    Close     Volume  Open_Bid  High_Bid  \\\n",
      "0      1.10977  1.11007  1.10792  1.10920  8733.5996   1.10975   1.11004   \n",
      "1      1.10920  1.11055  1.10881  1.10996  7923.8901   1.10916   1.11053   \n",
      "2      1.10996  1.11040  1.10949  1.11013  7694.7002   1.10994   1.11039   \n",
      "3      1.11013  1.11082  1.10955  1.10964  7433.1602   1.11010   1.11081   \n",
      "4      1.10966  1.11083  1.10653  1.10722  7766.4902   1.10964   1.11080   \n",
      "...        ...      ...      ...      ...        ...       ...       ...   \n",
      "10270  1.05742  1.05769  1.05721  1.05748  6381.8799   1.05740   1.05766   \n",
      "10271  1.05748  1.05750  1.05700  1.05749  6014.2798   1.05745   1.05748   \n",
      "10272  1.05749  1.05828  1.05747  1.05817  5775.6299   1.05746   1.05826   \n",
      "10273  1.05816  1.05858  1.05808  1.05810  4960.8999   1.05814   1.05856   \n",
      "10274  1.05811  1.05833  1.05771  1.05808  5379.8398   1.05809   1.05831   \n",
      "\n",
      "       Low_Bid  Close_Bid  Volume_Bid  ...        R3        S3      SO%k  \\\n",
      "0      1.10790    1.10917   9555.7803  ...  1.112357  1.105907  0.595349   \n",
      "1      1.10877    1.10995   7773.8599  ...  1.112477  1.107257  0.660920   \n",
      "2      1.10946    1.11011   7275.8599  ...  1.111433  1.108703  0.703297   \n",
      "3      1.10951    1.10962   8399.8604  ...  1.111727  1.107917  0.070866   \n",
      "4      1.10650    1.10719   7515.6699  ...  1.114157  1.101257  0.160465   \n",
      "...        ...        ...         ...  ...       ...       ...       ...   \n",
      "10270  1.05720    1.05746   6769.2900  ...  1.058190  1.056750  0.562500   \n",
      "10271  1.05697    1.05747   6285.0400  ...  1.058160  1.056660  0.980000   \n",
      "10272  1.05745    1.05814   5202.2798  ...  1.059287  1.056857  0.864198   \n",
      "10273  1.05806    1.05807   5382.2798  ...  1.058927  1.057427  0.040000   \n",
      "10274  1.05768    1.05806   4904.3301  ...  1.058990  1.057130  0.596774   \n",
      "\n",
      "          SO%k1     SO%d2    Trix_5  MACD_5_25  MACDsign_5_25  MACDdiff_5_25  \\\n",
      "0      0.595349  0.503731  0.000076   0.000564       0.000781      -0.000217   \n",
      "1      0.660920  0.608523  0.000035   0.000522       0.000729      -0.000207   \n",
      "2      0.703297  0.671706  0.000018   0.000526       0.000689      -0.000162   \n",
      "3      0.070866  0.271146 -0.000003   0.000390       0.000629      -0.000239   \n",
      "4      0.160465  0.197359 -0.000102  -0.000324       0.000438      -0.000763   \n",
      "...         ...       ...       ...        ...            ...            ...   \n",
      "10270  0.562500  0.448676  0.000043   0.000812       0.001091      -0.000279   \n",
      "10271  0.980000  0.802892  0.000015   0.000692       0.001011      -0.000319   \n",
      "10272  0.864198  0.843762  0.000019   0.000775       0.000964      -0.000189   \n",
      "10273  0.040000  0.307921  0.000029   0.000789       0.000929      -0.000140   \n",
      "10274  0.596774  0.500490  0.000036   0.000771       0.000897      -0.000126   \n",
      "\n",
      "       Mass_Index_25_8_9  \n",
      "0              23.482666  \n",
      "1              23.229458  \n",
      "2              23.014622  \n",
      "3              22.852843  \n",
      "4              23.064892  \n",
      "...                  ...  \n",
      "10270          23.398282  \n",
      "10271          23.349905  \n",
      "10272          23.367274  \n",
      "10273          23.301557  \n",
      "10274          23.279997  \n",
      "\n",
      "[10275 rows x 42 columns]>\n"
     ]
    }
   ],
   "source": [
    "#\n",
    "#Obtener los ultimos valores de Train para agregarlos a Val DF\n",
    "# APPEND DE X\n",
    "last_range_training_x = data_training.tail(RANGE)\n",
    "print(last_range_training_x.shape)\n",
    "print(data_val.shape)\n",
    "data_val_x1 = last_range_training_x.append(data_val, ignore_index = True)\n",
    "data_val_x1.shape\n",
    "print(data_val_x1.head)"
   ]
  },
  {
   "cell_type": "code",
   "execution_count": 40,
   "metadata": {},
   "outputs": [
    {
     "data": {
      "text/plain": [
       "array([[0., 0., 1.],\n",
       "       [0., 1., 0.],\n",
       "       [1., 0., 0.],\n",
       "       [1., 0., 0.],\n",
       "       [0., 0., 1.],\n",
       "       [0., 1., 0.],\n",
       "       [0., 0., 1.],\n",
       "       [0., 0., 1.],\n",
       "       [1., 0., 0.],\n",
       "       [0., 0., 1.],\n",
       "       [1., 0., 0.],\n",
       "       [0., 0., 1.],\n",
       "       [0., 0., 1.],\n",
       "       [0., 1., 0.],\n",
       "       [1., 0., 0.],\n",
       "       [1., 0., 0.],\n",
       "       [0., 0., 1.],\n",
       "       [1., 0., 0.],\n",
       "       [0., 0., 1.],\n",
       "       [1., 0., 0.],\n",
       "       [1., 0., 0.],\n",
       "       [1., 0., 0.],\n",
       "       [1., 0., 0.],\n",
       "       [0., 0., 1.]], dtype=float32)"
      ]
     },
     "execution_count": 40,
     "metadata": {},
     "output_type": "execute_result"
    }
   ],
   "source": [
    "last_range_train_y = data_training_y[-RANGE:]\n",
    "last_range_train_y"
   ]
  },
  {
   "cell_type": "code",
   "execution_count": 41,
   "metadata": {},
   "outputs": [
    {
     "data": {
      "text/plain": [
       "(24, 3)"
      ]
     },
     "execution_count": 41,
     "metadata": {},
     "output_type": "execute_result"
    }
   ],
   "source": [
    "last_range_train_y.shape"
   ]
  },
  {
   "cell_type": "code",
   "execution_count": 42,
   "metadata": {},
   "outputs": [
    {
     "name": "stdout",
     "output_type": "stream",
     "text": [
      "(24, 3)\n",
      "(10251, 3)\n",
      "(10275, 3)\n",
      "[[0. 0. 1.]\n",
      " [0. 1. 0.]\n",
      " [1. 0. 0.]\n",
      " [1. 0. 0.]\n",
      " [0. 0. 1.]\n",
      " [0. 1. 0.]\n",
      " [0. 0. 1.]\n",
      " [0. 0. 1.]\n",
      " [1. 0. 0.]\n",
      " [0. 0. 1.]]\n"
     ]
    }
   ],
   "source": [
    "#Append de los datos de Train al DF de Val en Y\n",
    "last_range_train_y = data_training_y[-RANGE:]\n",
    "print(last_range_train_y.shape)\n",
    "print(data_val_y.shape)\n",
    "data_val_y1 = np.concatenate((last_range_train_y,data_val_y))\n",
    "print(data_val_y1.shape)\n",
    "print(data_val_y1[:10])"
   ]
  },
  {
   "cell_type": "code",
   "execution_count": 43,
   "metadata": {},
   "outputs": [
    {
     "name": "stdout",
     "output_type": "stream",
     "text": [
      "[[0.11300128 0.11028657 0.11158767 0.11153416 0.01776547 0.11318985\n",
      "  0.1102924  0.11159171 0.11155831 0.01615113 0.01587302 0.66666667\n",
      "  0.42472625 0.47997608 0.11223219 0.10576138 0.09876714 0.09929935\n",
      "  0.1114438  0.44172558 0.38103586 0.47713904 0.51624942 0.4776481\n",
      "  0.10576138 0.10108911 0.11248312 0.11113255 0.11083417 0.11219518\n",
      "  0.11026446 0.11305605 0.11024262 0.1149281  0.59534884 0.59534884\n",
      "  0.5091032  0.41809559 0.46665644 0.50658313 0.49115844 0.4272434 ]\n",
      " [0.11197301 0.11115114 0.11319833 0.11290555 0.01611833 0.11212542\n",
      "  0.11117517 0.11316623 0.1129661  0.01313929 0.00529101 0.66666667\n",
      "  0.45422469 0.49827938 0.11193447 0.10579729 0.09875194 0.09912484\n",
      "  0.11197472 0.46601414 0.40924303 0.4790107  0.53039963 0.52867146\n",
      "  0.10579729 0.10114654 0.11249731 0.11241658 0.11178912 0.11389566\n",
      "  0.11080149 0.11507996 0.11045612 0.11736085 0.66091954 0.66091954\n",
      "  0.61772761 0.41096903 0.46571811 0.50516798 0.49163176 0.4162217 ]\n",
      " [0.11334404 0.11088096 0.11442894 0.11321231 0.0156521  0.11353263\n",
      "  0.11092295 0.11441499 0.11325488 0.01229756 0.01058201 0.66666667\n",
      "  0.44123107 0.45949982 0.11142981 0.10592336 0.09877011 0.09896937\n",
      "  0.11235678 0.45531992 0.42119522 0.47139037 0.51453895 0.53965291\n",
      "  0.10592336 0.101234   0.11266116 0.11283857 0.11140474 0.11501122\n",
      "  0.10973339 0.11700148 0.10859986 0.1199678  0.7032967  0.7032967\n",
      "  0.68322033 0.40814368 0.46582007 0.50406061 0.49374503 0.40687031]\n",
      " [0.11365071 0.11163746 0.11453752 0.11232812 0.01512006 0.11382128\n",
      "  0.11167961 0.11450547 0.1123705  0.01419737 0.01058201 0.66666667\n",
      "  0.4267103  0.4581061  0.11101228 0.10585153 0.09886915 0.09881352\n",
      "  0.11189299 0.4433569  0.4012749  0.47459893 0.52309128 0.50220452\n",
      "  0.10585153 0.10106888 0.11268301 0.11283254 0.11128462 0.11423937\n",
      "  0.11037186 0.11634491 0.10912175 0.1185502  0.07086614 0.07086614\n",
      "  0.26801245 0.40435585 0.46275337 0.50242995 0.49015214 0.39982835]\n",
      " [0.11280284 0.11165547 0.10907215 0.10796131 0.01579814 0.11299139\n",
      "  0.11166159 0.109058   0.10798469 0.01270289 0.01587302 0.66666667\n",
      "  0.38422622 0.43258592 0.11008282 0.10571887 0.09873339 0.09865491\n",
      "  0.10881887 0.40837412 0.36       0.45574866 0.5        0.36051188\n",
      "  0.10571887 0.10124311 0.11224451 0.10955915 0.11020354 0.10767264\n",
      "  0.11255579 0.10759871 0.1134451  0.10654861 0.16046512 0.16046512\n",
      "  0.19152687 0.38721081 0.44668504 0.49722311 0.46559859 0.40905846]\n",
      " [0.10840113 0.11044868 0.11032086 0.11243639 0.00865134 0.10858937\n",
      "  0.11045454 0.11032486 0.11238855 0.00657738 0.03703704 0.66666667\n",
      "  0.49219458 0.56989344 0.11026435 0.10572766 0.09878458 0.09852279\n",
      "  0.11078607 0.4971905  0.40733068 0.49665775 0.5269787  0.50831059\n",
      "  0.10572766 0.10125611 0.11224905 0.11106623 0.11196329 0.11189971\n",
      "  0.111613   0.11156221 0.11276309 0.11321015 0.84353741 0.84353741\n",
      "  0.63806623 0.38563107 0.45128604 0.49417502 0.4804203  0.42432913]\n",
      " [0.112875   0.1104847  0.11408509 0.11231008 0.00386841 0.11299139\n",
      "  0.11034644 0.11392634 0.11222611 0.00343166 0.04761905 0.66666667\n",
      "  0.43594983 0.42002751 0.11014454 0.10580389 0.09886099 0.09840466\n",
      "  0.11135736 0.45096973 0.44478088 0.4855615  0.52713419 0.50454715\n",
      "  0.10580389 0.10129646 0.11236065 0.11228999 0.11065399 0.11431173\n",
      "  0.10913669 0.11650754 0.10780517 0.11932508 0.375      0.375\n",
      "  0.46313166 0.38938081 0.4537828  0.49234291 0.488769   0.43194952]\n",
      " [0.11276676 0.11228588 0.11453752 0.11442131 0.00488494 0.11282902\n",
      "  0.11193183 0.11439689 0.11412121 0.00411608 0.11111111 0.66666667\n",
      "  0.4632424  0.49626623 0.1103878  0.10597247 0.09904497 0.09831445\n",
      "  0.11295929 0.47344571 0.42390438 0.49893048 0.5366195  0.56176617\n",
      "  0.10597247 0.10152266 0.1124706  0.11374885 0.11311043 0.11542126\n",
      "  0.11192329 0.11660994 0.11156513 0.1190788  0.76687117 0.76687117\n",
      "  0.67562124 0.4011208  0.4620717  0.49289024 0.50510592 0.43975173]\n",
      " [0.1148233  0.11331256 0.11366886 0.11577466 0.00580981 0.11461509\n",
      "  0.11283262 0.11274998 0.11471682 0.00495351 0.33333333 0.66666667\n",
      "  0.45398072 0.46290571 0.11108126 0.10619969 0.09929646 0.09826358\n",
      "  0.11439808 0.46583288 0.43697211 0.51550802 0.5415954  0.59484056\n",
      "  0.10619969 0.10191431 0.11253207 0.11425523 0.11498429 0.11540317\n",
      "  0.11430413 0.1152185  0.11528357 0.11716863 0.92537313 0.92537313\n",
      "  0.85598329 0.41668974 0.47129031 0.49556691 0.51972569 0.45124456]\n",
      " [0.09487129 0.09184243 0.09186166 0.09170306 0.00958662 0.09437298\n",
      "  0.09146594 0.09168401 0.09154243 0.01038264 0.06878307 1.\n",
      "  0.14438142 0.18880837 0.10781    0.10544107 0.09903384 0.09809278\n",
      "  0.09878408 0.21044046 0.20573705 0.36951872 0.43694604 0.21635034\n",
      "  0.10544107 0.10527261 0.10766447 0.09176347 0.09187933 0.09197038\n",
      "  0.09227391 0.09250971 0.09270011 0.09359195 0.42348754 0.42348754\n",
      "  0.56927781 0.35131199 0.39958758 0.48029472 0.39649126 0.46725264]]\n"
     ]
    }
   ],
   "source": [
    "data_val_x2 = scaler.transform(data_val_x1)\n",
    "data_val_x2.shape\n",
    "print(data_val_x2[:10])"
   ]
  },
  {
   "cell_type": "code",
   "execution_count": 44,
   "metadata": {
    "colab": {},
    "colab_type": "code",
    "id": "CePFSn77oBLn",
    "outputId": "42f59747-5fe8-44a2-af41-2a1d57cb5e1b",
    "scrolled": true
   },
   "outputs": [
    {
     "name": "stdout",
     "output_type": "stream",
     "text": [
      "(10251, 24, 42)\n",
      "(10251, 3)\n"
     ]
    }
   ],
   "source": [
    "X_val = []\n",
    "y_val = []\n",
    "for i in range(RANGE, data_val_x2.shape[0]):\n",
    "    indx_start = i-RANGE\n",
    "    X_val.append(data_val_x2[indx_start:i])\n",
    "    y_val.append(data_val_y1[i])\n",
    "\n",
    "X_val_np = np.array(X_val)\n",
    "y_val_np = np.array(y_val)\n",
    "print(X_val_np.shape)\n",
    "print(y_val_np.shape)"
   ]
  },
  {
   "cell_type": "code",
   "execution_count": 45,
   "metadata": {},
   "outputs": [
    {
     "name": "stdout",
     "output_type": "stream",
     "text": [
      "(24, 42)\n",
      "(20304, 42)\n"
     ]
    },
    {
     "data": {
      "text/plain": [
       "(20328, 42)"
      ]
     },
     "execution_count": 45,
     "metadata": {},
     "output_type": "execute_result"
    }
   ],
   "source": [
    "\n",
    "#Obtener los ultimos valores de Val para agregarlos a TEST DF\n",
    "# Append en X\n",
    "last_range_data_training_x = data_training.tail(RANGE)\n",
    "print(last_range_data_training_x.shape)\n",
    "print(data_test.shape)\n",
    "data_test_x1 = last_range_data_training_x.append(data_test, ignore_index = True)\n",
    "data_test_x1.shape\n"
   ]
  },
  {
   "cell_type": "code",
   "execution_count": 46,
   "metadata": {},
   "outputs": [
    {
     "name": "stdout",
     "output_type": "stream",
     "text": [
      "(24, 3)\n",
      "(20304, 3)\n",
      "(20328, 3)\n"
     ]
    }
   ],
   "source": [
    "#Append de los datos de Val al DF de Test de Y\n",
    "last_range_training_y = data_training_y[-RANGE:,:]\n",
    "print(last_range_training_y.shape)\n",
    "print(data_test_y.shape)\n",
    "data_test_y1 = np.concatenate((last_range_training_y,data_test_y))\n",
    "print(data_test_y1.shape)"
   ]
  },
  {
   "cell_type": "code",
   "execution_count": 47,
   "metadata": {},
   "outputs": [
    {
     "name": "stdout",
     "output_type": "stream",
     "text": [
      "[[0.11300128 0.11028657 0.11158767 0.11153416 0.01776547 0.11318985\n",
      "  0.1102924  0.11159171 0.11155831 0.01615113 0.01587302 0.66666667\n",
      "  0.42472625 0.47997608 0.11223219 0.10576138 0.09876714 0.09929935\n",
      "  0.1114438  0.44172558 0.38103586 0.47713904 0.51624942 0.4776481\n",
      "  0.10576138 0.10108911 0.11248312 0.11113255 0.11083417 0.11219518\n",
      "  0.11026446 0.11305605 0.11024262 0.1149281  0.59534884 0.59534884\n",
      "  0.5091032  0.41809559 0.46665644 0.50658313 0.49115844 0.4272434 ]\n",
      " [0.11197301 0.11115114 0.11319833 0.11290555 0.01611833 0.11212542\n",
      "  0.11117517 0.11316623 0.1129661  0.01313929 0.00529101 0.66666667\n",
      "  0.45422469 0.49827938 0.11193447 0.10579729 0.09875194 0.09912484\n",
      "  0.11197472 0.46601414 0.40924303 0.4790107  0.53039963 0.52867146\n",
      "  0.10579729 0.10114654 0.11249731 0.11241658 0.11178912 0.11389566\n",
      "  0.11080149 0.11507996 0.11045612 0.11736085 0.66091954 0.66091954\n",
      "  0.61772761 0.41096903 0.46571811 0.50516798 0.49163176 0.4162217 ]\n",
      " [0.11334404 0.11088096 0.11442894 0.11321231 0.0156521  0.11353263\n",
      "  0.11092295 0.11441499 0.11325488 0.01229756 0.01058201 0.66666667\n",
      "  0.44123107 0.45949982 0.11142981 0.10592336 0.09877011 0.09896937\n",
      "  0.11235678 0.45531992 0.42119522 0.47139037 0.51453895 0.53965291\n",
      "  0.10592336 0.101234   0.11266116 0.11283857 0.11140474 0.11501122\n",
      "  0.10973339 0.11700148 0.10859986 0.1199678  0.7032967  0.7032967\n",
      "  0.68322033 0.40814368 0.46582007 0.50406061 0.49374503 0.40687031]\n",
      " [0.11365071 0.11163746 0.11453752 0.11232812 0.01512006 0.11382128\n",
      "  0.11167961 0.11450547 0.1123705  0.01419737 0.01058201 0.66666667\n",
      "  0.4267103  0.4581061  0.11101228 0.10585153 0.09886915 0.09881352\n",
      "  0.11189299 0.4433569  0.4012749  0.47459893 0.52309128 0.50220452\n",
      "  0.10585153 0.10106888 0.11268301 0.11283254 0.11128462 0.11423937\n",
      "  0.11037186 0.11634491 0.10912175 0.1185502  0.07086614 0.07086614\n",
      "  0.26801245 0.40435585 0.46275337 0.50242995 0.49015214 0.39982835]\n",
      " [0.11280284 0.11165547 0.10907215 0.10796131 0.01579814 0.11299139\n",
      "  0.11166159 0.109058   0.10798469 0.01270289 0.01587302 0.66666667\n",
      "  0.38422622 0.43258592 0.11008282 0.10571887 0.09873339 0.09865491\n",
      "  0.10881887 0.40837412 0.36       0.45574866 0.5        0.36051188\n",
      "  0.10571887 0.10124311 0.11224451 0.10955915 0.11020354 0.10767264\n",
      "  0.11255579 0.10759871 0.1134451  0.10654861 0.16046512 0.16046512\n",
      "  0.19152687 0.38721081 0.44668504 0.49722311 0.46559859 0.40905846]\n",
      " [0.10840113 0.11044868 0.11032086 0.11243639 0.00865134 0.10858937\n",
      "  0.11045454 0.11032486 0.11238855 0.00657738 0.03703704 0.66666667\n",
      "  0.49219458 0.56989344 0.11026435 0.10572766 0.09878458 0.09852279\n",
      "  0.11078607 0.4971905  0.40733068 0.49665775 0.5269787  0.50831059\n",
      "  0.10572766 0.10125611 0.11224905 0.11106623 0.11196329 0.11189971\n",
      "  0.111613   0.11156221 0.11276309 0.11321015 0.84353741 0.84353741\n",
      "  0.63806623 0.38563107 0.45128604 0.49417502 0.4804203  0.42432913]\n",
      " [0.112875   0.1104847  0.11408509 0.11231008 0.00386841 0.11299139\n",
      "  0.11034644 0.11392634 0.11222611 0.00343166 0.04761905 0.66666667\n",
      "  0.43594983 0.42002751 0.11014454 0.10580389 0.09886099 0.09840466\n",
      "  0.11135736 0.45096973 0.44478088 0.4855615  0.52713419 0.50454715\n",
      "  0.10580389 0.10129646 0.11236065 0.11228999 0.11065399 0.11431173\n",
      "  0.10913669 0.11650754 0.10780517 0.11932508 0.375      0.375\n",
      "  0.46313166 0.38938081 0.4537828  0.49234291 0.488769   0.43194952]\n",
      " [0.11276676 0.11228588 0.11453752 0.11442131 0.00488494 0.11282902\n",
      "  0.11193183 0.11439689 0.11412121 0.00411608 0.11111111 0.66666667\n",
      "  0.4632424  0.49626623 0.1103878  0.10597247 0.09904497 0.09831445\n",
      "  0.11295929 0.47344571 0.42390438 0.49893048 0.5366195  0.56176617\n",
      "  0.10597247 0.10152266 0.1124706  0.11374885 0.11311043 0.11542126\n",
      "  0.11192329 0.11660994 0.11156513 0.1190788  0.76687117 0.76687117\n",
      "  0.67562124 0.4011208  0.4620717  0.49289024 0.50510592 0.43975173]\n",
      " [0.1148233  0.11331256 0.11366886 0.11577466 0.00580981 0.11461509\n",
      "  0.11283262 0.11274998 0.11471682 0.00495351 0.33333333 0.66666667\n",
      "  0.45398072 0.46290571 0.11108126 0.10619969 0.09929646 0.09826358\n",
      "  0.11439808 0.46583288 0.43697211 0.51550802 0.5415954  0.59484056\n",
      "  0.10619969 0.10191431 0.11253207 0.11425523 0.11498429 0.11540317\n",
      "  0.11430413 0.1152185  0.11528357 0.11716863 0.92537313 0.92537313\n",
      "  0.85598329 0.41668974 0.47129031 0.49556691 0.51972569 0.45124456]\n",
      " [0.09487129 0.09184243 0.09186166 0.09170306 0.00958662 0.09437298\n",
      "  0.09146594 0.09168401 0.09154243 0.01038264 0.06878307 1.\n",
      "  0.14438142 0.18880837 0.10781    0.10544107 0.09903384 0.09809278\n",
      "  0.09878408 0.21044046 0.20573705 0.36951872 0.43694604 0.21635034\n",
      "  0.10544107 0.10527261 0.10766447 0.09176347 0.09187933 0.09197038\n",
      "  0.09227391 0.09250971 0.09270011 0.09359195 0.42348754 0.42348754\n",
      "  0.56927781 0.35131199 0.39958758 0.48029472 0.39649126 0.46725264]]\n"
     ]
    }
   ],
   "source": [
    "data_test_x2 = scaler.transform(data_test_x1)\n",
    "data_test_x2.shape\n",
    "print(data_test_x2[:10])"
   ]
  },
  {
   "cell_type": "code",
   "execution_count": 48,
   "metadata": {
    "colab": {},
    "colab_type": "code",
    "id": "CePFSn77oBLn",
    "outputId": "42f59747-5fe8-44a2-af41-2a1d57cb5e1b",
    "scrolled": true
   },
   "outputs": [
    {
     "name": "stdout",
     "output_type": "stream",
     "text": [
      "(20304, 24, 42)\n",
      "(20304, 3)\n"
     ]
    }
   ],
   "source": [
    "X_test = []\n",
    "y_test = []\n",
    "for i in range(RANGE, data_test_x2.shape[0]):\n",
    "    X_test.append(data_test_x2[i-RANGE:i])\n",
    "    y_test.append(data_test_y1[i])\n",
    "\n",
    "X_test_np = np.array(X_test)\n",
    "y_test_np = np.array(y_test)\n",
    "print(X_test_np.shape)\n",
    "print(y_test_np.shape)"
   ]
  },
  {
   "cell_type": "code",
   "execution_count": 49,
   "metadata": {},
   "outputs": [
    {
     "data": {
      "text/plain": [
       "[<matplotlib.lines.Line2D at 0x2330c0457c8>,\n",
       " <matplotlib.lines.Line2D at 0x2330c045188>,\n",
       " <matplotlib.lines.Line2D at 0x2330c057608>]"
      ]
     },
     "execution_count": 49,
     "metadata": {},
     "output_type": "execute_result"
    },
    {
     "data": {
      "image/png": "[encoded data removed]",
      "text/plain": [
       "<Figure size 432x288 with 1 Axes>"
      ]
     },
     "metadata": {
      "needs_background": "light"
     },
     "output_type": "display_data"
    }
   ],
   "source": [
    "# Y del dataset de pruebas\n",
    "pyplot.plot(y_test_np)"
   ]
  },
  {
   "cell_type": "code",
   "execution_count": 50,
   "metadata": {},
   "outputs": [
    {
     "data": {
      "text/plain": [
       "[<matplotlib.lines.Line2D at 0x2330ec4ac48>,\n",
       " <matplotlib.lines.Line2D at 0x2330ec5e1c8>,\n",
       " <matplotlib.lines.Line2D at 0x2330ec52c88>]"
      ]
     },
     "execution_count": 50,
     "metadata": {},
     "output_type": "execute_result"
    },
    {
     "data": {
      "image/png": "[encoded data removed]",
      "text/plain": [
       "<Figure size 432x288 with 1 Axes>"
      ]
     },
     "metadata": {
      "needs_background": "light"
     },
     "output_type": "display_data"
    }
   ],
   "source": [
    "\n",
    "# Y de Val y Test comparados\n",
    "pyplot.plot(y_train_np)\n",
    "pyplot.plot(y_test_np)\n",
    "pyplot.plot(y_val_np)\n"
   ]
  },
  {
   "cell_type": "code",
   "execution_count": 51,
   "metadata": {},
   "outputs": [
    {
     "name": "stdout",
     "output_type": "stream",
     "text": [
      "24\n",
      "42\n"
     ]
    }
   ],
   "source": [
    "x_shape = X_train_np.shape[1]\n",
    "print(x_shape)\n",
    "y_shape = X_train_np.shape[2]\n",
    "print(y_shape)"
   ]
  },
  {
   "cell_type": "markdown",
   "metadata": {},
   "source": [
    "### Oversampling Inbalanced Class"
   ]
  },
  {
   "cell_type": "code",
   "execution_count": 52,
   "metadata": {},
   "outputs": [
    {
     "name": "stdout",
     "output_type": "stream",
     "text": [
      "(71736, 24, 42)\n",
      "(71736, 3)\n"
     ]
    }
   ],
   "source": [
    "#Check Current Shape\n",
    "print(X_train_np.shape)\n",
    "print(y_train_np.shape)"
   ]
  },
  {
   "cell_type": "code",
   "execution_count": 53,
   "metadata": {
    "scrolled": true
   },
   "outputs": [],
   "source": [
    "#oversample = RandomOverSampler(sampling_strategy='minority')\n",
    "#oversample\n"
   ]
  },
  {
   "cell_type": "code",
   "execution_count": 54,
   "metadata": {},
   "outputs": [],
   "source": [
    "#X_over, y_over = oversample.fit_resample(X_train_np, y_train_np)"
   ]
  },
  {
   "cell_type": "markdown",
   "metadata": {},
   "source": [
    "### BUILD LSTM MODEL "
   ]
  },
  {
   "cell_type": "code",
   "execution_count": 58,
   "metadata": {
    "colab": {},
    "colab_type": "code",
    "id": "dPyrqmjooBLu",
    "outputId": "ac844281-9522-427d-afa6-d93b642f46af"
   },
   "outputs": [],
   "source": [
    "model = Sequential()\n",
    "model.add(LSTM(units = RANGE, activation = 'relu', return_sequences = True, input_shape = (x_shape, y_shape)))\n",
    "model.add(LSTM(units = 80, activation = 'relu'))\n",
    "model.add(Dense(units = 3, activation = 'softmax'))\n",
    "model.compile(optimizer='adam', loss = 'categorical_crossentropy', metrics=[\"acc\"])\n"
   ]
  },
  {
   "cell_type": "code",
   "execution_count": 59,
   "metadata": {},
   "outputs": [
    {
     "name": "stdout",
     "output_type": "stream",
     "text": [
      "Model: \"sequential_1\"\n",
      "_________________________________________________________________\n",
      "Layer (type)                 Output Shape              Param #   \n",
      "=================================================================\n",
      "lstm_2 (LSTM)                (None, 24, 24)            6432      \n",
      "_________________________________________________________________\n",
      "lstm_3 (LSTM)                (None, 80)                33600     \n",
      "_________________________________________________________________\n",
      "dense_1 (Dense)              (None, 3)                 243       \n",
      "=================================================================\n",
      "Total params: 40,275\n",
      "Trainable params: 40,275\n",
      "Non-trainable params: 0\n",
      "_________________________________________________________________\n"
     ]
    }
   ],
   "source": [
    "model.summary()"
   ]
  },
  {
   "cell_type": "code",
   "execution_count": 60,
   "metadata": {},
   "outputs": [
    {
     "name": "stdout",
     "output_type": "stream",
     "text": [
      "Epoch 1/100\n",
      "2242/2242 [==============================] - 27s 12ms/step - loss: 1.0967 - acc: 0.3448 - val_loss: 1.1151 - val_acc: 0.3486\n",
      "Epoch 2/100\n",
      "2242/2242 [==============================] - 27s 12ms/step - loss: 1.0953 - acc: 0.3488 - val_loss: 1.1227 - val_acc: 0.3491\n",
      "Epoch 3/100\n",
      "2242/2242 [==============================] - 27s 12ms/step - loss: 1.0928 - acc: 0.3614 - val_loss: 1.1001 - val_acc: 0.3491\n",
      "Epoch 4/100\n",
      "2242/2242 [==============================] - 28s 13ms/step - loss: 1.0884 - acc: 0.3741 - val_loss: 1.1016 - val_acc: 0.3492\n",
      "Epoch 5/100\n",
      "2242/2242 [==============================] - 26s 12ms/step - loss: 1.0847 - acc: 0.3797 - val_loss: 1.1023 - val_acc: 0.3542\n",
      "Epoch 6/100\n",
      "2242/2242 [==============================] - 26s 11ms/step - loss: 1.0811 - acc: 0.3860 - val_loss: 1.0967 - val_acc: 0.3620\n",
      "Epoch 7/100\n",
      "2242/2242 [==============================] - 26s 12ms/step - loss: 1.0778 - acc: 0.3882 - val_loss: 1.0971 - val_acc: 0.3614\n",
      "Epoch 8/100\n",
      "2242/2242 [==============================] - 26s 11ms/step - loss: 1.0752 - acc: 0.3915 - val_loss: 1.0943 - val_acc: 0.3667\n",
      "Epoch 9/100\n",
      "2242/2242 [==============================] - 26s 12ms/step - loss: 1.0724 - acc: 0.3928 - val_loss: 1.0901 - val_acc: 0.3658\n",
      "Epoch 10/100\n",
      "2242/2242 [==============================] - 26s 12ms/step - loss: 1.0712 - acc: 0.3972 - val_loss: 1.0924 - val_acc: 0.3684\n",
      "Epoch 11/100\n",
      "2242/2242 [==============================] - 26s 12ms/step - loss: 1.0698 - acc: 0.3991 - val_loss: 1.0930 - val_acc: 0.3691\n",
      "Epoch 12/100\n",
      "2242/2242 [==============================] - 26s 12ms/step - loss: 1.0681 - acc: 0.4004 - val_loss: 1.0842 - val_acc: 0.3844\n",
      "Epoch 13/100\n",
      "2242/2242 [==============================] - 26s 11ms/step - loss: 1.0671 - acc: 0.4037 - val_loss: 1.0882 - val_acc: 0.3766\n",
      "Epoch 14/100\n",
      "2242/2242 [==============================] - 26s 12ms/step - loss: 1.0661 - acc: 0.4027 - val_loss: 1.0857 - val_acc: 0.3878\n",
      "Epoch 15/100\n",
      "2242/2242 [==============================] - 26s 12ms/step - loss: 1.0653 - acc: 0.4036 - val_loss: 1.0855 - val_acc: 0.3914\n",
      "Epoch 16/100\n",
      "2242/2242 [==============================] - 26s 12ms/step - loss: 1.0643 - acc: 0.4075 - val_loss: 1.0822 - val_acc: 0.3884\n",
      "Epoch 17/100\n",
      "2242/2242 [==============================] - 27s 12ms/step - loss: 1.0641 - acc: 0.4073 - val_loss: 1.0944 - val_acc: 0.3737\n",
      "Epoch 18/100\n",
      "2242/2242 [==============================] - 27s 12ms/step - loss: 1.0630 - acc: 0.4104 - val_loss: 1.0923 - val_acc: 0.3661\n",
      "Epoch 19/100\n",
      "2242/2242 [==============================] - 26s 12ms/step - loss: 1.0628 - acc: 0.4121 - val_loss: 1.1010 - val_acc: 0.3571\n",
      "Epoch 20/100\n",
      "2242/2242 [==============================] - 26s 12ms/step - loss: 1.0623 - acc: 0.4110 - val_loss: 1.1068 - val_acc: 0.3737\n",
      "Epoch 21/100\n",
      "2242/2242 [==============================] - 27s 12ms/step - loss: 1.0614 - acc: 0.4097 - val_loss: 1.0995 - val_acc: 0.3676\n",
      "Epoch 22/100\n",
      "2242/2242 [==============================] - 27s 12ms/step - loss: 1.0617 - acc: 0.4117 - val_loss: 1.0868 - val_acc: 0.3806\n",
      "Epoch 23/100\n",
      "2242/2242 [==============================] - 26s 12ms/step - loss: 1.0604 - acc: 0.4107 - val_loss: 1.0888 - val_acc: 0.3852\n",
      "Epoch 24/100\n",
      "2242/2242 [==============================] - 26s 12ms/step - loss: 1.0598 - acc: 0.4140 - val_loss: 1.0975 - val_acc: 0.3819\n",
      "Epoch 25/100\n",
      "2242/2242 [==============================] - 26s 12ms/step - loss: 1.0600 - acc: 0.4136 - val_loss: 1.0972 - val_acc: 0.3873\n",
      "Epoch 26/100\n",
      "2242/2242 [==============================] - 27s 12ms/step - loss: 1.0587 - acc: 0.4145 - val_loss: 1.0996 - val_acc: 0.3731\n",
      "Epoch 27/100\n",
      "2242/2242 [==============================] - 26s 12ms/step - loss: 1.0588 - acc: 0.4145 - val_loss: 1.0950 - val_acc: 0.3819\n",
      "Epoch 28/100\n",
      "2242/2242 [==============================] - 26s 12ms/step - loss: 1.0581 - acc: 0.4158 - val_loss: 1.0973 - val_acc: 0.3790\n",
      "Epoch 29/100\n",
      "2242/2242 [==============================] - 27s 12ms/step - loss: 1.0578 - acc: 0.4168 - val_loss: 1.0940 - val_acc: 0.3887\n",
      "Epoch 30/100\n",
      "2242/2242 [==============================] - 26s 12ms/step - loss: 1.0575 - acc: 0.4173 - val_loss: 1.1094 - val_acc: 0.3849\n",
      "Epoch 31/100\n",
      "2242/2242 [==============================] - 26s 12ms/step - loss: 1.0569 - acc: 0.4179 - val_loss: 1.0957 - val_acc: 0.3930\n",
      "Epoch 32/100\n",
      "2242/2242 [==============================] - 27s 12ms/step - loss: 1.0569 - acc: 0.4166 - val_loss: 1.0973 - val_acc: 0.3816\n",
      "Epoch 33/100\n",
      "2242/2242 [==============================] - 26s 12ms/step - loss: 1.0568 - acc: 0.4190 - val_loss: 1.0973 - val_acc: 0.3860\n",
      "Epoch 34/100\n",
      "2242/2242 [==============================] - 26s 12ms/step - loss: 1.0556 - acc: 0.4186 - val_loss: 1.1152 - val_acc: 0.3735\n",
      "Epoch 35/100\n",
      "2242/2242 [==============================] - 26s 12ms/step - loss: 1.0553 - acc: 0.4195 - val_loss: 1.0999 - val_acc: 0.3775\n",
      "Epoch 36/100\n",
      "2242/2242 [==============================] - 26s 12ms/step - loss: 1.0551 - acc: 0.4196 - val_loss: 1.0997 - val_acc: 0.3875\n",
      "Epoch 37/100\n",
      "2242/2242 [==============================] - 27s 12ms/step - loss: 1.0547 - acc: 0.4205 - val_loss: 1.1019 - val_acc: 0.3757\n",
      "Epoch 38/100\n",
      "2242/2242 [==============================] - 26s 12ms/step - loss: 1.0543 - acc: 0.4216 - val_loss: 1.1080 - val_acc: 0.3765\n",
      "Epoch 39/100\n",
      "2242/2242 [==============================] - 26s 12ms/step - loss: 1.0538 - acc: 0.4221 - val_loss: 1.0958 - val_acc: 0.3816\n",
      "Epoch 40/100\n",
      "2242/2242 [==============================] - 27s 12ms/step - loss: 1.0536 - acc: 0.4213 - val_loss: 1.1176 - val_acc: 0.3747\n",
      "Epoch 41/100\n",
      "2242/2242 [==============================] - 26s 12ms/step - loss: 1.0532 - acc: 0.4225 - val_loss: 1.1169 - val_acc: 0.3762\n",
      "Epoch 42/100\n",
      "2242/2242 [==============================] - 27s 12ms/step - loss: 1.0531 - acc: 0.4221 - val_loss: 1.1019 - val_acc: 0.3816\n",
      "Epoch 43/100\n",
      "2242/2242 [==============================] - 26s 12ms/step - loss: 1.0526 - acc: 0.4255 - val_loss: 1.1047 - val_acc: 0.3769\n",
      "Epoch 44/100\n",
      "2242/2242 [==============================] - 27s 12ms/step - loss: 1.0526 - acc: 0.4243 - val_loss: 1.1098 - val_acc: 0.3828\n",
      "Epoch 45/100\n",
      "2242/2242 [==============================] - 26s 12ms/step - loss: 1.0522 - acc: 0.4211 - val_loss: 1.1155 - val_acc: 0.3824\n",
      "Epoch 46/100\n",
      "2242/2242 [==============================] - 26s 12ms/step - loss: 1.0576 - acc: 0.4219 - val_loss: 1.1082 - val_acc: 0.3861\n",
      "Epoch 47/100\n",
      "2242/2242 [==============================] - 26s 12ms/step - loss: 1.0522 - acc: 0.4233 - val_loss: 1.1148 - val_acc: 0.3811\n",
      "Epoch 48/100\n",
      "2242/2242 [==============================] - 26s 12ms/step - loss: 1.0516 - acc: 0.4241 - val_loss: 1.1160 - val_acc: 0.3852\n",
      "Epoch 49/100\n",
      "2242/2242 [==============================] - 27s 12ms/step - loss: 1.0515 - acc: 0.4242 - val_loss: 1.1092 - val_acc: 0.3869\n",
      "Epoch 50/100\n",
      "2242/2242 [==============================] - 26s 12ms/step - loss: 1.0512 - acc: 0.4255 - val_loss: 1.1079 - val_acc: 0.3827\n",
      "Epoch 51/100\n",
      "2242/2242 [==============================] - 26s 12ms/step - loss: 1.0510 - acc: 0.4266 - val_loss: 1.1098 - val_acc: 0.3759\n",
      "Epoch 52/100\n",
      "2242/2242 [==============================] - 27s 12ms/step - loss: 1.0512 - acc: 0.4253 - val_loss: 1.1045 - val_acc: 0.3829\n",
      "Epoch 53/100\n",
      "2242/2242 [==============================] - 27s 12ms/step - loss: 1.0504 - acc: 0.4281 - val_loss: 1.1076 - val_acc: 0.3818\n",
      "Epoch 54/100\n",
      "2242/2242 [==============================] - 26s 12ms/step - loss: 1.0503 - acc: 0.4280 - val_loss: 1.1158 - val_acc: 0.3817\n",
      "Epoch 55/100\n",
      "2242/2242 [==============================] - 26s 12ms/step - loss: 1.0501 - acc: 0.4280 - val_loss: 1.1204 - val_acc: 0.3787\n",
      "Epoch 56/100\n",
      "2242/2242 [==============================] - 26s 12ms/step - loss: 1.0496 - acc: 0.4285 - val_loss: 1.1180 - val_acc: 0.3801\n",
      "Epoch 57/100\n",
      "2242/2242 [==============================] - 26s 12ms/step - loss: 1.0494 - acc: 0.4271 - val_loss: 1.1082 - val_acc: 0.3801\n",
      "Epoch 58/100\n",
      "2242/2242 [==============================] - 26s 12ms/step - loss: 1.0494 - acc: 0.4270 - val_loss: 1.1200 - val_acc: 0.3815\n",
      "Epoch 59/100\n",
      "2242/2242 [==============================] - 26s 12ms/step - loss: 1.0485 - acc: 0.4266 - val_loss: 1.1239 - val_acc: 0.3763\n",
      "Epoch 60/100\n",
      "2242/2242 [==============================] - 26s 12ms/step - loss: 1.0493 - acc: 0.4264 - val_loss: 1.1151 - val_acc: 0.3786\n",
      "Epoch 61/100\n",
      "2242/2242 [==============================] - 26s 12ms/step - loss: 1.0481 - acc: 0.4279 - val_loss: 1.1195 - val_acc: 0.3782\n",
      "Epoch 62/100\n",
      "2242/2242 [==============================] - 26s 12ms/step - loss: 1.0487 - acc: 0.4271 - val_loss: 1.1202 - val_acc: 0.3741\n",
      "Epoch 63/100\n",
      "2242/2242 [==============================] - 26s 12ms/step - loss: 1.0475 - acc: 0.4280 - val_loss: 1.1213 - val_acc: 0.3790\n",
      "Epoch 64/100\n",
      "2242/2242 [==============================] - 26s 12ms/step - loss: 1.0468 - acc: 0.4319 - val_loss: 1.1263 - val_acc: 0.3765\n",
      "Epoch 65/100\n",
      "2242/2242 [==============================] - 26s 12ms/step - loss: 1.0470 - acc: 0.4284 - val_loss: 1.1532 - val_acc: 0.3716\n",
      "Epoch 66/100\n",
      "2242/2242 [==============================] - 26s 12ms/step - loss: 1.0468 - acc: 0.4312 - val_loss: 1.1264 - val_acc: 0.3831\n",
      "Epoch 67/100\n",
      "2242/2242 [==============================] - 26s 12ms/step - loss: 1.0464 - acc: 0.4301 - val_loss: 1.1437 - val_acc: 0.3749\n",
      "Epoch 68/100\n",
      "2242/2242 [==============================] - 26s 12ms/step - loss: 1.0459 - acc: 0.4323 - val_loss: 1.1325 - val_acc: 0.3752\n",
      "Epoch 69/100\n",
      "2242/2242 [==============================] - 26s 12ms/step - loss: 1.0452 - acc: 0.4329 - val_loss: 1.1383 - val_acc: 0.3768\n",
      "Epoch 70/100\n",
      "2242/2242 [==============================] - 26s 11ms/step - loss: 1.0452 - acc: 0.4342 - val_loss: 1.1198 - val_acc: 0.3817\n",
      "Epoch 71/100\n",
      "2242/2242 [==============================] - 26s 12ms/step - loss: 1.0454 - acc: 0.4350 - val_loss: 1.1349 - val_acc: 0.3790\n",
      "Epoch 72/100\n",
      "2242/2242 [==============================] - 26s 11ms/step - loss: 1.0446 - acc: 0.4346 - val_loss: 1.1266 - val_acc: 0.3773\n",
      "Epoch 73/100\n",
      "2242/2242 [==============================] - 26s 11ms/step - loss: 1.0440 - acc: 0.4342 - val_loss: 1.1402 - val_acc: 0.3765\n",
      "Epoch 74/100\n",
      "2242/2242 [==============================] - 26s 12ms/step - loss: 1.0430 - acc: 0.4360 - val_loss: 1.1416 - val_acc: 0.3741\n",
      "Epoch 75/100\n",
      "2242/2242 [==============================] - 26s 12ms/step - loss: 1.0437 - acc: 0.4334 - val_loss: 1.1456 - val_acc: 0.3858\n",
      "Epoch 76/100\n",
      "2242/2242 [==============================] - 26s 12ms/step - loss: 1.0428 - acc: 0.4362 - val_loss: 1.1456 - val_acc: 0.3768\n",
      "Epoch 77/100\n",
      "2242/2242 [==============================] - 26s 12ms/step - loss: 1.0420 - acc: 0.4382 - val_loss: 1.1428 - val_acc: 0.3701\n",
      "Epoch 78/100\n",
      "2242/2242 [==============================] - 26s 12ms/step - loss: 1.0421 - acc: 0.4378 - val_loss: 1.1517 - val_acc: 0.3733\n",
      "Epoch 79/100\n",
      "2242/2242 [==============================] - 26s 12ms/step - loss: 1.0415 - acc: 0.4359 - val_loss: 1.1512 - val_acc: 0.3704\n",
      "Epoch 80/100\n",
      "2242/2242 [==============================] - 26s 12ms/step - loss: 1.0413 - acc: 0.4374 - val_loss: 1.1620 - val_acc: 0.3842\n",
      "Epoch 81/100\n",
      "2242/2242 [==============================] - 26s 12ms/step - loss: 1.0414 - acc: 0.4370 - val_loss: 1.1360 - val_acc: 0.3803\n",
      "Epoch 82/100\n",
      "2242/2242 [==============================] - 27s 12ms/step - loss: 1.0404 - acc: 0.4392 - val_loss: 1.1730 - val_acc: 0.3750\n",
      "Epoch 83/100\n",
      "2242/2242 [==============================] - 26s 12ms/step - loss: 1.0407 - acc: 0.4386 - val_loss: 1.1594 - val_acc: 0.3747\n",
      "Epoch 84/100\n",
      "2242/2242 [==============================] - 27s 12ms/step - loss: 1.0402 - acc: 0.4411 - val_loss: 1.1539 - val_acc: 0.3736\n",
      "Epoch 85/100\n",
      "2242/2242 [==============================] - 26s 12ms/step - loss: 1.0396 - acc: 0.4394 - val_loss: 1.1487 - val_acc: 0.3776\n",
      "Epoch 86/100\n",
      "2242/2242 [==============================] - 26s 12ms/step - loss: 1.0397 - acc: 0.4412 - val_loss: 1.1520 - val_acc: 0.3781\n",
      "Epoch 87/100\n",
      "2242/2242 [==============================] - 26s 12ms/step - loss: 1.0387 - acc: 0.4394 - val_loss: 1.1363 - val_acc: 0.3788\n",
      "Epoch 88/100\n",
      "2242/2242 [==============================] - 26s 12ms/step - loss: 1.0406 - acc: 0.4412 - val_loss: 1.1429 - val_acc: 0.3806\n",
      "Epoch 89/100\n",
      "2242/2242 [==============================] - 26s 12ms/step - loss: 1.0386 - acc: 0.4403 - val_loss: 1.1715 - val_acc: 0.3702\n",
      "Epoch 90/100\n",
      "2242/2242 [==============================] - 26s 12ms/step - loss: 1.0385 - acc: 0.4405 - val_loss: 1.1641 - val_acc: 0.3810\n",
      "Epoch 91/100\n",
      "2242/2242 [==============================] - 26s 12ms/step - loss: 1.0804 - acc: 0.3925 - val_loss: 1.1328 - val_acc: 0.3439\n",
      "Epoch 92/100\n",
      "2242/2242 [==============================] - 26s 12ms/step - loss: 1.0814 - acc: 0.3848 - val_loss: 1.1101 - val_acc: 0.3572\n",
      "Epoch 93/100\n",
      "2242/2242 [==============================] - 26s 12ms/step - loss: 1.0716 - acc: 0.3972 - val_loss: 1.1146 - val_acc: 0.3537\n",
      "Epoch 94/100\n",
      "2242/2242 [==============================] - 26s 12ms/step - loss: 1.0686 - acc: 0.4041 - val_loss: 1.1217 - val_acc: 0.3545\n",
      "Epoch 95/100\n",
      "2242/2242 [==============================] - 26s 12ms/step - loss: 1.0652 - acc: 0.4074 - val_loss: 1.1309 - val_acc: 0.3576\n",
      "Epoch 96/100\n",
      "2242/2242 [==============================] - 26s 12ms/step - loss: 1.0624 - acc: 0.4109 - val_loss: 1.1242 - val_acc: 0.3645\n",
      "Epoch 97/100\n",
      "2242/2242 [==============================] - 26s 12ms/step - loss: 1.0577 - acc: 0.4159 - val_loss: 1.1051 - val_acc: 0.3699\n",
      "Epoch 98/100\n",
      "2242/2242 [==============================] - 26s 12ms/step - loss: 1.0524 - acc: 0.4237 - val_loss: 1.1473 - val_acc: 0.3718\n",
      "Epoch 99/100\n",
      "2242/2242 [==============================] - 26s 12ms/step - loss: 1.0458 - acc: 0.4329 - val_loss: 1.1449 - val_acc: 0.3749\n",
      "Epoch 100/100\n",
      "2242/2242 [==============================] - 26s 12ms/step - loss: 1.0427 - acc: 0.4359 - val_loss: 1.1572 - val_acc: 0.3766\n"
     ]
    }
   ],
   "source": [
    "history = model.fit(X_train_np, y_train_np, epochs=EPOCHS, batch_size=BATCH_SIZE, validation_data=(X_val_np, y_val_np),shuffle=True)"
   ]
  },
  {
   "cell_type": "code",
   "execution_count": 61,
   "metadata": {},
   "outputs": [
    {
     "name": "stdout",
     "output_type": "stream",
     "text": [
      "dict_keys(['loss', 'acc', 'val_loss', 'val_acc'])\n"
     ]
    }
   ],
   "source": [
    "print(history.history.keys())"
   ]
  },
  {
   "cell_type": "code",
   "execution_count": 62,
   "metadata": {},
   "outputs": [
    {
     "data": {
      "image/png": "[encoded data removed]",
      "text/plain": [
       "<Figure size 432x288 with 1 Axes>"
      ]
     },
     "metadata": {
      "needs_background": "light"
     },
     "output_type": "display_data"
    }
   ],
   "source": [
    "plt.plot(history.history['acc'])\n",
    "plt.plot(history.history['val_acc'])\n",
    "plt.title('model accuracy')\n",
    "plt.ylabel('accuracy')\n",
    "plt.xlabel('epoch')\n",
    "plt.legend(['train', 'val'], loc='upper left')\n",
    "plt.show()"
   ]
  },
  {
   "cell_type": "code",
   "execution_count": 63,
   "metadata": {},
   "outputs": [
    {
     "data": {
      "image/png": "[encoded data removed]",
      "text/plain": [
       "<Figure size 432x288 with 1 Axes>"
      ]
     },
     "metadata": {
      "needs_background": "light"
     },
     "output_type": "display_data"
    }
   ],
   "source": [
    "plt.plot(history.history['loss'])\n",
    "plt.plot(history.history['val_loss'])\n",
    "plt.title('model loss')\n",
    "plt.ylabel('loss')\n",
    "plt.xlabel('epoch')\n",
    "plt.legend(['train', 'val'], loc='upper left')\n",
    "plt.show()"
   ]
  },
  {
   "cell_type": "code",
   "execution_count": 64,
   "metadata": {},
   "outputs": [
    {
     "name": "stdout",
     "output_type": "stream",
     "text": [
      "C:\\Users\\marami3\\Documents\\ITESO\\IDI4\\forex_prediction\\Jupyter Notebooks\\IDI4\\models_clasification\\../../../Models/2020/LSTM/\n"
     ]
    }
   ],
   "source": [
    "pwd = os.getcwd()\n",
    "source_data = os.path.join(pwd, r'../../../Models/2020/LSTM/')\n",
    "print(source_data)"
   ]
  },
  {
   "cell_type": "code",
   "execution_count": 65,
   "metadata": {},
   "outputs": [
    {
     "name": "stdout",
     "output_type": "stream",
     "text": [
      "3C-1H-LSTM_1H_43F_Class_01\n"
     ]
    }
   ],
   "source": [
    "file_name = MODEL_NAME + '_' + FRECUENCIA + '_' + str(NUM_FEATURES) + 'F_' + TARGET_NAME + \"_\"+ ID \n",
    "print(file_name)\n",
    "\n"
   ]
  },
  {
   "cell_type": "code",
   "execution_count": 66,
   "metadata": {},
   "outputs": [],
   "source": [
    "model.save(source_data + file_name + '.hdf5')"
   ]
  },
  {
   "cell_type": "code",
   "execution_count": 67,
   "metadata": {},
   "outputs": [
    {
     "name": "stdout",
     "output_type": "stream",
     "text": [
      "C:\\Users\\marami3\\Documents\\ITESO\\IDI4\\forex_prediction\\Jupyter Notebooks\\IDI4\\models_clasification\\../../../Models/2020/LSTM/3C-1H-LSTM_1H_43F_Class_01\n"
     ]
    }
   ],
   "source": [
    "#Load Model\n",
    "filepath = os.path.join(source_data, file_name)\n",
    "print(filepath)\n",
    "model = tf.keras.models.load_model(filepath+'.hdf5')\n",
    "FILENAME = os.path.splitext(file_name)[0]\n",
    "\n",
    "\n"
   ]
  },
  {
   "cell_type": "code",
   "execution_count": 68,
   "metadata": {},
   "outputs": [],
   "source": [
    "def precision(label, confusion_matrix):\n",
    "    #print('label',label)\n",
    "    col = confusion_matrix[:, label]\n",
    "    return confusion_matrix[label, label] / col.sum()\n",
    "    \n",
    "def recall(label, confusion_matrix):\n",
    "    row = confusion_matrix[label, :]\n",
    "    return confusion_matrix[label, label] / row.sum()\n",
    "\n",
    "def precision_macro_average(confusion_matrix):\n",
    "    rows, columns = confusion_matrix.shape\n",
    "    sum_of_precisions = 0\n",
    "    for label in range(rows):\n",
    "        sum_of_precisions += precision(label, confusion_matrix)\n",
    "    return sum_of_precisions / rows\n",
    "\n",
    "def recall_macro_average(confusion_matrix):\n",
    "    rows, columns = confusion_matrix.shape\n",
    "    sum_of_recalls = 0\n",
    "    for label in range(columns):\n",
    "        sum_of_recalls += recall(label, confusion_matrix)\n",
    "    return sum_of_recalls / columns\n",
    "\n",
    "def accuracy(confusion_matrix):\n",
    "    diagonal_sum = confusion_matrix.trace()\n",
    "    sum_of_all_elements = confusion_matrix.sum()\n",
    "    return diagonal_sum / sum_of_all_elements "
   ]
  },
  {
   "cell_type": "markdown",
   "metadata": {},
   "source": [
    "### CONFUSION MATRIX TEST"
   ]
  },
  {
   "cell_type": "code",
   "execution_count": 69,
   "metadata": {
    "colab": {},
    "colab_type": "code",
    "id": "NOvVxqGhoBMG",
    "outputId": "7b1cabe0-9caa-4e51-ad2e-19ddb4f6aa50"
   },
   "outputs": [
    {
     "name": "stdout",
     "output_type": "stream",
     "text": [
      "(20304, 24, 42)\n",
      "(20304, 3)\n",
      "(20304, 3)\n"
     ]
    }
   ],
   "source": [
    "#TEST\n",
    "y_test_pred = model.predict(X_test_np)\n",
    "print(X_test_np.shape)\n",
    "\n",
    "print(y_test_pred.shape)\n",
    "print(y_test_np.shape)"
   ]
  },
  {
   "cell_type": "code",
   "execution_count": 70,
   "metadata": {},
   "outputs": [
    {
     "name": "stdout",
     "output_type": "stream",
     "text": [
      "[0.20107125 0.50254345 0.29638532]\n",
      "[[0. 0. 1.]\n",
      " [1. 0. 0.]\n",
      " [0. 0. 1.]\n",
      " [0. 1. 0.]]\n"
     ]
    }
   ],
   "source": [
    "ID = 4\n",
    "print(y_test_pred[ID])\n",
    "print(y_test_np[:ID])"
   ]
  },
  {
   "cell_type": "code",
   "execution_count": 71,
   "metadata": {},
   "outputs": [
    {
     "name": "stdout",
     "output_type": "stream",
     "text": [
      "[ 0.  0.  0. ... -1. -1. -1.]\n",
      "(20304,)\n",
      "[ 1. -1.  1. ...  0.  1.  0.]\n",
      "(20304,)\n"
     ]
    }
   ],
   "source": [
    "uniques_y_test_pred = uniques[y_test_pred.argmax(1)]\n",
    "uniques_y_test_np = uniques[y_test_np.argmax(1)]\n",
    "print(uniques_y_test_pred)\n",
    "print(uniques_y_test_pred.shape)\n",
    "print(uniques_y_test_np)\n",
    "print(uniques_y_test_np.shape)"
   ]
  },
  {
   "cell_type": "code",
   "execution_count": 72,
   "metadata": {},
   "outputs": [
    {
     "name": "stdout",
     "output_type": "stream",
     "text": [
      "[-1.  0.  1.]\n"
     ]
    }
   ],
   "source": [
    "print(uniques)"
   ]
  },
  {
   "cell_type": "code",
   "execution_count": 73,
   "metadata": {},
   "outputs": [
    {
     "data": {
      "text/plain": [
       "array([[1960,  983, 3130],\n",
       "       [2242, 2419, 3485],\n",
       "       [1886, 1069, 3130]], dtype=int64)"
      ]
     },
     "execution_count": 73,
     "metadata": {},
     "output_type": "execute_result"
    }
   ],
   "source": [
    "conf_matrix_test = confusion_matrix(uniques_y_test_np, uniques_y_test_pred)\n",
    "conf_matrix_test"
   ]
  },
  {
   "cell_type": "code",
   "execution_count": 74,
   "metadata": {},
   "outputs": [
    {
     "name": "stdout",
     "output_type": "stream",
     "text": [
      "indx Value Precision Recall\n",
      "0\n",
      "   -1        0.322     0.323\n",
      "1\n",
      "    0        0.541     0.297\n",
      "2\n",
      "    1        0.321     0.514\n"
     ]
    }
   ],
   "source": [
    "print(\"indx Value Precision Recall\")\n",
    "for label in uniques:\n",
    "    indx = int(np.where(uniques == label)[0])\n",
    "    print (indx)\n",
    "    print(f\"{int(label):5d}    {precision(indx, conf_matrix_test):9.3f}    {recall(indx, conf_matrix_test):6.3f}\")"
   ]
  },
  {
   "cell_type": "code",
   "execution_count": 75,
   "metadata": {},
   "outputs": [
    {
     "name": "stdout",
     "output_type": "stream",
     "text": [
      "precision total: 0.39472581197040624\n",
      "recall total: 0.37802505991321267\n"
     ]
    }
   ],
   "source": [
    "print(\"precision total:\", precision_macro_average(conf_matrix_test))\n",
    "print(\"recall total:\", recall_macro_average(conf_matrix_test))"
   ]
  },
  {
   "cell_type": "code",
   "execution_count": 76,
   "metadata": {},
   "outputs": [
    {
     "data": {
      "text/plain": [
       "0.3698286052009456"
      ]
     },
     "execution_count": 76,
     "metadata": {},
     "output_type": "execute_result"
    }
   ],
   "source": [
    "accuracy(conf_matrix_test)"
   ]
  },
  {
   "cell_type": "markdown",
   "metadata": {},
   "source": [
    "### CONFUSION MATRIX TRAIN"
   ]
  },
  {
   "cell_type": "code",
   "execution_count": 77,
   "metadata": {},
   "outputs": [
    {
     "name": "stdout",
     "output_type": "stream",
     "text": [
      "(71736, 24, 42)\n",
      "(71736, 3)\n",
      "(71736, 3)\n"
     ]
    }
   ],
   "source": [
    "#TRAIN\n",
    "y_train_pred = model.predict(X_train_np)\n",
    "print(X_train_np.shape)\n",
    "\n",
    "print(y_train_pred.shape)\n",
    "print(y_train_np.shape)"
   ]
  },
  {
   "cell_type": "code",
   "execution_count": 78,
   "metadata": {},
   "outputs": [
    {
     "name": "stdout",
     "output_type": "stream",
     "text": [
      "[[0.4273215  0.16742413 0.40525433]\n",
      " [0.4414617  0.18764111 0.37089717]\n",
      " [0.42725593 0.24365677 0.32908735]\n",
      " [0.40707886 0.21833959 0.3745816 ]]\n",
      "[[1. 0. 0.]\n",
      " [0. 0. 1.]\n",
      " [1. 0. 0.]\n",
      " [0. 0. 1.]]\n"
     ]
    }
   ],
   "source": [
    "ID = 4\n",
    "print(y_train_pred[:ID])\n",
    "print(y_train_np[:ID])"
   ]
  },
  {
   "cell_type": "code",
   "execution_count": 79,
   "metadata": {},
   "outputs": [
    {
     "name": "stdout",
     "output_type": "stream",
     "text": [
      "[-1. -1. -1. ...  1.  1.  1.]\n",
      "(71736,)\n",
      "[-1.  1. -1. ... -1. -1.  1.]\n",
      "(71736,)\n"
     ]
    }
   ],
   "source": [
    "uniques_y_train_pred = uniques[y_train_pred.argmax(1)]\n",
    "uniques_y_train_np = uniques[y_train_np.argmax(1)]\n",
    "print(uniques_y_train_pred)\n",
    "print(uniques_y_train_pred.shape)\n",
    "print(uniques_y_train_np)\n",
    "print(uniques_y_train_np.shape)"
   ]
  },
  {
   "cell_type": "code",
   "execution_count": 80,
   "metadata": {},
   "outputs": [
    {
     "name": "stdout",
     "output_type": "stream",
     "text": [
      "[-1.  0.  1.]\n"
     ]
    }
   ],
   "source": [
    "print(uniques)"
   ]
  },
  {
   "cell_type": "code",
   "execution_count": 81,
   "metadata": {},
   "outputs": [
    {
     "data": {
      "text/plain": [
       "array([[10008,  5976,  8744],\n",
       "       [ 5172, 11364,  5605],\n",
       "       [ 8411,  6142, 10314]], dtype=int64)"
      ]
     },
     "execution_count": 81,
     "metadata": {},
     "output_type": "execute_result"
    }
   ],
   "source": [
    "conf_matrix_train = confusion_matrix(uniques_y_train_np, uniques_y_train_pred)\n",
    "conf_matrix_train"
   ]
  },
  {
   "cell_type": "code",
   "execution_count": 82,
   "metadata": {},
   "outputs": [
    {
     "name": "stdout",
     "output_type": "stream",
     "text": [
      "indx Value Precision Recall\n",
      "0\n",
      "   -1        0.424     0.405\n",
      "1\n",
      "    0        0.484     0.513\n",
      "2\n",
      "    1        0.418     0.415\n"
     ]
    }
   ],
   "source": [
    "print(\"indx Value Precision Recall\")\n",
    "for label in uniques:\n",
    "    indx = int(np.where(uniques == label)[0])\n",
    "    print (indx)\n",
    "    print(f\"{int(label):5d}    {precision(indx, conf_matrix_train):9.3f}    {recall(indx, conf_matrix_train):6.3f}\")"
   ]
  },
  {
   "cell_type": "code",
   "execution_count": 83,
   "metadata": {},
   "outputs": [
    {
     "name": "stdout",
     "output_type": "stream",
     "text": [
      "precision total: 0.44212400938385005\n",
      "recall total: 0.4442486330255409\n"
     ]
    }
   ],
   "source": [
    "print(\"precision total:\", precision_macro_average(conf_matrix_train))\n",
    "print(\"recall total:\", recall_macro_average(conf_matrix_train))"
   ]
  },
  {
   "cell_type": "code",
   "execution_count": 84,
   "metadata": {},
   "outputs": [
    {
     "data": {
      "text/plain": [
       "0.4417029106724657"
      ]
     },
     "execution_count": 84,
     "metadata": {},
     "output_type": "execute_result"
    }
   ],
   "source": [
    "accuracy(conf_matrix_train)"
   ]
  },
  {
   "cell_type": "markdown",
   "metadata": {},
   "source": [
    "### TEST RESULTS TO CSV"
   ]
  },
  {
   "cell_type": "code",
   "execution_count": 85,
   "metadata": {},
   "outputs": [
    {
     "name": "stdout",
     "output_type": "stream",
     "text": [
      "data_test.shape:  (20304, 42)\n"
     ]
    }
   ],
   "source": [
    "print(\"data_test.shape: \", data_test.shape)\n"
   ]
  },
  {
   "cell_type": "code",
   "execution_count": 86,
   "metadata": {},
   "outputs": [
    {
     "name": "stdout",
     "output_type": "stream",
     "text": [
      "          Open     High      Low    Close      Volume\n",
      "0      1.05809  1.05898  1.05769  1.05892   6150.9399\n",
      "1      1.05891  1.05986  1.05847  1.05958  11677.7197\n",
      "2      1.05957  1.06041  1.05744  1.05765  15785.2197\n",
      "3      1.05765  1.05956  1.05708  1.05935  14816.4902\n",
      "4      1.05934  1.05946  1.05835  1.05927  10641.8301\n",
      "...        ...      ...      ...      ...         ...\n",
      "20299  1.10998  1.11070  1.10862  1.10998  12120.8398\n",
      "20300  1.10997  1.11094  1.10982  1.11071   4646.7427\n",
      "20301  1.11213  1.11217  1.11136  1.11141    417.4906\n",
      "20302  1.11138  1.11148  1.11028  1.11123   4549.1167\n",
      "20303  1.11123  1.11199  1.11119  1.11158   5159.8101\n",
      "\n",
      "[20304 rows x 5 columns]\n"
     ]
    }
   ],
   "source": [
    "data_test_res = data_test\n",
    "data_test_res.reset_index(drop=True, inplace=True)\n",
    "results_data_test = pd.DataFrame(data_test_res['Open'])\n",
    "results_data_test['High'] = data_test_res['High']\n",
    "results_data_test['Low'] = data_test_res['Low']\n",
    "results_data_test['Close'] = data_test_res['Close']\n",
    "results_data_test['Volume'] = data_test_res['Volume']\n",
    "print(results_data_test)"
   ]
  },
  {
   "cell_type": "code",
   "execution_count": 87,
   "metadata": {},
   "outputs": [
    {
     "data": {
      "text/plain": [
       "array([ 0.,  0.,  0., ..., -1., -1., -1.])"
      ]
     },
     "execution_count": 87,
     "metadata": {},
     "output_type": "execute_result"
    }
   ],
   "source": [
    "uniques_y_test_pred[:]"
   ]
  },
  {
   "cell_type": "code",
   "execution_count": 88,
   "metadata": {},
   "outputs": [
    {
     "name": "stdout",
     "output_type": "stream",
     "text": [
      "       Real_Class\n",
      "0             0.0\n",
      "1             0.0\n",
      "2             0.0\n",
      "3             0.0\n",
      "4             0.0\n",
      "...           ...\n",
      "20299        -1.0\n",
      "20300        -1.0\n",
      "20301        -1.0\n",
      "20302        -1.0\n",
      "20303        -1.0\n",
      "\n",
      "[20304 rows x 1 columns]\n"
     ]
    }
   ],
   "source": [
    "\n",
    "uniques_y_test_pred_pd = pd.DataFrame({'Real_Class': uniques_y_test_pred[:]})\n",
    "print(uniques_y_test_pred_pd)"
   ]
  },
  {
   "cell_type": "code",
   "execution_count": 89,
   "metadata": {},
   "outputs": [],
   "source": [
    "results_data_test['Real_Class'] = uniques_y_test_np\n",
    "results_data_test['Predicted_Class'] = uniques_y_test_pred_pd"
   ]
  },
  {
   "cell_type": "code",
   "execution_count": 90,
   "metadata": {},
   "outputs": [
    {
     "data": {
      "text/html": [
       "<div>\n",
       "<style scoped>\n",
       "    .dataframe tbody tr th:only-of-type {\n",
       "        vertical-align: middle;\n",
       "    }\n",
       "\n",
       "    .dataframe tbody tr th {\n",
       "        vertical-align: top;\n",
       "    }\n",
       "\n",
       "    .dataframe thead th {\n",
       "        text-align: right;\n",
       "    }\n",
       "</style>\n",
       "<table border=\"1\" class=\"dataframe\">\n",
       "  <thead>\n",
       "    <tr style=\"text-align: right;\">\n",
       "      <th></th>\n",
       "      <th>Open</th>\n",
       "      <th>High</th>\n",
       "      <th>Low</th>\n",
       "      <th>Close</th>\n",
       "      <th>Volume</th>\n",
       "      <th>Real_Class</th>\n",
       "      <th>Predicted_Class</th>\n",
       "    </tr>\n",
       "  </thead>\n",
       "  <tbody>\n",
       "    <tr>\n",
       "      <th>0</th>\n",
       "      <td>1.05809</td>\n",
       "      <td>1.05898</td>\n",
       "      <td>1.05769</td>\n",
       "      <td>1.05892</td>\n",
       "      <td>6150.9399</td>\n",
       "      <td>1.0</td>\n",
       "      <td>0.0</td>\n",
       "    </tr>\n",
       "    <tr>\n",
       "      <th>1</th>\n",
       "      <td>1.05891</td>\n",
       "      <td>1.05986</td>\n",
       "      <td>1.05847</td>\n",
       "      <td>1.05958</td>\n",
       "      <td>11677.7197</td>\n",
       "      <td>-1.0</td>\n",
       "      <td>0.0</td>\n",
       "    </tr>\n",
       "    <tr>\n",
       "      <th>2</th>\n",
       "      <td>1.05957</td>\n",
       "      <td>1.06041</td>\n",
       "      <td>1.05744</td>\n",
       "      <td>1.05765</td>\n",
       "      <td>15785.2197</td>\n",
       "      <td>1.0</td>\n",
       "      <td>0.0</td>\n",
       "    </tr>\n",
       "    <tr>\n",
       "      <th>3</th>\n",
       "      <td>1.05765</td>\n",
       "      <td>1.05956</td>\n",
       "      <td>1.05708</td>\n",
       "      <td>1.05935</td>\n",
       "      <td>14816.4902</td>\n",
       "      <td>0.0</td>\n",
       "      <td>0.0</td>\n",
       "    </tr>\n",
       "    <tr>\n",
       "      <th>4</th>\n",
       "      <td>1.05934</td>\n",
       "      <td>1.05946</td>\n",
       "      <td>1.05835</td>\n",
       "      <td>1.05927</td>\n",
       "      <td>10641.8301</td>\n",
       "      <td>1.0</td>\n",
       "      <td>0.0</td>\n",
       "    </tr>\n",
       "    <tr>\n",
       "      <th>5</th>\n",
       "      <td>1.05925</td>\n",
       "      <td>1.06104</td>\n",
       "      <td>1.05890</td>\n",
       "      <td>1.06081</td>\n",
       "      <td>13180.9697</td>\n",
       "      <td>0.0</td>\n",
       "      <td>-1.0</td>\n",
       "    </tr>\n",
       "    <tr>\n",
       "      <th>6</th>\n",
       "      <td>1.06082</td>\n",
       "      <td>1.06181</td>\n",
       "      <td>1.06036</td>\n",
       "      <td>1.06089</td>\n",
       "      <td>14419.7803</td>\n",
       "      <td>1.0</td>\n",
       "      <td>-1.0</td>\n",
       "    </tr>\n",
       "    <tr>\n",
       "      <th>7</th>\n",
       "      <td>1.06092</td>\n",
       "      <td>1.06179</td>\n",
       "      <td>1.06055</td>\n",
       "      <td>1.06139</td>\n",
       "      <td>15307.1904</td>\n",
       "      <td>-1.0</td>\n",
       "      <td>-1.0</td>\n",
       "    </tr>\n",
       "    <tr>\n",
       "      <th>8</th>\n",
       "      <td>1.06136</td>\n",
       "      <td>1.06153</td>\n",
       "      <td>1.05658</td>\n",
       "      <td>1.05724</td>\n",
       "      <td>25968.0293</td>\n",
       "      <td>-1.0</td>\n",
       "      <td>-1.0</td>\n",
       "    </tr>\n",
       "    <tr>\n",
       "      <th>9</th>\n",
       "      <td>1.05719</td>\n",
       "      <td>1.05900</td>\n",
       "      <td>1.05668</td>\n",
       "      <td>1.05668</td>\n",
       "      <td>19795.0098</td>\n",
       "      <td>1.0</td>\n",
       "      <td>-1.0</td>\n",
       "    </tr>\n",
       "  </tbody>\n",
       "</table>\n",
       "</div>"
      ],
      "text/plain": [
       "      Open     High      Low    Close      Volume  Real_Class  Predicted_Class\n",
       "0  1.05809  1.05898  1.05769  1.05892   6150.9399         1.0              0.0\n",
       "1  1.05891  1.05986  1.05847  1.05958  11677.7197        -1.0              0.0\n",
       "2  1.05957  1.06041  1.05744  1.05765  15785.2197         1.0              0.0\n",
       "3  1.05765  1.05956  1.05708  1.05935  14816.4902         0.0              0.0\n",
       "4  1.05934  1.05946  1.05835  1.05927  10641.8301         1.0              0.0\n",
       "5  1.05925  1.06104  1.05890  1.06081  13180.9697         0.0             -1.0\n",
       "6  1.06082  1.06181  1.06036  1.06089  14419.7803         1.0             -1.0\n",
       "7  1.06092  1.06179  1.06055  1.06139  15307.1904        -1.0             -1.0\n",
       "8  1.06136  1.06153  1.05658  1.05724  25968.0293        -1.0             -1.0\n",
       "9  1.05719  1.05900  1.05668  1.05668  19795.0098         1.0             -1.0"
      ]
     },
     "execution_count": 90,
     "metadata": {},
     "output_type": "execute_result"
    }
   ],
   "source": [
    "results_data_test.head(10)"
   ]
  },
  {
   "cell_type": "markdown",
   "metadata": {},
   "source": [
    "### Test Result Save CSV File "
   ]
  },
  {
   "cell_type": "code",
   "execution_count": 91,
   "metadata": {},
   "outputs": [
    {
     "name": "stdout",
     "output_type": "stream",
     "text": [
      "C:\\Users\\marami3\\Documents\\ITESO\\IDI4\\forex_prediction\\Jupyter Notebooks\\IDI4\\models_clasification\\../../../Results/LSTM/3C-1H-LSTM_1H_43F_Class_01_Test.csv\n"
     ]
    }
   ],
   "source": [
    "pwd = os.getcwd()\n",
    "filename_path = os.path.join(pwd, r'../../../Results/LSTM/' + FILENAME + '_Test.csv')\n",
    "print(filename_path)"
   ]
  },
  {
   "cell_type": "code",
   "execution_count": 92,
   "metadata": {},
   "outputs": [],
   "source": [
    "#SAVE\n",
    "results_data_test.to_csv(filename_path, header=True, index=False)"
   ]
  },
  {
   "cell_type": "markdown",
   "metadata": {},
   "source": [
    "### TRAIN RESULTS TO CSV"
   ]
  },
  {
   "cell_type": "code",
   "execution_count": 93,
   "metadata": {},
   "outputs": [
    {
     "name": "stdout",
     "output_type": "stream",
     "text": [
      "data_train.shape:  (71760, 42)\n"
     ]
    }
   ],
   "source": [
    "print(\"data_train.shape: \", data_training.shape)\n"
   ]
  },
  {
   "cell_type": "code",
   "execution_count": 94,
   "metadata": {},
   "outputs": [
    {
     "name": "stdout",
     "output_type": "stream",
     "text": [
      "          Open     High      Low    Close      Volume\n",
      "0      1.27584  1.27666  1.27351  1.27436  25980.0000\n",
      "1      1.27435  1.27891  1.27331  1.27891  24881.5996\n",
      "2      1.27890  1.27957  1.27550  1.27552  24909.9004\n",
      "3      1.27523  1.27566  1.27374  1.27462  26329.6992\n",
      "4      1.27465  1.27482  1.27195  1.27277  25984.5000\n",
      "...        ...      ...      ...      ...         ...\n",
      "71755  1.10562  1.10834  1.10450  1.10817  14604.0801\n",
      "71756  1.10816  1.10957  1.10590  1.10626  11650.4600\n",
      "71757  1.10626  1.10660  1.10445  1.10487  10436.1201\n",
      "71758  1.10488  1.10517  1.10226  1.10318  10938.0596\n",
      "71759  1.10319  1.10389  1.10084  1.10125  10399.9805\n",
      "\n",
      "[71760 rows x 5 columns]\n",
      "(71760, 5)\n",
      "(71736, 5)\n"
     ]
    }
   ],
   "source": [
    "data_training_res = data_training\n",
    "data_training_res.reset_index(drop=True, inplace=True)\n",
    "results_data_train = pd.DataFrame(data_training_res['Open'])\n",
    "results_data_train['High'] = data_training_res['High']\n",
    "results_data_train['Low'] = data_training_res['Low']\n",
    "results_data_train['Close'] = data_training_res['Close']\n",
    "results_data_train['Volume'] = data_training_res['Volume']\n",
    "print(results_data_train)\n",
    "print(results_data_train.shape)\n",
    "results_data_train = results_data_train.iloc[RANGE:]\n",
    "results_data_train.reset_index(drop=True, inplace=True)\n",
    "print(results_data_train.shape)"
   ]
  },
  {
   "cell_type": "code",
   "execution_count": 95,
   "metadata": {},
   "outputs": [
    {
     "name": "stdout",
     "output_type": "stream",
     "text": [
      "[-1. -1. -1. ...  1.  1.  1.]\n",
      "(71736,)\n"
     ]
    }
   ],
   "source": [
    "print(uniques_y_train_pred[:])\n",
    "print(uniques_y_train_pred.shape)"
   ]
  },
  {
   "cell_type": "code",
   "execution_count": 96,
   "metadata": {},
   "outputs": [
    {
     "name": "stdout",
     "output_type": "stream",
     "text": [
      "       Real_Class\n",
      "0            -1.0\n",
      "1            -1.0\n",
      "2            -1.0\n",
      "3            -1.0\n",
      "4            -1.0\n",
      "...           ...\n",
      "71731         1.0\n",
      "71732         1.0\n",
      "71733         1.0\n",
      "71734         1.0\n",
      "71735         1.0\n",
      "\n",
      "[71736 rows x 1 columns]\n",
      "(71736, 1)\n"
     ]
    }
   ],
   "source": [
    "\n",
    "uniques_y_train_pred_pd = pd.DataFrame({'Real_Class': uniques_y_train_pred[:]})\n",
    "print(uniques_y_train_pred_pd)\n",
    "print(uniques_y_train_pred_pd.shape)\n"
   ]
  },
  {
   "cell_type": "code",
   "execution_count": 97,
   "metadata": {},
   "outputs": [],
   "source": [
    "results_data_train['Real_Class'] = uniques_y_train_np\n",
    "results_data_train['Predicted_Class'] = uniques_y_train_pred_pd"
   ]
  },
  {
   "cell_type": "code",
   "execution_count": 98,
   "metadata": {},
   "outputs": [
    {
     "data": {
      "text/html": [
       "<div>\n",
       "<style scoped>\n",
       "    .dataframe tbody tr th:only-of-type {\n",
       "        vertical-align: middle;\n",
       "    }\n",
       "\n",
       "    .dataframe tbody tr th {\n",
       "        vertical-align: top;\n",
       "    }\n",
       "\n",
       "    .dataframe thead th {\n",
       "        text-align: right;\n",
       "    }\n",
       "</style>\n",
       "<table border=\"1\" class=\"dataframe\">\n",
       "  <thead>\n",
       "    <tr style=\"text-align: right;\">\n",
       "      <th></th>\n",
       "      <th>Open</th>\n",
       "      <th>High</th>\n",
       "      <th>Low</th>\n",
       "      <th>Close</th>\n",
       "      <th>Volume</th>\n",
       "      <th>Real_Class</th>\n",
       "      <th>Predicted_Class</th>\n",
       "    </tr>\n",
       "  </thead>\n",
       "  <tbody>\n",
       "    <tr>\n",
       "      <th>0</th>\n",
       "      <td>1.27248</td>\n",
       "      <td>1.27401</td>\n",
       "      <td>1.27145</td>\n",
       "      <td>1.27180</td>\n",
       "      <td>27724.0996</td>\n",
       "      <td>-1.0</td>\n",
       "      <td>-1.0</td>\n",
       "    </tr>\n",
       "    <tr>\n",
       "      <th>1</th>\n",
       "      <td>1.27114</td>\n",
       "      <td>1.27148</td>\n",
       "      <td>1.26514</td>\n",
       "      <td>1.26552</td>\n",
       "      <td>26449.0996</td>\n",
       "      <td>1.0</td>\n",
       "      <td>-1.0</td>\n",
       "    </tr>\n",
       "    <tr>\n",
       "      <th>2</th>\n",
       "      <td>1.26545</td>\n",
       "      <td>1.26867</td>\n",
       "      <td>1.26503</td>\n",
       "      <td>1.26659</td>\n",
       "      <td>25657.0996</td>\n",
       "      <td>-1.0</td>\n",
       "      <td>-1.0</td>\n",
       "    </tr>\n",
       "    <tr>\n",
       "      <th>3</th>\n",
       "      <td>1.26685</td>\n",
       "      <td>1.26744</td>\n",
       "      <td>1.26563</td>\n",
       "      <td>1.26614</td>\n",
       "      <td>25345.3008</td>\n",
       "      <td>1.0</td>\n",
       "      <td>-1.0</td>\n",
       "    </tr>\n",
       "    <tr>\n",
       "      <th>4</th>\n",
       "      <td>1.26619</td>\n",
       "      <td>1.26832</td>\n",
       "      <td>1.26559</td>\n",
       "      <td>1.26776</td>\n",
       "      <td>25950.4004</td>\n",
       "      <td>1.0</td>\n",
       "      <td>-1.0</td>\n",
       "    </tr>\n",
       "    <tr>\n",
       "      <th>5</th>\n",
       "      <td>1.26775</td>\n",
       "      <td>1.26903</td>\n",
       "      <td>1.26697</td>\n",
       "      <td>1.26842</td>\n",
       "      <td>25898.0996</td>\n",
       "      <td>-1.0</td>\n",
       "      <td>-1.0</td>\n",
       "    </tr>\n",
       "    <tr>\n",
       "      <th>6</th>\n",
       "      <td>1.26823</td>\n",
       "      <td>1.26985</td>\n",
       "      <td>1.26296</td>\n",
       "      <td>1.26468</td>\n",
       "      <td>25883.6992</td>\n",
       "      <td>1.0</td>\n",
       "      <td>-1.0</td>\n",
       "    </tr>\n",
       "    <tr>\n",
       "      <th>7</th>\n",
       "      <td>1.26436</td>\n",
       "      <td>1.26743</td>\n",
       "      <td>1.26398</td>\n",
       "      <td>1.26727</td>\n",
       "      <td>26862.1992</td>\n",
       "      <td>1.0</td>\n",
       "      <td>1.0</td>\n",
       "    </tr>\n",
       "    <tr>\n",
       "      <th>8</th>\n",
       "      <td>1.26706</td>\n",
       "      <td>1.26921</td>\n",
       "      <td>1.26536</td>\n",
       "      <td>1.26828</td>\n",
       "      <td>27650.5996</td>\n",
       "      <td>1.0</td>\n",
       "      <td>1.0</td>\n",
       "    </tr>\n",
       "    <tr>\n",
       "      <th>9</th>\n",
       "      <td>1.26830</td>\n",
       "      <td>1.27318</td>\n",
       "      <td>1.26691</td>\n",
       "      <td>1.27221</td>\n",
       "      <td>244622.4063</td>\n",
       "      <td>-1.0</td>\n",
       "      <td>-1.0</td>\n",
       "    </tr>\n",
       "  </tbody>\n",
       "</table>\n",
       "</div>"
      ],
      "text/plain": [
       "      Open     High      Low    Close       Volume  Real_Class  \\\n",
       "0  1.27248  1.27401  1.27145  1.27180   27724.0996        -1.0   \n",
       "1  1.27114  1.27148  1.26514  1.26552   26449.0996         1.0   \n",
       "2  1.26545  1.26867  1.26503  1.26659   25657.0996        -1.0   \n",
       "3  1.26685  1.26744  1.26563  1.26614   25345.3008         1.0   \n",
       "4  1.26619  1.26832  1.26559  1.26776   25950.4004         1.0   \n",
       "5  1.26775  1.26903  1.26697  1.26842   25898.0996        -1.0   \n",
       "6  1.26823  1.26985  1.26296  1.26468   25883.6992         1.0   \n",
       "7  1.26436  1.26743  1.26398  1.26727   26862.1992         1.0   \n",
       "8  1.26706  1.26921  1.26536  1.26828   27650.5996         1.0   \n",
       "9  1.26830  1.27318  1.26691  1.27221  244622.4063        -1.0   \n",
       "\n",
       "   Predicted_Class  \n",
       "0             -1.0  \n",
       "1             -1.0  \n",
       "2             -1.0  \n",
       "3             -1.0  \n",
       "4             -1.0  \n",
       "5             -1.0  \n",
       "6             -1.0  \n",
       "7              1.0  \n",
       "8              1.0  \n",
       "9             -1.0  "
      ]
     },
     "execution_count": 98,
     "metadata": {},
     "output_type": "execute_result"
    }
   ],
   "source": [
    "results_data_train.head(10)\n",
    "#results_data_train.tail(10)"
   ]
  },
  {
   "cell_type": "code",
   "execution_count": 99,
   "metadata": {},
   "outputs": [
    {
     "data": {
      "text/plain": [
       "array([-1.,  1., -1.,  1.,  1., -1.,  1.,  1.,  1., -1., -1., -1., -1.,\n",
       "        0.,  0.,  1., -1.,  1., -1.,  0.])"
      ]
     },
     "execution_count": 99,
     "metadata": {},
     "output_type": "execute_result"
    }
   ],
   "source": [
    "uniques_y_train_np[:20]"
   ]
  },
  {
   "cell_type": "markdown",
   "metadata": {},
   "source": [
    "### Test Result Save CSV File "
   ]
  },
  {
   "cell_type": "code",
   "execution_count": 100,
   "metadata": {},
   "outputs": [
    {
     "name": "stdout",
     "output_type": "stream",
     "text": [
      "C:\\Users\\marami3\\Documents\\ITESO\\IDI4\\forex_prediction\\Jupyter Notebooks\\IDI4\\models_clasification\\../../../Results/LSTM/3C-1H-LSTM_1H_43F_Class_01_Train.csv\n"
     ]
    }
   ],
   "source": [
    "pwd = os.getcwd()\n",
    "filename_path = os.path.join(pwd, r'../../../Results/LSTM/' + FILENAME + '_Train.csv')\n",
    "print(filename_path)"
   ]
  },
  {
   "cell_type": "code",
   "execution_count": 101,
   "metadata": {},
   "outputs": [],
   "source": [
    "#Save\n",
    "results_data_train.to_csv(filename_path, header=True, index=False)"
   ]
  },
  {
   "cell_type": "code",
   "execution_count": null,
   "metadata": {},
   "outputs": [],
   "source": []
  }
 ],
 "metadata": {
  "colab": {
   "name": "RDI_hour.ipynb",
   "provenance": []
  },
  "kernelspec": {
   "display_name": "Python 3",
   "language": "python",
   "name": "python3"
  },
  "language_info": {
   "codemirror_mode": {
    "name": "ipython",
    "version": 3
   },
   "file_extension": ".py",
   "mimetype": "text/x-python",
   "name": "python",
   "nbconvert_exporter": "python",
   "pygments_lexer": "ipython3",
   "version": "3.7.3"
  }
 },
 "nbformat": 4,
 "nbformat_minor": 1
}
