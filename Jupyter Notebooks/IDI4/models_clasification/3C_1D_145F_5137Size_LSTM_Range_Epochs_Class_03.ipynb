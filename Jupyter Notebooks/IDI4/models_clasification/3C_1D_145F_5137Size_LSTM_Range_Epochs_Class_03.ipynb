{
 "cells": [
  {
   "cell_type": "code",
   "execution_count": 558,
   "metadata": {
    "colab": {},
    "colab_type": "code",
    "id": "MHL60GoYoBLT",
    "outputId": "55db4102-144e-4e32-f6b2-38133dd62787"
   },
   "outputs": [],
   "source": [
    "# Mawrer Amed Ramirez Martinez\n",
    "# Avance de TOG IDI 4\n",
    "# ms723737@iteso.mx\n",
    "# mawrer@gmail.com\n",
    "\n",
    "import numpy as np\n",
    "np.random.seed(1)\n",
    "\n",
    "#Tensorflow\n",
    "import tensorflow as tf\n",
    "tf.random.set_seed(2)\n",
    "from tensorflow.keras import Sequential\n",
    "from tensorflow.keras.layers import Dense, LSTM, Dropout\n",
    "\n",
    "#Pandas\n",
    "import pandas as pd \n",
    "\n",
    "#Keras\n",
    "from keras import backend as K\n",
    "from keras import metrics\n",
    "from keras.callbacks import ModelCheckpoint\n",
    "from keras.layers import Activation\n",
    "from keras.layers.advanced_activations import LeakyReLU\n",
    "from keras.wrappers.scikit_learn import KerasClassifier\n",
    "from keras.utils import np_utils\n",
    "\n",
    "#Statistics Libraries\n",
    "from statsmodels.tsa.arima_model import ARIMA\n",
    "from scipy import stats\n",
    "from scipy import interp\n",
    "import math as m\n",
    "from itertools import cycle\n",
    "\n",
    "#plots\n",
    "import seaborn as sns\n",
    "import matplotlib.pyplot as plt\n",
    "from matplotlib import pyplot\n",
    "from matplotlib.pyplot import figure\n",
    "\n",
    "#OverSampling\n",
    "from imblearn.over_sampling import RandomOverSampler\n",
    "\n",
    "#SKlearn\n",
    "from sklearn.model_selection import cross_val_score\n",
    "from sklearn.model_selection import KFold\n",
    "from sklearn.preprocessing import LabelEncoder\n",
    "from sklearn.pipeline import Pipeline\n",
    "from sklearn.metrics import confusion_matrix\n",
    "from sklearn.preprocessing import MinMaxScaler\n",
    "from sklearn.model_selection import train_test_split\n",
    "from sklearn.metrics import mean_squared_error\n",
    "from sklearn.metrics import mean_absolute_error\n",
    "from sklearn.preprocessing import OneHotEncoder\n",
    "from sklearn.metrics import roc_curve\n",
    "from sklearn.metrics import auc\n",
    "\n",
    "#global\n",
    "import os, glob\n",
    "\n",
    "import warnings\n",
    "warnings.filterwarnings(\"ignore\")"
   ]
  },
  {
   "cell_type": "code",
   "execution_count": 559,
   "metadata": {},
   "outputs": [
    {
     "name": "stdout",
     "output_type": "stream",
     "text": [
      "0   3C-EURUSD_FULL_1D_145F.csv\n",
      "1   3C-EURUSD_FULL_1D_145F_0.0017Sep.csv\n",
      "2   3C-EURUSD_FULL_1D_145F_0.0018Sep.csv\n",
      "3   3C-EURUSD_FULL_1D_145F_0.0019Sep.csv\n",
      "4   3C-EURUSD_FULL_1D_145F_0.0025Sep.csv\n",
      "5   3C-EURUSD_FULL_1D_145F_0.0028Sep.csv\n",
      "6   3C-EURUSD_FULL_1D_145F_0.0029Sep.csv\n",
      "7   3C-EURUSD_FULL_1D_145F_0.002Sep.csv\n",
      "8   3C-EURUSD_FULL_1D_145F_0.0032Sep.csv\n",
      "9   3C-EURUSD_FULL_1D_145F_0.0035Sep.csv\n",
      "10   3C-EURUSD_FULL_1D_145F_0.003Sep.csv\n",
      "11   3C-EURUSD_FULL_1D_21F.csv\n",
      "12   3C-EURUSD_FULL_1D_45F.csv\n",
      "13   3C-EURUSD_FULL_1D_45F_0.0029Sep.csv\n",
      "14   3C-EURUSD_FULL_1D_70F.csv\n",
      "15   3C-EURUSD_FULL_1D_70F_0.0029Sep.csv\n",
      "16   3C-EURUSD_FULL_1H_45F.csv\n",
      "17   5C-EURUSD_FULL_1D_21F.csv\n",
      "18   5C-EURUSD_FULL_1D_27F.csv\n",
      "19   5C-EURUSD_FULL_1D_45F.csv\n",
      "20   5C-EURUSD_FULL_1D_70F.csv\n",
      "21   C-EURUSD_FULL_1D_21F.csv\n",
      "22   C-EURUSD_FULL_1H_25F.csv\n",
      "23   C-EURUSD_FULL_1H_45F.csv\n",
      "24   C-EURUSD_FULL_1H_54F.csv\n"
     ]
    }
   ],
   "source": [
    "datasource_path = os.path.join(os.getcwd(), r'../../../Datasets/Junio2020/procesados_classification/')\n",
    "filenames = glob.glob(datasource_path + \"/*.csv\")\n",
    "pwd = os.getcwd()\n",
    "filenames.sort()\n",
    "for file in filenames:\n",
    "    print(filenames.index(file), ' ', os.path.basename(file))"
   ]
  },
  {
   "cell_type": "code",
   "execution_count": 560,
   "metadata": {},
   "outputs": [],
   "source": [
    "#SELECT an INDEX \n",
    "INDX = 7\n",
    "\n",
    "CLASS_NUMBER = '3C'\n",
    "MODEL_TYPE = 'LSTM'\n",
    "FRECUENCIA = '1D'\n",
    "TARGET_NAME = \"Class\"\n",
    "ID = '02'\n",
    "\n",
    "LAYER1_UNITS =64\n",
    "RANGE = 5\n",
    "EPOCHS = 30\n",
    "BATCH_SIZE = 32\n",
    "TEST_SIZE = .20\n",
    "VAL_SIZE = .20\n"
   ]
  },
  {
   "cell_type": "code",
   "execution_count": 561,
   "metadata": {},
   "outputs": [
    {
     "name": "stdout",
     "output_type": "stream",
     "text": [
      "3C-EURUSD_FULL_1D_145F_0.002Sep.csv\n",
      "3C-EURUSD_FULL_1D_145F_0.002Sep\n"
     ]
    }
   ],
   "source": [
    "base =  os.path.basename(filenames[INDX])\n",
    "print(base)\n",
    "FILE_NAME_BASE = os.path.splitext(base)[0]\n",
    "print(FILE_NAME_BASE)"
   ]
  },
  {
   "cell_type": "code",
   "execution_count": 562,
   "metadata": {
    "colab": {},
    "colab_type": "code",
    "id": "rS_SC_nwoBLb",
    "outputId": "45629160-abff-4b56-f141-eadb3244e91c"
   },
   "outputs": [
    {
     "data": {
      "text/html": [
       "<div>\n",
       "<style scoped>\n",
       "    .dataframe tbody tr th:only-of-type {\n",
       "        vertical-align: middle;\n",
       "    }\n",
       "\n",
       "    .dataframe tbody tr th {\n",
       "        vertical-align: top;\n",
       "    }\n",
       "\n",
       "    .dataframe thead th {\n",
       "        text-align: right;\n",
       "    }\n",
       "</style>\n",
       "<table border=\"1\" class=\"dataframe\">\n",
       "  <thead>\n",
       "    <tr style=\"text-align: right;\">\n",
       "      <th></th>\n",
       "      <th>Gmt time</th>\n",
       "      <th>Open</th>\n",
       "      <th>High</th>\n",
       "      <th>Low</th>\n",
       "      <th>Close</th>\n",
       "      <th>Volume</th>\n",
       "      <th>Open_Bid</th>\n",
       "      <th>High_Bid</th>\n",
       "      <th>Low_Bid</th>\n",
       "      <th>Close_Bid</th>\n",
       "      <th>...</th>\n",
       "      <th>momentum_stoch</th>\n",
       "      <th>momentum_stoch_signal</th>\n",
       "      <th>momentum_wr</th>\n",
       "      <th>momentum_ao</th>\n",
       "      <th>momentum_kama</th>\n",
       "      <th>momentum_roc</th>\n",
       "      <th>others_dr</th>\n",
       "      <th>others_dlr</th>\n",
       "      <th>others_cr</th>\n",
       "      <th>Class</th>\n",
       "    </tr>\n",
       "  </thead>\n",
       "  <tbody>\n",
       "    <tr>\n",
       "      <th>0</th>\n",
       "      <td>2004-01-01</td>\n",
       "      <td>1.25950</td>\n",
       "      <td>1.26052</td>\n",
       "      <td>1.24698</td>\n",
       "      <td>1.25733</td>\n",
       "      <td>4.621817e+05</td>\n",
       "      <td>1.25934</td>\n",
       "      <td>1.26035</td>\n",
       "      <td>1.24679</td>\n",
       "      <td>1.25723</td>\n",
       "      <td>...</td>\n",
       "      <td>76.440177</td>\n",
       "      <td>76.440177</td>\n",
       "      <td>-23.559823</td>\n",
       "      <td>0.0</td>\n",
       "      <td>1.257330</td>\n",
       "      <td>0.0</td>\n",
       "      <td>-0.522913</td>\n",
       "      <td>0.000000</td>\n",
       "      <td>0.000000</td>\n",
       "      <td>0.0</td>\n",
       "    </tr>\n",
       "    <tr>\n",
       "      <th>1</th>\n",
       "      <td>2004-01-02</td>\n",
       "      <td>1.25717</td>\n",
       "      <td>1.26282</td>\n",
       "      <td>1.25214</td>\n",
       "      <td>1.25832</td>\n",
       "      <td>1.066578e+06</td>\n",
       "      <td>1.25701</td>\n",
       "      <td>1.26263</td>\n",
       "      <td>1.25198</td>\n",
       "      <td>1.25806</td>\n",
       "      <td>...</td>\n",
       "      <td>71.590909</td>\n",
       "      <td>74.015543</td>\n",
       "      <td>-28.409091</td>\n",
       "      <td>0.0</td>\n",
       "      <td>1.257865</td>\n",
       "      <td>0.0</td>\n",
       "      <td>0.078738</td>\n",
       "      <td>0.078707</td>\n",
       "      <td>0.078738</td>\n",
       "      <td>1.0</td>\n",
       "    </tr>\n",
       "  </tbody>\n",
       "</table>\n",
       "<p>2 rows × 145 columns</p>\n",
       "</div>"
      ],
      "text/plain": [
       "    Gmt time     Open     High      Low    Close        Volume  Open_Bid  \\\n",
       "0 2004-01-01  1.25950  1.26052  1.24698  1.25733  4.621817e+05   1.25934   \n",
       "1 2004-01-02  1.25717  1.26282  1.25214  1.25832  1.066578e+06   1.25701   \n",
       "\n",
       "   High_Bid  Low_Bid  Close_Bid  ...  momentum_stoch  momentum_stoch_signal  \\\n",
       "0   1.26035  1.24679    1.25723  ...       76.440177              76.440177   \n",
       "1   1.26263  1.25198    1.25806  ...       71.590909              74.015543   \n",
       "\n",
       "  momentum_wr  momentum_ao  momentum_kama  momentum_roc  others_dr  \\\n",
       "0  -23.559823          0.0       1.257330           0.0  -0.522913   \n",
       "1  -28.409091          0.0       1.257865           0.0   0.078738   \n",
       "\n",
       "   others_dlr  others_cr  Class  \n",
       "0    0.000000   0.000000    0.0  \n",
       "1    0.078707   0.078738    1.0  \n",
       "\n",
       "[2 rows x 145 columns]"
      ]
     },
     "execution_count": 562,
     "metadata": {},
     "output_type": "execute_result"
    }
   ],
   "source": [
    "if FRECUENCIA ==\"1D\":\n",
    "    dateparse = lambda x: pd.datetime.strptime(x, '%Y-%m-%d')\n",
    "else:\n",
    "    dateparse = lambda x: pd.datetime.strptime(x, '%Y-%m-%d %H:%M:%S')\n",
    "DATASET = pd.read_csv(filenames[INDX], header=0, parse_dates=['Gmt time'], date_parser=dateparse)\n",
    "NUM_FEATURES = DATASET.shape[1]\n",
    "DATASET.head(2)"
   ]
  },
  {
   "cell_type": "code",
   "execution_count": 563,
   "metadata": {},
   "outputs": [
    {
     "data": {
      "text/plain": [
       "5137"
      ]
     },
     "execution_count": 563,
     "metadata": {},
     "output_type": "execute_result"
    }
   ],
   "source": [
    "SIZE = DATASET.shape[0]\n",
    "SIZE"
   ]
  },
  {
   "cell_type": "code",
   "execution_count": 564,
   "metadata": {},
   "outputs": [],
   "source": [
    "HYPER_L1_IN = RANGE\n",
    "\n",
    "START_IN = 0\n",
    "\n",
    "TRAINING_TIME_ELAPSED = 0\n",
    "\n",
    "TRAIN_MSE=0\n",
    "TRAIN_RMSE=0\n",
    "TRAIN_MAE=0\n",
    "TEST_MSE=0\n",
    "TEST_RMSE=0\n",
    "TEST_MAE=0\n"
   ]
  },
  {
   "cell_type": "code",
   "execution_count": 565,
   "metadata": {},
   "outputs": [
    {
     "name": "stdout",
     "output_type": "stream",
     "text": [
      "Shape:  (5137, 145)\n",
      "              Open         High          Low        Close        Volume  \\\n",
      "count  5137.000000  5137.000000  5137.000000  5137.000000  5.137000e+03   \n",
      "mean      1.263948     1.268773     1.259111     1.263939  4.156849e+05   \n",
      "std       0.122827     0.123592     0.121990     0.122823  4.429918e+05   \n",
      "min       1.039090     1.041820     1.034050     1.039090  5.400000e+01   \n",
      "25%       1.149190     1.153490     1.145380     1.149120  1.159636e+05   \n",
      "50%       1.270260     1.275990     1.265560     1.270260  2.200810e+05   \n",
      "75%       1.350610     1.355180     1.345920     1.350700  7.439951e+05   \n",
      "max       1.597400     1.604030     1.589800     1.597370  2.237468e+06   \n",
      "\n",
      "          Open_Bid     High_Bid      Low_Bid    Close_Bid    Volume_Bid  ...  \\\n",
      "count  5137.000000  5137.000000  5137.000000  5137.000000  5.137000e+03  ...   \n",
      "mean      1.263810     1.268680     1.259015     1.263822  4.616911e+05  ...   \n",
      "std       0.122817     0.123571     0.121969     0.122813  5.305200e+05  ...   \n",
      "min       1.039070     1.041780     1.034030     1.039060  5.400000e+01  ...   \n",
      "25%       1.149180     1.153450     1.145280     1.149100  1.154682e+05  ...   \n",
      "50%       1.270030     1.275890     1.265440     1.270210  2.168718e+05  ...   \n",
      "75%       1.350500     1.355040     1.345840     1.350580  7.692461e+05  ...   \n",
      "max       1.597200     1.603890     1.589540     1.597210  2.697619e+06  ...   \n",
      "\n",
      "       momentum_stoch  momentum_stoch_signal  momentum_wr  momentum_ao  \\\n",
      "count     5137.000000            5137.000000  5137.000000  5137.000000   \n",
      "mean        49.636975              49.633971   -50.363025    -0.000491   \n",
      "std         31.014862              29.026028    31.014862     0.019705   \n",
      "min          0.011891               1.130871   -99.988109    -0.105907   \n",
      "25%         20.932520              22.283504   -79.067480    -0.011155   \n",
      "50%         48.825747              48.738064   -51.174253    -0.000097   \n",
      "75%         79.300546              77.622952   -20.699454     0.011137   \n",
      "max        100.000000              98.252966    -0.000000     0.111501   \n",
      "\n",
      "       momentum_kama  momentum_roc    others_dr   others_dlr    others_cr  \\\n",
      "count    5137.000000   5137.000000  5137.000000  5137.000000  5137.000000   \n",
      "mean        1.264593     -0.017061    -0.001002    -0.002398     0.525662   \n",
      "std         0.122265      1.840486     0.547579     0.547449     9.768540   \n",
      "min         1.050063     -8.739648    -2.702533    -2.739723   -17.357416   \n",
      "25%         1.146605     -1.095694    -0.267292    -0.267209    -8.606332   \n",
      "50%         1.272387      0.000000    -0.005369    -0.005306     1.028370   \n",
      "75%         1.352246      1.101195     0.273713     0.273339     7.426054   \n",
      "max         1.577869     13.387376     3.494840     3.435157    27.044610   \n",
      "\n",
      "             Class  \n",
      "count  5137.000000  \n",
      "mean      0.002725  \n",
      "std       0.768839  \n",
      "min      -1.000000  \n",
      "25%      -1.000000  \n",
      "50%       0.000000  \n",
      "75%       1.000000  \n",
      "max       1.000000  \n",
      "\n",
      "[8 rows x 143 columns]\n"
     ]
    }
   ],
   "source": [
    "REVOME_FEATURES = True\n",
    "# In base of XGBoost Feature Analisis I'll remove some features from the 145 original dataset.\n",
    "#Describe DATASET\n",
    "if (REVOME_FEATURES):\n",
    "    print('Shape: ', DATASET.shape)\n",
    "    print(DATASET.describe())\n",
    "    DATASET = DATASET.drop(['MACD_5_25'], axis = 1)\n",
    "    DATASET = DATASET.drop(['momentum_roc'], axis = 1)\n",
    "    DATASET = DATASET.drop(['trend_mass_index'], axis = 1)\n",
    "    DATASET = DATASET.drop(['trend_aroon_ind'], axis = 1)\n",
    "    DATASET = DATASET.drop(['trend_visual_ichimoku_a'], axis = 1)\n",
    "    DATASET = DATASET.drop(['AQM_Pct_Range_Close'], axis = 1)\n",
    "    DATASET = DATASET.drop(['trend_kst'], axis = 1)\n",
    "    DATASET = DATASET.drop(['MACDsign_5_25'], axis = 1)\n",
    "    DATASET = DATASET.drop(['MA_Close_150'], axis = 1)\n",
    "    DATASET = DATASET.drop(['rsi_25'], axis = 1)\n",
    "    DATASET = DATASET.drop(['trend_macd'], axis = 1)\n",
    "    #DATASET = DATASET.drop(['High'], axis = 1)\n",
    "    DATASET = DATASET.drop(['MA_Close_200'], axis = 1)\n",
    "    DATASET = DATASET.drop(['volatility_bbl'], axis = 1)\n",
    "    DATASET = DATASET.drop(['volatility_bbh'], axis = 1)\n",
    "    DATASET = DATASET.drop(['Bollinger_Low'], axis = 1)\n",
    "    DATASET = DATASET.drop(['MA_Close_5'], axis = 1)\n",
    "    DATASET = DATASET.drop(['MA_Close_25'], axis = 1)\n",
    "    #DATASET = DATASET.drop(['Low'], axis = 1)\n",
    "    DATASET = DATASET.drop(['trend_psar_down'], axis = 1)\n",
    "    DATASET = DATASET.drop(['momentum_tsi'], axis = 1)\n",
    "    DATASET = DATASET.drop(['MA_Close_175'], axis = 1)\n",
    "    DATASET = DATASET.drop(['trend_macd_signal'], axis = 1)\n",
    "    DATASET = DATASET.drop(['trend_visual_ichimoku_b'], axis = 1)\n",
    "    DATASET = DATASET.drop(['Bollinger_High'], axis = 1)\n",
    "    #DATASET = DATASET.drop(['Close'], axis = 1)\n",
    "    DATASET = DATASET.drop(['momentum_rsi'], axis = 1)\n",
    "    DATASET = DATASET.drop(['volatility_kcc'], axis = 1)\n",
    "    DATASET = DATASET.drop(['trend_psar_up'], axis = 1)\n",
    "    DATASET = DATASET.drop(['others_dr'], axis = 1)\n",
    "    DATASET = DATASET.drop(['volume_vwap'], axis = 1)\n",
    "    DATASET = DATASET.drop(['trend_psar_down_indicator'], axis = 1)\n",
    "    DATASET = DATASET.drop(['trend_ema_slow'], axis = 1)\n",
    "    DATASET = DATASET.drop(['trend_ichimoku_a'], axis = 1)\n",
    "    DATASET = DATASET.drop(['trend_ema_fast'], axis = 1)\n",
    "    DATASET = DATASET.drop(['trend_ichimoku_base'], axis = 1)\n",
    "    DATASET = DATASET.drop(['trend_ichimoku_b'], axis = 1)\n",
    "    DATASET = DATASET.drop(['trend_ichimoku_conv'], axis = 1)\n",
    "    DATASET = DATASET.drop(['volatility_kch'], axis = 1)\n",
    "    DATASET = DATASET.drop(['volatility_dcl'], axis = 1)\n",
    "    DATASET = DATASET.drop(['momentum_kama'], axis = 1)\n",
    "    DATASET = DATASET.drop(['trend_trix'], axis = 1)\n",
    "    DATASET = DATASET.drop(['EMA_Close_5'], axis = 1)\n",
    "    DATASET = DATASET.drop(['trend_sma_fast'], axis = 1)\n",
    "    DATASET = DATASET.drop(['volatility_dcm'], axis = 1)\n",
    "    DATASET = DATASET.drop(['trend_psar_up_indicator'], axis = 1)\n",
    "    DATASET = DATASET.drop(['volatility_dch'], axis = 1)\n",
    "    DATASET = DATASET.drop(['volatility_bbm'], axis = 1)\n",
    "    DATASET = DATASET.drop(['trend_sma_slow'], axis = 1)\n",
    "    DATASET = DATASET.drop(['volatility_kcl'], axis = 1)\n",
    "    DATASET = DATASET.drop(['Rolling_Mean25'], axis = 1)\n"
   ]
  },
  {
   "cell_type": "code",
   "execution_count": 566,
   "metadata": {},
   "outputs": [
    {
     "name": "stdout",
     "output_type": "stream",
     "text": [
      "(5137, 97)\n"
     ]
    }
   ],
   "source": [
    "print(DATASET.shape)"
   ]
  },
  {
   "cell_type": "code",
   "execution_count": 567,
   "metadata": {
    "scrolled": true
   },
   "outputs": [
    {
     "name": "stdout",
     "output_type": "stream",
     "text": [
      "Shape:  (5137, 97)\n",
      "              Open         High          Low        Close        Volume  \\\n",
      "count  5137.000000  5137.000000  5137.000000  5137.000000  5.137000e+03   \n",
      "mean      1.263948     1.268773     1.259111     1.263939  4.156849e+05   \n",
      "std       0.122827     0.123592     0.121990     0.122823  4.429918e+05   \n",
      "min       1.039090     1.041820     1.034050     1.039090  5.400000e+01   \n",
      "25%       1.149190     1.153490     1.145380     1.149120  1.159636e+05   \n",
      "50%       1.270260     1.275990     1.265560     1.270260  2.200810e+05   \n",
      "75%       1.350610     1.355180     1.345920     1.350700  7.439951e+05   \n",
      "max       1.597400     1.604030     1.589800     1.597370  2.237468e+06   \n",
      "\n",
      "          Open_Bid     High_Bid      Low_Bid    Close_Bid    Volume_Bid  ...  \\\n",
      "count  5137.000000  5137.000000  5137.000000  5137.000000  5.137000e+03  ...   \n",
      "mean      1.263810     1.268680     1.259015     1.263822  4.616911e+05  ...   \n",
      "std       0.122817     0.123571     0.121969     0.122813  5.305200e+05  ...   \n",
      "min       1.039070     1.041780     1.034030     1.039060  5.400000e+01  ...   \n",
      "25%       1.149180     1.153450     1.145280     1.149100  1.154682e+05  ...   \n",
      "50%       1.270030     1.275890     1.265440     1.270210  2.168718e+05  ...   \n",
      "75%       1.350500     1.355040     1.345840     1.350580  7.692461e+05  ...   \n",
      "max       1.597200     1.603890     1.589540     1.597210  2.697619e+06  ...   \n",
      "\n",
      "       trend_aroon_up  trend_aroon_down  momentum_uo  momentum_stoch  \\\n",
      "count     5137.000000       5137.000000  5137.000000     5137.000000   \n",
      "mean        51.244695         50.385050    50.162055       49.636975   \n",
      "std         34.304793         34.474002    10.231845       31.014862   \n",
      "min          4.000000          4.000000     0.000000        0.011891   \n",
      "25%         16.000000         16.000000    43.011388       20.932520   \n",
      "50%         52.000000         48.000000    50.058529       48.825747   \n",
      "75%         84.000000         84.000000    57.785001       79.300546   \n",
      "max        100.000000        100.000000    79.195278      100.000000   \n",
      "\n",
      "       momentum_stoch_signal  momentum_wr  momentum_ao   others_dlr  \\\n",
      "count            5137.000000  5137.000000  5137.000000  5137.000000   \n",
      "mean               49.633971   -50.363025    -0.000491    -0.002398   \n",
      "std                29.026028    31.014862     0.019705     0.547449   \n",
      "min                 1.130871   -99.988109    -0.105907    -2.739723   \n",
      "25%                22.283504   -79.067480    -0.011155    -0.267209   \n",
      "50%                48.738064   -51.174253    -0.000097    -0.005306   \n",
      "75%                77.622952   -20.699454     0.011137     0.273339   \n",
      "max                98.252966    -0.000000     0.111501     3.435157   \n",
      "\n",
      "         others_cr        Class  \n",
      "count  5137.000000  5137.000000  \n",
      "mean      0.525662     0.002725  \n",
      "std       9.768540     0.768839  \n",
      "min     -17.357416    -1.000000  \n",
      "25%      -8.606332    -1.000000  \n",
      "50%       1.028370     0.000000  \n",
      "75%       7.426054     1.000000  \n",
      "max      27.044610     1.000000  \n",
      "\n",
      "[8 rows x 95 columns]\n",
      "Open           float64\n",
      "High           float64\n",
      "Low            float64\n",
      "Close          float64\n",
      "Volume         float64\n",
      "                ...   \n",
      "momentum_wr    float64\n",
      "momentum_ao    float64\n",
      "others_dlr     float64\n",
      "others_cr      float64\n",
      "Class          float64\n",
      "Length: 95, dtype: object\n"
     ]
    }
   ],
   "source": [
    "#Describe DATASET\n",
    "print('Shape: ', DATASET.shape)\n",
    "print(DATASET.describe())\n",
    "DATASET = DATASET.drop(['day_name'], axis = 1)\n",
    "DATASET = DATASET.drop(['Gmt time'], axis = 1)\n",
    "print(DATASET.dtypes)\n"
   ]
  },
  {
   "cell_type": "code",
   "execution_count": 568,
   "metadata": {},
   "outputs": [
    {
     "name": "stdout",
     "output_type": "stream",
     "text": [
      "(4938, 95)\n",
      "      Open     High      Low    Close        Volume  Open_Bid  High_Bid  \\\n",
      "0  1.23655  1.23817  1.22801  1.23179  1.078729e+06   1.23639   1.23804   \n",
      "1  1.23158  1.23241  1.22967  1.23109  8.212280e+04   1.23088   1.23231   \n",
      "2  1.23140  1.23154  1.21310  1.21496  1.130388e+06   1.23124   1.23140   \n",
      "3  1.21495  1.21669  1.20594  1.20711  1.123270e+06   1.21479   1.21656   \n",
      "4  1.20718  1.21160  1.20519  1.20794  1.118725e+06   1.20702   1.21156   \n",
      "\n",
      "   Low_Bid  Close_Bid   Volume_Bid  ...  trend_aroon_up  trend_aroon_down  \\\n",
      "0  1.22791    1.23169  1291823.750  ...            76.0              28.0   \n",
      "1  1.22955    1.23099    93508.000  ...            72.0              24.0   \n",
      "2  1.21298    1.21486  1348137.000  ...            68.0              20.0   \n",
      "3  1.20583    1.20701  1344214.000  ...            64.0              16.0   \n",
      "4  1.20504    1.20784  1355827.375  ...            60.0              12.0   \n",
      "\n",
      "   momentum_uo  momentum_stoch  momentum_stoch_signal  momentum_wr  \\\n",
      "0    64.759073       81.313269              88.120556   -18.686731   \n",
      "1    56.013733       77.982456              84.601906   -22.017544   \n",
      "2    43.726020        7.288401              55.528042   -92.711599   \n",
      "3    38.351979        3.580171              29.617010   -96.419829   \n",
      "4    38.098091        8.226144               6.364906   -91.773856   \n",
      "\n",
      "   momentum_ao  others_dlr  others_cr  Class  \n",
      "0     0.010763   -0.368701  -2.031289    0.0  \n",
      "1     0.010124   -0.056844  -2.086962   -1.0  \n",
      "2     0.008048   -1.318880  -3.369839   -1.0  \n",
      "3     0.004506   -0.648208  -3.994178    0.0  \n",
      "4    -0.000011    0.068736  -3.928165    1.0  \n",
      "\n",
      "[5 rows x 95 columns]\n"
     ]
    }
   ],
   "source": [
    "DF_Full = DATASET[199:]\n",
    "DF_Full.reset_index(drop=True, inplace=True)\n",
    "print(DF_Full.shape)\n",
    "print(DF_Full.head())"
   ]
  },
  {
   "cell_type": "code",
   "execution_count": 569,
   "metadata": {},
   "outputs": [
    {
     "name": "stdout",
     "output_type": "stream",
     "text": [
      "Total:  4938\n",
      "Start:  0\n"
     ]
    }
   ],
   "source": [
    "total = DF_Full.shape[0]\n",
    "print('Total: ', total)\n",
    "print('Start: ', START_IN)"
   ]
  },
  {
   "cell_type": "code",
   "execution_count": 570,
   "metadata": {},
   "outputs": [
    {
     "name": "stdout",
     "output_type": "stream",
     "text": [
      "(4938, 95)\n"
     ]
    }
   ],
   "source": [
    "#Shape the first START of the total\n",
    "DF_Full = DF_Full.iloc[START_IN:]\n",
    "DF_Full.reset_index(drop=True, inplace=True) #reset indexes from iloc\n",
    "\n",
    "print(DF_Full.shape)"
   ]
  },
  {
   "cell_type": "code",
   "execution_count": 571,
   "metadata": {},
   "outputs": [
    {
     "name": "stdout",
     "output_type": "stream",
     "text": [
      "Total:  5137\n"
     ]
    }
   ],
   "source": [
    "\n",
    "total = DATASET.shape[0]\n",
    "print('Total: ', total)"
   ]
  },
  {
   "cell_type": "code",
   "execution_count": 572,
   "metadata": {},
   "outputs": [
    {
     "data": {
      "text/plain": [
       "0     0.0\n",
       "1    -1.0\n",
       "2    -1.0\n",
       "3     0.0\n",
       "4     1.0\n",
       "5    -1.0\n",
       "6     0.0\n",
       "7     1.0\n",
       "8     1.0\n",
       "9     0.0\n",
       "10    0.0\n",
       "11   -1.0\n",
       "Name: Class, dtype: float64"
      ]
     },
     "execution_count": 572,
     "metadata": {},
     "output_type": "execute_result"
    }
   ],
   "source": [
    "DF_Full[TARGET_NAME][0:12]"
   ]
  },
  {
   "cell_type": "markdown",
   "metadata": {},
   "source": [
    "### Generate VECTOR Y"
   ]
  },
  {
   "cell_type": "code",
   "execution_count": 573,
   "metadata": {},
   "outputs": [
    {
     "name": "stdout",
     "output_type": "stream",
     "text": [
      "[1 0 0 ... 2 1 1]\n",
      "[-1.  0.  1.]\n",
      "[[0. 1. 0.]\n",
      " [1. 0. 0.]\n",
      " [1. 0. 0.]\n",
      " ...\n",
      " [0. 0. 1.]\n",
      " [0. 1. 0.]\n",
      " [0. 1. 0.]]\n"
     ]
    }
   ],
   "source": [
    "#generate the VECTOR Y\n",
    "uniques, ids = np.unique(DF_Full[TARGET_NAME], return_inverse=True)\n",
    "\n",
    "#target_y = np_utils.to_categorical(DF_Full[TARGET_NAME],num_classes=5)\n",
    "target_y = np_utils.to_categorical(ids,len(uniques))\n",
    "print(ids)\n",
    "print(uniques)\n",
    "print(target_y)"
   ]
  },
  {
   "cell_type": "code",
   "execution_count": 574,
   "metadata": {},
   "outputs": [
    {
     "name": "stdout",
     "output_type": "stream",
     "text": [
      "[[0. 1. 0.]\n",
      " [1. 0. 0.]\n",
      " [1. 0. 0.]\n",
      " [0. 1. 0.]\n",
      " [0. 0. 1.]\n",
      " [1. 0. 0.]\n",
      " [0. 1. 0.]\n",
      " [0. 0. 1.]\n",
      " [0. 0. 1.]\n",
      " [0. 1. 0.]]\n"
     ]
    },
    {
     "data": {
      "text/plain": [
       "(4938, 3)"
      ]
     },
     "execution_count": 574,
     "metadata": {},
     "output_type": "execute_result"
    }
   ],
   "source": [
    "close_y = target_y\n",
    "print(close_y[:10])   \n",
    "#   [1. 0. 0. 0. 0.]   =  0\n",
    "#   [0. 1. 0. 0. 0.]   =  1\n",
    "#   [0. 0. 1. 0. 0.]   =   2 \n",
    "#   [0. 0. 0. 1. 0.]   =  -2\n",
    "#   [0. 0. 0. 0. 1.]   =  -1\n",
    "close_y.shape"
   ]
  },
  {
   "cell_type": "markdown",
   "metadata": {},
   "source": [
    "### REMOVE COLUMNS "
   ]
  },
  {
   "cell_type": "code",
   "execution_count": 575,
   "metadata": {},
   "outputs": [
    {
     "name": "stdout",
     "output_type": "stream",
     "text": [
      "(4938, 95)\n",
      "(4938, 94)\n"
     ]
    },
    {
     "data": {
      "text/html": [
       "<div>\n",
       "<style scoped>\n",
       "    .dataframe tbody tr th:only-of-type {\n",
       "        vertical-align: middle;\n",
       "    }\n",
       "\n",
       "    .dataframe tbody tr th {\n",
       "        vertical-align: top;\n",
       "    }\n",
       "\n",
       "    .dataframe thead th {\n",
       "        text-align: right;\n",
       "    }\n",
       "</style>\n",
       "<table border=\"1\" class=\"dataframe\">\n",
       "  <thead>\n",
       "    <tr style=\"text-align: right;\">\n",
       "      <th></th>\n",
       "      <th>Open</th>\n",
       "      <th>High</th>\n",
       "      <th>Low</th>\n",
       "      <th>Close</th>\n",
       "      <th>Volume</th>\n",
       "      <th>Open_Bid</th>\n",
       "      <th>High_Bid</th>\n",
       "      <th>Low_Bid</th>\n",
       "      <th>Close_Bid</th>\n",
       "      <th>Volume_Bid</th>\n",
       "      <th>...</th>\n",
       "      <th>trend_kst_diff</th>\n",
       "      <th>trend_aroon_up</th>\n",
       "      <th>trend_aroon_down</th>\n",
       "      <th>momentum_uo</th>\n",
       "      <th>momentum_stoch</th>\n",
       "      <th>momentum_stoch_signal</th>\n",
       "      <th>momentum_wr</th>\n",
       "      <th>momentum_ao</th>\n",
       "      <th>others_dlr</th>\n",
       "      <th>others_cr</th>\n",
       "    </tr>\n",
       "  </thead>\n",
       "  <tbody>\n",
       "    <tr>\n",
       "      <th>0</th>\n",
       "      <td>1.23655</td>\n",
       "      <td>1.23817</td>\n",
       "      <td>1.22801</td>\n",
       "      <td>1.23179</td>\n",
       "      <td>1.078729e+06</td>\n",
       "      <td>1.23639</td>\n",
       "      <td>1.23804</td>\n",
       "      <td>1.22791</td>\n",
       "      <td>1.23169</td>\n",
       "      <td>1291823.750</td>\n",
       "      <td>...</td>\n",
       "      <td>8.132749</td>\n",
       "      <td>76.0</td>\n",
       "      <td>28.0</td>\n",
       "      <td>64.759073</td>\n",
       "      <td>81.313269</td>\n",
       "      <td>88.120556</td>\n",
       "      <td>-18.686731</td>\n",
       "      <td>0.010763</td>\n",
       "      <td>-0.368701</td>\n",
       "      <td>-2.031289</td>\n",
       "    </tr>\n",
       "    <tr>\n",
       "      <th>1</th>\n",
       "      <td>1.23158</td>\n",
       "      <td>1.23241</td>\n",
       "      <td>1.22967</td>\n",
       "      <td>1.23109</td>\n",
       "      <td>8.212280e+04</td>\n",
       "      <td>1.23088</td>\n",
       "      <td>1.23231</td>\n",
       "      <td>1.22955</td>\n",
       "      <td>1.23099</td>\n",
       "      <td>93508.000</td>\n",
       "      <td>...</td>\n",
       "      <td>7.361159</td>\n",
       "      <td>72.0</td>\n",
       "      <td>24.0</td>\n",
       "      <td>56.013733</td>\n",
       "      <td>77.982456</td>\n",
       "      <td>84.601906</td>\n",
       "      <td>-22.017544</td>\n",
       "      <td>0.010124</td>\n",
       "      <td>-0.056844</td>\n",
       "      <td>-2.086962</td>\n",
       "    </tr>\n",
       "    <tr>\n",
       "      <th>2</th>\n",
       "      <td>1.23140</td>\n",
       "      <td>1.23154</td>\n",
       "      <td>1.21310</td>\n",
       "      <td>1.21496</td>\n",
       "      <td>1.130388e+06</td>\n",
       "      <td>1.23124</td>\n",
       "      <td>1.23140</td>\n",
       "      <td>1.21298</td>\n",
       "      <td>1.21486</td>\n",
       "      <td>1348137.000</td>\n",
       "      <td>...</td>\n",
       "      <td>5.575709</td>\n",
       "      <td>68.0</td>\n",
       "      <td>20.0</td>\n",
       "      <td>43.726020</td>\n",
       "      <td>7.288401</td>\n",
       "      <td>55.528042</td>\n",
       "      <td>-92.711599</td>\n",
       "      <td>0.008048</td>\n",
       "      <td>-1.318880</td>\n",
       "      <td>-3.369839</td>\n",
       "    </tr>\n",
       "    <tr>\n",
       "      <th>3</th>\n",
       "      <td>1.21495</td>\n",
       "      <td>1.21669</td>\n",
       "      <td>1.20594</td>\n",
       "      <td>1.20711</td>\n",
       "      <td>1.123270e+06</td>\n",
       "      <td>1.21479</td>\n",
       "      <td>1.21656</td>\n",
       "      <td>1.20583</td>\n",
       "      <td>1.20701</td>\n",
       "      <td>1344214.000</td>\n",
       "      <td>...</td>\n",
       "      <td>3.034464</td>\n",
       "      <td>64.0</td>\n",
       "      <td>16.0</td>\n",
       "      <td>38.351979</td>\n",
       "      <td>3.580171</td>\n",
       "      <td>29.617010</td>\n",
       "      <td>-96.419829</td>\n",
       "      <td>0.004506</td>\n",
       "      <td>-0.648208</td>\n",
       "      <td>-3.994178</td>\n",
       "    </tr>\n",
       "    <tr>\n",
       "      <th>4</th>\n",
       "      <td>1.20718</td>\n",
       "      <td>1.21160</td>\n",
       "      <td>1.20519</td>\n",
       "      <td>1.20794</td>\n",
       "      <td>1.118725e+06</td>\n",
       "      <td>1.20702</td>\n",
       "      <td>1.21156</td>\n",
       "      <td>1.20504</td>\n",
       "      <td>1.20784</td>\n",
       "      <td>1355827.375</td>\n",
       "      <td>...</td>\n",
       "      <td>0.230380</td>\n",
       "      <td>60.0</td>\n",
       "      <td>12.0</td>\n",
       "      <td>38.098091</td>\n",
       "      <td>8.226144</td>\n",
       "      <td>6.364906</td>\n",
       "      <td>-91.773856</td>\n",
       "      <td>-0.000011</td>\n",
       "      <td>0.068736</td>\n",
       "      <td>-3.928165</td>\n",
       "    </tr>\n",
       "  </tbody>\n",
       "</table>\n",
       "<p>5 rows × 94 columns</p>\n",
       "</div>"
      ],
      "text/plain": [
       "      Open     High      Low    Close        Volume  Open_Bid  High_Bid  \\\n",
       "0  1.23655  1.23817  1.22801  1.23179  1.078729e+06   1.23639   1.23804   \n",
       "1  1.23158  1.23241  1.22967  1.23109  8.212280e+04   1.23088   1.23231   \n",
       "2  1.23140  1.23154  1.21310  1.21496  1.130388e+06   1.23124   1.23140   \n",
       "3  1.21495  1.21669  1.20594  1.20711  1.123270e+06   1.21479   1.21656   \n",
       "4  1.20718  1.21160  1.20519  1.20794  1.118725e+06   1.20702   1.21156   \n",
       "\n",
       "   Low_Bid  Close_Bid   Volume_Bid  ...  trend_kst_diff  trend_aroon_up  \\\n",
       "0  1.22791    1.23169  1291823.750  ...        8.132749            76.0   \n",
       "1  1.22955    1.23099    93508.000  ...        7.361159            72.0   \n",
       "2  1.21298    1.21486  1348137.000  ...        5.575709            68.0   \n",
       "3  1.20583    1.20701  1344214.000  ...        3.034464            64.0   \n",
       "4  1.20504    1.20784  1355827.375  ...        0.230380            60.0   \n",
       "\n",
       "   trend_aroon_down  momentum_uo  momentum_stoch  momentum_stoch_signal  \\\n",
       "0              28.0    64.759073       81.313269              88.120556   \n",
       "1              24.0    56.013733       77.982456              84.601906   \n",
       "2              20.0    43.726020        7.288401              55.528042   \n",
       "3              16.0    38.351979        3.580171              29.617010   \n",
       "4              12.0    38.098091        8.226144               6.364906   \n",
       "\n",
       "   momentum_wr  momentum_ao  others_dlr  others_cr  \n",
       "0   -18.686731     0.010763   -0.368701  -2.031289  \n",
       "1   -22.017544     0.010124   -0.056844  -2.086962  \n",
       "2   -92.711599     0.008048   -1.318880  -3.369839  \n",
       "3   -96.419829     0.004506   -0.648208  -3.994178  \n",
       "4   -91.773856    -0.000011    0.068736  -3.928165  \n",
       "\n",
       "[5 rows x 94 columns]"
      ]
     },
     "execution_count": 575,
     "metadata": {},
     "output_type": "execute_result"
    }
   ],
   "source": [
    "#REMOVE CLASS FROM Data\n",
    "print(DF_Full.shape)\n",
    "DF_Full = DF_Full.drop(['Class'], axis = 1)\n",
    "DF_Full.reset_index(drop=True, inplace=True)\n",
    "print(DF_Full.shape)\n",
    "DF_Full.head()"
   ]
  },
  {
   "cell_type": "markdown",
   "metadata": {},
   "source": [
    "### SPLIT in 3 Sub Datasets"
   ]
  },
  {
   "cell_type": "code",
   "execution_count": 576,
   "metadata": {},
   "outputs": [
    {
     "name": "stdout",
     "output_type": "stream",
     "text": [
      "Sum of %s: 0.4\n",
      "count of Val and Test: 2054\n",
      "end of train:  3083\n",
      "count val:  1027\n",
      "count test:  1027\n",
      "end_val 4110\n"
     ]
    }
   ],
   "source": [
    "s1 = TEST_SIZE + VAL_SIZE\n",
    "print('Sum of %s:',s1)\n",
    "f1 = int(total * s1)\n",
    "print('count of Val and Test:',f1)\n",
    "end_train = total - f1\n",
    "print('end of train: ', end_train)\n",
    "\n",
    "count_val= int(total * VAL_SIZE)\n",
    "print('count val: ',count_val)\n",
    "\n",
    "count_test= int(total * TEST_SIZE)\n",
    "print('count test: ',count_test)\n",
    "\n",
    "end_val = end_train + count_val\n",
    "print('end_val', end_val)\n",
    "\n"
   ]
  },
  {
   "cell_type": "code",
   "execution_count": 577,
   "metadata": {},
   "outputs": [
    {
     "data": {
      "text/plain": [
       "array([[0., 1., 0.],\n",
       "       [1., 0., 0.],\n",
       "       [1., 0., 0.],\n",
       "       ...,\n",
       "       [0., 1., 0.],\n",
       "       [0., 1., 0.],\n",
       "       [0., 1., 0.]], dtype=float32)"
      ]
     },
     "execution_count": 577,
     "metadata": {},
     "output_type": "execute_result"
    }
   ],
   "source": [
    "close_y[:end_train,:]"
   ]
  },
  {
   "cell_type": "code",
   "execution_count": 578,
   "metadata": {},
   "outputs": [
    {
     "name": "stdout",
     "output_type": "stream",
     "text": [
      "data_training.shape:  (3083, 94)\n",
      "data_val.shape:  (1027, 94)\n",
      "data_test.shape:  (828, 94)\n",
      "data_training_y.shape:  (3083, 3)\n",
      "data_val_y.shape:  (1027, 3)\n",
      "data_test_y.shape:  (828, 3)\n"
     ]
    }
   ],
   "source": [
    "data_training = DF_Full.iloc[:end_train]\n",
    "data_val = DF_Full.iloc[end_train: end_val]\n",
    "data_test = DF_Full.iloc[end_val:]\n",
    "\n",
    "print(\"data_training.shape: \",data_training.shape)\n",
    "print(\"data_val.shape: \", data_val.shape)\n",
    "print(\"data_test.shape: \", data_test.shape)\n",
    "\n",
    "data_training_y = close_y[:end_train,:]\n",
    "data_val_y = close_y[end_train: end_val,:]\n",
    "data_test_y = close_y[end_val:,:]\n",
    "\n",
    "print(\"data_training_y.shape: \", data_training_y.shape)\n",
    "print(\"data_val_y.shape: \", data_val_y.shape)\n",
    "print(\"data_test_y.shape: \", data_test_y.shape)"
   ]
  },
  {
   "cell_type": "code",
   "execution_count": 579,
   "metadata": {},
   "outputs": [
    {
     "data": {
      "text/plain": [
       "4110    1.17427\n",
       "4111    1.17414\n",
       "4112    1.18138\n",
       "4113    1.18644\n",
       "4114    1.18314\n",
       "4115    1.18223\n",
       "4116    1.18149\n",
       "4117    1.17948\n",
       "4118    1.17716\n",
       "4119    1.17946\n",
       "Name: Close, dtype: float64"
      ]
     },
     "execution_count": 579,
     "metadata": {},
     "output_type": "execute_result"
    }
   ],
   "source": [
    "data_test['Close'].head(10)"
   ]
  },
  {
   "cell_type": "code",
   "execution_count": 580,
   "metadata": {},
   "outputs": [
    {
     "data": {
      "text/plain": [
       "array([ 0.,  1.,  1., -1.,  0.,  0.,  0.,  0.,  0.,  1.])"
      ]
     },
     "execution_count": 580,
     "metadata": {},
     "output_type": "execute_result"
    }
   ],
   "source": [
    "uniques_data_test_y = uniques[data_test_y.argmax(1)]\n",
    "uniques_data_test_y[:10]"
   ]
  },
  {
   "cell_type": "markdown",
   "metadata": {},
   "source": [
    "### SCALAR"
   ]
  },
  {
   "cell_type": "code",
   "execution_count": 581,
   "metadata": {},
   "outputs": [
    {
     "name": "stdout",
     "output_type": "stream",
     "text": [
      "[[0.16128208 0.15335663 0.14996946 ... 0.5366395  0.38397864 0.15028821]\n",
      " [0.14973038 0.14002731 0.15386965 ... 0.53369965 0.43448271 0.14866121]\n",
      " [0.14931201 0.13801402 0.11493821 ... 0.52415051 0.23010041 0.11117051]\n",
      " ...\n",
      " [0.44619282 0.43845602 0.45402002 ... 0.47604876 0.45440868 0.44837765]\n",
      " [0.44830792 0.44174207 0.45622856 ... 0.48041045 0.45035521 0.44967925]\n",
      " [0.44960952 0.44718025 0.46022273 ... 0.48257701 0.47009059 0.45483916]]\n"
     ]
    }
   ],
   "source": [
    "# DATA SET SCALER TRAINING\n",
    "scaler = MinMaxScaler(feature_range=(0, 1))\n",
    "data_training_array = np.array(data_training)\n",
    "data_training_array_scaled = scaler.fit_transform(data_training_array)\n",
    "print(data_training_array_scaled)\n",
    "    "
   ]
  },
  {
   "cell_type": "code",
   "execution_count": 582,
   "metadata": {},
   "outputs": [
    {
     "name": "stdout",
     "output_type": "stream",
     "text": [
      "(3083, 94)\n",
      "[0.37669362 0.42690746 0.22466157 0.33182137 0.44717204 0.47414792\n",
      " 0.30587499 0.43527102 0.48605834 0.61154273]\n"
     ]
    },
    {
     "data": {
      "image/png": "[encoded data removed]",
      "text/plain": [
       "<Figure size 1080x360 with 1 Axes>"
      ]
     },
     "metadata": {},
     "output_type": "display_data"
    }
   ],
   "source": [
    "print(data_training_array_scaled.shape)\n",
    "print(data_training_array_scaled[:10,12])\n",
    "plt.figure(figsize=(15,5))\n",
    "plt.plot(data_training_array_scaled[:10,12], color = 'red', label = 'train_x')\n",
    "plt.title('train_x')\n",
    "plt.xlabel('hours')\n",
    "plt.ylabel('Loss')\n",
    "plt.legend()\n",
    "plt.show()"
   ]
  },
  {
   "cell_type": "code",
   "execution_count": 583,
   "metadata": {},
   "outputs": [
    {
     "data": {
      "text/plain": [
       "array([[0., 1., 0.],\n",
       "       [1., 0., 0.],\n",
       "       [1., 0., 0.],\n",
       "       [0., 1., 0.],\n",
       "       [0., 0., 1.],\n",
       "       [1., 0., 0.],\n",
       "       [0., 1., 0.],\n",
       "       [0., 0., 1.],\n",
       "       [0., 0., 1.],\n",
       "       [0., 1., 0.]], dtype=float32)"
      ]
     },
     "execution_count": 583,
     "metadata": {},
     "output_type": "execute_result"
    }
   ],
   "source": [
    "data_training_y[:10]"
   ]
  },
  {
   "cell_type": "markdown",
   "metadata": {},
   "source": [
    "### CHART MA's"
   ]
  },
  {
   "cell_type": "code",
   "execution_count": 584,
   "metadata": {},
   "outputs": [
    {
     "name": "stdout",
     "output_type": "stream",
     "text": [
      "(3083, 94)\n"
     ]
    },
    {
     "data": {
      "image/png": "[encoded data removed]",
      "text/plain": [
       "<Figure size 1008x360 with 1 Axes>"
      ]
     },
     "metadata": {},
     "output_type": "display_data"
    }
   ],
   "source": [
    "INICIO = 0\n",
    "FIN = 100\n",
    "\n",
    "IDX_Close = DF_Full.columns.get_loc(\"Close\")\n",
    "IDX_MA_Close_50 = DF_Full.columns.get_loc(\"MA_Close_50\")\n",
    "\n",
    "print(data_training_array_scaled.shape)\n",
    "plt.figure(figsize=(14,5))\n",
    "pyplot.plot(data_training_array_scaled[INICIO:FIN,IDX_Close], color = 'red', label = 'Close')\n",
    "pyplot.plot(data_training_array_scaled[INICIO:FIN,IDX_MA_Close_50], color = 'green', label = 'MA_Close_50')\n",
    "plt.title('Close, Moving Avg 5, Moving Avg 25, Moving Avg 50, Moving Avg 200')\n",
    "plt.xlabel('Time')\n",
    "plt.ylabel('Price')\n",
    "plt.legend()\n",
    "plt.show()"
   ]
  },
  {
   "cell_type": "code",
   "execution_count": 585,
   "metadata": {},
   "outputs": [
    {
     "name": "stdout",
     "output_type": "stream",
     "text": [
      "(3083, 94)\n"
     ]
    },
    {
     "data": {
      "image/png": "[encoded data removed]",
      "text/plain": [
       "<Figure size 1008x360 with 1 Axes>"
      ]
     },
     "metadata": {},
     "output_type": "display_data"
    }
   ],
   "source": [
    "print(data_training_array_scaled.shape)\n",
    "INICIO = 0\n",
    "FIN = 710\n",
    "\n",
    "\n",
    "IDX_Close = DF_Full.columns.get_loc(\"Close\")\n",
    "IDX_Volume = DF_Full.columns.get_loc(\"Volume\")\n",
    "IDX_weekday = DF_Full.columns.get_loc(\"weekday\")\n",
    "IDX_Pct_Range_Close = DF_Full.columns.get_loc(\"Pct_Range_Close\")\n",
    "IDX_Pct_Range_Close_diff = DF_Full.columns.get_loc(\"Pct_Range_Close_diff\")\n",
    "\n",
    "plt.figure(figsize=(14,5))\n",
    "pyplot.plot(data_training_array_scaled[INICIO:FIN,IDX_Close], color = 'red', label = 'Close')\n",
    "pyplot.plot(data_training_array_scaled[INICIO:FIN,IDX_Volume], color = 'blue', label = 'Volume')\n",
    "pyplot.plot(data_training_array_scaled[INICIO:FIN,IDX_weekday], color = 'green', label = 'weekday')\n",
    "pyplot.plot(data_training_array_scaled[INICIO:FIN,IDX_Pct_Range_Close], color = 'gray', label = 'Pct_Range_Close')\n",
    "pyplot.plot(data_training_array_scaled[INICIO:FIN,IDX_Pct_Range_Close_diff], color = 'orange', label = 'Pct_Range_Close_diff')\n",
    "plt.xlabel('Time')\n",
    "plt.ylabel('Price')\n",
    "plt.legend()\n",
    "plt.show()"
   ]
  },
  {
   "cell_type": "code",
   "execution_count": 586,
   "metadata": {},
   "outputs": [
    {
     "name": "stdout",
     "output_type": "stream",
     "text": [
      "(3083, 94)\n"
     ]
    },
    {
     "data": {
      "image/png": "[encoded data removed]",
      "text/plain": [
       "<Figure size 1008x360 with 1 Axes>"
      ]
     },
     "metadata": {},
     "output_type": "display_data"
    }
   ],
   "source": [
    "print(data_training_array_scaled.shape)\n",
    "INICIO = 0\n",
    "FIN = 710\n",
    "\n",
    "\n",
    "IDX_Close = DF_Full.columns.get_loc(\"Close\")\n",
    "IDX_Close_Bid = DF_Full.columns.get_loc(\"Close_Bid\")\n",
    "IDX_Spread = DF_Full.columns.get_loc(\"Spread\")\n",
    "\n",
    "plt.figure(figsize=(14,5))\n",
    "pyplot.plot(data_training_array_scaled[INICIO:FIN,IDX_Close], color = 'red', label = 'Close')\n",
    "pyplot.plot(data_training_array_scaled[INICIO:FIN,IDX_Close_Bid], color = 'blue', label = 'Close_Bid')\n",
    "pyplot.plot(data_training_array_scaled[INICIO:FIN,IDX_Spread], color = 'green', label = 'Spread')\n",
    "plt.xlabel('Time')\n",
    "plt.ylabel('Price')\n",
    "plt.legend()\n",
    "plt.show()"
   ]
  },
  {
   "cell_type": "code",
   "execution_count": 587,
   "metadata": {},
   "outputs": [
    {
     "data": {
      "text/plain": [
       "array([[0., 1., 0.],\n",
       "       [1., 0., 0.],\n",
       "       [1., 0., 0.],\n",
       "       ...,\n",
       "       [0., 1., 0.],\n",
       "       [0., 1., 0.],\n",
       "       [0., 1., 0.]], dtype=float32)"
      ]
     },
     "execution_count": 587,
     "metadata": {},
     "output_type": "execute_result"
    }
   ],
   "source": [
    "data_training_y"
   ]
  },
  {
   "cell_type": "code",
   "execution_count": 588,
   "metadata": {
    "colab": {},
    "colab_type": "code",
    "id": "3Lf8pl2FoBLj",
    "outputId": "33ad0467-0e5b-420a-df86-b4563f3e1136"
   },
   "outputs": [
    {
     "name": "stdout",
     "output_type": "stream",
     "text": [
      "(3078, 5, 94)\n",
      "(3078, 3)\n"
     ]
    }
   ],
   "source": [
    "X_train = []\n",
    "y_train = []\n",
    "for i in range(RANGE, data_training_array_scaled.shape[0]):\n",
    "    indx_start = i-RANGE\n",
    "    X_train.append(data_training_array_scaled[indx_start:i])\n",
    "    y_train.append(data_training_y[i])\n",
    "\n",
    "X_train_np, y_train_np = np.array(X_train), np.array(y_train)\n",
    "\n",
    "print(X_train_np.shape)\n",
    "print(y_train_np.shape)"
   ]
  },
  {
   "cell_type": "code",
   "execution_count": 589,
   "metadata": {},
   "outputs": [
    {
     "data": {
      "text/plain": [
       "array([0.15028821, 0.14866121, 0.11117051, 0.09292488, 0.09485403])"
      ]
     },
     "execution_count": 589,
     "metadata": {},
     "output_type": "execute_result"
    }
   ],
   "source": [
    "X_train_np[0,:,3]"
   ]
  },
  {
   "cell_type": "code",
   "execution_count": 590,
   "metadata": {},
   "outputs": [
    {
     "name": "stdout",
     "output_type": "stream",
     "text": [
      "[-1.  0.  1.  1.  0.]\n"
     ]
    }
   ],
   "source": [
    "array = y_train_np[:RANGE]\n",
    "uniques_y = uniques[array.argmax(1)]\n",
    "print(uniques_y)"
   ]
  },
  {
   "cell_type": "code",
   "execution_count": 591,
   "metadata": {},
   "outputs": [
    {
     "name": "stdout",
     "output_type": "stream",
     "text": [
      "(5, 94)\n",
      "(1027, 94)\n"
     ]
    },
    {
     "data": {
      "text/plain": [
       "(1032, 94)"
      ]
     },
     "execution_count": 591,
     "metadata": {},
     "output_type": "execute_result"
    }
   ],
   "source": [
    "#\n",
    "#Obtener los ultimos valores de Train para agregarlos a Val DF\n",
    "# APPEND DE X\n",
    "last_range_training_x = data_training.tail(RANGE)\n",
    "print(last_range_training_x.shape)\n",
    "print(data_val.shape)\n",
    "data_val_x1 = last_range_training_x.append(data_val, ignore_index = True)\n",
    "data_val_x1.shape\n",
    "#print(data_val_x1.head)"
   ]
  },
  {
   "cell_type": "code",
   "execution_count": 592,
   "metadata": {},
   "outputs": [
    {
     "data": {
      "text/plain": [
       "array([[0., 1., 0.],\n",
       "       [0., 1., 0.],\n",
       "       [0., 1., 0.],\n",
       "       [0., 1., 0.],\n",
       "       [0., 1., 0.]], dtype=float32)"
      ]
     },
     "execution_count": 592,
     "metadata": {},
     "output_type": "execute_result"
    }
   ],
   "source": [
    "last_range_train_y = data_training_y[-RANGE:]\n",
    "last_range_train_y"
   ]
  },
  {
   "cell_type": "code",
   "execution_count": 593,
   "metadata": {},
   "outputs": [
    {
     "data": {
      "text/plain": [
       "(5, 3)"
      ]
     },
     "execution_count": 593,
     "metadata": {},
     "output_type": "execute_result"
    }
   ],
   "source": [
    "last_range_train_y.shape"
   ]
  },
  {
   "cell_type": "code",
   "execution_count": 594,
   "metadata": {},
   "outputs": [
    {
     "name": "stdout",
     "output_type": "stream",
     "text": [
      "(5, 3)\n",
      "(1027, 3)\n",
      "(1032, 3)\n",
      "[[0. 1. 0.]\n",
      " [0. 1. 0.]\n",
      " [0. 1. 0.]\n",
      " [0. 1. 0.]\n",
      " [0. 1. 0.]\n",
      " [0. 0. 1.]\n",
      " [0. 1. 0.]\n",
      " [0. 0. 1.]\n",
      " [0. 1. 0.]\n",
      " [0. 1. 0.]]\n"
     ]
    }
   ],
   "source": [
    "#Append de los datos de Train al DF de Val en Y\n",
    "last_range_train_y = data_training_y[-RANGE:]\n",
    "print(last_range_train_y.shape)\n",
    "print(data_val_y.shape)\n",
    "data_val_y1 = np.concatenate((last_range_train_y,data_val_y))\n",
    "print(data_val_y1.shape)\n",
    "print(data_val_y1[:10])"
   ]
  },
  {
   "cell_type": "code",
   "execution_count": 595,
   "metadata": {},
   "outputs": [
    {
     "data": {
      "text/plain": [
       "(1032, 94)"
      ]
     },
     "execution_count": 595,
     "metadata": {},
     "output_type": "execute_result"
    }
   ],
   "source": [
    "data_val_x2 = scaler.transform(data_val_x1)\n",
    "data_val_x2.shape\n",
    "#print(data_val_x2[:10])"
   ]
  },
  {
   "cell_type": "code",
   "execution_count": 596,
   "metadata": {
    "colab": {},
    "colab_type": "code",
    "id": "CePFSn77oBLn",
    "outputId": "42f59747-5fe8-44a2-af41-2a1d57cb5e1b",
    "scrolled": true
   },
   "outputs": [
    {
     "name": "stdout",
     "output_type": "stream",
     "text": [
      "(1027, 5, 94)\n",
      "(1027, 3)\n"
     ]
    }
   ],
   "source": [
    "X_val = []\n",
    "y_val = []\n",
    "for i in range(RANGE, data_val_x2.shape[0]):\n",
    "    indx_start = i-RANGE\n",
    "    X_val.append(data_val_x2[indx_start:i])\n",
    "    y_val.append(data_val_y1[i])\n",
    "\n",
    "X_val_np = np.array(X_val)\n",
    "y_val_np = np.array(y_val)\n",
    "print(X_val_np.shape)\n",
    "print(y_val_np.shape)"
   ]
  },
  {
   "cell_type": "code",
   "execution_count": 597,
   "metadata": {},
   "outputs": [
    {
     "name": "stdout",
     "output_type": "stream",
     "text": [
      "(5, 94)\n",
      "(828, 94)\n"
     ]
    },
    {
     "data": {
      "text/plain": [
       "(833, 94)"
      ]
     },
     "execution_count": 597,
     "metadata": {},
     "output_type": "execute_result"
    }
   ],
   "source": [
    "\n",
    "#Obtener los ultimos valores de Val para agregarlos a TEST DF\n",
    "# Append en X\n",
    "last_range_data_training_x = data_training.tail(RANGE)\n",
    "print(last_range_data_training_x.shape)\n",
    "print(data_test.shape)\n",
    "data_test_x1 = last_range_data_training_x.append(data_test, ignore_index = True)\n",
    "data_test_x1.shape\n"
   ]
  },
  {
   "cell_type": "code",
   "execution_count": 598,
   "metadata": {},
   "outputs": [
    {
     "name": "stdout",
     "output_type": "stream",
     "text": [
      "(5, 3)\n",
      "(828, 3)\n",
      "(833, 3)\n"
     ]
    }
   ],
   "source": [
    "#Append de los datos de Val al DF de Test de Y\n",
    "last_range_training_y = data_training_y[-RANGE:,:]\n",
    "print(last_range_training_y.shape)\n",
    "print(data_test_y.shape)\n",
    "data_test_y1 = np.concatenate((last_range_training_y,data_test_y))\n",
    "print(data_test_y1.shape)"
   ]
  },
  {
   "cell_type": "code",
   "execution_count": 599,
   "metadata": {},
   "outputs": [
    {
     "data": {
      "text/plain": [
       "(833, 94)"
      ]
     },
     "execution_count": 599,
     "metadata": {},
     "output_type": "execute_result"
    }
   ],
   "source": [
    "data_test_x2 = scaler.transform(data_test_x1)\n",
    "data_test_x2.shape\n",
    "#print(data_test_x2[:10])"
   ]
  },
  {
   "cell_type": "code",
   "execution_count": 600,
   "metadata": {
    "colab": {},
    "colab_type": "code",
    "id": "CePFSn77oBLn",
    "outputId": "42f59747-5fe8-44a2-af41-2a1d57cb5e1b",
    "scrolled": true
   },
   "outputs": [
    {
     "name": "stdout",
     "output_type": "stream",
     "text": [
      "(828, 5, 94)\n",
      "(828, 3)\n"
     ]
    }
   ],
   "source": [
    "X_test = []\n",
    "y_test = []\n",
    "for i in range(RANGE, data_test_x2.shape[0]):\n",
    "    X_test.append(data_test_x2[i-RANGE:i])\n",
    "    y_test.append(data_test_y1[i])\n",
    "\n",
    "X_test_np = np.array(X_test)\n",
    "y_test_np = np.array(y_test)\n",
    "print(X_test_np.shape)\n",
    "print(y_test_np.shape)"
   ]
  },
  {
   "cell_type": "code",
   "execution_count": 601,
   "metadata": {},
   "outputs": [
    {
     "name": "stdout",
     "output_type": "stream",
     "text": [
      "5\n",
      "94\n"
     ]
    }
   ],
   "source": [
    "x_shape = X_train_np.shape[1]\n",
    "print(x_shape)\n",
    "y_shape = X_train_np.shape[2]\n",
    "print(y_shape)"
   ]
  },
  {
   "cell_type": "markdown",
   "metadata": {},
   "source": [
    "### Oversampling Inbalanced Class"
   ]
  },
  {
   "cell_type": "code",
   "execution_count": 602,
   "metadata": {},
   "outputs": [
    {
     "name": "stdout",
     "output_type": "stream",
     "text": [
      "(3078, 5, 94)\n",
      "(3078, 3)\n"
     ]
    }
   ],
   "source": [
    "#Check Current Shape\n",
    "print(X_train_np.shape)\n",
    "print(y_train_np.shape)"
   ]
  },
  {
   "cell_type": "code",
   "execution_count": 603,
   "metadata": {
    "scrolled": true
   },
   "outputs": [],
   "source": [
    "#oversample = RandomOverSampler(sampling_strategy='minority')\n",
    "#oversample\n"
   ]
  },
  {
   "cell_type": "code",
   "execution_count": 604,
   "metadata": {},
   "outputs": [],
   "source": [
    "#X_over, y_over = oversample.fit_resample(X_train_np, y_train_np)"
   ]
  },
  {
   "cell_type": "code",
   "execution_count": 605,
   "metadata": {},
   "outputs": [
    {
     "data": {
      "text/plain": [
       "33"
      ]
     },
     "execution_count": 605,
     "metadata": {},
     "output_type": "execute_result"
    }
   ],
   "source": [
    "#GET ID\n",
    "results_path_lstm = os.path.join(pwd, r'../../../Results/LSTM/Optimized/')\n",
    "filenames_results = glob.glob(results_path_lstm + \"/*.csv\")\n",
    "newID = len(filenames_results) +1\n",
    "newID"
   ]
  },
  {
   "cell_type": "code",
   "execution_count": 606,
   "metadata": {},
   "outputs": [
    {
     "name": "stdout",
     "output_type": "stream",
     "text": [
      "FILENAME:  3C-EURUSD_FULL_1D_145F_0.002Sep_33\n",
      "File Name Model: 3C-EURUSD_FULL_1D_145F_0.002Sep_33.hdf5\n"
     ]
    }
   ],
   "source": [
    "#LOCATION TO SAVE\n",
    "pwd = os.getcwd()\n",
    "source_data_toSave = os.path.join(pwd, r'../../../Models/2020/LSTM/Optimized/')\n",
    "#FILENAME =  FILE_NAME_BASE + '__' + str(SIZE) + 'Size_' + MODEL_TYPE + '_' + str(RANGE) + 'Prof_' + str(EPOCHS) + 'Epochs' + '_' +  \"{:.2f}\".format(acc) + 'acc_' + TARGET_NAME + \"_\"+ str(newID) \n",
    "FILENAME =  FILE_NAME_BASE +'_' + str(newID) \n",
    "file_name_toSave = FILENAME + '.hdf5'\n",
    "print('FILENAME: ', FILENAME)\n",
    "print('File Name Model:', file_name_toSave)\n"
   ]
  },
  {
   "cell_type": "code",
   "execution_count": 607,
   "metadata": {},
   "outputs": [
    {
     "name": "stdout",
     "output_type": "stream",
     "text": [
      "C:\\Users\\maw\\Documents\\ITESO\\forex_prediction\\Jupyter Notebooks\\IDI4\\models_clasification\\../../../Results/LSTM/Optimized/3C-EURUSD_FULL_1D_145F_0.002Sep_33_Test.csv\n",
      "C:\\Users\\maw\\Documents\\ITESO\\forex_prediction\\Jupyter Notebooks\\IDI4\\models_clasification\\../../../Results/LSTM/Optimized/3C-EURUSD_FULL_1D_145F_0.002Sep_33_Train.csv\n"
     ]
    }
   ],
   "source": [
    "#testVal_results_csv = os.path.join(source_data_toSave + FILENAME + '_TestVal.csv')\n",
    "#print(testVal_results_csv)\n",
    "test_results_csv = os.path.join(results_path_lstm + FILENAME + '_Test.csv')\n",
    "print(test_results_csv)\n",
    "train_results_csv = os.path.join(results_path_lstm + FILENAME + '_Train.csv')\n",
    "print(train_results_csv)"
   ]
  },
  {
   "cell_type": "markdown",
   "metadata": {},
   "source": [
    "### BUILD LSTM MODEL "
   ]
  },
  {
   "cell_type": "code",
   "execution_count": 608,
   "metadata": {
    "colab": {},
    "colab_type": "code",
    "id": "dPyrqmjooBLu",
    "outputId": "ac844281-9522-427d-afa6-d93b642f46af"
   },
   "outputs": [],
   "source": [
    "model = Sequential()\n",
    "model.add(LSTM(units = RANGE, activation = 'relu', return_sequences = True, input_shape = (x_shape, y_shape)))\n",
    "model.add(LSTM(units = LAYER1_UNITS, activation = 'relu'))\n",
    "model.add(Dense(units = 3, activation = 'softmax'))\n",
    "model.compile(optimizer='adam', loss = 'categorical_crossentropy', metrics=[\"acc\"])\n"
   ]
  },
  {
   "cell_type": "code",
   "execution_count": 609,
   "metadata": {},
   "outputs": [
    {
     "name": "stdout",
     "output_type": "stream",
     "text": [
      "Model: \"sequential_9\"\n",
      "_________________________________________________________________\n",
      "Layer (type)                 Output Shape              Param #   \n",
      "=================================================================\n",
      "lstm_14 (LSTM)               (None, 5, 5)              2000      \n",
      "_________________________________________________________________\n",
      "lstm_15 (LSTM)               (None, 64)                17920     \n",
      "_________________________________________________________________\n",
      "dense_5 (Dense)              (None, 3)                 195       \n",
      "=================================================================\n",
      "Total params: 20,115\n",
      "Trainable params: 20,115\n",
      "Non-trainable params: 0\n",
      "_________________________________________________________________\n"
     ]
    }
   ],
   "source": [
    "model.summary()"
   ]
  },
  {
   "cell_type": "code",
   "execution_count": 610,
   "metadata": {
    "scrolled": true
   },
   "outputs": [
    {
     "name": "stdout",
     "output_type": "stream",
     "text": [
      "Epoch 1/30\n",
      "97/97 [==============================] - 1s 11ms/step - loss: 1.0943 - acc: 0.3843 - val_loss: 1.0869 - val_acc: 0.4187\n",
      "Epoch 2/30\n",
      "97/97 [==============================] - 1s 7ms/step - loss: 1.0905 - acc: 0.3928 - val_loss: 1.0970 - val_acc: 0.4216\n",
      "Epoch 3/30\n",
      "97/97 [==============================] - 1s 7ms/step - loss: 1.0870 - acc: 0.3941 - val_loss: 1.0839 - val_acc: 0.4197\n",
      "Epoch 4/30\n",
      "97/97 [==============================] - 1s 7ms/step - loss: 1.0850 - acc: 0.4006 - val_loss: 1.0839 - val_acc: 0.4255\n",
      "Epoch 5/30\n",
      "97/97 [==============================] - 1s 7ms/step - loss: 1.0827 - acc: 0.4025 - val_loss: 1.0856 - val_acc: 0.4255\n",
      "Epoch 6/30\n",
      "97/97 [==============================] - 1s 7ms/step - loss: 1.0816 - acc: 0.4058 - val_loss: 1.0860 - val_acc: 0.4216\n",
      "Epoch 7/30\n",
      "97/97 [==============================] - 1s 7ms/step - loss: 1.0794 - acc: 0.4110 - val_loss: 1.0877 - val_acc: 0.4255\n",
      "Epoch 8/30\n",
      "97/97 [==============================] - 1s 6ms/step - loss: 1.0794 - acc: 0.4116 - val_loss: 1.0830 - val_acc: 0.4275\n",
      "Epoch 9/30\n",
      "97/97 [==============================] - 1s 6ms/step - loss: 1.0783 - acc: 0.3983 - val_loss: 1.0853 - val_acc: 0.4314\n",
      "Epoch 10/30\n",
      "97/97 [==============================] - 1s 7ms/step - loss: 1.0763 - acc: 0.4107 - val_loss: 1.0782 - val_acc: 0.4372\n",
      "Epoch 11/30\n",
      "97/97 [==============================] - 1s 7ms/step - loss: 1.0688 - acc: 0.4136 - val_loss: 1.0789 - val_acc: 0.4314\n",
      "Epoch 12/30\n",
      "97/97 [==============================] - 1s 7ms/step - loss: 1.0471 - acc: 0.4321 - val_loss: 1.0546 - val_acc: 0.4323\n",
      "Epoch 13/30\n",
      "97/97 [==============================] - 1s 7ms/step - loss: 1.0244 - acc: 0.4409 - val_loss: 1.0201 - val_acc: 0.4411\n",
      "Epoch 14/30\n",
      "97/97 [==============================] - 1s 7ms/step - loss: 1.0237 - acc: 0.4438 - val_loss: 1.0401 - val_acc: 0.4450\n",
      "Epoch 15/30\n",
      "97/97 [==============================] - 1s 7ms/step - loss: 1.0241 - acc: 0.4418 - val_loss: 1.0341 - val_acc: 0.4362\n",
      "Epoch 16/30\n",
      "97/97 [==============================] - 1s 7ms/step - loss: 1.0140 - acc: 0.4457 - val_loss: 1.0096 - val_acc: 0.4421\n",
      "Epoch 17/30\n",
      "97/97 [==============================] - 1s 7ms/step - loss: 1.0117 - acc: 0.4591 - val_loss: 1.0097 - val_acc: 0.4576\n",
      "Epoch 18/30\n",
      "97/97 [==============================] - 1s 7ms/step - loss: 1.0079 - acc: 0.4610 - val_loss: 1.0059 - val_acc: 0.4421\n",
      "Epoch 19/30\n",
      "97/97 [==============================] - 1s 7ms/step - loss: 1.0084 - acc: 0.4597 - val_loss: 1.0232 - val_acc: 0.4479\n",
      "Epoch 20/30\n",
      "97/97 [==============================] - 1s 7ms/step - loss: 1.0157 - acc: 0.4509 - val_loss: 1.0134 - val_acc: 0.4401\n",
      "Epoch 21/30\n",
      "97/97 [==============================] - 1s 7ms/step - loss: 1.0082 - acc: 0.4656 - val_loss: 1.0042 - val_acc: 0.4450\n",
      "Epoch 22/30\n",
      "97/97 [==============================] - 1s 7ms/step - loss: 1.0093 - acc: 0.4600 - val_loss: 1.0177 - val_acc: 0.4518\n",
      "Epoch 23/30\n",
      "97/97 [==============================] - 1s 7ms/step - loss: 1.0049 - acc: 0.4656 - val_loss: 1.0115 - val_acc: 0.4664\n",
      "Epoch 24/30\n",
      "97/97 [==============================] - 1s 7ms/step - loss: 1.0037 - acc: 0.4682 - val_loss: 1.0047 - val_acc: 0.4547\n",
      "Epoch 25/30\n",
      "97/97 [==============================] - 1s 7ms/step - loss: 0.9994 - acc: 0.4753 - val_loss: 1.0049 - val_acc: 0.4479\n",
      "Epoch 26/30\n",
      "97/97 [==============================] - 1s 7ms/step - loss: 1.0018 - acc: 0.4721 - val_loss: 1.0018 - val_acc: 0.4625\n",
      "Epoch 27/30\n",
      "97/97 [==============================] - 1s 6ms/step - loss: 1.0031 - acc: 0.4678 - val_loss: 1.0161 - val_acc: 0.4391\n",
      "Epoch 28/30\n",
      "97/97 [==============================] - 1s 7ms/step - loss: 1.0037 - acc: 0.4760 - val_loss: 1.0092 - val_acc: 0.4596\n",
      "Epoch 29/30\n",
      "97/97 [==============================] - 1s 7ms/step - loss: 1.0042 - acc: 0.4724 - val_loss: 1.0038 - val_acc: 0.4645\n",
      "Epoch 30/30\n",
      "97/97 [==============================] - 1s 7ms/step - loss: 0.9998 - acc: 0.4685 - val_loss: 1.0134 - val_acc: 0.4615\n"
     ]
    }
   ],
   "source": [
    "history = model.fit(X_train_np, y_train_np, epochs=EPOCHS, batch_size=BATCH_SIZE, validation_data=(X_val_np, y_val_np),shuffle=True)"
   ]
  },
  {
   "cell_type": "code",
   "execution_count": 611,
   "metadata": {},
   "outputs": [
    {
     "name": "stdout",
     "output_type": "stream",
     "text": [
      "dict_keys(['loss', 'acc', 'val_loss', 'val_acc'])\n"
     ]
    }
   ],
   "source": [
    "print(history.history.keys())"
   ]
  },
  {
   "cell_type": "code",
   "execution_count": 612,
   "metadata": {},
   "outputs": [
    {
     "data": {
      "image/png": "[encoded data removed]",
      "text/plain": [
       "<Figure size 1058.4x595.44 with 1 Axes>"
      ]
     },
     "metadata": {},
     "output_type": "display_data"
    }
   ],
   "source": [
    "plt.plot(history.history['acc'])\n",
    "plt.plot(history.history['val_acc'])\n",
    "plt.title('model accuracy')\n",
    "plt.ylabel('accuracy')\n",
    "plt.xlabel('epoch')\n",
    "plt.legend(['train', 'val'], loc='upper left')\n",
    "plt.show()"
   ]
  },
  {
   "cell_type": "code",
   "execution_count": 613,
   "metadata": {},
   "outputs": [
    {
     "data": {
      "image/png": "[encoded data removed]",
      "text/plain": [
       "<Figure size 1058.4x595.44 with 1 Axes>"
      ]
     },
     "metadata": {},
     "output_type": "display_data"
    }
   ],
   "source": [
    "plt.plot(history.history['loss'])\n",
    "plt.plot(history.history['val_loss'])\n",
    "plt.title('model loss')\n",
    "plt.ylabel('loss')\n",
    "plt.xlabel('epoch')\n",
    "plt.legend(['train', 'val'], loc='upper left')\n",
    "plt.show()"
   ]
  },
  {
   "cell_type": "code",
   "execution_count": 614,
   "metadata": {},
   "outputs": [],
   "source": [
    "model.save(source_data_toSave + file_name_toSave)"
   ]
  },
  {
   "cell_type": "code",
   "execution_count": 615,
   "metadata": {},
   "outputs": [],
   "source": [
    "#Load Model\n",
    "model = tf.keras.models.load_model(source_data_toSave + file_name_toSave)"
   ]
  },
  {
   "cell_type": "code",
   "execution_count": 616,
   "metadata": {},
   "outputs": [],
   "source": [
    "def precision(label, confusion_matrix):\n",
    "    #print('label',label)\n",
    "    col = confusion_matrix[:, label]\n",
    "    return confusion_matrix[label, label] / col.sum()\n",
    "    \n",
    "def recall(label, confusion_matrix):\n",
    "    row = confusion_matrix[label, :]\n",
    "    return confusion_matrix[label, label] / row.sum()\n",
    "\n",
    "def precision_macro_average(confusion_matrix):\n",
    "    rows, columns = confusion_matrix.shape\n",
    "    sum_of_precisions = 0\n",
    "    for label in range(rows):\n",
    "        sum_of_precisions += precision(label, confusion_matrix)\n",
    "    return sum_of_precisions / rows\n",
    "\n",
    "def recall_macro_average(confusion_matrix):\n",
    "    rows, columns = confusion_matrix.shape\n",
    "    sum_of_recalls = 0\n",
    "    for label in range(columns):\n",
    "        sum_of_recalls += recall(label, confusion_matrix)\n",
    "    return sum_of_recalls / columns\n",
    "\n",
    "def accuracy(confusion_matrix):\n",
    "    diagonal_sum = confusion_matrix.trace()\n",
    "    sum_of_all_elements = confusion_matrix.sum()\n",
    "    return diagonal_sum / sum_of_all_elements "
   ]
  },
  {
   "cell_type": "code",
   "execution_count": 617,
   "metadata": {},
   "outputs": [],
   "source": [
    "#y_test_pred.shape"
   ]
  },
  {
   "cell_type": "markdown",
   "metadata": {},
   "source": [
    "### PREDICTION AND CONFUSION MATRIX TEST"
   ]
  },
  {
   "cell_type": "code",
   "execution_count": 618,
   "metadata": {
    "colab": {},
    "colab_type": "code",
    "id": "NOvVxqGhoBMG",
    "outputId": "7b1cabe0-9caa-4e51-ad2e-19ddb4f6aa50"
   },
   "outputs": [],
   "source": [
    "#TEST Real Test Subset\n",
    "y_test_pred = model.predict(X_test_np)"
   ]
  },
  {
   "cell_type": "code",
   "execution_count": 619,
   "metadata": {},
   "outputs": [
    {
     "name": "stdout",
     "output_type": "stream",
     "text": [
      "[0.18101928 0.5259162  0.29306445]\n",
      "[[0. 1. 0.]\n",
      " [0. 0. 1.]\n",
      " [0. 0. 1.]\n",
      " [1. 0. 0.]]\n"
     ]
    }
   ],
   "source": [
    "ID = 4\n",
    "print(y_test_pred[ID])\n",
    "print(y_test_np[:ID])"
   ]
  },
  {
   "cell_type": "code",
   "execution_count": 620,
   "metadata": {},
   "outputs": [],
   "source": [
    "# Convierte de Probabilidad a 0 -1 y 1\n",
    "uniques_y_test_pred = uniques[y_test_pred.argmax(1)]\n",
    "uniques_y_test_np = uniques[y_test_np.argmax(1)]"
   ]
  },
  {
   "cell_type": "code",
   "execution_count": 621,
   "metadata": {},
   "outputs": [
    {
     "data": {
      "text/plain": [
       "array([[  1, 146,  60],\n",
       "       [  1, 376,  45],\n",
       "       [  3, 139,  57]], dtype=int64)"
      ]
     },
     "execution_count": 621,
     "metadata": {},
     "output_type": "execute_result"
    }
   ],
   "source": [
    "conf_matrix_test = confusion_matrix(uniques_y_test_np, uniques_y_test_pred)\n",
    "conf_matrix_test"
   ]
  },
  {
   "cell_type": "code",
   "execution_count": 622,
   "metadata": {},
   "outputs": [
    {
     "name": "stdout",
     "output_type": "stream",
     "text": [
      "indx Value Precision Recall\n",
      "0\n",
      "   -1        0.200     0.005\n",
      "1\n",
      "    0        0.569     0.891\n",
      "2\n",
      "    1        0.352     0.286\n"
     ]
    }
   ],
   "source": [
    "print(\"indx Value Precision Recall\")\n",
    "for label in uniques:\n",
    "    indx = int(np.where(uniques == label)[0])\n",
    "    print (indx)\n",
    "    print(f\"{int(label):5d}    {precision(indx, conf_matrix_test):9.3f}    {recall(indx, conf_matrix_test):6.3f}\")"
   ]
  },
  {
   "cell_type": "code",
   "execution_count": 623,
   "metadata": {},
   "outputs": [
    {
     "name": "stdout",
     "output_type": "stream",
     "text": [
      "precision total: 0.3735623167292355\n",
      "recall total: 0.3940861131139745\n"
     ]
    }
   ],
   "source": [
    "print(\"precision total:\", precision_macro_average(conf_matrix_test))\n",
    "print(\"recall total:\", recall_macro_average(conf_matrix_test))"
   ]
  },
  {
   "cell_type": "code",
   "execution_count": 624,
   "metadata": {},
   "outputs": [
    {
     "data": {
      "text/plain": [
       "0.5241545893719807"
      ]
     },
     "execution_count": 624,
     "metadata": {},
     "output_type": "execute_result"
    }
   ],
   "source": [
    "ACC_Test = accuracy(conf_matrix_test)\n",
    "ACC_Test"
   ]
  },
  {
   "cell_type": "markdown",
   "metadata": {},
   "source": [
    "###  PREDICTION AND CONFUSION MATRIX TRAIN"
   ]
  },
  {
   "cell_type": "code",
   "execution_count": 625,
   "metadata": {},
   "outputs": [
    {
     "name": "stdout",
     "output_type": "stream",
     "text": [
      "(3078, 5, 94)\n",
      "(3078, 3)\n",
      "(3078, 3)\n"
     ]
    }
   ],
   "source": [
    "#TRAIN\n",
    "y_train_pred = model.predict(X_train_np)\n",
    "print(X_train_np.shape)\n",
    "\n",
    "print(y_train_pred.shape)\n",
    "print(y_train_np.shape)"
   ]
  },
  {
   "cell_type": "code",
   "execution_count": 626,
   "metadata": {},
   "outputs": [
    {
     "name": "stdout",
     "output_type": "stream",
     "text": [
      "[[0.30055022 0.27240258 0.42704716]\n",
      " [0.10759955 0.7774422  0.11495816]\n",
      " [0.311126   0.33733264 0.35154137]\n",
      " [0.32025748 0.29747072 0.38227174]]\n",
      "[[1. 0. 0.]\n",
      " [0. 1. 0.]\n",
      " [0. 0. 1.]\n",
      " [0. 0. 1.]]\n"
     ]
    }
   ],
   "source": [
    "ID = 4\n",
    "print(y_train_pred[:ID])\n",
    "print(y_train_np[:ID])"
   ]
  },
  {
   "cell_type": "code",
   "execution_count": 627,
   "metadata": {},
   "outputs": [
    {
     "name": "stdout",
     "output_type": "stream",
     "text": [
      "[1. 0. 1. ... 0. 0. 0.]\n",
      "(3078,)\n",
      "[-1.  0.  1. ...  0.  0.  0.]\n",
      "(3078,)\n"
     ]
    }
   ],
   "source": [
    "uniques_y_train_pred = uniques[y_train_pred.argmax(1)]\n",
    "uniques_y_train_np = uniques[y_train_np.argmax(1)]\n",
    "print(uniques_y_train_pred)\n",
    "print(uniques_y_train_pred.shape)\n",
    "print(uniques_y_train_np)\n",
    "print(uniques_y_train_np.shape)"
   ]
  },
  {
   "cell_type": "code",
   "execution_count": 628,
   "metadata": {},
   "outputs": [
    {
     "name": "stdout",
     "output_type": "stream",
     "text": [
      "[-1.  0.  1.]\n"
     ]
    }
   ],
   "source": [
    "print(uniques)"
   ]
  },
  {
   "cell_type": "code",
   "execution_count": 629,
   "metadata": {},
   "outputs": [
    {
     "data": {
      "text/plain": [
       "array([[115, 213, 596],\n",
       "       [ 42, 668, 471],\n",
       "       [ 70, 217, 686]], dtype=int64)"
      ]
     },
     "execution_count": 629,
     "metadata": {},
     "output_type": "execute_result"
    }
   ],
   "source": [
    "conf_matrix_train = confusion_matrix(uniques_y_train_np, uniques_y_train_pred)\n",
    "conf_matrix_train"
   ]
  },
  {
   "cell_type": "code",
   "execution_count": 630,
   "metadata": {},
   "outputs": [
    {
     "name": "stdout",
     "output_type": "stream",
     "text": [
      "indx Value Precision Recall\n",
      "0\n",
      "   -1        0.507     0.124\n",
      "1\n",
      "    0        0.608     0.566\n",
      "2\n",
      "    1        0.391     0.705\n"
     ]
    }
   ],
   "source": [
    "print(\"indx Value Precision Recall\")\n",
    "for label in uniques:\n",
    "    indx = int(np.where(uniques == label)[0])\n",
    "    print (indx)\n",
    "    print(f\"{int(label):5d}    {precision(indx, conf_matrix_train):9.3f}    {recall(indx, conf_matrix_train):6.3f}\")"
   ]
  },
  {
   "cell_type": "code",
   "execution_count": 631,
   "metadata": {},
   "outputs": [
    {
     "name": "stdout",
     "output_type": "stream",
     "text": [
      "precision total: 0.5021053167392979\n",
      "recall total: 0.46503906653974575\n"
     ]
    }
   ],
   "source": [
    "print(\"precision total:\", precision_macro_average(conf_matrix_train))\n",
    "print(\"recall total:\", recall_macro_average(conf_matrix_train))"
   ]
  },
  {
   "cell_type": "code",
   "execution_count": 632,
   "metadata": {},
   "outputs": [
    {
     "data": {
      "text/plain": [
       "0.47725795971410007"
      ]
     },
     "execution_count": 632,
     "metadata": {},
     "output_type": "execute_result"
    }
   ],
   "source": [
    "ACC_Train = accuracy(conf_matrix_train)\n",
    "ACC_Train"
   ]
  },
  {
   "cell_type": "markdown",
   "metadata": {},
   "source": [
    "### Test  RESULTS TO CSV"
   ]
  },
  {
   "cell_type": "code",
   "execution_count": 633,
   "metadata": {},
   "outputs": [
    {
     "name": "stdout",
     "output_type": "stream",
     "text": [
      "data_test.shape:  (828, 94)\n"
     ]
    },
    {
     "data": {
      "text/html": [
       "<div>\n",
       "<style scoped>\n",
       "    .dataframe tbody tr th:only-of-type {\n",
       "        vertical-align: middle;\n",
       "    }\n",
       "\n",
       "    .dataframe tbody tr th {\n",
       "        vertical-align: top;\n",
       "    }\n",
       "\n",
       "    .dataframe thead th {\n",
       "        text-align: right;\n",
       "    }\n",
       "</style>\n",
       "<table border=\"1\" class=\"dataframe\">\n",
       "  <thead>\n",
       "    <tr style=\"text-align: right;\">\n",
       "      <th></th>\n",
       "      <th>Open</th>\n",
       "      <th>High</th>\n",
       "      <th>Low</th>\n",
       "      <th>Close</th>\n",
       "      <th>Volume</th>\n",
       "      <th>Open_Bid</th>\n",
       "      <th>High_Bid</th>\n",
       "      <th>Low_Bid</th>\n",
       "      <th>Close_Bid</th>\n",
       "      <th>Volume_Bid</th>\n",
       "      <th>...</th>\n",
       "      <th>trend_kst_diff</th>\n",
       "      <th>trend_aroon_up</th>\n",
       "      <th>trend_aroon_down</th>\n",
       "      <th>momentum_uo</th>\n",
       "      <th>momentum_stoch</th>\n",
       "      <th>momentum_stoch_signal</th>\n",
       "      <th>momentum_wr</th>\n",
       "      <th>momentum_ao</th>\n",
       "      <th>others_dlr</th>\n",
       "      <th>others_cr</th>\n",
       "    </tr>\n",
       "  </thead>\n",
       "  <tbody>\n",
       "    <tr>\n",
       "      <th>4110</th>\n",
       "      <td>1.17319</td>\n",
       "      <td>1.17438</td>\n",
       "      <td>1.17308</td>\n",
       "      <td>1.17427</td>\n",
       "      <td>8920.6504</td>\n",
       "      <td>1.17271</td>\n",
       "      <td>1.17435</td>\n",
       "      <td>1.17267</td>\n",
       "      <td>1.17424</td>\n",
       "      <td>9578.3701</td>\n",
       "      <td>...</td>\n",
       "      <td>-5.864074</td>\n",
       "      <td>4.0</td>\n",
       "      <td>92.0</td>\n",
       "      <td>43.999116</td>\n",
       "      <td>21.784542</td>\n",
       "      <td>15.371693</td>\n",
       "      <td>-78.215458</td>\n",
       "      <td>-0.014482</td>\n",
       "      <td>0.077525</td>\n",
       "      <td>-6.606062</td>\n",
       "    </tr>\n",
       "    <tr>\n",
       "      <th>4111</th>\n",
       "      <td>1.17427</td>\n",
       "      <td>1.17562</td>\n",
       "      <td>1.17198</td>\n",
       "      <td>1.17414</td>\n",
       "      <td>152661.7344</td>\n",
       "      <td>1.17422</td>\n",
       "      <td>1.17561</td>\n",
       "      <td>1.17195</td>\n",
       "      <td>1.17410</td>\n",
       "      <td>147124.0000</td>\n",
       "      <td>...</td>\n",
       "      <td>-5.131650</td>\n",
       "      <td>32.0</td>\n",
       "      <td>88.0</td>\n",
       "      <td>44.961219</td>\n",
       "      <td>26.853933</td>\n",
       "      <td>22.569136</td>\n",
       "      <td>-73.146067</td>\n",
       "      <td>-0.013845</td>\n",
       "      <td>-0.011071</td>\n",
       "      <td>-6.616401</td>\n",
       "    </tr>\n",
       "    <tr>\n",
       "      <th>4112</th>\n",
       "      <td>1.17412</td>\n",
       "      <td>1.18259</td>\n",
       "      <td>1.17408</td>\n",
       "      <td>1.18138</td>\n",
       "      <td>214738.0938</td>\n",
       "      <td>1.17410</td>\n",
       "      <td>1.18254</td>\n",
       "      <td>1.17405</td>\n",
       "      <td>1.18134</td>\n",
       "      <td>213520.0938</td>\n",
       "      <td>...</td>\n",
       "      <td>-4.167188</td>\n",
       "      <td>28.0</td>\n",
       "      <td>84.0</td>\n",
       "      <td>55.465320</td>\n",
       "      <td>53.970037</td>\n",
       "      <td>34.202837</td>\n",
       "      <td>-46.029963</td>\n",
       "      <td>-0.013264</td>\n",
       "      <td>0.614728</td>\n",
       "      <td>-6.040578</td>\n",
       "    </tr>\n",
       "    <tr>\n",
       "      <th>4113</th>\n",
       "      <td>1.18135</td>\n",
       "      <td>1.18694</td>\n",
       "      <td>1.17955</td>\n",
       "      <td>1.18644</td>\n",
       "      <td>216994.3750</td>\n",
       "      <td>1.18134</td>\n",
       "      <td>1.18690</td>\n",
       "      <td>1.17952</td>\n",
       "      <td>1.18641</td>\n",
       "      <td>216780.8750</td>\n",
       "      <td>...</td>\n",
       "      <td>-3.159571</td>\n",
       "      <td>24.0</td>\n",
       "      <td>80.0</td>\n",
       "      <td>60.456536</td>\n",
       "      <td>97.496244</td>\n",
       "      <td>59.440071</td>\n",
       "      <td>-2.503756</td>\n",
       "      <td>-0.011155</td>\n",
       "      <td>0.427398</td>\n",
       "      <td>-5.638138</td>\n",
       "    </tr>\n",
       "    <tr>\n",
       "      <th>4114</th>\n",
       "      <td>1.18641</td>\n",
       "      <td>1.18799</td>\n",
       "      <td>1.18254</td>\n",
       "      <td>1.18314</td>\n",
       "      <td>204817.6406</td>\n",
       "      <td>1.18640</td>\n",
       "      <td>1.18797</td>\n",
       "      <td>1.18252</td>\n",
       "      <td>1.18309</td>\n",
       "      <td>202787.5313</td>\n",
       "      <td>...</td>\n",
       "      <td>-2.276570</td>\n",
       "      <td>20.0</td>\n",
       "      <td>76.0</td>\n",
       "      <td>58.808316</td>\n",
       "      <td>76.926736</td>\n",
       "      <td>76.131006</td>\n",
       "      <td>-23.073264</td>\n",
       "      <td>-0.008103</td>\n",
       "      <td>-0.278531</td>\n",
       "      <td>-5.900599</td>\n",
       "    </tr>\n",
       "    <tr>\n",
       "      <th>...</th>\n",
       "      <td>...</td>\n",
       "      <td>...</td>\n",
       "      <td>...</td>\n",
       "      <td>...</td>\n",
       "      <td>...</td>\n",
       "      <td>...</td>\n",
       "      <td>...</td>\n",
       "      <td>...</td>\n",
       "      <td>...</td>\n",
       "      <td>...</td>\n",
       "      <td>...</td>\n",
       "      <td>...</td>\n",
       "      <td>...</td>\n",
       "      <td>...</td>\n",
       "      <td>...</td>\n",
       "      <td>...</td>\n",
       "      <td>...</td>\n",
       "      <td>...</td>\n",
       "      <td>...</td>\n",
       "      <td>...</td>\n",
       "      <td>...</td>\n",
       "    </tr>\n",
       "    <tr>\n",
       "      <th>4933</th>\n",
       "      <td>1.09019</td>\n",
       "      <td>1.09960</td>\n",
       "      <td>1.08970</td>\n",
       "      <td>1.09787</td>\n",
       "      <td>221915.4388</td>\n",
       "      <td>1.09015</td>\n",
       "      <td>1.09957</td>\n",
       "      <td>1.08969</td>\n",
       "      <td>1.09784</td>\n",
       "      <td>207536.2810</td>\n",
       "      <td>...</td>\n",
       "      <td>3.434440</td>\n",
       "      <td>16.0</td>\n",
       "      <td>32.0</td>\n",
       "      <td>53.470734</td>\n",
       "      <td>87.194861</td>\n",
       "      <td>66.181299</td>\n",
       "      <td>-12.805139</td>\n",
       "      <td>0.005839</td>\n",
       "      <td>0.701995</td>\n",
       "      <td>-12.682430</td>\n",
       "    </tr>\n",
       "    <tr>\n",
       "      <th>4934</th>\n",
       "      <td>1.09788</td>\n",
       "      <td>1.10311</td>\n",
       "      <td>1.09342</td>\n",
       "      <td>1.10169</td>\n",
       "      <td>339215.8879</td>\n",
       "      <td>1.09785</td>\n",
       "      <td>1.10307</td>\n",
       "      <td>1.09340</td>\n",
       "      <td>1.10166</td>\n",
       "      <td>319490.5464</td>\n",
       "      <td>...</td>\n",
       "      <td>3.785981</td>\n",
       "      <td>100.0</td>\n",
       "      <td>28.0</td>\n",
       "      <td>60.537067</td>\n",
       "      <td>94.453125</td>\n",
       "      <td>78.650685</td>\n",
       "      <td>-5.546875</td>\n",
       "      <td>0.005649</td>\n",
       "      <td>0.347343</td>\n",
       "      <td>-12.378612</td>\n",
       "    </tr>\n",
       "    <tr>\n",
       "      <th>4935</th>\n",
       "      <td>1.10168</td>\n",
       "      <td>1.10937</td>\n",
       "      <td>1.09919</td>\n",
       "      <td>1.10782</td>\n",
       "      <td>290715.4826</td>\n",
       "      <td>1.10165</td>\n",
       "      <td>1.10934</td>\n",
       "      <td>1.09916</td>\n",
       "      <td>1.10779</td>\n",
       "      <td>231205.2051</td>\n",
       "      <td>...</td>\n",
       "      <td>4.814614</td>\n",
       "      <td>100.0</td>\n",
       "      <td>24.0</td>\n",
       "      <td>63.147537</td>\n",
       "      <td>95.134965</td>\n",
       "      <td>92.260984</td>\n",
       "      <td>-4.865035</td>\n",
       "      <td>0.007610</td>\n",
       "      <td>0.554876</td>\n",
       "      <td>-11.891071</td>\n",
       "    </tr>\n",
       "    <tr>\n",
       "      <th>4936</th>\n",
       "      <td>1.10780</td>\n",
       "      <td>1.11452</td>\n",
       "      <td>1.10702</td>\n",
       "      <td>1.11071</td>\n",
       "      <td>330692.3901</td>\n",
       "      <td>1.10778</td>\n",
       "      <td>1.11451</td>\n",
       "      <td>1.10698</td>\n",
       "      <td>1.11036</td>\n",
       "      <td>373017.4493</td>\n",
       "      <td>...</td>\n",
       "      <td>5.625703</td>\n",
       "      <td>100.0</td>\n",
       "      <td>20.0</td>\n",
       "      <td>66.774381</td>\n",
       "      <td>89.705485</td>\n",
       "      <td>93.097858</td>\n",
       "      <td>-10.294515</td>\n",
       "      <td>0.011013</td>\n",
       "      <td>0.260533</td>\n",
       "      <td>-11.661219</td>\n",
       "    </tr>\n",
       "    <tr>\n",
       "      <th>4937</th>\n",
       "      <td>1.11213</td>\n",
       "      <td>1.11217</td>\n",
       "      <td>1.11028</td>\n",
       "      <td>1.11158</td>\n",
       "      <td>10126.4174</td>\n",
       "      <td>1.11129</td>\n",
       "      <td>1.11195</td>\n",
       "      <td>1.11023</td>\n",
       "      <td>1.11156</td>\n",
       "      <td>9217.4834</td>\n",
       "      <td>...</td>\n",
       "      <td>6.374474</td>\n",
       "      <td>100.0</td>\n",
       "      <td>16.0</td>\n",
       "      <td>70.454644</td>\n",
       "      <td>91.741573</td>\n",
       "      <td>92.194008</td>\n",
       "      <td>-8.258427</td>\n",
       "      <td>0.014629</td>\n",
       "      <td>0.078298</td>\n",
       "      <td>-11.592024</td>\n",
       "    </tr>\n",
       "  </tbody>\n",
       "</table>\n",
       "<p>828 rows × 94 columns</p>\n",
       "</div>"
      ],
      "text/plain": [
       "         Open     High      Low    Close       Volume  Open_Bid  High_Bid  \\\n",
       "4110  1.17319  1.17438  1.17308  1.17427    8920.6504   1.17271   1.17435   \n",
       "4111  1.17427  1.17562  1.17198  1.17414  152661.7344   1.17422   1.17561   \n",
       "4112  1.17412  1.18259  1.17408  1.18138  214738.0938   1.17410   1.18254   \n",
       "4113  1.18135  1.18694  1.17955  1.18644  216994.3750   1.18134   1.18690   \n",
       "4114  1.18641  1.18799  1.18254  1.18314  204817.6406   1.18640   1.18797   \n",
       "...       ...      ...      ...      ...          ...       ...       ...   \n",
       "4933  1.09019  1.09960  1.08970  1.09787  221915.4388   1.09015   1.09957   \n",
       "4934  1.09788  1.10311  1.09342  1.10169  339215.8879   1.09785   1.10307   \n",
       "4935  1.10168  1.10937  1.09919  1.10782  290715.4826   1.10165   1.10934   \n",
       "4936  1.10780  1.11452  1.10702  1.11071  330692.3901   1.10778   1.11451   \n",
       "4937  1.11213  1.11217  1.11028  1.11158   10126.4174   1.11129   1.11195   \n",
       "\n",
       "      Low_Bid  Close_Bid   Volume_Bid  ...  trend_kst_diff  trend_aroon_up  \\\n",
       "4110  1.17267    1.17424    9578.3701  ...       -5.864074             4.0   \n",
       "4111  1.17195    1.17410  147124.0000  ...       -5.131650            32.0   \n",
       "4112  1.17405    1.18134  213520.0938  ...       -4.167188            28.0   \n",
       "4113  1.17952    1.18641  216780.8750  ...       -3.159571            24.0   \n",
       "4114  1.18252    1.18309  202787.5313  ...       -2.276570            20.0   \n",
       "...       ...        ...          ...  ...             ...             ...   \n",
       "4933  1.08969    1.09784  207536.2810  ...        3.434440            16.0   \n",
       "4934  1.09340    1.10166  319490.5464  ...        3.785981           100.0   \n",
       "4935  1.09916    1.10779  231205.2051  ...        4.814614           100.0   \n",
       "4936  1.10698    1.11036  373017.4493  ...        5.625703           100.0   \n",
       "4937  1.11023    1.11156    9217.4834  ...        6.374474           100.0   \n",
       "\n",
       "      trend_aroon_down  momentum_uo  momentum_stoch  momentum_stoch_signal  \\\n",
       "4110              92.0    43.999116       21.784542              15.371693   \n",
       "4111              88.0    44.961219       26.853933              22.569136   \n",
       "4112              84.0    55.465320       53.970037              34.202837   \n",
       "4113              80.0    60.456536       97.496244              59.440071   \n",
       "4114              76.0    58.808316       76.926736              76.131006   \n",
       "...                ...          ...             ...                    ...   \n",
       "4933              32.0    53.470734       87.194861              66.181299   \n",
       "4934              28.0    60.537067       94.453125              78.650685   \n",
       "4935              24.0    63.147537       95.134965              92.260984   \n",
       "4936              20.0    66.774381       89.705485              93.097858   \n",
       "4937              16.0    70.454644       91.741573              92.194008   \n",
       "\n",
       "      momentum_wr  momentum_ao  others_dlr  others_cr  \n",
       "4110   -78.215458    -0.014482    0.077525  -6.606062  \n",
       "4111   -73.146067    -0.013845   -0.011071  -6.616401  \n",
       "4112   -46.029963    -0.013264    0.614728  -6.040578  \n",
       "4113    -2.503756    -0.011155    0.427398  -5.638138  \n",
       "4114   -23.073264    -0.008103   -0.278531  -5.900599  \n",
       "...           ...          ...         ...        ...  \n",
       "4933   -12.805139     0.005839    0.701995 -12.682430  \n",
       "4934    -5.546875     0.005649    0.347343 -12.378612  \n",
       "4935    -4.865035     0.007610    0.554876 -11.891071  \n",
       "4936   -10.294515     0.011013    0.260533 -11.661219  \n",
       "4937    -8.258427     0.014629    0.078298 -11.592024  \n",
       "\n",
       "[828 rows x 94 columns]"
      ]
     },
     "execution_count": 633,
     "metadata": {},
     "output_type": "execute_result"
    }
   ],
   "source": [
    "print(\"data_test.shape: \", data_test.shape)\n",
    "data_test\n"
   ]
  },
  {
   "cell_type": "code",
   "execution_count": 634,
   "metadata": {},
   "outputs": [
    {
     "name": "stdout",
     "output_type": "stream",
     "text": [
      "        Open     High      Low    Close       Volume\n",
      "0    1.17319  1.17438  1.17308  1.17427    8920.6504\n",
      "1    1.17427  1.17562  1.17198  1.17414  152661.7344\n",
      "2    1.17412  1.18259  1.17408  1.18138  214738.0938\n",
      "3    1.18135  1.18694  1.17955  1.18644  216994.3750\n",
      "4    1.18641  1.18799  1.18254  1.18314  204817.6406\n",
      "..       ...      ...      ...      ...          ...\n",
      "823  1.09019  1.09960  1.08970  1.09787  221915.4388\n",
      "824  1.09788  1.10311  1.09342  1.10169  339215.8879\n",
      "825  1.10168  1.10937  1.09919  1.10782  290715.4826\n",
      "826  1.10780  1.11452  1.10702  1.11071  330692.3901\n",
      "827  1.11213  1.11217  1.11028  1.11158   10126.4174\n",
      "\n",
      "[828 rows x 5 columns]\n"
     ]
    }
   ],
   "source": [
    "data_test_res = data_test\n",
    "data_test_res.reset_index(drop=True, inplace=True)\n",
    "results_data_test = pd.DataFrame(data_test_res['Open'])\n",
    "results_data_test['High'] = data_test_res['High']\n",
    "results_data_test['Low'] = data_test_res['Low']\n",
    "results_data_test['Close'] = data_test_res['Close']\n",
    "results_data_test['Volume'] = data_test_res['Volume']\n",
    "print(results_data_test)"
   ]
  },
  {
   "cell_type": "code",
   "execution_count": 635,
   "metadata": {},
   "outputs": [
    {
     "name": "stdout",
     "output_type": "stream",
     "text": [
      "     Real_Class\n",
      "0           0.0\n",
      "1           0.0\n",
      "2           0.0\n",
      "3           0.0\n",
      "4           0.0\n",
      "..          ...\n",
      "823         1.0\n",
      "824         0.0\n",
      "825         0.0\n",
      "826         0.0\n",
      "827         0.0\n",
      "\n",
      "[828 rows x 1 columns]\n"
     ]
    }
   ],
   "source": [
    "\n",
    "uniques_y_test_pred_pd = pd.DataFrame({'Real_Class': uniques_y_test_pred[:]})\n",
    "print(uniques_y_test_pred_pd)"
   ]
  },
  {
   "cell_type": "code",
   "execution_count": 636,
   "metadata": {},
   "outputs": [],
   "source": [
    "results_data_test['Real_Class'] = uniques_y_test_np\n",
    "results_data_test['Predicted_Class'] = uniques_y_test_pred_pd"
   ]
  },
  {
   "cell_type": "code",
   "execution_count": 637,
   "metadata": {
    "scrolled": true
   },
   "outputs": [
    {
     "data": {
      "text/html": [
       "<div>\n",
       "<style scoped>\n",
       "    .dataframe tbody tr th:only-of-type {\n",
       "        vertical-align: middle;\n",
       "    }\n",
       "\n",
       "    .dataframe tbody tr th {\n",
       "        vertical-align: top;\n",
       "    }\n",
       "\n",
       "    .dataframe thead th {\n",
       "        text-align: right;\n",
       "    }\n",
       "</style>\n",
       "<table border=\"1\" class=\"dataframe\">\n",
       "  <thead>\n",
       "    <tr style=\"text-align: right;\">\n",
       "      <th></th>\n",
       "      <th>Open</th>\n",
       "      <th>High</th>\n",
       "      <th>Low</th>\n",
       "      <th>Close</th>\n",
       "      <th>Volume</th>\n",
       "      <th>Real_Class</th>\n",
       "      <th>Predicted_Class</th>\n",
       "    </tr>\n",
       "  </thead>\n",
       "  <tbody>\n",
       "    <tr>\n",
       "      <th>0</th>\n",
       "      <td>1.17319</td>\n",
       "      <td>1.17438</td>\n",
       "      <td>1.17308</td>\n",
       "      <td>1.17427</td>\n",
       "      <td>8920.6504</td>\n",
       "      <td>0.0</td>\n",
       "      <td>0.0</td>\n",
       "    </tr>\n",
       "    <tr>\n",
       "      <th>1</th>\n",
       "      <td>1.17427</td>\n",
       "      <td>1.17562</td>\n",
       "      <td>1.17198</td>\n",
       "      <td>1.17414</td>\n",
       "      <td>152661.7344</td>\n",
       "      <td>1.0</td>\n",
       "      <td>0.0</td>\n",
       "    </tr>\n",
       "    <tr>\n",
       "      <th>2</th>\n",
       "      <td>1.17412</td>\n",
       "      <td>1.18259</td>\n",
       "      <td>1.17408</td>\n",
       "      <td>1.18138</td>\n",
       "      <td>214738.0938</td>\n",
       "      <td>1.0</td>\n",
       "      <td>0.0</td>\n",
       "    </tr>\n",
       "    <tr>\n",
       "      <th>3</th>\n",
       "      <td>1.18135</td>\n",
       "      <td>1.18694</td>\n",
       "      <td>1.17955</td>\n",
       "      <td>1.18644</td>\n",
       "      <td>216994.3750</td>\n",
       "      <td>-1.0</td>\n",
       "      <td>0.0</td>\n",
       "    </tr>\n",
       "    <tr>\n",
       "      <th>4</th>\n",
       "      <td>1.18641</td>\n",
       "      <td>1.18799</td>\n",
       "      <td>1.18254</td>\n",
       "      <td>1.18314</td>\n",
       "      <td>204817.6406</td>\n",
       "      <td>0.0</td>\n",
       "      <td>0.0</td>\n",
       "    </tr>\n",
       "    <tr>\n",
       "      <th>5</th>\n",
       "      <td>1.18314</td>\n",
       "      <td>1.18750</td>\n",
       "      <td>1.18055</td>\n",
       "      <td>1.18223</td>\n",
       "      <td>199182.5000</td>\n",
       "      <td>0.0</td>\n",
       "      <td>0.0</td>\n",
       "    </tr>\n",
       "    <tr>\n",
       "      <th>6</th>\n",
       "      <td>1.18150</td>\n",
       "      <td>1.18183</td>\n",
       "      <td>1.18059</td>\n",
       "      <td>1.18149</td>\n",
       "      <td>7389.2700</td>\n",
       "      <td>0.0</td>\n",
       "      <td>0.0</td>\n",
       "    </tr>\n",
       "    <tr>\n",
       "      <th>7</th>\n",
       "      <td>1.18149</td>\n",
       "      <td>1.18199</td>\n",
       "      <td>1.17808</td>\n",
       "      <td>1.17948</td>\n",
       "      <td>187651.9063</td>\n",
       "      <td>0.0</td>\n",
       "      <td>0.0</td>\n",
       "    </tr>\n",
       "    <tr>\n",
       "      <th>8</th>\n",
       "      <td>1.17946</td>\n",
       "      <td>1.17953</td>\n",
       "      <td>1.17362</td>\n",
       "      <td>1.17716</td>\n",
       "      <td>192445.1250</td>\n",
       "      <td>0.0</td>\n",
       "      <td>1.0</td>\n",
       "    </tr>\n",
       "    <tr>\n",
       "      <th>9</th>\n",
       "      <td>1.17712</td>\n",
       "      <td>1.18056</td>\n",
       "      <td>1.17304</td>\n",
       "      <td>1.17946</td>\n",
       "      <td>195770.4844</td>\n",
       "      <td>1.0</td>\n",
       "      <td>0.0</td>\n",
       "    </tr>\n",
       "  </tbody>\n",
       "</table>\n",
       "</div>"
      ],
      "text/plain": [
       "      Open     High      Low    Close       Volume  Real_Class  \\\n",
       "0  1.17319  1.17438  1.17308  1.17427    8920.6504         0.0   \n",
       "1  1.17427  1.17562  1.17198  1.17414  152661.7344         1.0   \n",
       "2  1.17412  1.18259  1.17408  1.18138  214738.0938         1.0   \n",
       "3  1.18135  1.18694  1.17955  1.18644  216994.3750        -1.0   \n",
       "4  1.18641  1.18799  1.18254  1.18314  204817.6406         0.0   \n",
       "5  1.18314  1.18750  1.18055  1.18223  199182.5000         0.0   \n",
       "6  1.18150  1.18183  1.18059  1.18149    7389.2700         0.0   \n",
       "7  1.18149  1.18199  1.17808  1.17948  187651.9063         0.0   \n",
       "8  1.17946  1.17953  1.17362  1.17716  192445.1250         0.0   \n",
       "9  1.17712  1.18056  1.17304  1.17946  195770.4844         1.0   \n",
       "\n",
       "   Predicted_Class  \n",
       "0              0.0  \n",
       "1              0.0  \n",
       "2              0.0  \n",
       "3              0.0  \n",
       "4              0.0  \n",
       "5              0.0  \n",
       "6              0.0  \n",
       "7              0.0  \n",
       "8              1.0  \n",
       "9              0.0  "
      ]
     },
     "execution_count": 637,
     "metadata": {},
     "output_type": "execute_result"
    }
   ],
   "source": [
    "results_data_test.head(10)"
   ]
  },
  {
   "cell_type": "code",
   "execution_count": 638,
   "metadata": {},
   "outputs": [
    {
     "data": {
      "text/plain": [
       "'C:\\\\Users\\\\maw\\\\Documents\\\\ITESO\\\\forex_prediction\\\\Jupyter Notebooks\\\\IDI4\\\\models_clasification\\\\../../../Results/LSTM/Optimized/3C-EURUSD_FULL_1D_145F_0.002Sep_33_Test.csv'"
      ]
     },
     "execution_count": 638,
     "metadata": {},
     "output_type": "execute_result"
    }
   ],
   "source": [
    "#SAVE\n",
    "results_data_test.to_csv(test_results_csv, header=True, index=False)\n",
    "test_results_csv"
   ]
  },
  {
   "cell_type": "markdown",
   "metadata": {},
   "source": [
    "### TRAIN RESULTS TO CSV"
   ]
  },
  {
   "cell_type": "code",
   "execution_count": 639,
   "metadata": {},
   "outputs": [
    {
     "name": "stdout",
     "output_type": "stream",
     "text": [
      "data_train.shape:  (3083, 94)\n"
     ]
    }
   ],
   "source": [
    "print(\"data_train.shape: \", data_training.shape)\n"
   ]
  },
  {
   "cell_type": "code",
   "execution_count": 640,
   "metadata": {},
   "outputs": [
    {
     "name": "stdout",
     "output_type": "stream",
     "text": [
      "         Open     High      Low    Close        Volume\n",
      "0     1.23655  1.23817  1.22801  1.23179  1.078729e+06\n",
      "1     1.23158  1.23241  1.22967  1.23109  8.212280e+04\n",
      "2     1.23140  1.23154  1.21310  1.21496  1.130388e+06\n",
      "3     1.21495  1.21669  1.20594  1.20711  1.123270e+06\n",
      "4     1.20718  1.21160  1.20519  1.20794  1.118725e+06\n",
      "...       ...      ...      ...      ...           ...\n",
      "3078  1.36104  1.36340  1.35645  1.36007  1.962209e+05\n",
      "3079  1.35912  1.35992  1.35909  1.35914  5.434240e+03\n",
      "3080  1.35913  1.36137  1.35742  1.36004  2.521172e+05\n",
      "3081  1.36004  1.36279  1.35836  1.36060  2.456597e+05\n",
      "3082  1.36060  1.36514  1.36006  1.36282  3.139254e+05\n",
      "\n",
      "[3083 rows x 5 columns]\n",
      "(3083, 5)\n",
      "(3078, 5)\n"
     ]
    }
   ],
   "source": [
    "data_training_res = data_training\n",
    "data_training_res.reset_index(drop=True, inplace=True)\n",
    "results_data_train = pd.DataFrame(data_training_res['Open'])\n",
    "results_data_train['High'] = data_training_res['High']\n",
    "results_data_train['Low'] = data_training_res['Low']\n",
    "results_data_train['Close'] = data_training_res['Close']\n",
    "results_data_train['Volume'] = data_training_res['Volume']\n",
    "print(results_data_train)\n",
    "print(results_data_train.shape)\n",
    "results_data_train = results_data_train.iloc[RANGE:]\n",
    "results_data_train.reset_index(drop=True, inplace=True)\n",
    "print(results_data_train.shape)"
   ]
  },
  {
   "cell_type": "code",
   "execution_count": 641,
   "metadata": {},
   "outputs": [
    {
     "name": "stdout",
     "output_type": "stream",
     "text": [
      "[1. 0. 1. ... 0. 0. 0.]\n",
      "(3078,)\n"
     ]
    }
   ],
   "source": [
    "print(uniques_y_train_pred[:])\n",
    "print(uniques_y_train_pred.shape)"
   ]
  },
  {
   "cell_type": "code",
   "execution_count": 642,
   "metadata": {},
   "outputs": [
    {
     "name": "stdout",
     "output_type": "stream",
     "text": [
      "      Real_Class\n",
      "0            1.0\n",
      "1            0.0\n",
      "2            1.0\n",
      "3            1.0\n",
      "4            1.0\n",
      "...          ...\n",
      "3073         0.0\n",
      "3074         0.0\n",
      "3075         0.0\n",
      "3076         0.0\n",
      "3077         0.0\n",
      "\n",
      "[3078 rows x 1 columns]\n",
      "(3078, 1)\n"
     ]
    }
   ],
   "source": [
    "\n",
    "uniques_y_train_pred_pd = pd.DataFrame({'Real_Class': uniques_y_train_pred[:]})\n",
    "print(uniques_y_train_pred_pd)\n",
    "print(uniques_y_train_pred_pd.shape)\n"
   ]
  },
  {
   "cell_type": "code",
   "execution_count": 643,
   "metadata": {},
   "outputs": [],
   "source": [
    "results_data_train['Real_Class'] = uniques_y_train_np\n",
    "results_data_train['Predicted_Class'] = uniques_y_train_pred_pd"
   ]
  },
  {
   "cell_type": "code",
   "execution_count": 644,
   "metadata": {},
   "outputs": [
    {
     "data": {
      "text/html": [
       "<div>\n",
       "<style scoped>\n",
       "    .dataframe tbody tr th:only-of-type {\n",
       "        vertical-align: middle;\n",
       "    }\n",
       "\n",
       "    .dataframe tbody tr th {\n",
       "        vertical-align: top;\n",
       "    }\n",
       "\n",
       "    .dataframe thead th {\n",
       "        text-align: right;\n",
       "    }\n",
       "</style>\n",
       "<table border=\"1\" class=\"dataframe\">\n",
       "  <thead>\n",
       "    <tr style=\"text-align: right;\">\n",
       "      <th></th>\n",
       "      <th>Open</th>\n",
       "      <th>High</th>\n",
       "      <th>Low</th>\n",
       "      <th>Close</th>\n",
       "      <th>Volume</th>\n",
       "      <th>Real_Class</th>\n",
       "      <th>Predicted_Class</th>\n",
       "    </tr>\n",
       "  </thead>\n",
       "  <tbody>\n",
       "    <tr>\n",
       "      <th>0</th>\n",
       "      <td>1.20780</td>\n",
       "      <td>1.21167</td>\n",
       "      <td>1.20465</td>\n",
       "      <td>1.21079</td>\n",
       "      <td>1.126558e+06</td>\n",
       "      <td>-1.0</td>\n",
       "      <td>1.0</td>\n",
       "    </tr>\n",
       "    <tr>\n",
       "      <th>1</th>\n",
       "      <td>1.21063</td>\n",
       "      <td>1.21349</td>\n",
       "      <td>1.20005</td>\n",
       "      <td>1.20102</td>\n",
       "      <td>1.065118e+06</td>\n",
       "      <td>0.0</td>\n",
       "      <td>0.0</td>\n",
       "    </tr>\n",
       "    <tr>\n",
       "      <th>2</th>\n",
       "      <td>1.20131</td>\n",
       "      <td>1.20189</td>\n",
       "      <td>1.20019</td>\n",
       "      <td>1.20096</td>\n",
       "      <td>7.733910e+04</td>\n",
       "      <td>1.0</td>\n",
       "      <td>1.0</td>\n",
       "    </tr>\n",
       "    <tr>\n",
       "      <th>3</th>\n",
       "      <td>1.20087</td>\n",
       "      <td>1.20685</td>\n",
       "      <td>1.19860</td>\n",
       "      <td>1.20468</td>\n",
       "      <td>1.124832e+06</td>\n",
       "      <td>1.0</td>\n",
       "      <td>1.0</td>\n",
       "    </tr>\n",
       "    <tr>\n",
       "      <th>4</th>\n",
       "      <td>1.20455</td>\n",
       "      <td>1.21946</td>\n",
       "      <td>1.20442</td>\n",
       "      <td>1.21778</td>\n",
       "      <td>1.117748e+06</td>\n",
       "      <td>0.0</td>\n",
       "      <td>1.0</td>\n",
       "    </tr>\n",
       "    <tr>\n",
       "      <th>5</th>\n",
       "      <td>1.21754</td>\n",
       "      <td>1.22208</td>\n",
       "      <td>1.21466</td>\n",
       "      <td>1.21889</td>\n",
       "      <td>1.106444e+06</td>\n",
       "      <td>0.0</td>\n",
       "      <td>1.0</td>\n",
       "    </tr>\n",
       "    <tr>\n",
       "      <th>6</th>\n",
       "      <td>1.21899</td>\n",
       "      <td>1.21999</td>\n",
       "      <td>1.21408</td>\n",
       "      <td>1.21666</td>\n",
       "      <td>1.132577e+06</td>\n",
       "      <td>-1.0</td>\n",
       "      <td>1.0</td>\n",
       "    </tr>\n",
       "    <tr>\n",
       "      <th>7</th>\n",
       "      <td>1.21663</td>\n",
       "      <td>1.21931</td>\n",
       "      <td>1.20414</td>\n",
       "      <td>1.20558</td>\n",
       "      <td>1.063896e+06</td>\n",
       "      <td>0.0</td>\n",
       "      <td>0.0</td>\n",
       "    </tr>\n",
       "    <tr>\n",
       "      <th>8</th>\n",
       "      <td>1.20628</td>\n",
       "      <td>1.20701</td>\n",
       "      <td>1.20509</td>\n",
       "      <td>1.20662</td>\n",
       "      <td>7.789710e+04</td>\n",
       "      <td>0.0</td>\n",
       "      <td>0.0</td>\n",
       "    </tr>\n",
       "    <tr>\n",
       "      <th>9</th>\n",
       "      <td>1.20657</td>\n",
       "      <td>1.20802</td>\n",
       "      <td>1.20459</td>\n",
       "      <td>1.20650</td>\n",
       "      <td>1.110041e+06</td>\n",
       "      <td>0.0</td>\n",
       "      <td>1.0</td>\n",
       "    </tr>\n",
       "  </tbody>\n",
       "</table>\n",
       "</div>"
      ],
      "text/plain": [
       "      Open     High      Low    Close        Volume  Real_Class  \\\n",
       "0  1.20780  1.21167  1.20465  1.21079  1.126558e+06        -1.0   \n",
       "1  1.21063  1.21349  1.20005  1.20102  1.065118e+06         0.0   \n",
       "2  1.20131  1.20189  1.20019  1.20096  7.733910e+04         1.0   \n",
       "3  1.20087  1.20685  1.19860  1.20468  1.124832e+06         1.0   \n",
       "4  1.20455  1.21946  1.20442  1.21778  1.117748e+06         0.0   \n",
       "5  1.21754  1.22208  1.21466  1.21889  1.106444e+06         0.0   \n",
       "6  1.21899  1.21999  1.21408  1.21666  1.132577e+06        -1.0   \n",
       "7  1.21663  1.21931  1.20414  1.20558  1.063896e+06         0.0   \n",
       "8  1.20628  1.20701  1.20509  1.20662  7.789710e+04         0.0   \n",
       "9  1.20657  1.20802  1.20459  1.20650  1.110041e+06         0.0   \n",
       "\n",
       "   Predicted_Class  \n",
       "0              1.0  \n",
       "1              0.0  \n",
       "2              1.0  \n",
       "3              1.0  \n",
       "4              1.0  \n",
       "5              1.0  \n",
       "6              1.0  \n",
       "7              0.0  \n",
       "8              0.0  \n",
       "9              1.0  "
      ]
     },
     "execution_count": 644,
     "metadata": {},
     "output_type": "execute_result"
    }
   ],
   "source": [
    "results_data_train.head(10)\n",
    "#results_data_train.tail(10)"
   ]
  },
  {
   "cell_type": "code",
   "execution_count": 645,
   "metadata": {},
   "outputs": [
    {
     "data": {
      "text/plain": [
       "array([-1.,  0.,  1.,  1.,  0.,  0., -1.,  0.,  0.,  0.,  1.,  1.,  1.,\n",
       "        0.,  0.,  0., -1.,  1.,  0.,  0.])"
      ]
     },
     "execution_count": 645,
     "metadata": {},
     "output_type": "execute_result"
    }
   ],
   "source": [
    "uniques_y_train_np[:20]"
   ]
  },
  {
   "cell_type": "code",
   "execution_count": 646,
   "metadata": {},
   "outputs": [
    {
     "data": {
      "text/plain": [
       "'C:\\\\Users\\\\maw\\\\Documents\\\\ITESO\\\\forex_prediction\\\\Jupyter Notebooks\\\\IDI4\\\\models_clasification\\\\../../../Results/LSTM/Optimized/3C-EURUSD_FULL_1D_145F_0.002Sep_33_Train.csv'"
      ]
     },
     "execution_count": 646,
     "metadata": {},
     "output_type": "execute_result"
    }
   ],
   "source": [
    "#Save\n",
    "#results_data_train.to_csv(train_results_csv, header=True, index=False)\n",
    "train_results_csv"
   ]
  },
  {
   "cell_type": "markdown",
   "metadata": {},
   "source": [
    "## LSTM Optimized Results"
   ]
  },
  {
   "cell_type": "code",
   "execution_count": 647,
   "metadata": {},
   "outputs": [
    {
     "name": "stdout",
     "output_type": "stream",
     "text": [
      "                   Input_Dataset_Name  Profundidad  TEST_SIZE  VAL_SIZE  \\\n",
      "0  3C-EURUSD_FULL_1D_145F_0.002Sep_33            5        0.2       0.2   \n",
      "\n",
      "                                Model_Name DataSet_Size EPOCAS  ACC_Test  \\\n",
      "0  3C-EURUSD_FULL_1D_145F_0.002Sep_33.hdf5         5137     30  0.524155   \n",
      "\n",
      "   ACC_Train  LAYER1_UNITS  \n",
      "0   0.477258            64  \n",
      "LSTM_Optimized_Results.csv\n",
      "C:\\Users\\maw\\Documents\\ITESO\\forex_prediction\\Jupyter Notebooks\\IDI4\\models_clasification\\../../../Results/LSTM/Optimized/Results/LSTM_Optimized_Results.csv\n"
     ]
    }
   ],
   "source": [
    "#FILENAME =   str(RANGE) + 'Prof_' + str(EPOCHS) + 'Epochs' + '_' +  \"{:.2f}\".format(acc) + 'acc_' + TARGET_NAME + \"_\"+ str(newID) \n",
    "\n",
    "data = {'Input_Dataset_Name':[FILENAME], 'Profundidad':[RANGE], 'TEST_SIZE':[TEST_SIZE], 'VAL_SIZE':[VAL_SIZE],\n",
    "        'Model_Name':[file_name_toSave], 'DataSet_Size':[str(SIZE)], 'EPOCAS':[str(EPOCHS)], \n",
    "        'ACC_Test':[ACC_Test], 'ACC_Train':[ACC_Train], 'LAYER1_UNITS':[LAYER1_UNITS]}\n",
    "\n",
    "Results = pd.DataFrame(data)\n",
    "print(Results)\n",
    "\n",
    "filename = 'LSTM_Optimized_Results.csv'\n",
    "print(filename)\n",
    "\n",
    "filename_path = os.path.join(pwd, r'../../../Results/LSTM/Optimized/Results/' + filename)\n",
    "print(filename_path)"
   ]
  },
  {
   "cell_type": "code",
   "execution_count": 648,
   "metadata": {},
   "outputs": [],
   "source": [
    "Results_loaded = pd.read_csv(filename_path, header=0)"
   ]
  },
  {
   "cell_type": "code",
   "execution_count": 649,
   "metadata": {},
   "outputs": [
    {
     "name": "stdout",
     "output_type": "stream",
     "text": [
      "                    Input_Dataset_Name  Profundidad  TEST_SIZE  VAL_SIZE  \\\n",
      "18  3C-EURUSD_FULL_1D_145F_0.002Sep_33            5        0.2       0.2   \n",
      "\n",
      "                                 Model_Name DataSet_Size EPOCAS  ACC_Test  \\\n",
      "18  3C-EURUSD_FULL_1D_145F_0.002Sep_33.hdf5         5137     30  0.524155   \n",
      "\n",
      "    ACC_Train  LAYER1_UNITS  \n",
      "18   0.477258            64  \n"
     ]
    }
   ],
   "source": [
    "Results_loaded = Results_loaded.append(Results,ignore_index=True)\n",
    "print(Results_loaded[-1:])"
   ]
  },
  {
   "cell_type": "code",
   "execution_count": 650,
   "metadata": {},
   "outputs": [],
   "source": [
    "Results_loaded.to_csv(filename_path, header=True, index=False)"
   ]
  },
  {
   "cell_type": "code",
   "execution_count": 651,
   "metadata": {},
   "outputs": [
    {
     "data": {
      "text/html": [
       "<div>\n",
       "<style scoped>\n",
       "    .dataframe tbody tr th:only-of-type {\n",
       "        vertical-align: middle;\n",
       "    }\n",
       "\n",
       "    .dataframe tbody tr th {\n",
       "        vertical-align: top;\n",
       "    }\n",
       "\n",
       "    .dataframe thead th {\n",
       "        text-align: right;\n",
       "    }\n",
       "</style>\n",
       "<table border=\"1\" class=\"dataframe\">\n",
       "  <thead>\n",
       "    <tr style=\"text-align: right;\">\n",
       "      <th></th>\n",
       "      <th>Input_Dataset_Name</th>\n",
       "      <th>Profundidad</th>\n",
       "      <th>TEST_SIZE</th>\n",
       "      <th>VAL_SIZE</th>\n",
       "      <th>Model_Name</th>\n",
       "      <th>DataSet_Size</th>\n",
       "      <th>EPOCAS</th>\n",
       "      <th>ACC_Test</th>\n",
       "      <th>ACC_Train</th>\n",
       "      <th>LAYER1_UNITS</th>\n",
       "    </tr>\n",
       "  </thead>\n",
       "  <tbody>\n",
       "    <tr>\n",
       "      <th>0</th>\n",
       "      <td>3C-EURUSD_FULL_1D_145F_0.002Sep_1</td>\n",
       "      <td>4</td>\n",
       "      <td>0.2</td>\n",
       "      <td>0.2</td>\n",
       "      <td>3C-EURUSD_FULL_1D_145F_0.002Sep_1.hdf5</td>\n",
       "      <td>5137</td>\n",
       "      <td>100</td>\n",
       "      <td>0.515700</td>\n",
       "      <td>0.463787</td>\n",
       "      <td>8</td>\n",
       "    </tr>\n",
       "    <tr>\n",
       "      <th>1</th>\n",
       "      <td>3C-EURUSD_FULL_1D_145F_0.002Sep_1</td>\n",
       "      <td>4</td>\n",
       "      <td>0.2</td>\n",
       "      <td>0.2</td>\n",
       "      <td>3C-EURUSD_FULL_1D_145F_0.002Sep_1.hdf5</td>\n",
       "      <td>5137</td>\n",
       "      <td>100</td>\n",
       "      <td>0.515700</td>\n",
       "      <td>0.463787</td>\n",
       "      <td>8</td>\n",
       "    </tr>\n",
       "    <tr>\n",
       "      <th>4</th>\n",
       "      <td>3C-EURUSD_FULL_1D_145F_0.002Sep_5</td>\n",
       "      <td>11</td>\n",
       "      <td>0.2</td>\n",
       "      <td>0.2</td>\n",
       "      <td>3C-EURUSD_FULL_1D_145F_0.002Sep_5.hdf5</td>\n",
       "      <td>5137</td>\n",
       "      <td>100</td>\n",
       "      <td>0.491546</td>\n",
       "      <td>0.478841</td>\n",
       "      <td>8</td>\n",
       "    </tr>\n",
       "    <tr>\n",
       "      <th>5</th>\n",
       "      <td>3C-EURUSD_FULL_1D_145F_0.002Sep_7</td>\n",
       "      <td>1</td>\n",
       "      <td>0.2</td>\n",
       "      <td>0.2</td>\n",
       "      <td>3C-EURUSD_FULL_1D_145F_0.002Sep_7.hdf5</td>\n",
       "      <td>5137</td>\n",
       "      <td>100</td>\n",
       "      <td>0.507246</td>\n",
       "      <td>0.416937</td>\n",
       "      <td>8</td>\n",
       "    </tr>\n",
       "    <tr>\n",
       "      <th>6</th>\n",
       "      <td>3C-EURUSD_FULL_1D_145F_0.002Sep_9</td>\n",
       "      <td>1</td>\n",
       "      <td>0.2</td>\n",
       "      <td>0.2</td>\n",
       "      <td>3C-EURUSD_FULL_1D_145F_0.002Sep_9.hdf5</td>\n",
       "      <td>5137</td>\n",
       "      <td>100</td>\n",
       "      <td>0.503623</td>\n",
       "      <td>0.413692</td>\n",
       "      <td>8</td>\n",
       "    </tr>\n",
       "    <tr>\n",
       "      <th>8</th>\n",
       "      <td>3C-EURUSD_FULL_1D_145F_0.002Sep_13</td>\n",
       "      <td>5</td>\n",
       "      <td>0.2</td>\n",
       "      <td>0.2</td>\n",
       "      <td>3C-EURUSD_FULL_1D_145F_0.002Sep_13.hdf5</td>\n",
       "      <td>5137</td>\n",
       "      <td>100</td>\n",
       "      <td>0.514493</td>\n",
       "      <td>0.491553</td>\n",
       "      <td>8</td>\n",
       "    </tr>\n",
       "    <tr>\n",
       "      <th>10</th>\n",
       "      <td>3C-EURUSD_FULL_1D_145F_0.002Sep_17</td>\n",
       "      <td>5</td>\n",
       "      <td>0.2</td>\n",
       "      <td>0.2</td>\n",
       "      <td>3C-EURUSD_FULL_1D_145F_0.002Sep_17.hdf5</td>\n",
       "      <td>5137</td>\n",
       "      <td>100</td>\n",
       "      <td>0.512077</td>\n",
       "      <td>0.475634</td>\n",
       "      <td>8</td>\n",
       "    </tr>\n",
       "    <tr>\n",
       "      <th>11</th>\n",
       "      <td>3C-EURUSD_FULL_1D_145F_0.002Sep_19</td>\n",
       "      <td>6</td>\n",
       "      <td>0.2</td>\n",
       "      <td>0.2</td>\n",
       "      <td>3C-EURUSD_FULL_1D_145F_0.002Sep_19.hdf5</td>\n",
       "      <td>5137</td>\n",
       "      <td>100</td>\n",
       "      <td>0.503623</td>\n",
       "      <td>0.507637</td>\n",
       "      <td>8</td>\n",
       "    </tr>\n",
       "    <tr>\n",
       "      <th>12</th>\n",
       "      <td>3C-EURUSD_FULL_1D_145F_0.002Sep_21</td>\n",
       "      <td>3</td>\n",
       "      <td>0.2</td>\n",
       "      <td>0.2</td>\n",
       "      <td>3C-EURUSD_FULL_1D_145F_0.002Sep_21.hdf5</td>\n",
       "      <td>5137</td>\n",
       "      <td>100</td>\n",
       "      <td>0.508454</td>\n",
       "      <td>0.459416</td>\n",
       "      <td>8</td>\n",
       "    </tr>\n",
       "    <tr>\n",
       "      <th>13</th>\n",
       "      <td>3C-EURUSD_FULL_1D_145F_0.002Sep_23</td>\n",
       "      <td>3</td>\n",
       "      <td>0.2</td>\n",
       "      <td>0.2</td>\n",
       "      <td>3C-EURUSD_FULL_1D_145F_0.002Sep_23.hdf5</td>\n",
       "      <td>5137</td>\n",
       "      <td>100</td>\n",
       "      <td>0.510870</td>\n",
       "      <td>0.425974</td>\n",
       "      <td>32</td>\n",
       "    </tr>\n",
       "    <tr>\n",
       "      <th>14</th>\n",
       "      <td>3C-EURUSD_FULL_1D_145F_0.002Sep_25</td>\n",
       "      <td>1</td>\n",
       "      <td>0.2</td>\n",
       "      <td>0.2</td>\n",
       "      <td>3C-EURUSD_FULL_1D_145F_0.002Sep_25.hdf5</td>\n",
       "      <td>5137</td>\n",
       "      <td>30</td>\n",
       "      <td>0.506039</td>\n",
       "      <td>0.414017</td>\n",
       "      <td>64</td>\n",
       "    </tr>\n",
       "    <tr>\n",
       "      <th>15</th>\n",
       "      <td>3C-EURUSD_FULL_1D_145F_0.002Sep_27</td>\n",
       "      <td>2</td>\n",
       "      <td>0.2</td>\n",
       "      <td>0.2</td>\n",
       "      <td>3C-EURUSD_FULL_1D_145F_0.002Sep_27.hdf5</td>\n",
       "      <td>5137</td>\n",
       "      <td>30</td>\n",
       "      <td>0.496377</td>\n",
       "      <td>0.418695</td>\n",
       "      <td>64</td>\n",
       "    </tr>\n",
       "    <tr>\n",
       "      <th>16</th>\n",
       "      <td>3C-EURUSD_FULL_1D_145F_0.002Sep_29</td>\n",
       "      <td>3</td>\n",
       "      <td>0.2</td>\n",
       "      <td>0.2</td>\n",
       "      <td>3C-EURUSD_FULL_1D_145F_0.002Sep_29.hdf5</td>\n",
       "      <td>5137</td>\n",
       "      <td>30</td>\n",
       "      <td>0.522947</td>\n",
       "      <td>0.433442</td>\n",
       "      <td>64</td>\n",
       "    </tr>\n",
       "    <tr>\n",
       "      <th>17</th>\n",
       "      <td>3C-EURUSD_FULL_1D_145F_0.002Sep_31</td>\n",
       "      <td>4</td>\n",
       "      <td>0.2</td>\n",
       "      <td>0.2</td>\n",
       "      <td>3C-EURUSD_FULL_1D_145F_0.002Sep_31.hdf5</td>\n",
       "      <td>5137</td>\n",
       "      <td>30</td>\n",
       "      <td>0.516908</td>\n",
       "      <td>0.451445</td>\n",
       "      <td>64</td>\n",
       "    </tr>\n",
       "    <tr>\n",
       "      <th>18</th>\n",
       "      <td>3C-EURUSD_FULL_1D_145F_0.002Sep_33</td>\n",
       "      <td>5</td>\n",
       "      <td>0.2</td>\n",
       "      <td>0.2</td>\n",
       "      <td>3C-EURUSD_FULL_1D_145F_0.002Sep_33.hdf5</td>\n",
       "      <td>5137</td>\n",
       "      <td>30</td>\n",
       "      <td>0.524155</td>\n",
       "      <td>0.477258</td>\n",
       "      <td>64</td>\n",
       "    </tr>\n",
       "  </tbody>\n",
       "</table>\n",
       "</div>"
      ],
      "text/plain": [
       "                    Input_Dataset_Name  Profundidad  TEST_SIZE  VAL_SIZE  \\\n",
       "0    3C-EURUSD_FULL_1D_145F_0.002Sep_1            4        0.2       0.2   \n",
       "1    3C-EURUSD_FULL_1D_145F_0.002Sep_1            4        0.2       0.2   \n",
       "4    3C-EURUSD_FULL_1D_145F_0.002Sep_5           11        0.2       0.2   \n",
       "5    3C-EURUSD_FULL_1D_145F_0.002Sep_7            1        0.2       0.2   \n",
       "6    3C-EURUSD_FULL_1D_145F_0.002Sep_9            1        0.2       0.2   \n",
       "8   3C-EURUSD_FULL_1D_145F_0.002Sep_13            5        0.2       0.2   \n",
       "10  3C-EURUSD_FULL_1D_145F_0.002Sep_17            5        0.2       0.2   \n",
       "11  3C-EURUSD_FULL_1D_145F_0.002Sep_19            6        0.2       0.2   \n",
       "12  3C-EURUSD_FULL_1D_145F_0.002Sep_21            3        0.2       0.2   \n",
       "13  3C-EURUSD_FULL_1D_145F_0.002Sep_23            3        0.2       0.2   \n",
       "14  3C-EURUSD_FULL_1D_145F_0.002Sep_25            1        0.2       0.2   \n",
       "15  3C-EURUSD_FULL_1D_145F_0.002Sep_27            2        0.2       0.2   \n",
       "16  3C-EURUSD_FULL_1D_145F_0.002Sep_29            3        0.2       0.2   \n",
       "17  3C-EURUSD_FULL_1D_145F_0.002Sep_31            4        0.2       0.2   \n",
       "18  3C-EURUSD_FULL_1D_145F_0.002Sep_33            5        0.2       0.2   \n",
       "\n",
       "                                 Model_Name DataSet_Size EPOCAS  ACC_Test  \\\n",
       "0    3C-EURUSD_FULL_1D_145F_0.002Sep_1.hdf5         5137    100  0.515700   \n",
       "1    3C-EURUSD_FULL_1D_145F_0.002Sep_1.hdf5         5137    100  0.515700   \n",
       "4    3C-EURUSD_FULL_1D_145F_0.002Sep_5.hdf5         5137    100  0.491546   \n",
       "5    3C-EURUSD_FULL_1D_145F_0.002Sep_7.hdf5         5137    100  0.507246   \n",
       "6    3C-EURUSD_FULL_1D_145F_0.002Sep_9.hdf5         5137    100  0.503623   \n",
       "8   3C-EURUSD_FULL_1D_145F_0.002Sep_13.hdf5         5137    100  0.514493   \n",
       "10  3C-EURUSD_FULL_1D_145F_0.002Sep_17.hdf5         5137    100  0.512077   \n",
       "11  3C-EURUSD_FULL_1D_145F_0.002Sep_19.hdf5         5137    100  0.503623   \n",
       "12  3C-EURUSD_FULL_1D_145F_0.002Sep_21.hdf5         5137    100  0.508454   \n",
       "13  3C-EURUSD_FULL_1D_145F_0.002Sep_23.hdf5         5137    100  0.510870   \n",
       "14  3C-EURUSD_FULL_1D_145F_0.002Sep_25.hdf5         5137     30  0.506039   \n",
       "15  3C-EURUSD_FULL_1D_145F_0.002Sep_27.hdf5         5137     30  0.496377   \n",
       "16  3C-EURUSD_FULL_1D_145F_0.002Sep_29.hdf5         5137     30  0.522947   \n",
       "17  3C-EURUSD_FULL_1D_145F_0.002Sep_31.hdf5         5137     30  0.516908   \n",
       "18  3C-EURUSD_FULL_1D_145F_0.002Sep_33.hdf5         5137     30  0.524155   \n",
       "\n",
       "    ACC_Train  LAYER1_UNITS  \n",
       "0    0.463787             8  \n",
       "1    0.463787             8  \n",
       "4    0.478841             8  \n",
       "5    0.416937             8  \n",
       "6    0.413692             8  \n",
       "8    0.491553             8  \n",
       "10   0.475634             8  \n",
       "11   0.507637             8  \n",
       "12   0.459416             8  \n",
       "13   0.425974            32  \n",
       "14   0.414017            64  \n",
       "15   0.418695            64  \n",
       "16   0.433442            64  \n",
       "17   0.451445            64  \n",
       "18   0.477258            64  "
      ]
     },
     "execution_count": 651,
     "metadata": {},
     "output_type": "execute_result"
    }
   ],
   "source": [
    "Results_loaded\n",
    "Only_high = Results_loaded.loc[Results_loaded['ACC_Test'] > 0.49]\n",
    "Only_high"
   ]
  },
  {
   "cell_type": "code",
   "execution_count": 652,
   "metadata": {},
   "outputs": [
    {
     "data": {
      "text/html": [
       "<div>\n",
       "<style scoped>\n",
       "    .dataframe tbody tr th:only-of-type {\n",
       "        vertical-align: middle;\n",
       "    }\n",
       "\n",
       "    .dataframe tbody tr th {\n",
       "        vertical-align: top;\n",
       "    }\n",
       "\n",
       "    .dataframe thead th {\n",
       "        text-align: right;\n",
       "    }\n",
       "</style>\n",
       "<table border=\"1\" class=\"dataframe\">\n",
       "  <thead>\n",
       "    <tr style=\"text-align: right;\">\n",
       "      <th></th>\n",
       "      <th>Input_Dataset_Name</th>\n",
       "      <th>Profundidad</th>\n",
       "      <th>TEST_SIZE</th>\n",
       "      <th>VAL_SIZE</th>\n",
       "      <th>Model_Name</th>\n",
       "      <th>DataSet_Size</th>\n",
       "      <th>EPOCAS</th>\n",
       "      <th>ACC_Test</th>\n",
       "      <th>ACC_Train</th>\n",
       "      <th>LAYER1_UNITS</th>\n",
       "    </tr>\n",
       "  </thead>\n",
       "  <tbody>\n",
       "    <tr>\n",
       "      <th>0</th>\n",
       "      <td>3C-EURUSD_FULL_1D_145F_0.002Sep_1</td>\n",
       "      <td>4</td>\n",
       "      <td>0.2</td>\n",
       "      <td>0.2</td>\n",
       "      <td>3C-EURUSD_FULL_1D_145F_0.002Sep_1.hdf5</td>\n",
       "      <td>5137</td>\n",
       "      <td>100</td>\n",
       "      <td>0.515700</td>\n",
       "      <td>0.463787</td>\n",
       "      <td>8</td>\n",
       "    </tr>\n",
       "    <tr>\n",
       "      <th>1</th>\n",
       "      <td>3C-EURUSD_FULL_1D_145F_0.002Sep_1</td>\n",
       "      <td>4</td>\n",
       "      <td>0.2</td>\n",
       "      <td>0.2</td>\n",
       "      <td>3C-EURUSD_FULL_1D_145F_0.002Sep_1.hdf5</td>\n",
       "      <td>5137</td>\n",
       "      <td>100</td>\n",
       "      <td>0.515700</td>\n",
       "      <td>0.463787</td>\n",
       "      <td>8</td>\n",
       "    </tr>\n",
       "    <tr>\n",
       "      <th>4</th>\n",
       "      <td>3C-EURUSD_FULL_1D_145F_0.002Sep_5</td>\n",
       "      <td>11</td>\n",
       "      <td>0.2</td>\n",
       "      <td>0.2</td>\n",
       "      <td>3C-EURUSD_FULL_1D_145F_0.002Sep_5.hdf5</td>\n",
       "      <td>5137</td>\n",
       "      <td>100</td>\n",
       "      <td>0.491546</td>\n",
       "      <td>0.478841</td>\n",
       "      <td>8</td>\n",
       "    </tr>\n",
       "    <tr>\n",
       "      <th>5</th>\n",
       "      <td>3C-EURUSD_FULL_1D_145F_0.002Sep_7</td>\n",
       "      <td>1</td>\n",
       "      <td>0.2</td>\n",
       "      <td>0.2</td>\n",
       "      <td>3C-EURUSD_FULL_1D_145F_0.002Sep_7.hdf5</td>\n",
       "      <td>5137</td>\n",
       "      <td>100</td>\n",
       "      <td>0.507246</td>\n",
       "      <td>0.416937</td>\n",
       "      <td>8</td>\n",
       "    </tr>\n",
       "    <tr>\n",
       "      <th>6</th>\n",
       "      <td>3C-EURUSD_FULL_1D_145F_0.002Sep_9</td>\n",
       "      <td>1</td>\n",
       "      <td>0.2</td>\n",
       "      <td>0.2</td>\n",
       "      <td>3C-EURUSD_FULL_1D_145F_0.002Sep_9.hdf5</td>\n",
       "      <td>5137</td>\n",
       "      <td>100</td>\n",
       "      <td>0.503623</td>\n",
       "      <td>0.413692</td>\n",
       "      <td>8</td>\n",
       "    </tr>\n",
       "    <tr>\n",
       "      <th>8</th>\n",
       "      <td>3C-EURUSD_FULL_1D_145F_0.002Sep_13</td>\n",
       "      <td>5</td>\n",
       "      <td>0.2</td>\n",
       "      <td>0.2</td>\n",
       "      <td>3C-EURUSD_FULL_1D_145F_0.002Sep_13.hdf5</td>\n",
       "      <td>5137</td>\n",
       "      <td>100</td>\n",
       "      <td>0.514493</td>\n",
       "      <td>0.491553</td>\n",
       "      <td>8</td>\n",
       "    </tr>\n",
       "    <tr>\n",
       "      <th>10</th>\n",
       "      <td>3C-EURUSD_FULL_1D_145F_0.002Sep_17</td>\n",
       "      <td>5</td>\n",
       "      <td>0.2</td>\n",
       "      <td>0.2</td>\n",
       "      <td>3C-EURUSD_FULL_1D_145F_0.002Sep_17.hdf5</td>\n",
       "      <td>5137</td>\n",
       "      <td>100</td>\n",
       "      <td>0.512077</td>\n",
       "      <td>0.475634</td>\n",
       "      <td>8</td>\n",
       "    </tr>\n",
       "    <tr>\n",
       "      <th>11</th>\n",
       "      <td>3C-EURUSD_FULL_1D_145F_0.002Sep_19</td>\n",
       "      <td>6</td>\n",
       "      <td>0.2</td>\n",
       "      <td>0.2</td>\n",
       "      <td>3C-EURUSD_FULL_1D_145F_0.002Sep_19.hdf5</td>\n",
       "      <td>5137</td>\n",
       "      <td>100</td>\n",
       "      <td>0.503623</td>\n",
       "      <td>0.507637</td>\n",
       "      <td>8</td>\n",
       "    </tr>\n",
       "    <tr>\n",
       "      <th>12</th>\n",
       "      <td>3C-EURUSD_FULL_1D_145F_0.002Sep_21</td>\n",
       "      <td>3</td>\n",
       "      <td>0.2</td>\n",
       "      <td>0.2</td>\n",
       "      <td>3C-EURUSD_FULL_1D_145F_0.002Sep_21.hdf5</td>\n",
       "      <td>5137</td>\n",
       "      <td>100</td>\n",
       "      <td>0.508454</td>\n",
       "      <td>0.459416</td>\n",
       "      <td>8</td>\n",
       "    </tr>\n",
       "    <tr>\n",
       "      <th>13</th>\n",
       "      <td>3C-EURUSD_FULL_1D_145F_0.002Sep_23</td>\n",
       "      <td>3</td>\n",
       "      <td>0.2</td>\n",
       "      <td>0.2</td>\n",
       "      <td>3C-EURUSD_FULL_1D_145F_0.002Sep_23.hdf5</td>\n",
       "      <td>5137</td>\n",
       "      <td>100</td>\n",
       "      <td>0.510870</td>\n",
       "      <td>0.425974</td>\n",
       "      <td>32</td>\n",
       "    </tr>\n",
       "    <tr>\n",
       "      <th>14</th>\n",
       "      <td>3C-EURUSD_FULL_1D_145F_0.002Sep_25</td>\n",
       "      <td>1</td>\n",
       "      <td>0.2</td>\n",
       "      <td>0.2</td>\n",
       "      <td>3C-EURUSD_FULL_1D_145F_0.002Sep_25.hdf5</td>\n",
       "      <td>5137</td>\n",
       "      <td>30</td>\n",
       "      <td>0.506039</td>\n",
       "      <td>0.414017</td>\n",
       "      <td>64</td>\n",
       "    </tr>\n",
       "    <tr>\n",
       "      <th>15</th>\n",
       "      <td>3C-EURUSD_FULL_1D_145F_0.002Sep_27</td>\n",
       "      <td>2</td>\n",
       "      <td>0.2</td>\n",
       "      <td>0.2</td>\n",
       "      <td>3C-EURUSD_FULL_1D_145F_0.002Sep_27.hdf5</td>\n",
       "      <td>5137</td>\n",
       "      <td>30</td>\n",
       "      <td>0.496377</td>\n",
       "      <td>0.418695</td>\n",
       "      <td>64</td>\n",
       "    </tr>\n",
       "    <tr>\n",
       "      <th>16</th>\n",
       "      <td>3C-EURUSD_FULL_1D_145F_0.002Sep_29</td>\n",
       "      <td>3</td>\n",
       "      <td>0.2</td>\n",
       "      <td>0.2</td>\n",
       "      <td>3C-EURUSD_FULL_1D_145F_0.002Sep_29.hdf5</td>\n",
       "      <td>5137</td>\n",
       "      <td>30</td>\n",
       "      <td>0.522947</td>\n",
       "      <td>0.433442</td>\n",
       "      <td>64</td>\n",
       "    </tr>\n",
       "    <tr>\n",
       "      <th>17</th>\n",
       "      <td>3C-EURUSD_FULL_1D_145F_0.002Sep_31</td>\n",
       "      <td>4</td>\n",
       "      <td>0.2</td>\n",
       "      <td>0.2</td>\n",
       "      <td>3C-EURUSD_FULL_1D_145F_0.002Sep_31.hdf5</td>\n",
       "      <td>5137</td>\n",
       "      <td>30</td>\n",
       "      <td>0.516908</td>\n",
       "      <td>0.451445</td>\n",
       "      <td>64</td>\n",
       "    </tr>\n",
       "    <tr>\n",
       "      <th>18</th>\n",
       "      <td>3C-EURUSD_FULL_1D_145F_0.002Sep_33</td>\n",
       "      <td>5</td>\n",
       "      <td>0.2</td>\n",
       "      <td>0.2</td>\n",
       "      <td>3C-EURUSD_FULL_1D_145F_0.002Sep_33.hdf5</td>\n",
       "      <td>5137</td>\n",
       "      <td>30</td>\n",
       "      <td>0.524155</td>\n",
       "      <td>0.477258</td>\n",
       "      <td>64</td>\n",
       "    </tr>\n",
       "  </tbody>\n",
       "</table>\n",
       "</div>"
      ],
      "text/plain": [
       "                    Input_Dataset_Name  Profundidad  TEST_SIZE  VAL_SIZE  \\\n",
       "0    3C-EURUSD_FULL_1D_145F_0.002Sep_1            4        0.2       0.2   \n",
       "1    3C-EURUSD_FULL_1D_145F_0.002Sep_1            4        0.2       0.2   \n",
       "4    3C-EURUSD_FULL_1D_145F_0.002Sep_5           11        0.2       0.2   \n",
       "5    3C-EURUSD_FULL_1D_145F_0.002Sep_7            1        0.2       0.2   \n",
       "6    3C-EURUSD_FULL_1D_145F_0.002Sep_9            1        0.2       0.2   \n",
       "8   3C-EURUSD_FULL_1D_145F_0.002Sep_13            5        0.2       0.2   \n",
       "10  3C-EURUSD_FULL_1D_145F_0.002Sep_17            5        0.2       0.2   \n",
       "11  3C-EURUSD_FULL_1D_145F_0.002Sep_19            6        0.2       0.2   \n",
       "12  3C-EURUSD_FULL_1D_145F_0.002Sep_21            3        0.2       0.2   \n",
       "13  3C-EURUSD_FULL_1D_145F_0.002Sep_23            3        0.2       0.2   \n",
       "14  3C-EURUSD_FULL_1D_145F_0.002Sep_25            1        0.2       0.2   \n",
       "15  3C-EURUSD_FULL_1D_145F_0.002Sep_27            2        0.2       0.2   \n",
       "16  3C-EURUSD_FULL_1D_145F_0.002Sep_29            3        0.2       0.2   \n",
       "17  3C-EURUSD_FULL_1D_145F_0.002Sep_31            4        0.2       0.2   \n",
       "18  3C-EURUSD_FULL_1D_145F_0.002Sep_33            5        0.2       0.2   \n",
       "\n",
       "                                 Model_Name DataSet_Size EPOCAS  ACC_Test  \\\n",
       "0    3C-EURUSD_FULL_1D_145F_0.002Sep_1.hdf5         5137    100  0.515700   \n",
       "1    3C-EURUSD_FULL_1D_145F_0.002Sep_1.hdf5         5137    100  0.515700   \n",
       "4    3C-EURUSD_FULL_1D_145F_0.002Sep_5.hdf5         5137    100  0.491546   \n",
       "5    3C-EURUSD_FULL_1D_145F_0.002Sep_7.hdf5         5137    100  0.507246   \n",
       "6    3C-EURUSD_FULL_1D_145F_0.002Sep_9.hdf5         5137    100  0.503623   \n",
       "8   3C-EURUSD_FULL_1D_145F_0.002Sep_13.hdf5         5137    100  0.514493   \n",
       "10  3C-EURUSD_FULL_1D_145F_0.002Sep_17.hdf5         5137    100  0.512077   \n",
       "11  3C-EURUSD_FULL_1D_145F_0.002Sep_19.hdf5         5137    100  0.503623   \n",
       "12  3C-EURUSD_FULL_1D_145F_0.002Sep_21.hdf5         5137    100  0.508454   \n",
       "13  3C-EURUSD_FULL_1D_145F_0.002Sep_23.hdf5         5137    100  0.510870   \n",
       "14  3C-EURUSD_FULL_1D_145F_0.002Sep_25.hdf5         5137     30  0.506039   \n",
       "15  3C-EURUSD_FULL_1D_145F_0.002Sep_27.hdf5         5137     30  0.496377   \n",
       "16  3C-EURUSD_FULL_1D_145F_0.002Sep_29.hdf5         5137     30  0.522947   \n",
       "17  3C-EURUSD_FULL_1D_145F_0.002Sep_31.hdf5         5137     30  0.516908   \n",
       "18  3C-EURUSD_FULL_1D_145F_0.002Sep_33.hdf5         5137     30  0.524155   \n",
       "\n",
       "    ACC_Train  LAYER1_UNITS  \n",
       "0    0.463787             8  \n",
       "1    0.463787             8  \n",
       "4    0.478841             8  \n",
       "5    0.416937             8  \n",
       "6    0.413692             8  \n",
       "8    0.491553             8  \n",
       "10   0.475634             8  \n",
       "11   0.507637             8  \n",
       "12   0.459416             8  \n",
       "13   0.425974            32  \n",
       "14   0.414017            64  \n",
       "15   0.418695            64  \n",
       "16   0.433442            64  \n",
       "17   0.451445            64  \n",
       "18   0.477258            64  "
      ]
     },
     "execution_count": 652,
     "metadata": {},
     "output_type": "execute_result"
    }
   ],
   "source": [
    "Only_high"
   ]
  },
  {
   "cell_type": "code",
   "execution_count": 653,
   "metadata": {},
   "outputs": [
    {
     "data": {
      "image/png": "[encoded data removed]",
      "text/plain": [
       "<Figure size 1058.4x595.44 with 1 Axes>"
      ]
     },
     "metadata": {},
     "output_type": "display_data"
    }
   ],
   "source": [
    "sns.set(rc={'figure.figsize':(14.7,8.27)})\n",
    "sns.pointplot(x=\"Profundidad\", y=\"ACC_Test\",  hue=\"LAYER1_UNITS\", data=Only_high, dodge=True,labelbottom = True,bottom=True);\n"
   ]
  },
  {
   "cell_type": "code",
   "execution_count": 654,
   "metadata": {},
   "outputs": [
    {
     "data": {
      "image/png": "[encoded data removed]",
      "text/plain": [
       "<Figure size 456.425x360 with 1 Axes>"
      ]
     },
     "metadata": {},
     "output_type": "display_data"
    }
   ],
   "source": [
    "\n",
    "#print(subset_to_plot)\n",
    "sns.set(rc={'figure.figsize':(14.7,8.27)})\n",
    "sns.catplot(x=\"Profundidad\", y=\"ACC_Test\",   hue=\"LAYER1_UNITS\", data=Only_high, kind=\"bar\");"
   ]
  },
  {
   "cell_type": "code",
   "execution_count": 655,
   "metadata": {},
   "outputs": [
    {
     "data": {
      "text/plain": [
       "0.5241545893719807"
      ]
     },
     "execution_count": 655,
     "metadata": {},
     "output_type": "execute_result"
    }
   ],
   "source": [
    "ACC_Test"
   ]
  }
 ],
 "metadata": {
  "colab": {
   "name": "RDI_hour.ipynb",
   "provenance": []
  },
  "kernelspec": {
   "display_name": "Python 3",
   "language": "python",
   "name": "python3"
  },
  "language_info": {
   "codemirror_mode": {
    "name": "ipython",
    "version": 3
   },
   "file_extension": ".py",
   "mimetype": "text/x-python",
   "name": "python",
   "nbconvert_exporter": "python",
   "pygments_lexer": "ipython3",
   "version": "3.7.3"
  }
 },
 "nbformat": 4,
 "nbformat_minor": 1
}
