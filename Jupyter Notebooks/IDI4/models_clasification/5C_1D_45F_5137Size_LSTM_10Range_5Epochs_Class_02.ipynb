{
 "cells": [
  {
   "cell_type": "code",
   "execution_count": 1,
   "metadata": {
    "colab": {},
    "colab_type": "code",
    "id": "MHL60GoYoBLT",
    "outputId": "55db4102-144e-4e32-f6b2-38133dd62787"
   },
   "outputs": [
    {
     "name": "stderr",
     "output_type": "stream",
     "text": [
      "Using TensorFlow backend.\n"
     ]
    }
   ],
   "source": [
    "# Mawrer Amed Ramirez Martinez\n",
    "# Avance de TOG IDI 4\n",
    "# ms723737@iteso.mx\n",
    "# mawrer@gmail.com\n",
    "\n",
    "import numpy as np\n",
    "np.random.seed(1)\n",
    "\n",
    "#Tensorflow\n",
    "import tensorflow as tf\n",
    "tf.random.set_seed(2)\n",
    "from tensorflow.keras import Sequential\n",
    "from tensorflow.keras.layers import Dense, LSTM, Dropout\n",
    "\n",
    "#Pandas\n",
    "import pandas as pd \n",
    "\n",
    "#Keras\n",
    "from keras import backend as K\n",
    "from keras import metrics\n",
    "from keras.callbacks import ModelCheckpoint\n",
    "from keras.layers import Activation\n",
    "from keras.layers.advanced_activations import LeakyReLU\n",
    "from keras.wrappers.scikit_learn import KerasClassifier\n",
    "from keras.utils import np_utils\n",
    "\n",
    "#Statistics Libraries\n",
    "from statsmodels.tsa.arima_model import ARIMA\n",
    "from scipy import stats\n",
    "from scipy import interp\n",
    "import math as m\n",
    "from itertools import cycle\n",
    "\n",
    "#plots\n",
    "import seaborn as sns\n",
    "import matplotlib.pyplot as plt\n",
    "from matplotlib import pyplot\n",
    "from matplotlib.pyplot import figure\n",
    "\n",
    "#OverSampling\n",
    "from imblearn.over_sampling import RandomOverSampler\n",
    "\n",
    "#SKlearn\n",
    "from sklearn.model_selection import cross_val_score\n",
    "from sklearn.model_selection import KFold\n",
    "from sklearn.preprocessing import LabelEncoder\n",
    "from sklearn.pipeline import Pipeline\n",
    "from sklearn.metrics import confusion_matrix\n",
    "from sklearn.preprocessing import MinMaxScaler\n",
    "from sklearn.model_selection import train_test_split\n",
    "from sklearn.metrics import mean_squared_error\n",
    "from sklearn.metrics import mean_absolute_error\n",
    "from sklearn.preprocessing import OneHotEncoder\n",
    "from sklearn.metrics import roc_curve\n",
    "from sklearn.metrics import auc\n",
    "\n",
    "#global\n",
    "import os, glob\n",
    "\n",
    "import warnings\n",
    "warnings.filterwarnings(\"ignore\")"
   ]
  },
  {
   "cell_type": "code",
   "execution_count": 2,
   "metadata": {},
   "outputs": [
    {
     "name": "stdout",
     "output_type": "stream",
     "text": [
      "0   3C-EURUSD_FULL_1D_21F.csv\n",
      "1   3C-EURUSD_FULL_1D_45F.csv\n",
      "2   3C-EURUSD_FULL_1H_45F.csv\n",
      "3   5C-EURUSD_FULL_1D_21F.csv\n",
      "4   5C-EURUSD_FULL_1D_45F.csv\n",
      "5   C-EURUSD_FULL_1D_21F.csv\n",
      "6   C-EURUSD_FULL_1H_25F.csv\n",
      "7   C-EURUSD_FULL_1H_45F.csv\n",
      "8   C-EURUSD_FULL_1H_54F.csv\n"
     ]
    }
   ],
   "source": [
    "datasource_path = os.path.join(os.getcwd(), r'../../../Datasets/Junio2020/procesados_classification/')\n",
    "filenames = glob.glob(datasource_path + \"/*.csv\")\n",
    "filenames.sort()\n",
    "for file in filenames:\n",
    "    print(filenames.index(file), ' ', os.path.basename(file))"
   ]
  },
  {
   "cell_type": "code",
   "execution_count": 121,
   "metadata": {},
   "outputs": [],
   "source": [
    "#SELECT an INDEX \n",
    "INDX = 3\n",
    "\n",
    "CLASS_NUMBER = '5C'\n",
    "MODEL_TYPE = 'LSTM'\n",
    "FRECUENCIA = '1D'\n",
    "TARGET_NAME = \"Class\"\n",
    "ID = '02'\n",
    "\n",
    "RANGE = 10\n",
    "EPOCHS = 5\n",
    "BATCH_SIZE = 32\n",
    "TEST_SIZE = .20\n",
    "VAL_SIZE = .10\n"
   ]
  },
  {
   "cell_type": "code",
   "execution_count": 122,
   "metadata": {
    "colab": {},
    "colab_type": "code",
    "id": "rS_SC_nwoBLb",
    "outputId": "45629160-abff-4b56-f141-eadb3244e91c"
   },
   "outputs": [
    {
     "data": {
      "text/html": [
       "<div>\n",
       "<style scoped>\n",
       "    .dataframe tbody tr th:only-of-type {\n",
       "        vertical-align: middle;\n",
       "    }\n",
       "\n",
       "    .dataframe tbody tr th {\n",
       "        vertical-align: top;\n",
       "    }\n",
       "\n",
       "    .dataframe thead th {\n",
       "        text-align: right;\n",
       "    }\n",
       "</style>\n",
       "<table border=\"1\" class=\"dataframe\">\n",
       "  <thead>\n",
       "    <tr style=\"text-align: right;\">\n",
       "      <th></th>\n",
       "      <th>Gmt time</th>\n",
       "      <th>Open</th>\n",
       "      <th>High</th>\n",
       "      <th>Low</th>\n",
       "      <th>Close</th>\n",
       "      <th>Volume</th>\n",
       "      <th>Open_Bid</th>\n",
       "      <th>High_Bid</th>\n",
       "      <th>Low_Bid</th>\n",
       "      <th>Close_Bid</th>\n",
       "      <th>...</th>\n",
       "      <th>S3</th>\n",
       "      <th>SO%k</th>\n",
       "      <th>SO%k1</th>\n",
       "      <th>SO%d2</th>\n",
       "      <th>Trix_5</th>\n",
       "      <th>MACD_5_25</th>\n",
       "      <th>MACDsign_5_25</th>\n",
       "      <th>MACDdiff_5_25</th>\n",
       "      <th>Mass_Index_25_8_9</th>\n",
       "      <th>Class</th>\n",
       "    </tr>\n",
       "  </thead>\n",
       "  <tbody>\n",
       "    <tr>\n",
       "      <th>0</th>\n",
       "      <td>2004-01-01</td>\n",
       "      <td>1.25950</td>\n",
       "      <td>1.26052</td>\n",
       "      <td>1.24698</td>\n",
       "      <td>1.25733</td>\n",
       "      <td>4.621817e+05</td>\n",
       "      <td>1.25934</td>\n",
       "      <td>1.26035</td>\n",
       "      <td>1.24679</td>\n",
       "      <td>1.25723</td>\n",
       "      <td>...</td>\n",
       "      <td>1.235827</td>\n",
       "      <td>0.764402</td>\n",
       "      <td>0.764402</td>\n",
       "      <td>0.764402</td>\n",
       "      <td>0.0</td>\n",
       "      <td>0.0</td>\n",
       "      <td>0.0</td>\n",
       "      <td>0.0</td>\n",
       "      <td>24.730803</td>\n",
       "      <td>1.0</td>\n",
       "    </tr>\n",
       "    <tr>\n",
       "      <th>1</th>\n",
       "      <td>2004-01-02</td>\n",
       "      <td>1.25717</td>\n",
       "      <td>1.26282</td>\n",
       "      <td>1.25214</td>\n",
       "      <td>1.25832</td>\n",
       "      <td>1.066578e+06</td>\n",
       "      <td>1.25701</td>\n",
       "      <td>1.26263</td>\n",
       "      <td>1.25198</td>\n",
       "      <td>1.25806</td>\n",
       "      <td>...</td>\n",
       "      <td>1.242020</td>\n",
       "      <td>0.578652</td>\n",
       "      <td>0.578652</td>\n",
       "      <td>0.625089</td>\n",
       "      <td>0.0</td>\n",
       "      <td>0.0</td>\n",
       "      <td>0.0</td>\n",
       "      <td>0.0</td>\n",
       "      <td>24.730803</td>\n",
       "      <td>2.0</td>\n",
       "    </tr>\n",
       "  </tbody>\n",
       "</table>\n",
       "<p>2 rows × 45 columns</p>\n",
       "</div>"
      ],
      "text/plain": [
       "    Gmt time     Open     High      Low    Close        Volume  Open_Bid  \\\n",
       "0 2004-01-01  1.25950  1.26052  1.24698  1.25733  4.621817e+05   1.25934   \n",
       "1 2004-01-02  1.25717  1.26282  1.25214  1.25832  1.066578e+06   1.25701   \n",
       "\n",
       "   High_Bid  Low_Bid  Close_Bid  ...        S3      SO%k     SO%k1     SO%d2  \\\n",
       "0   1.26035  1.24679    1.25723  ...  1.235827  0.764402  0.764402  0.764402   \n",
       "1   1.26263  1.25198    1.25806  ...  1.242020  0.578652  0.578652  0.625089   \n",
       "\n",
       "   Trix_5  MACD_5_25  MACDsign_5_25  MACDdiff_5_25  Mass_Index_25_8_9  Class  \n",
       "0     0.0        0.0            0.0            0.0          24.730803    1.0  \n",
       "1     0.0        0.0            0.0            0.0          24.730803    2.0  \n",
       "\n",
       "[2 rows x 45 columns]"
      ]
     },
     "execution_count": 122,
     "metadata": {},
     "output_type": "execute_result"
    }
   ],
   "source": [
    "if FRECUENCIA ==\"1D\":\n",
    "    dateparse = lambda x: pd.datetime.strptime(x, '%Y-%m-%d')\n",
    "else:\n",
    "    dateparse = lambda x: pd.datetime.strptime(x, '%Y-%m-%d %H:%M:%S')\n",
    "DATASET = pd.read_csv(filenames[INDX], header=0, parse_dates=['Gmt time'], date_parser=dateparse)\n",
    "NUM_FEATURES = DATASET.shape[1]\n",
    "DATASET.head(2)"
   ]
  },
  {
   "cell_type": "code",
   "execution_count": 123,
   "metadata": {},
   "outputs": [
    {
     "data": {
      "text/plain": [
       "5137"
      ]
     },
     "execution_count": 123,
     "metadata": {},
     "output_type": "execute_result"
    }
   ],
   "source": [
    "SIZE = DATASET.shape[0]\n",
    "SIZE"
   ]
  },
  {
   "cell_type": "code",
   "execution_count": 124,
   "metadata": {},
   "outputs": [
    {
     "name": "stdout",
     "output_type": "stream",
     "text": [
      "FILENAME:  5C_1D_45F_5137Size_LSTM_10Range_5Epochs_Class_02\n",
      "File Name Model: 5C_1D_45F_5137Size_LSTM_10Range_5Epochs_Class_02.hdf5\n"
     ]
    }
   ],
   "source": [
    "#LOCATION TO SAVE\n",
    "pwd = os.getcwd()\n",
    "source_data_toSave = os.path.join(pwd, r'../../../Models/2020/LSTM/')\n",
    "#print('Location to Save: ', source_data)\n",
    "FILENAME = CLASS_NUMBER + '_' + FRECUENCIA + '_' + str(NUM_FEATURES) + 'F_' + str(SIZE) + 'Size_' + MODEL_TYPE + '_' + str(RANGE) + 'Range_' + str(EPOCHS) + 'Epochs' + '_' + TARGET_NAME + \"_\"+ ID \n",
    "file_name_toSave = FILENAME + '.hdf5'\n",
    "print('FILENAME: ', FILENAME)\n",
    "print('File Name Model:', file_name_toSave)\n"
   ]
  },
  {
   "cell_type": "code",
   "execution_count": 125,
   "metadata": {},
   "outputs": [
    {
     "name": "stdout",
     "output_type": "stream",
     "text": [
      "/Users/marami3/Documents/ITESO/IDI4/forex_prediction/Jupyter Notebooks/IDI4/models_clasification/../../../Results/LSTM/5C_1D_45F_5137Size_LSTM_10Range_5Epochs_Class_02_Test.csv\n",
      "/Users/marami3/Documents/ITESO/IDI4/forex_prediction/Jupyter Notebooks/IDI4/models_clasification/../../../Results/LSTM/5C_1D_45F_5137Size_LSTM_10Range_5Epochs_Class_02_Train.csv\n"
     ]
    }
   ],
   "source": [
    "test_results_csv = os.path.join(pwd, r'../../../Results/LSTM/' + FILENAME + '_Test.csv')\n",
    "print(test_results_csv)\n",
    "train_results_csv = os.path.join(pwd, r'../../../Results/LSTM/' + FILENAME + '_Train.csv')\n",
    "print(train_results_csv)"
   ]
  },
  {
   "cell_type": "code",
   "execution_count": 126,
   "metadata": {},
   "outputs": [],
   "source": [
    "HYPER_L1_IN = RANGE\n",
    "\n",
    "START_IN = 0\n",
    "\n",
    "TRAINING_TIME_ELAPSED = 0\n",
    "\n",
    "TRAIN_MSE=0\n",
    "TRAIN_RMSE=0\n",
    "TRAIN_MAE=0\n",
    "TEST_MSE=0\n",
    "TEST_RMSE=0\n",
    "TEST_MAE=0\n"
   ]
  },
  {
   "cell_type": "code",
   "execution_count": 127,
   "metadata": {
    "scrolled": true
   },
   "outputs": [
    {
     "name": "stdout",
     "output_type": "stream",
     "text": [
      "Shape:  (5137, 45)\n",
      "              Open         High          Low        Close        Volume  \\\n",
      "count  5137.000000  5137.000000  5137.000000  5137.000000  5.137000e+03   \n",
      "mean      1.263948     1.268773     1.259111     1.263939  4.156849e+05   \n",
      "std       0.122827     0.123592     0.121990     0.122823  4.429918e+05   \n",
      "min       1.039090     1.041820     1.034050     1.039090  5.400000e+01   \n",
      "25%       1.149190     1.153490     1.145380     1.149120  1.159636e+05   \n",
      "50%       1.270260     1.275990     1.265560     1.270260  2.200810e+05   \n",
      "75%       1.350610     1.355180     1.345920     1.350700  7.439951e+05   \n",
      "max       1.597400     1.604030     1.589800     1.597370  2.237468e+06   \n",
      "\n",
      "          Open_Bid     High_Bid      Low_Bid    Close_Bid    Volume_Bid  ...  \\\n",
      "count  5137.000000  5137.000000  5137.000000  5137.000000  5.137000e+03  ...   \n",
      "mean      1.263810     1.268680     1.259015     1.263822  4.616911e+05  ...   \n",
      "std       0.122817     0.123571     0.121969     0.122813  5.305200e+05  ...   \n",
      "min       1.039070     1.041780     1.034030     1.039060  5.400000e+01  ...   \n",
      "25%       1.149180     1.153450     1.145280     1.149100  1.154682e+05  ...   \n",
      "50%       1.270030     1.275890     1.265440     1.270210  2.168718e+05  ...   \n",
      "75%       1.350500     1.355040     1.345840     1.350580  7.692461e+05  ...   \n",
      "max       1.597200     1.603890     1.589540     1.597210  2.697619e+06  ...   \n",
      "\n",
      "                S3         SO%k        SO%k1        SO%d2        Trix_5  \\\n",
      "count  5137.000000  5137.000000  5137.000000  5137.000000  5.137000e+03   \n",
      "mean      1.249448     0.500685     0.500685     0.500692 -2.781290e-05   \n",
      "std       0.120759     0.291052     0.291052     0.204464  1.471157e-03   \n",
      "min       1.014310     0.000000     0.000000     0.035964 -7.245395e-03   \n",
      "25%       1.138660     0.228448     0.228448     0.326485 -9.119452e-04   \n",
      "50%       1.253383     0.508889     0.508889     0.501370 -4.305397e-07   \n",
      "75%       1.335867     0.768072     0.768072     0.674298  8.826205e-04   \n",
      "max       1.581153     1.000000     1.000000     0.955865  1.085883e-02   \n",
      "\n",
      "         MACD_5_25  MACDsign_5_25  MACDdiff_5_25  Mass_Index_25_8_9  \\\n",
      "count  5137.000000    5137.000000    5137.000000        5137.000000   \n",
      "mean     -0.000327      -0.000327       0.000009          24.948553   \n",
      "std       0.012573       0.011443       0.004653           0.832962   \n",
      "min      -0.067202      -0.054559      -0.022310          21.687426   \n",
      "25%      -0.007221      -0.006284      -0.002618          24.455108   \n",
      "50%      -0.000010      -0.000088       0.000096          24.889547   \n",
      "75%       0.007308       0.006560       0.002733          25.369009   \n",
      "max       0.076299       0.052234       0.035914          30.744898   \n",
      "\n",
      "             Class  \n",
      "count  5137.000000  \n",
      "mean     -0.003309  \n",
      "std       1.437221  \n",
      "min      -2.000000  \n",
      "25%      -1.000000  \n",
      "50%       0.000000  \n",
      "75%       1.000000  \n",
      "max       2.000000  \n",
      "\n",
      "[8 rows x 43 columns]\n",
      "Open                    float64\n",
      "High                    float64\n",
      "Low                     float64\n",
      "Close                   float64\n",
      "Volume                  float64\n",
      "Open_Bid                float64\n",
      "High_Bid                float64\n",
      "Low_Bid                 float64\n",
      "Close_Bid               float64\n",
      "Volume_Bid              float64\n",
      "Spread                  float64\n",
      "weekday                   int64\n",
      "Pct_Range_Close         float64\n",
      "Pct_Range_Close_diff    float64\n",
      "MA_Close_5              float64\n",
      "MA_Close_25             float64\n",
      "MA_Close_50             float64\n",
      "MA_Close_200            float64\n",
      "EMA_Close_5             float64\n",
      "Momentum_1              float64\n",
      "Momentum_2              float64\n",
      "Momentum_5              float64\n",
      "Momentum_24             float64\n",
      "rsi                     float64\n",
      "Rolling_Mean25          float64\n",
      "Bollinger_High          float64\n",
      "Bollinger_Low           float64\n",
      "PP                      float64\n",
      "R1                      float64\n",
      "S1                      float64\n",
      "R2                      float64\n",
      "S2                      float64\n",
      "R3                      float64\n",
      "S3                      float64\n",
      "SO%k                    float64\n",
      "SO%k1                   float64\n",
      "SO%d2                   float64\n",
      "Trix_5                  float64\n",
      "MACD_5_25               float64\n",
      "MACDsign_5_25           float64\n",
      "MACDdiff_5_25           float64\n",
      "Mass_Index_25_8_9       float64\n",
      "Class                   float64\n",
      "dtype: object\n"
     ]
    }
   ],
   "source": [
    "#Describe DATASET\n",
    "print('Shape: ', DATASET.shape)\n",
    "print(DATASET.describe())\n",
    "DATASET = DATASET.drop(['day_name'], axis = 1)\n",
    "DATASET = DATASET.drop(['Gmt time'], axis = 1)\n",
    "print(DATASET.dtypes)\n"
   ]
  },
  {
   "cell_type": "code",
   "execution_count": 128,
   "metadata": {},
   "outputs": [
    {
     "name": "stdout",
     "output_type": "stream",
     "text": [
      "(4938, 43)\n",
      "      Open     High      Low    Close        Volume  Open_Bid  High_Bid  \\\n",
      "0  1.23655  1.23817  1.22801  1.23179  1.078729e+06   1.23639   1.23804   \n",
      "1  1.23158  1.23241  1.22967  1.23109  8.212280e+04   1.23088   1.23231   \n",
      "2  1.23140  1.23154  1.21310  1.21496  1.130388e+06   1.23124   1.23140   \n",
      "3  1.21495  1.21669  1.20594  1.20711  1.123270e+06   1.21479   1.21656   \n",
      "4  1.20718  1.21160  1.20519  1.20794  1.118725e+06   1.20702   1.21156   \n",
      "\n",
      "   Low_Bid  Close_Bid   Volume_Bid  ...        S3      SO%k     SO%k1  \\\n",
      "0  1.22791    1.23169  1291823.750  ...  1.216983  0.372047  0.372047   \n",
      "1  1.22955    1.23099    93508.000  ...  1.226963  0.518248  0.518248   \n",
      "2  1.21298    1.21486  1348137.000  ...  1.189753  0.100868  0.100868   \n",
      "3  1.20583    1.20701  1344214.000  ...  1.192387  0.108837  0.108837   \n",
      "4  1.20504    1.20784  1355827.375  ...  1.198477  0.429017  0.429017   \n",
      "\n",
      "      SO%d2    Trix_5  MACD_5_25  MACDsign_5_25  MACDdiff_5_25  \\\n",
      "0  0.465089  0.001033   0.007685       0.006724       0.000960   \n",
      "1  0.500529  0.000707   0.006466       0.006673      -0.000206   \n",
      "2  0.234088 -0.000051   0.001415       0.005621      -0.004206   \n",
      "3  0.150587 -0.000975  -0.003743       0.003748      -0.007491   \n",
      "4  0.336207 -0.001648  -0.006608       0.001677      -0.008285   \n",
      "\n",
      "   Mass_Index_25_8_9  Class  \n",
      "0          24.895479    0.0  \n",
      "1          24.537966   -2.0  \n",
      "2          24.630783   -2.0  \n",
      "3          24.746555    0.0  \n",
      "4          24.668388    1.0  \n",
      "\n",
      "[5 rows x 43 columns]\n"
     ]
    }
   ],
   "source": [
    "DF_Full = DATASET[199:]\n",
    "DF_Full.reset_index(drop=True, inplace=True)\n",
    "print(DF_Full.shape)\n",
    "print(DF_Full.head())"
   ]
  },
  {
   "cell_type": "code",
   "execution_count": 129,
   "metadata": {},
   "outputs": [
    {
     "name": "stdout",
     "output_type": "stream",
     "text": [
      "Total:  4938\n",
      "Start:  0\n"
     ]
    }
   ],
   "source": [
    "total = DF_Full.shape[0]\n",
    "print('Total: ', total)\n",
    "print('Start: ', START_IN)"
   ]
  },
  {
   "cell_type": "code",
   "execution_count": 130,
   "metadata": {},
   "outputs": [
    {
     "name": "stdout",
     "output_type": "stream",
     "text": [
      "(4938, 43)\n"
     ]
    }
   ],
   "source": [
    "#Shape the first START of the total\n",
    "DF_Full = DF_Full.iloc[START_IN:]\n",
    "DF_Full.reset_index(drop=True, inplace=True) #reset indexes from iloc\n",
    "\n",
    "print(DF_Full.shape)"
   ]
  },
  {
   "cell_type": "code",
   "execution_count": 131,
   "metadata": {},
   "outputs": [
    {
     "name": "stdout",
     "output_type": "stream",
     "text": [
      "Total:  5137\n"
     ]
    }
   ],
   "source": [
    "\n",
    "total = DATASET.shape[0]\n",
    "print('Total: ', total)"
   ]
  },
  {
   "cell_type": "code",
   "execution_count": 132,
   "metadata": {},
   "outputs": [
    {
     "data": {
      "text/plain": [
       "0     0.0\n",
       "1    -2.0\n",
       "2    -2.0\n",
       "3     0.0\n",
       "4     1.0\n",
       "5    -2.0\n",
       "6     0.0\n",
       "7     1.0\n",
       "8     2.0\n",
       "9     1.0\n",
       "10   -1.0\n",
       "11   -2.0\n",
       "Name: Class, dtype: float64"
      ]
     },
     "execution_count": 132,
     "metadata": {},
     "output_type": "execute_result"
    }
   ],
   "source": [
    "DF_Full[TARGET_NAME][0:12]"
   ]
  },
  {
   "cell_type": "markdown",
   "metadata": {},
   "source": [
    "### Generate VECTOR Y"
   ]
  },
  {
   "cell_type": "code",
   "execution_count": 133,
   "metadata": {},
   "outputs": [
    {
     "name": "stdout",
     "output_type": "stream",
     "text": [
      "[2 0 0 ... 3 3 2]\n",
      "[-2. -1.  0.  1.  2.]\n",
      "[[0. 0. 1. 0. 0.]\n",
      " [1. 0. 0. 0. 0.]\n",
      " [1. 0. 0. 0. 0.]\n",
      " ...\n",
      " [0. 0. 0. 1. 0.]\n",
      " [0. 0. 0. 1. 0.]\n",
      " [0. 0. 1. 0. 0.]]\n"
     ]
    }
   ],
   "source": [
    "#generate the VECTOR Y\n",
    "uniques, ids = np.unique(DF_Full[TARGET_NAME], return_inverse=True)\n",
    "\n",
    "#target_y = np_utils.to_categorical(DF_Full[TARGET_NAME],num_classes=5)\n",
    "target_y = np_utils.to_categorical(ids,len(uniques))\n",
    "print(ids)\n",
    "print(uniques)\n",
    "print(target_y)"
   ]
  },
  {
   "cell_type": "code",
   "execution_count": 134,
   "metadata": {},
   "outputs": [
    {
     "name": "stdout",
     "output_type": "stream",
     "text": [
      "[[0. 0. 1. 0. 0.]\n",
      " [1. 0. 0. 0. 0.]\n",
      " [1. 0. 0. 0. 0.]\n",
      " [0. 0. 1. 0. 0.]\n",
      " [0. 0. 0. 1. 0.]\n",
      " [1. 0. 0. 0. 0.]\n",
      " [0. 0. 1. 0. 0.]\n",
      " [0. 0. 0. 1. 0.]\n",
      " [0. 0. 0. 0. 1.]\n",
      " [0. 0. 0. 1. 0.]]\n"
     ]
    },
    {
     "data": {
      "text/plain": [
       "(4938, 5)"
      ]
     },
     "execution_count": 134,
     "metadata": {},
     "output_type": "execute_result"
    }
   ],
   "source": [
    "close_y = target_y\n",
    "print(close_y[:10])   \n",
    "#   [1. 0. 0. 0. 0.]   =  0\n",
    "#   [0. 1. 0. 0. 0.]   =  1\n",
    "#   [0. 0. 1. 0. 0.]   =   2 \n",
    "#   [0. 0. 0. 1. 0.]   =  -2\n",
    "#   [0. 0. 0. 0. 1.]   =  -1\n",
    "close_y.shape"
   ]
  },
  {
   "cell_type": "markdown",
   "metadata": {},
   "source": [
    "### REMOVE COLUMNS "
   ]
  },
  {
   "cell_type": "code",
   "execution_count": 135,
   "metadata": {},
   "outputs": [
    {
     "name": "stdout",
     "output_type": "stream",
     "text": [
      "(4938, 43)\n",
      "(4938, 42)\n"
     ]
    },
    {
     "data": {
      "text/html": [
       "<div>\n",
       "<style scoped>\n",
       "    .dataframe tbody tr th:only-of-type {\n",
       "        vertical-align: middle;\n",
       "    }\n",
       "\n",
       "    .dataframe tbody tr th {\n",
       "        vertical-align: top;\n",
       "    }\n",
       "\n",
       "    .dataframe thead th {\n",
       "        text-align: right;\n",
       "    }\n",
       "</style>\n",
       "<table border=\"1\" class=\"dataframe\">\n",
       "  <thead>\n",
       "    <tr style=\"text-align: right;\">\n",
       "      <th></th>\n",
       "      <th>Open</th>\n",
       "      <th>High</th>\n",
       "      <th>Low</th>\n",
       "      <th>Close</th>\n",
       "      <th>Volume</th>\n",
       "      <th>Open_Bid</th>\n",
       "      <th>High_Bid</th>\n",
       "      <th>Low_Bid</th>\n",
       "      <th>Close_Bid</th>\n",
       "      <th>Volume_Bid</th>\n",
       "      <th>...</th>\n",
       "      <th>R3</th>\n",
       "      <th>S3</th>\n",
       "      <th>SO%k</th>\n",
       "      <th>SO%k1</th>\n",
       "      <th>SO%d2</th>\n",
       "      <th>Trix_5</th>\n",
       "      <th>MACD_5_25</th>\n",
       "      <th>MACDsign_5_25</th>\n",
       "      <th>MACDdiff_5_25</th>\n",
       "      <th>Mass_Index_25_8_9</th>\n",
       "    </tr>\n",
       "  </thead>\n",
       "  <tbody>\n",
       "    <tr>\n",
       "      <th>0</th>\n",
       "      <td>1.23655</td>\n",
       "      <td>1.23817</td>\n",
       "      <td>1.22801</td>\n",
       "      <td>1.23179</td>\n",
       "      <td>1.078729e+06</td>\n",
       "      <td>1.23639</td>\n",
       "      <td>1.23804</td>\n",
       "      <td>1.22791</td>\n",
       "      <td>1.23169</td>\n",
       "      <td>1291823.750</td>\n",
       "      <td>...</td>\n",
       "      <td>1.247463</td>\n",
       "      <td>1.216983</td>\n",
       "      <td>0.372047</td>\n",
       "      <td>0.372047</td>\n",
       "      <td>0.465089</td>\n",
       "      <td>0.001033</td>\n",
       "      <td>0.007685</td>\n",
       "      <td>0.006724</td>\n",
       "      <td>0.000960</td>\n",
       "      <td>24.895479</td>\n",
       "    </tr>\n",
       "    <tr>\n",
       "      <th>1</th>\n",
       "      <td>1.23158</td>\n",
       "      <td>1.23241</td>\n",
       "      <td>1.22967</td>\n",
       "      <td>1.23109</td>\n",
       "      <td>8.212280e+04</td>\n",
       "      <td>1.23088</td>\n",
       "      <td>1.23231</td>\n",
       "      <td>1.22955</td>\n",
       "      <td>1.23099</td>\n",
       "      <td>93508.000</td>\n",
       "      <td>...</td>\n",
       "      <td>1.235183</td>\n",
       "      <td>1.226963</td>\n",
       "      <td>0.518248</td>\n",
       "      <td>0.518248</td>\n",
       "      <td>0.500529</td>\n",
       "      <td>0.000707</td>\n",
       "      <td>0.006466</td>\n",
       "      <td>0.006673</td>\n",
       "      <td>-0.000206</td>\n",
       "      <td>24.537966</td>\n",
       "    </tr>\n",
       "    <tr>\n",
       "      <th>2</th>\n",
       "      <td>1.23140</td>\n",
       "      <td>1.23154</td>\n",
       "      <td>1.21310</td>\n",
       "      <td>1.21496</td>\n",
       "      <td>1.130388e+06</td>\n",
       "      <td>1.23124</td>\n",
       "      <td>1.23140</td>\n",
       "      <td>1.21298</td>\n",
       "      <td>1.21486</td>\n",
       "      <td>1348137.000</td>\n",
       "      <td>...</td>\n",
       "      <td>1.245073</td>\n",
       "      <td>1.189753</td>\n",
       "      <td>0.100868</td>\n",
       "      <td>0.100868</td>\n",
       "      <td>0.234088</td>\n",
       "      <td>-0.000051</td>\n",
       "      <td>0.001415</td>\n",
       "      <td>0.005621</td>\n",
       "      <td>-0.004206</td>\n",
       "      <td>24.630783</td>\n",
       "    </tr>\n",
       "    <tr>\n",
       "      <th>3</th>\n",
       "      <td>1.21495</td>\n",
       "      <td>1.21669</td>\n",
       "      <td>1.20594</td>\n",
       "      <td>1.20711</td>\n",
       "      <td>1.123270e+06</td>\n",
       "      <td>1.21479</td>\n",
       "      <td>1.21656</td>\n",
       "      <td>1.20583</td>\n",
       "      <td>1.20701</td>\n",
       "      <td>1344214.000</td>\n",
       "      <td>...</td>\n",
       "      <td>1.224637</td>\n",
       "      <td>1.192387</td>\n",
       "      <td>0.108837</td>\n",
       "      <td>0.108837</td>\n",
       "      <td>0.150587</td>\n",
       "      <td>-0.000975</td>\n",
       "      <td>-0.003743</td>\n",
       "      <td>0.003748</td>\n",
       "      <td>-0.007491</td>\n",
       "      <td>24.746555</td>\n",
       "    </tr>\n",
       "    <tr>\n",
       "      <th>4</th>\n",
       "      <td>1.20718</td>\n",
       "      <td>1.21160</td>\n",
       "      <td>1.20519</td>\n",
       "      <td>1.20794</td>\n",
       "      <td>1.118725e+06</td>\n",
       "      <td>1.20702</td>\n",
       "      <td>1.21156</td>\n",
       "      <td>1.20504</td>\n",
       "      <td>1.20784</td>\n",
       "      <td>1355827.375</td>\n",
       "      <td>...</td>\n",
       "      <td>1.217707</td>\n",
       "      <td>1.198477</td>\n",
       "      <td>0.429017</td>\n",
       "      <td>0.429017</td>\n",
       "      <td>0.336207</td>\n",
       "      <td>-0.001648</td>\n",
       "      <td>-0.006608</td>\n",
       "      <td>0.001677</td>\n",
       "      <td>-0.008285</td>\n",
       "      <td>24.668388</td>\n",
       "    </tr>\n",
       "  </tbody>\n",
       "</table>\n",
       "<p>5 rows × 42 columns</p>\n",
       "</div>"
      ],
      "text/plain": [
       "      Open     High      Low    Close        Volume  Open_Bid  High_Bid  \\\n",
       "0  1.23655  1.23817  1.22801  1.23179  1.078729e+06   1.23639   1.23804   \n",
       "1  1.23158  1.23241  1.22967  1.23109  8.212280e+04   1.23088   1.23231   \n",
       "2  1.23140  1.23154  1.21310  1.21496  1.130388e+06   1.23124   1.23140   \n",
       "3  1.21495  1.21669  1.20594  1.20711  1.123270e+06   1.21479   1.21656   \n",
       "4  1.20718  1.21160  1.20519  1.20794  1.118725e+06   1.20702   1.21156   \n",
       "\n",
       "   Low_Bid  Close_Bid   Volume_Bid  ...        R3        S3      SO%k  \\\n",
       "0  1.22791    1.23169  1291823.750  ...  1.247463  1.216983  0.372047   \n",
       "1  1.22955    1.23099    93508.000  ...  1.235183  1.226963  0.518248   \n",
       "2  1.21298    1.21486  1348137.000  ...  1.245073  1.189753  0.100868   \n",
       "3  1.20583    1.20701  1344214.000  ...  1.224637  1.192387  0.108837   \n",
       "4  1.20504    1.20784  1355827.375  ...  1.217707  1.198477  0.429017   \n",
       "\n",
       "      SO%k1     SO%d2    Trix_5  MACD_5_25  MACDsign_5_25  MACDdiff_5_25  \\\n",
       "0  0.372047  0.465089  0.001033   0.007685       0.006724       0.000960   \n",
       "1  0.518248  0.500529  0.000707   0.006466       0.006673      -0.000206   \n",
       "2  0.100868  0.234088 -0.000051   0.001415       0.005621      -0.004206   \n",
       "3  0.108837  0.150587 -0.000975  -0.003743       0.003748      -0.007491   \n",
       "4  0.429017  0.336207 -0.001648  -0.006608       0.001677      -0.008285   \n",
       "\n",
       "   Mass_Index_25_8_9  \n",
       "0          24.895479  \n",
       "1          24.537966  \n",
       "2          24.630783  \n",
       "3          24.746555  \n",
       "4          24.668388  \n",
       "\n",
       "[5 rows x 42 columns]"
      ]
     },
     "execution_count": 135,
     "metadata": {},
     "output_type": "execute_result"
    }
   ],
   "source": [
    "#REMOVE CLASS FROM Data\n",
    "print(DF_Full.shape)\n",
    "DF_Full = DF_Full.drop(['Class'], axis = 1)\n",
    "DF_Full.reset_index(drop=True, inplace=True)\n",
    "print(DF_Full.shape)\n",
    "DF_Full.head()"
   ]
  },
  {
   "cell_type": "markdown",
   "metadata": {},
   "source": [
    "### SPLIT in 3 Sub Datasets"
   ]
  },
  {
   "cell_type": "code",
   "execution_count": 136,
   "metadata": {},
   "outputs": [
    {
     "name": "stdout",
     "output_type": "stream",
     "text": [
      "Sum of %s: 0.30000000000000004\n",
      "count of Val and Test: 1541\n",
      "end of train:  3596\n",
      "count val:  513\n",
      "count test:  1027\n",
      "end_val 4109\n"
     ]
    }
   ],
   "source": [
    "s1 = TEST_SIZE + VAL_SIZE\n",
    "print('Sum of %s:',s1)\n",
    "f1 = int(total * s1)\n",
    "print('count of Val and Test:',f1)\n",
    "end_train = total - f1\n",
    "print('end of train: ', end_train)\n",
    "\n",
    "count_val= int(total * VAL_SIZE)\n",
    "print('count val: ',count_val)\n",
    "\n",
    "count_test= int(total * TEST_SIZE)\n",
    "print('count test: ',count_test)\n",
    "\n",
    "end_val = end_train + count_val\n",
    "print('end_val', end_val)\n",
    "\n"
   ]
  },
  {
   "cell_type": "code",
   "execution_count": 137,
   "metadata": {},
   "outputs": [
    {
     "data": {
      "text/plain": [
       "array([[0., 0., 1., 0., 0.],\n",
       "       [1., 0., 0., 0., 0.],\n",
       "       [1., 0., 0., 0., 0.],\n",
       "       ...,\n",
       "       [0., 1., 0., 0., 0.],\n",
       "       [1., 0., 0., 0., 0.],\n",
       "       [0., 1., 0., 0., 0.]], dtype=float32)"
      ]
     },
     "execution_count": 137,
     "metadata": {},
     "output_type": "execute_result"
    }
   ],
   "source": [
    "close_y[:end_train,:]"
   ]
  },
  {
   "cell_type": "code",
   "execution_count": 138,
   "metadata": {},
   "outputs": [
    {
     "name": "stdout",
     "output_type": "stream",
     "text": [
      "data_training.shape:  (3596, 42)\n",
      "data_val.shape:  (513, 42)\n",
      "data_test.shape:  (829, 42)\n",
      "data_training_y.shape:  (3596, 5)\n",
      "data_val_y.shape:  (513, 5)\n",
      "data_test_y.shape:  (829, 5)\n"
     ]
    }
   ],
   "source": [
    "data_training = DF_Full.iloc[:end_train]\n",
    "data_val = DF_Full.iloc[end_train: end_val]\n",
    "data_test = DF_Full.iloc[end_val:]\n",
    "\n",
    "print(\"data_training.shape: \",data_training.shape)\n",
    "print(\"data_val.shape: \", data_val.shape)\n",
    "print(\"data_test.shape: \", data_test.shape)\n",
    "\n",
    "data_training_y = close_y[:end_train,:]\n",
    "data_val_y = close_y[end_train: end_val,:]\n",
    "data_test_y = close_y[end_val:,:]\n",
    "\n",
    "print(\"data_training_y.shape: \", data_training_y.shape)\n",
    "print(\"data_val_y.shape: \", data_val_y.shape)\n",
    "print(\"data_test_y.shape: \", data_test_y.shape)"
   ]
  },
  {
   "cell_type": "code",
   "execution_count": 139,
   "metadata": {},
   "outputs": [
    {
     "data": {
      "text/plain": [
       "4109    1.17336\n",
       "4110    1.17427\n",
       "4111    1.17414\n",
       "4112    1.18138\n",
       "4113    1.18644\n",
       "4114    1.18314\n",
       "4115    1.18223\n",
       "4116    1.18149\n",
       "4117    1.17948\n",
       "4118    1.17716\n",
       "Name: Close, dtype: float64"
      ]
     },
     "execution_count": 139,
     "metadata": {},
     "output_type": "execute_result"
    }
   ],
   "source": [
    "data_test['Close'].head(10)"
   ]
  },
  {
   "cell_type": "code",
   "execution_count": 140,
   "metadata": {},
   "outputs": [
    {
     "data": {
      "text/plain": [
       "array([ 1.,  0.,  2.,  2., -1., -1.,  0., -1., -1.,  1.])"
      ]
     },
     "execution_count": 140,
     "metadata": {},
     "output_type": "execute_result"
    }
   ],
   "source": [
    "uniques_data_test_y = uniques[data_test_y.argmax(1)]\n",
    "uniques_data_test_y[:10]"
   ]
  },
  {
   "cell_type": "markdown",
   "metadata": {},
   "source": [
    "### SCALAR"
   ]
  },
  {
   "cell_type": "code",
   "execution_count": 141,
   "metadata": {},
   "outputs": [
    {
     "name": "stdout",
     "output_type": "stream",
     "text": [
      "[[0.34423101 0.33894661 0.33438201 ... 0.57385074 0.39967666 0.42004268]\n",
      " [0.33519908 0.32853916 0.33743607 ... 0.57336787 0.37963807 0.35071301]\n",
      " [0.33487197 0.32696721 0.30695073 ... 0.56352136 0.31093976 0.36871221]\n",
      " ...\n",
      " [0.15359732 0.14964315 0.13827869 ... 0.65640364 0.45410909 0.58300109]\n",
      " [0.13960419 0.13504382 0.13860985 ... 0.65991417 0.40893634 0.55549692]\n",
      " [0.13673288 0.1325323  0.12245649 ... 0.65702066 0.36195187 0.56224193]]\n"
     ]
    }
   ],
   "source": [
    "# DATA SET SCALER TRAINING\n",
    "scaler = MinMaxScaler(feature_range=(0, 1))\n",
    "data_training_array = np.array(data_training)\n",
    "data_training_array_scaled = scaler.fit_transform(data_training_array)\n",
    "print(data_training_array_scaled)\n",
    "    "
   ]
  },
  {
   "cell_type": "code",
   "execution_count": 142,
   "metadata": {},
   "outputs": [
    {
     "name": "stdout",
     "output_type": "stream",
     "text": [
      "(3596, 42)\n",
      "[0.37669362 0.42690746 0.22466157 0.33182137 0.44717204 0.47414792\n",
      " 0.30587499 0.43527102 0.48605834 0.61154273]\n"
     ]
    },
    {
     "data": {
      "image/png": "[encoded data removed]",
      "text/plain": [
       "<Figure size 1080x360 with 1 Axes>"
      ]
     },
     "metadata": {
      "needs_background": "light"
     },
     "output_type": "display_data"
    }
   ],
   "source": [
    "print(data_training_array_scaled.shape)\n",
    "print(data_training_array_scaled[:10,12])\n",
    "plt.figure(figsize=(15,5))\n",
    "plt.plot(data_training_array_scaled[:10,12], color = 'red', label = 'train_x')\n",
    "plt.title('train_x')\n",
    "plt.xlabel('hours')\n",
    "plt.ylabel('Loss')\n",
    "plt.legend()\n",
    "plt.show()"
   ]
  },
  {
   "cell_type": "code",
   "execution_count": 143,
   "metadata": {},
   "outputs": [
    {
     "data": {
      "text/plain": [
       "array([[0., 0., 1., 0., 0.],\n",
       "       [1., 0., 0., 0., 0.],\n",
       "       [1., 0., 0., 0., 0.],\n",
       "       [0., 0., 1., 0., 0.],\n",
       "       [0., 0., 0., 1., 0.],\n",
       "       [1., 0., 0., 0., 0.],\n",
       "       [0., 0., 1., 0., 0.],\n",
       "       [0., 0., 0., 1., 0.],\n",
       "       [0., 0., 0., 0., 1.],\n",
       "       [0., 0., 0., 1., 0.]], dtype=float32)"
      ]
     },
     "execution_count": 143,
     "metadata": {},
     "output_type": "execute_result"
    }
   ],
   "source": [
    "data_training_y[:10]"
   ]
  },
  {
   "cell_type": "markdown",
   "metadata": {},
   "source": [
    "### CHART MA's"
   ]
  },
  {
   "cell_type": "code",
   "execution_count": 144,
   "metadata": {},
   "outputs": [
    {
     "name": "stdout",
     "output_type": "stream",
     "text": [
      "(3596, 42)\n"
     ]
    },
    {
     "data": {
      "image/png": "[encoded data removed]",
      "text/plain": [
       "<Figure size 1008x360 with 1 Axes>"
      ]
     },
     "metadata": {
      "needs_background": "light"
     },
     "output_type": "display_data"
    }
   ],
   "source": [
    "INICIO = 0\n",
    "FIN = 100\n",
    "\n",
    "IDX_Close = DF_Full.columns.get_loc(\"Close\")\n",
    "IDX_MA_Close_5 = DF_Full.columns.get_loc(\"MA_Close_5\")\n",
    "IDX_MA_Close_25 = DF_Full.columns.get_loc(\"MA_Close_25\")\n",
    "IDX_MA_Close_50 = DF_Full.columns.get_loc(\"MA_Close_50\")\n",
    "IDX_MA_Close_200 = DF_Full.columns.get_loc(\"MA_Close_200\")\n",
    "\n",
    "print(data_training_array_scaled.shape)\n",
    "plt.figure(figsize=(14,5))\n",
    "pyplot.plot(data_training_array_scaled[INICIO:FIN,IDX_Close], color = 'red', label = 'Close')\n",
    "pyplot.plot(data_training_array_scaled[INICIO:FIN,IDX_MA_Close_5], color = 'orange', label = 'MA_Close_5')\n",
    "pyplot.plot(data_training_array_scaled[INICIO:FIN,IDX_MA_Close_25], color = 'blue', label = 'MA_Close_25')\n",
    "pyplot.plot(data_training_array_scaled[INICIO:FIN,IDX_MA_Close_50], color = 'green', label = 'MA_Close_50')\n",
    "pyplot.plot(data_training_array_scaled[INICIO:FIN,IDX_MA_Close_200], color = 'gray', label = 'MA_Close_200')\n",
    "plt.title('Close, Moving Avg 5, Moving Avg 25, Moving Avg 50, Moving Avg 200')\n",
    "plt.xlabel('Time')\n",
    "plt.ylabel('Price')\n",
    "plt.legend()\n",
    "plt.show()"
   ]
  },
  {
   "cell_type": "code",
   "execution_count": 145,
   "metadata": {},
   "outputs": [
    {
     "name": "stdout",
     "output_type": "stream",
     "text": [
      "(3596, 42)\n"
     ]
    },
    {
     "data": {
      "image/png": "[encoded data removed]",
      "text/plain": [
       "<Figure size 1008x360 with 1 Axes>"
      ]
     },
     "metadata": {
      "needs_background": "light"
     },
     "output_type": "display_data"
    }
   ],
   "source": [
    "print(data_training_array_scaled.shape)\n",
    "INICIO = 0\n",
    "FIN = 710\n",
    "\n",
    "\n",
    "IDX_Close = DF_Full.columns.get_loc(\"Close\")\n",
    "IDX_Volume = DF_Full.columns.get_loc(\"Volume\")\n",
    "IDX_weekday = DF_Full.columns.get_loc(\"weekday\")\n",
    "IDX_Pct_Range_Close = DF_Full.columns.get_loc(\"Pct_Range_Close\")\n",
    "IDX_Pct_Range_Close_diff = DF_Full.columns.get_loc(\"Pct_Range_Close_diff\")\n",
    "\n",
    "plt.figure(figsize=(14,5))\n",
    "pyplot.plot(data_training_array_scaled[INICIO:FIN,IDX_Close], color = 'red', label = 'Close')\n",
    "pyplot.plot(data_training_array_scaled[INICIO:FIN,IDX_Volume], color = 'blue', label = 'Volume')\n",
    "pyplot.plot(data_training_array_scaled[INICIO:FIN,IDX_weekday], color = 'green', label = 'weekday')\n",
    "pyplot.plot(data_training_array_scaled[INICIO:FIN,IDX_Pct_Range_Close], color = 'gray', label = 'Pct_Range_Close')\n",
    "pyplot.plot(data_training_array_scaled[INICIO:FIN,IDX_Pct_Range_Close_diff], color = 'orange', label = 'Pct_Range_Close_diff')\n",
    "plt.xlabel('Time')\n",
    "plt.ylabel('Price')\n",
    "plt.legend()\n",
    "plt.show()"
   ]
  },
  {
   "cell_type": "code",
   "execution_count": 146,
   "metadata": {},
   "outputs": [
    {
     "name": "stdout",
     "output_type": "stream",
     "text": [
      "(3596, 42)\n"
     ]
    },
    {
     "data": {
      "image/png": "[encoded data removed]",
      "text/plain": [
       "<Figure size 1008x360 with 1 Axes>"
      ]
     },
     "metadata": {
      "needs_background": "light"
     },
     "output_type": "display_data"
    }
   ],
   "source": [
    "print(data_training_array_scaled.shape)\n",
    "INICIO = 0\n",
    "FIN = 710\n",
    "\n",
    "\n",
    "IDX_Close = DF_Full.columns.get_loc(\"Close\")\n",
    "IDX_Close_Bid = DF_Full.columns.get_loc(\"Close_Bid\")\n",
    "IDX_Spread = DF_Full.columns.get_loc(\"Spread\")\n",
    "\n",
    "plt.figure(figsize=(14,5))\n",
    "pyplot.plot(data_training_array_scaled[INICIO:FIN,IDX_Close], color = 'red', label = 'Close')\n",
    "pyplot.plot(data_training_array_scaled[INICIO:FIN,IDX_Close_Bid], color = 'blue', label = 'Close_Bid')\n",
    "pyplot.plot(data_training_array_scaled[INICIO:FIN,IDX_Spread], color = 'green', label = 'Spread')\n",
    "plt.xlabel('Time')\n",
    "plt.ylabel('Price')\n",
    "plt.legend()\n",
    "plt.show()"
   ]
  },
  {
   "cell_type": "code",
   "execution_count": 147,
   "metadata": {},
   "outputs": [
    {
     "data": {
      "text/plain": [
       "array([[0., 0., 1., 0., 0.],\n",
       "       [1., 0., 0., 0., 0.],\n",
       "       [1., 0., 0., 0., 0.],\n",
       "       ...,\n",
       "       [0., 1., 0., 0., 0.],\n",
       "       [1., 0., 0., 0., 0.],\n",
       "       [0., 1., 0., 0., 0.]], dtype=float32)"
      ]
     },
     "execution_count": 147,
     "metadata": {},
     "output_type": "execute_result"
    }
   ],
   "source": [
    "data_training_y"
   ]
  },
  {
   "cell_type": "code",
   "execution_count": 148,
   "metadata": {},
   "outputs": [
    {
     "data": {
      "text/plain": [
       "[<matplotlib.lines.Line2D at 0x147717198>,\n",
       " <matplotlib.lines.Line2D at 0x1477172e8>,\n",
       " <matplotlib.lines.Line2D at 0x147717438>,\n",
       " <matplotlib.lines.Line2D at 0x147717588>,\n",
       " <matplotlib.lines.Line2D at 0x1477176d8>]"
      ]
     },
     "execution_count": 148,
     "metadata": {},
     "output_type": "execute_result"
    },
    {
     "data": {
      "image/png": "[encoded data removed]",
      "text/plain": [
       "<Figure size 1152x360 with 1 Axes>"
      ]
     },
     "metadata": {
      "needs_background": "light"
     },
     "output_type": "display_data"
    }
   ],
   "source": [
    "# Target para el entrenamiento\n",
    "pyplot.figure(figsize=(16,5))\n",
    "pyplot.plot(data_training_y)"
   ]
  },
  {
   "cell_type": "code",
   "execution_count": 149,
   "metadata": {
    "colab": {},
    "colab_type": "code",
    "id": "3Lf8pl2FoBLj",
    "outputId": "33ad0467-0e5b-420a-df86-b4563f3e1136"
   },
   "outputs": [
    {
     "name": "stdout",
     "output_type": "stream",
     "text": [
      "(3586, 10, 42)\n",
      "(3586, 5)\n"
     ]
    }
   ],
   "source": [
    "X_train = []\n",
    "y_train = []\n",
    "for i in range(RANGE, data_training_array_scaled.shape[0]):\n",
    "    indx_start = i-RANGE\n",
    "    X_train.append(data_training_array_scaled[indx_start:i])\n",
    "    y_train.append(data_training_y[i])\n",
    "\n",
    "X_train_np, y_train_np = np.array(X_train), np.array(y_train)\n",
    "\n",
    "print(X_train_np.shape)\n",
    "print(y_train_np.shape)"
   ]
  },
  {
   "cell_type": "code",
   "execution_count": 150,
   "metadata": {},
   "outputs": [
    {
     "data": {
      "text/plain": [
       "array([0.33404984, 0.3327747 , 0.30339187, 0.2890921 , 0.29060405,\n",
       "       0.29579569, 0.2779984 , 0.2778891 , 0.28466555, 0.30852885])"
      ]
     },
     "execution_count": 150,
     "metadata": {},
     "output_type": "execute_result"
    }
   ],
   "source": [
    "X_train_np[0,:,3]"
   ]
  },
  {
   "cell_type": "code",
   "execution_count": 151,
   "metadata": {},
   "outputs": [
    {
     "name": "stdout",
     "output_type": "stream",
     "text": [
      "[-1. -2.  1.  0.  1.  2.  2.  1.  1. -1.]\n"
     ]
    }
   ],
   "source": [
    "array = y_train_np[:RANGE]\n",
    "uniques_y = uniques[array.argmax(1)]\n",
    "print(uniques_y)"
   ]
  },
  {
   "cell_type": "code",
   "execution_count": 152,
   "metadata": {},
   "outputs": [
    {
     "name": "stdout",
     "output_type": "stream",
     "text": [
      "(10, 42)\n",
      "(513, 42)\n"
     ]
    },
    {
     "data": {
      "text/plain": [
       "(523, 42)"
      ]
     },
     "execution_count": 152,
     "metadata": {},
     "output_type": "execute_result"
    }
   ],
   "source": [
    "#\n",
    "#Obtener los ultimos valores de Train para agregarlos a Val DF\n",
    "# APPEND DE X\n",
    "last_range_training_x = data_training.tail(RANGE)\n",
    "print(last_range_training_x.shape)\n",
    "print(data_val.shape)\n",
    "data_val_x1 = last_range_training_x.append(data_val, ignore_index = True)\n",
    "data_val_x1.shape\n",
    "#print(data_val_x1.head)"
   ]
  },
  {
   "cell_type": "code",
   "execution_count": 153,
   "metadata": {},
   "outputs": [
    {
     "data": {
      "text/plain": [
       "array([[0., 1., 0., 0., 0.],\n",
       "       [0., 1., 0., 0., 0.],\n",
       "       [0., 0., 0., 0., 1.],\n",
       "       [0., 0., 0., 0., 1.],\n",
       "       [0., 0., 1., 0., 0.],\n",
       "       [0., 0., 0., 1., 0.],\n",
       "       [1., 0., 0., 0., 0.],\n",
       "       [0., 1., 0., 0., 0.],\n",
       "       [1., 0., 0., 0., 0.],\n",
       "       [0., 1., 0., 0., 0.]], dtype=float32)"
      ]
     },
     "execution_count": 153,
     "metadata": {},
     "output_type": "execute_result"
    }
   ],
   "source": [
    "last_range_train_y = data_training_y[-RANGE:]\n",
    "last_range_train_y"
   ]
  },
  {
   "cell_type": "code",
   "execution_count": 154,
   "metadata": {},
   "outputs": [
    {
     "data": {
      "text/plain": [
       "(10, 5)"
      ]
     },
     "execution_count": 154,
     "metadata": {},
     "output_type": "execute_result"
    }
   ],
   "source": [
    "last_range_train_y.shape"
   ]
  },
  {
   "cell_type": "code",
   "execution_count": 155,
   "metadata": {},
   "outputs": [
    {
     "name": "stdout",
     "output_type": "stream",
     "text": [
      "(10, 5)\n",
      "(513, 5)\n",
      "(523, 5)\n",
      "[[0. 1. 0. 0. 0.]\n",
      " [0. 1. 0. 0. 0.]\n",
      " [0. 0. 0. 0. 1.]\n",
      " [0. 0. 0. 0. 1.]\n",
      " [0. 0. 1. 0. 0.]\n",
      " [0. 0. 0. 1. 0.]\n",
      " [1. 0. 0. 0. 0.]\n",
      " [0. 1. 0. 0. 0.]\n",
      " [1. 0. 0. 0. 0.]\n",
      " [0. 1. 0. 0. 0.]]\n"
     ]
    }
   ],
   "source": [
    "#Append de los datos de Train al DF de Val en Y\n",
    "last_range_train_y = data_training_y[-RANGE:]\n",
    "print(last_range_train_y.shape)\n",
    "print(data_val_y.shape)\n",
    "data_val_y1 = np.concatenate((last_range_train_y,data_val_y))\n",
    "print(data_val_y1.shape)\n",
    "print(data_val_y1[:10])"
   ]
  },
  {
   "cell_type": "code",
   "execution_count": 156,
   "metadata": {},
   "outputs": [
    {
     "data": {
      "text/plain": [
       "(523, 42)"
      ]
     },
     "execution_count": 156,
     "metadata": {},
     "output_type": "execute_result"
    }
   ],
   "source": [
    "data_val_x2 = scaler.transform(data_val_x1)\n",
    "data_val_x2.shape\n",
    "#print(data_val_x2[:10])"
   ]
  },
  {
   "cell_type": "code",
   "execution_count": 157,
   "metadata": {
    "colab": {},
    "colab_type": "code",
    "id": "CePFSn77oBLn",
    "outputId": "42f59747-5fe8-44a2-af41-2a1d57cb5e1b",
    "scrolled": true
   },
   "outputs": [
    {
     "name": "stdout",
     "output_type": "stream",
     "text": [
      "(513, 10, 42)\n",
      "(513, 5)\n"
     ]
    }
   ],
   "source": [
    "X_val = []\n",
    "y_val = []\n",
    "for i in range(RANGE, data_val_x2.shape[0]):\n",
    "    indx_start = i-RANGE\n",
    "    X_val.append(data_val_x2[indx_start:i])\n",
    "    y_val.append(data_val_y1[i])\n",
    "\n",
    "X_val_np = np.array(X_val)\n",
    "y_val_np = np.array(y_val)\n",
    "print(X_val_np.shape)\n",
    "print(y_val_np.shape)"
   ]
  },
  {
   "cell_type": "code",
   "execution_count": 158,
   "metadata": {},
   "outputs": [
    {
     "name": "stdout",
     "output_type": "stream",
     "text": [
      "(10, 42)\n",
      "(829, 42)\n"
     ]
    },
    {
     "data": {
      "text/plain": [
       "(839, 42)"
      ]
     },
     "execution_count": 158,
     "metadata": {},
     "output_type": "execute_result"
    }
   ],
   "source": [
    "\n",
    "#Obtener los ultimos valores de Val para agregarlos a TEST DF\n",
    "# Append en X\n",
    "last_range_data_training_x = data_training.tail(RANGE)\n",
    "print(last_range_data_training_x.shape)\n",
    "print(data_test.shape)\n",
    "data_test_x1 = last_range_data_training_x.append(data_test, ignore_index = True)\n",
    "data_test_x1.shape\n"
   ]
  },
  {
   "cell_type": "code",
   "execution_count": 159,
   "metadata": {},
   "outputs": [
    {
     "name": "stdout",
     "output_type": "stream",
     "text": [
      "(10, 5)\n",
      "(829, 5)\n",
      "(839, 5)\n"
     ]
    }
   ],
   "source": [
    "#Append de los datos de Val al DF de Test de Y\n",
    "last_range_training_y = data_training_y[-RANGE:,:]\n",
    "print(last_range_training_y.shape)\n",
    "print(data_test_y.shape)\n",
    "data_test_y1 = np.concatenate((last_range_training_y,data_test_y))\n",
    "print(data_test_y1.shape)"
   ]
  },
  {
   "cell_type": "code",
   "execution_count": 160,
   "metadata": {},
   "outputs": [
    {
     "data": {
      "text/plain": [
       "(839, 42)"
      ]
     },
     "execution_count": 160,
     "metadata": {},
     "output_type": "execute_result"
    }
   ],
   "source": [
    "data_test_x2 = scaler.transform(data_test_x1)\n",
    "data_test_x2.shape\n",
    "#print(data_test_x2[:10])"
   ]
  },
  {
   "cell_type": "code",
   "execution_count": 161,
   "metadata": {
    "colab": {},
    "colab_type": "code",
    "id": "CePFSn77oBLn",
    "outputId": "42f59747-5fe8-44a2-af41-2a1d57cb5e1b",
    "scrolled": true
   },
   "outputs": [
    {
     "name": "stdout",
     "output_type": "stream",
     "text": [
      "(829, 10, 42)\n",
      "(829, 5)\n"
     ]
    }
   ],
   "source": [
    "X_test = []\n",
    "y_test = []\n",
    "for i in range(RANGE, data_test_x2.shape[0]):\n",
    "    X_test.append(data_test_x2[i-RANGE:i])\n",
    "    y_test.append(data_test_y1[i])\n",
    "\n",
    "X_test_np = np.array(X_test)\n",
    "y_test_np = np.array(y_test)\n",
    "print(X_test_np.shape)\n",
    "print(y_test_np.shape)"
   ]
  },
  {
   "cell_type": "code",
   "execution_count": 162,
   "metadata": {},
   "outputs": [
    {
     "name": "stdout",
     "output_type": "stream",
     "text": [
      "10\n",
      "42\n"
     ]
    }
   ],
   "source": [
    "x_shape = X_train_np.shape[1]\n",
    "print(x_shape)\n",
    "y_shape = X_train_np.shape[2]\n",
    "print(y_shape)"
   ]
  },
  {
   "cell_type": "markdown",
   "metadata": {},
   "source": [
    "### Oversampling Inbalanced Class"
   ]
  },
  {
   "cell_type": "code",
   "execution_count": 163,
   "metadata": {},
   "outputs": [
    {
     "name": "stdout",
     "output_type": "stream",
     "text": [
      "(3586, 10, 42)\n",
      "(3586, 5)\n"
     ]
    }
   ],
   "source": [
    "#Check Current Shape\n",
    "print(X_train_np.shape)\n",
    "print(y_train_np.shape)"
   ]
  },
  {
   "cell_type": "code",
   "execution_count": 164,
   "metadata": {
    "scrolled": true
   },
   "outputs": [],
   "source": [
    "#oversample = RandomOverSampler(sampling_strategy='minority')\n",
    "#oversample\n"
   ]
  },
  {
   "cell_type": "code",
   "execution_count": 165,
   "metadata": {},
   "outputs": [],
   "source": [
    "#X_over, y_over = oversample.fit_resample(X_train_np, y_train_np)"
   ]
  },
  {
   "cell_type": "markdown",
   "metadata": {},
   "source": [
    "### BUILD LSTM MODEL "
   ]
  },
  {
   "cell_type": "code",
   "execution_count": 166,
   "metadata": {
    "colab": {},
    "colab_type": "code",
    "id": "dPyrqmjooBLu",
    "outputId": "ac844281-9522-427d-afa6-d93b642f46af"
   },
   "outputs": [],
   "source": [
    "model = Sequential()\n",
    "model.add(LSTM(units = RANGE, activation = 'relu', return_sequences = True, input_shape = (x_shape, y_shape)))\n",
    "model.add(LSTM(units = 80, activation = 'relu'))\n",
    "model.add(Dense(units = 5, activation = 'softmax'))\n",
    "model.compile(optimizer='adam', loss = 'categorical_crossentropy', metrics=[\"acc\"])\n"
   ]
  },
  {
   "cell_type": "code",
   "execution_count": 167,
   "metadata": {},
   "outputs": [
    {
     "name": "stdout",
     "output_type": "stream",
     "text": [
      "Model: \"sequential_1\"\n",
      "_________________________________________________________________\n",
      "Layer (type)                 Output Shape              Param #   \n",
      "=================================================================\n",
      "lstm_2 (LSTM)                (None, 10, 10)            2120      \n",
      "_________________________________________________________________\n",
      "lstm_3 (LSTM)                (None, 80)                29120     \n",
      "_________________________________________________________________\n",
      "dense_1 (Dense)              (None, 5)                 405       \n",
      "=================================================================\n",
      "Total params: 31,645\n",
      "Trainable params: 31,645\n",
      "Non-trainable params: 0\n",
      "_________________________________________________________________\n"
     ]
    }
   ],
   "source": [
    "model.summary()"
   ]
  },
  {
   "cell_type": "code",
   "execution_count": 168,
   "metadata": {},
   "outputs": [
    {
     "name": "stdout",
     "output_type": "stream",
     "text": [
      "Epoch 1/5\n",
      "113/113 [==============================] - 2s 17ms/step - loss: 1.6074 - acc: 0.2089 - val_loss: 1.6133 - val_acc: 0.1949\n",
      "Epoch 2/5\n",
      "113/113 [==============================] - 3s 25ms/step - loss: 1.6045 - acc: 0.2250 - val_loss: 1.6191 - val_acc: 0.1969\n",
      "Epoch 3/5\n",
      "113/113 [==============================] - 2s 20ms/step - loss: 1.6028 - acc: 0.2262 - val_loss: 1.6267 - val_acc: 0.1969\n",
      "Epoch 4/5\n",
      "113/113 [==============================] - 2s 18ms/step - loss: 1.5992 - acc: 0.2276 - val_loss: 1.6242 - val_acc: 0.1813\n",
      "Epoch 5/5\n",
      "113/113 [==============================] - 2s 21ms/step - loss: 1.6010 - acc: 0.2161 - val_loss: 1.6253 - val_acc: 0.1696\n"
     ]
    }
   ],
   "source": [
    "history = model.fit(X_train_np, y_train_np, epochs=EPOCHS, batch_size=BATCH_SIZE, validation_data=(X_val_np, y_val_np),shuffle=True)"
   ]
  },
  {
   "cell_type": "code",
   "execution_count": 169,
   "metadata": {},
   "outputs": [
    {
     "name": "stdout",
     "output_type": "stream",
     "text": [
      "dict_keys(['loss', 'acc', 'val_loss', 'val_acc'])\n"
     ]
    }
   ],
   "source": [
    "print(history.history.keys())"
   ]
  },
  {
   "cell_type": "code",
   "execution_count": 170,
   "metadata": {},
   "outputs": [
    {
     "data": {
      "image/png": "[encoded data removed]",
      "text/plain": [
       "<Figure size 432x288 with 1 Axes>"
      ]
     },
     "metadata": {
      "needs_background": "light"
     },
     "output_type": "display_data"
    }
   ],
   "source": [
    "plt.plot(history.history['acc'])\n",
    "plt.plot(history.history['val_acc'])\n",
    "plt.title('model accuracy')\n",
    "plt.ylabel('accuracy')\n",
    "plt.xlabel('epoch')\n",
    "plt.legend(['train', 'val'], loc='upper left')\n",
    "plt.show()"
   ]
  },
  {
   "cell_type": "code",
   "execution_count": 171,
   "metadata": {},
   "outputs": [
    {
     "data": {
      "image/png": "[encoded data removed]",
      "text/plain": [
       "<Figure size 432x288 with 1 Axes>"
      ]
     },
     "metadata": {
      "needs_background": "light"
     },
     "output_type": "display_data"
    }
   ],
   "source": [
    "plt.plot(history.history['loss'])\n",
    "plt.plot(history.history['val_loss'])\n",
    "plt.title('model loss')\n",
    "plt.ylabel('loss')\n",
    "plt.xlabel('epoch')\n",
    "plt.legend(['train', 'val'], loc='upper left')\n",
    "plt.show()"
   ]
  },
  {
   "cell_type": "code",
   "execution_count": 172,
   "metadata": {},
   "outputs": [],
   "source": [
    "model.save(source_data_toSave + file_name_toSave)"
   ]
  },
  {
   "cell_type": "code",
   "execution_count": 173,
   "metadata": {},
   "outputs": [],
   "source": [
    "#def baseline_model():\n",
    "#    model.add(LSTM(units = RANGE, activation = 'relu', return_sequences = True, input_shape = (x_shape, y_shape)))\n",
    "#    model.add(LSTM(units = 5, activation = 'softmax'))\n",
    "#    model.compile(optimizer='adam', loss = 'categorical_crossentropy', metrics=[\"acc\"])\n",
    "#    #model.summary()\n",
    "#    return model"
   ]
  },
  {
   "cell_type": "code",
   "execution_count": 174,
   "metadata": {},
   "outputs": [],
   "source": [
    "#estimator = KerasClassifier(build_fn=baseline_model, epochs=EPOCHS, batch_size=BATCH_SIZE, verbose=1)\n",
    "#kfold = KFold(n_splits=2, shuffle=True)"
   ]
  },
  {
   "cell_type": "code",
   "execution_count": 175,
   "metadata": {},
   "outputs": [],
   "source": [
    "#results = cross_val_score(estimator, X_train_np, y_train_np, cv=kfold)"
   ]
  },
  {
   "cell_type": "code",
   "execution_count": 176,
   "metadata": {},
   "outputs": [],
   "source": [
    "#print(\"Baseline: %.2f%% (%.2f%%)\" % (results.mean()*100, results.std()*100))"
   ]
  },
  {
   "cell_type": "code",
   "execution_count": 177,
   "metadata": {},
   "outputs": [],
   "source": [
    "#Model check pointer para almacenar el modelo cada epoca\n",
    "\n",
    "#checkpointer = ModelCheckpoint(filepath=source_data + '/model-{epoch:02d}.hdf5', verbose=1)"
   ]
  },
  {
   "cell_type": "code",
   "execution_count": 178,
   "metadata": {
    "colab": {},
    "colab_type": "code",
    "id": "o8XiaDVhoBL1",
    "outputId": "96632859-bb73-420f-db22-074bb47e87b2"
   },
   "outputs": [],
   "source": [
    "#%%time\n",
    "#history = regressior.fit(X_train_np, y_train_np, epochs=EPOCHS, batch_size=BATCH_SIZE, callbacks=[checkpointer])\n",
    "#history = regressior.fit(X_train_np, y_train_np, epochs=EPOCHS, batch_size=BATCH_SIZE, validation_data=(X_val_np, y_val_np))\n",
    "#history = regressior.fit(X_train_np, y_train_np, epochs=EPOCHS, batch_size=BATCH_SIZE, validation_data=(X_val_np, y_val_np), callbacks=[checkpointer], shuffle=True)\n",
    "#history = regressior.fit(X_train_np, y_train_np, epochs=EPOCHS, batch_size=BATCH_SIZE, validation_data=(X_val_np, y_val_np),shuffle=True)\n",
    "#history = regressior.fit(X_train_np, y_train_np, epochs=EPOCHS, batch_size=BATCH_SIZE)\n",
    "\n",
    "#history = model.fit(X_train_np, y_train_np, epochs=EPOCHS, batch_size=BATCH_SIZE)\n",
    "\n",
    "\n",
    "\n"
   ]
  },
  {
   "cell_type": "code",
   "execution_count": 179,
   "metadata": {},
   "outputs": [],
   "source": [
    "#PLOT MSE MAE\n",
    "\n",
    "#plt.figure(figsize=(5,5))\n",
    "#plt.plot(history.history['loss'], color = 'red', label = 'loss')\n",
    "#plt.title('Loss Model')\n",
    "#plt.xlabel('Epochs')\n",
    "#plt.ylabel('Loss')\n",
    "#plt.legend()\n",
    "#plt.show()"
   ]
  },
  {
   "cell_type": "code",
   "execution_count": 180,
   "metadata": {},
   "outputs": [],
   "source": [
    "#PLOT MSE MAE\n",
    "#plt.figure(figsize=(5,5))\n",
    "#plt.plot(history.history['mean_squared_error'][:], color = 'green', label = 'MAPE')\n",
    "#plt.title('Loss Model')\n",
    "#plt.xlabel('Epochs')\n",
    "#plt.ylabel('Loss - MSE')\n",
    "#plt.legend()\n",
    "#plt.show()\n"
   ]
  },
  {
   "cell_type": "code",
   "execution_count": 181,
   "metadata": {},
   "outputs": [],
   "source": [
    "#Load Model\n",
    "model = tf.keras.models.load_model(source_data_toSave + file_name_toSave)"
   ]
  },
  {
   "cell_type": "code",
   "execution_count": 182,
   "metadata": {},
   "outputs": [],
   "source": [
    "def precision(label, confusion_matrix):\n",
    "    #print('label',label)\n",
    "    col = confusion_matrix[:, label]\n",
    "    return confusion_matrix[label, label] / col.sum()\n",
    "    \n",
    "def recall(label, confusion_matrix):\n",
    "    row = confusion_matrix[label, :]\n",
    "    return confusion_matrix[label, label] / row.sum()\n",
    "\n",
    "def precision_macro_average(confusion_matrix):\n",
    "    rows, columns = confusion_matrix.shape\n",
    "    sum_of_precisions = 0\n",
    "    for label in range(rows):\n",
    "        sum_of_precisions += precision(label, confusion_matrix)\n",
    "    return sum_of_precisions / rows\n",
    "\n",
    "def recall_macro_average(confusion_matrix):\n",
    "    rows, columns = confusion_matrix.shape\n",
    "    sum_of_recalls = 0\n",
    "    for label in range(columns):\n",
    "        sum_of_recalls += recall(label, confusion_matrix)\n",
    "    return sum_of_recalls / columns\n",
    "\n",
    "def accuracy(confusion_matrix):\n",
    "    diagonal_sum = confusion_matrix.trace()\n",
    "    sum_of_all_elements = confusion_matrix.sum()\n",
    "    return diagonal_sum / sum_of_all_elements "
   ]
  },
  {
   "cell_type": "markdown",
   "metadata": {},
   "source": [
    "### CONFUSION MATRIX TEST"
   ]
  },
  {
   "cell_type": "code",
   "execution_count": 183,
   "metadata": {
    "colab": {},
    "colab_type": "code",
    "id": "NOvVxqGhoBMG",
    "outputId": "7b1cabe0-9caa-4e51-ad2e-19ddb4f6aa50"
   },
   "outputs": [
    {
     "name": "stdout",
     "output_type": "stream",
     "text": [
      "(829, 10, 42)\n",
      "(829, 5)\n",
      "(829, 5)\n"
     ]
    }
   ],
   "source": [
    "#TEST\n",
    "y_test_pred = model.predict(X_test_np)\n",
    "print(X_test_np.shape)\n",
    "\n",
    "print(y_test_pred.shape)\n",
    "print(y_test_np.shape)"
   ]
  },
  {
   "cell_type": "code",
   "execution_count": 184,
   "metadata": {},
   "outputs": [
    {
     "name": "stdout",
     "output_type": "stream",
     "text": [
      "[0.24293262 0.1975345  0.13629171 0.1800332  0.24320795]\n",
      "[[0. 0. 0. 1. 0.]\n",
      " [0. 0. 1. 0. 0.]\n",
      " [0. 0. 0. 0. 1.]\n",
      " [0. 0. 0. 0. 1.]]\n"
     ]
    }
   ],
   "source": [
    "ID = 4\n",
    "print(y_test_pred[ID])\n",
    "print(y_test_np[:ID])"
   ]
  },
  {
   "cell_type": "code",
   "execution_count": 185,
   "metadata": {},
   "outputs": [
    {
     "name": "stdout",
     "output_type": "stream",
     "text": [
      "(829,)\n",
      "(829,)\n"
     ]
    }
   ],
   "source": [
    "uniques_y_test_pred = uniques[y_test_pred.argmax(1)]\n",
    "uniques_y_test_np = uniques[y_test_np.argmax(1)]\n",
    "#print(uniques_y_test_pred)\n",
    "print(uniques_y_test_pred.shape)\n",
    "#print(uniques_y_test_np)\n",
    "print(uniques_y_test_np.shape)"
   ]
  },
  {
   "cell_type": "code",
   "execution_count": 186,
   "metadata": {},
   "outputs": [
    {
     "name": "stdout",
     "output_type": "stream",
     "text": [
      "[-2. -1.  0.  1.  2.]\n"
     ]
    }
   ],
   "source": [
    "print(uniques)"
   ]
  },
  {
   "cell_type": "code",
   "execution_count": 187,
   "metadata": {},
   "outputs": [
    {
     "data": {
      "text/plain": [
       "array([[ 70,   0,   0,   0,  54],\n",
       "       [109,   0,   0,   0,  86],\n",
       "       [103,   0,   0,   0,  98],\n",
       "       [121,   0,   0,   0,  65],\n",
       "       [ 64,   0,   0,   0,  59]])"
      ]
     },
     "execution_count": 187,
     "metadata": {},
     "output_type": "execute_result"
    }
   ],
   "source": [
    "conf_matrix_test = confusion_matrix(uniques_y_test_np, uniques_y_test_pred)\n",
    "conf_matrix_test"
   ]
  },
  {
   "cell_type": "code",
   "execution_count": 188,
   "metadata": {},
   "outputs": [
    {
     "name": "stdout",
     "output_type": "stream",
     "text": [
      "indx Value Precision Recall\n",
      "0\n",
      "   -2        0.150     0.565\n",
      "1\n",
      "   -1          nan     0.000\n",
      "2\n",
      "    0          nan     0.000\n",
      "3\n",
      "    1          nan     0.000\n",
      "4\n",
      "    2        0.163     0.480\n"
     ]
    }
   ],
   "source": [
    "print(\"indx Value Precision Recall\")\n",
    "for label in uniques:\n",
    "    indx = int(np.where(uniques == label)[0])\n",
    "    print (indx)\n",
    "    print(f\"{int(label):5d}    {precision(indx, conf_matrix_test):9.3f}    {recall(indx, conf_matrix_test):6.3f}\")"
   ]
  },
  {
   "cell_type": "code",
   "execution_count": 189,
   "metadata": {},
   "outputs": [
    {
     "name": "stdout",
     "output_type": "stream",
     "text": [
      "precision total: nan\n",
      "recall total: 0.2088381851560451\n"
     ]
    }
   ],
   "source": [
    "print(\"precision total:\", precision_macro_average(conf_matrix_test))\n",
    "print(\"recall total:\", recall_macro_average(conf_matrix_test))"
   ]
  },
  {
   "cell_type": "code",
   "execution_count": 190,
   "metadata": {},
   "outputs": [
    {
     "data": {
      "text/plain": [
       "0.15560916767189384"
      ]
     },
     "execution_count": 190,
     "metadata": {},
     "output_type": "execute_result"
    }
   ],
   "source": [
    "accuracy(conf_matrix_test)"
   ]
  },
  {
   "cell_type": "markdown",
   "metadata": {},
   "source": [
    "### CONFUSION MATRIX TRAIN"
   ]
  },
  {
   "cell_type": "code",
   "execution_count": 191,
   "metadata": {},
   "outputs": [
    {
     "name": "stdout",
     "output_type": "stream",
     "text": [
      "(3586, 10, 42)\n",
      "(3586, 5)\n",
      "(3586, 5)\n"
     ]
    }
   ],
   "source": [
    "#TRAIN\n",
    "y_train_pred = model.predict(X_train_np)\n",
    "print(X_train_np.shape)\n",
    "\n",
    "print(y_train_pred.shape)\n",
    "print(y_train_np.shape)"
   ]
  },
  {
   "cell_type": "code",
   "execution_count": 192,
   "metadata": {},
   "outputs": [
    {
     "name": "stdout",
     "output_type": "stream",
     "text": [
      "[[0.21228892 0.20231558 0.1615297  0.19618583 0.22767997]\n",
      " [0.21323162 0.20211601 0.16002819 0.19568992 0.22893426]\n",
      " [0.20897219 0.20230834 0.16521814 0.19798338 0.22551791]\n",
      " [0.21025294 0.20192854 0.16373093 0.19744147 0.22664613]]\n",
      "[[0. 1. 0. 0. 0.]\n",
      " [1. 0. 0. 0. 0.]\n",
      " [0. 0. 0. 1. 0.]\n",
      " [0. 0. 1. 0. 0.]]\n"
     ]
    }
   ],
   "source": [
    "ID = 4\n",
    "print(y_train_pred[:ID])\n",
    "print(y_train_np[:ID])"
   ]
  },
  {
   "cell_type": "code",
   "execution_count": 193,
   "metadata": {},
   "outputs": [
    {
     "name": "stdout",
     "output_type": "stream",
     "text": [
      "[ 2.  2.  2. ... -2. -2. -2.]\n",
      "(3586,)\n",
      "[-1. -2.  1. ... -1. -2. -1.]\n",
      "(3586,)\n"
     ]
    }
   ],
   "source": [
    "uniques_y_train_pred = uniques[y_train_pred.argmax(1)]\n",
    "uniques_y_train_np = uniques[y_train_np.argmax(1)]\n",
    "print(uniques_y_train_pred)\n",
    "print(uniques_y_train_pred.shape)\n",
    "print(uniques_y_train_np)\n",
    "print(uniques_y_train_np.shape)"
   ]
  },
  {
   "cell_type": "code",
   "execution_count": 194,
   "metadata": {},
   "outputs": [
    {
     "name": "stdout",
     "output_type": "stream",
     "text": [
      "[-2. -1.  0.  1.  2.]\n"
     ]
    }
   ],
   "source": [
    "print(uniques)"
   ]
  },
  {
   "cell_type": "code",
   "execution_count": 195,
   "metadata": {},
   "outputs": [
    {
     "data": {
      "text/plain": [
       "array([[114,   0,   0,   0, 675],\n",
       "       [ 75,   0,   0,   0, 625],\n",
       "       [ 46,   0,   0,   0, 562],\n",
       "       [ 62,   0,   0,   0, 630],\n",
       "       [104,   0,   0,   0, 693]])"
      ]
     },
     "execution_count": 195,
     "metadata": {},
     "output_type": "execute_result"
    }
   ],
   "source": [
    "conf_matrix_train = confusion_matrix(uniques_y_train_np, uniques_y_train_pred)\n",
    "conf_matrix_train"
   ]
  },
  {
   "cell_type": "code",
   "execution_count": 196,
   "metadata": {},
   "outputs": [
    {
     "name": "stdout",
     "output_type": "stream",
     "text": [
      "indx Value Precision Recall\n",
      "0\n",
      "   -2        0.284     0.144\n",
      "1\n",
      "   -1          nan     0.000\n",
      "2\n",
      "    0          nan     0.000\n",
      "3\n",
      "    1          nan     0.000\n",
      "4\n",
      "    2        0.218     0.870\n"
     ]
    }
   ],
   "source": [
    "print(\"indx Value Precision Recall\")\n",
    "for label in uniques:\n",
    "    indx = int(np.where(uniques == label)[0])\n",
    "    print (indx)\n",
    "    print(f\"{int(label):5d}    {precision(indx, conf_matrix_train):9.3f}    {recall(indx, conf_matrix_train):6.3f}\")"
   ]
  },
  {
   "cell_type": "code",
   "execution_count": 197,
   "metadata": {},
   "outputs": [
    {
     "name": "stdout",
     "output_type": "stream",
     "text": [
      "precision total: nan\n",
      "recall total: 0.2027994714017871\n"
     ]
    }
   ],
   "source": [
    "print(\"precision total:\", precision_macro_average(conf_matrix_train))\n",
    "print(\"recall total:\", recall_macro_average(conf_matrix_train))"
   ]
  },
  {
   "cell_type": "code",
   "execution_count": 198,
   "metadata": {},
   "outputs": [
    {
     "data": {
      "text/plain": [
       "0.22504182933630787"
      ]
     },
     "execution_count": 198,
     "metadata": {},
     "output_type": "execute_result"
    }
   ],
   "source": [
    "accuracy(conf_matrix_train)"
   ]
  },
  {
   "cell_type": "code",
   "execution_count": 208,
   "metadata": {},
   "outputs": [
    {
     "data": {
      "image/png": "[encoded data removed]",
      "text/plain": [
       "<Figure size 1080x720 with 1 Axes>"
      ]
     },
     "metadata": {
      "needs_background": "light"
     },
     "output_type": "display_data"
    }
   ],
   "source": [
    "# Plot linewidth.\n",
    "lw = 2\n",
    "# Compute ROC curve and ROC area for each class\n",
    "fpr = dict()\n",
    "tpr = dict()\n",
    "roc_auc = dict()\n",
    "for i in range(y_train_np.shape[1]):\n",
    "    fpr[i], tpr[i], _ = roc_curve(y_train_np[:, i], y_train_pred[:, i])\n",
    "    roc_auc[i] = auc(fpr[i], tpr[i])\n",
    "\n",
    "# Compute micro-average ROC curve and ROC area\n",
    "#fpr_rf, tpr_rf, thresholds_rf = roc_curve(decodedTestY, decodedTestPredict)\n",
    "fpr[\"micro\"], tpr[\"micro\"], _ = roc_curve(y_train_np.ravel(), y_train_pred.ravel())\n",
    "roc_auc[\"micro\"] = auc(fpr[\"micro\"], tpr[\"micro\"])\n",
    "\n",
    "# Compute macro-average ROC curve and ROC area\n",
    "\n",
    "# First aggregate all false positive rates\n",
    "all_fpr = np.unique(np.concatenate([fpr[i] for i in range(y_train_np.shape[1])]))\n",
    "\n",
    "# Then interpolate all ROC curves at this points\n",
    "mean_tpr = np.zeros_like(all_fpr)\n",
    "for i in range(y_train_np.shape[1]):\n",
    "    mean_tpr += interp(all_fpr, fpr[i], tpr[i])\n",
    "\n",
    "# Finally average it and compute AUC\n",
    "mean_tpr /= y_train_np.shape[1]\n",
    "\n",
    "fpr[\"macro\"] = all_fpr\n",
    "tpr[\"macro\"] = mean_tpr\n",
    "roc_auc[\"macro\"] = auc(fpr[\"macro\"], tpr[\"macro\"])\n",
    "\n",
    "# Plot all ROC curves\n",
    "plt.figure(figsize=[15,10])\n",
    "#plt.figure(1)\n",
    "plt.plot(fpr[\"micro\"], tpr[\"micro\"],\n",
    "         label='micro-average ROC curve (area = {0:0.7f})'\n",
    "               ''.format(roc_auc[\"micro\"]),\n",
    "         color='deeppink', linestyle=':', linewidth=4)\n",
    "\n",
    "plt.plot(fpr[\"macro\"], tpr[\"macro\"],\n",
    "         label='macro-average ROC curve (area = {0:0.7f})'\n",
    "               ''.format(roc_auc[\"macro\"]),\n",
    "         color='navy', linestyle=':', linewidth=4)\n",
    "\n",
    "colors = cycle(['aqua', 'darkorange', 'cornflowerblue','green','magenta'])\n",
    "for i, color in zip(range(y_train_np.shape[1]), colors):\n",
    "    plt.plot(fpr[i], tpr[i], color=color, lw=lw,\n",
    "             label='ROC curve of class {0} (area = {1:0.7f})'\n",
    "             ''.format(i, roc_auc[i]))\n",
    "\n",
    "plt.plot([0, 1], [0, 1], 'k--', lw=lw)\n",
    "plt.xlim([-0.01, 1.0])\n",
    "plt.ylim([0.0, 1.05])\n",
    "plt.xlabel('False Positive Rate')\n",
    "plt.ylabel('True Positive Rate')\n",
    "plt.title('Train Receiver operating characteristic for multi-class')\n",
    "plt.legend(loc=\"lower right\")\n",
    "plt.show()"
   ]
  },
  {
   "cell_type": "markdown",
   "metadata": {},
   "source": [
    "### TEST RESULTS TO CSV"
   ]
  },
  {
   "cell_type": "code",
   "execution_count": 81,
   "metadata": {},
   "outputs": [
    {
     "name": "stdout",
     "output_type": "stream",
     "text": [
      "data_test.shape:  (829, 42)\n"
     ]
    }
   ],
   "source": [
    "print(\"data_test.shape: \", data_test.shape)\n"
   ]
  },
  {
   "cell_type": "code",
   "execution_count": 82,
   "metadata": {},
   "outputs": [
    {
     "name": "stdout",
     "output_type": "stream",
     "text": [
      "        Open     High      Low    Close       Volume\n",
      "0    1.17145  1.17390  1.16697  1.17336  209621.9375\n",
      "1    1.17319  1.17438  1.17308  1.17427    8920.6504\n",
      "2    1.17427  1.17562  1.17198  1.17414  152661.7344\n",
      "3    1.17412  1.18259  1.17408  1.18138  214738.0938\n",
      "4    1.18135  1.18694  1.17955  1.18644  216994.3750\n",
      "..       ...      ...      ...      ...          ...\n",
      "824  1.09019  1.09960  1.08970  1.09787  221915.4388\n",
      "825  1.09788  1.10311  1.09342  1.10169  339215.8879\n",
      "826  1.10168  1.10937  1.09919  1.10782  290715.4826\n",
      "827  1.10780  1.11452  1.10702  1.11071  330692.3901\n",
      "828  1.11213  1.11217  1.11028  1.11158   10126.4174\n",
      "\n",
      "[829 rows x 5 columns]\n"
     ]
    }
   ],
   "source": [
    "data_test_res = data_test\n",
    "data_test_res.reset_index(drop=True, inplace=True)\n",
    "results_data_test = pd.DataFrame(data_test_res['Open'])\n",
    "results_data_test['High'] = data_test_res['High']\n",
    "results_data_test['Low'] = data_test_res['Low']\n",
    "results_data_test['Close'] = data_test_res['Close']\n",
    "results_data_test['Volume'] = data_test_res['Volume']\n",
    "print(results_data_test)"
   ]
  },
  {
   "cell_type": "code",
   "execution_count": 83,
   "metadata": {},
   "outputs": [
    {
     "data": {
      "text/plain": [
       "array([-2., -2., -2., -2.,  2.,  2.,  2.,  2.,  2.,  2.,  2.,  2.,  2.,\n",
       "        2.,  2.,  2.,  2.,  2.,  2.,  2.,  2.,  2.,  2.,  2.,  2.,  2.,\n",
       "        2.,  2.,  2.,  2.,  2.,  2.,  2.,  2.,  2.,  2.,  2.,  2.,  2.,\n",
       "        2.,  2.,  2.,  2.,  2.,  2.,  2.,  2.,  2.,  2.,  2.,  2.,  2.,\n",
       "        2.,  2.,  2.,  2.,  2.,  2.,  2.,  2.,  2.,  2.,  2.,  2.,  2.,\n",
       "        2.,  2.,  2.,  2.,  2.,  2.,  2.,  2.,  2.,  2.,  2.,  2.,  2.,\n",
       "        2.,  2.,  2.,  2.,  2.,  2.,  2.,  2.,  2.,  2.,  2.,  2.,  2.,\n",
       "        2.,  2.,  2.,  2.,  2.,  2.,  2.,  2.,  2.,  2.,  2.,  2.,  2.,\n",
       "        2.,  2.,  2.,  2.,  2.,  2.,  2.,  2.,  2.,  2.,  2.,  2.,  2.,\n",
       "        2.,  2.,  2.,  2.,  2.,  2.,  2.,  2.,  2.,  2.,  2.,  2.,  2.,\n",
       "        2.,  2.,  2.,  2.,  2.,  2.,  2.,  2.,  2.,  2.,  2.,  2.,  2.,\n",
       "        2.,  2.,  2.,  2.,  2.,  2.,  2.,  2.,  2.,  2.,  2.,  2.,  2.,\n",
       "        2.,  2.,  2.,  2.,  2.,  2.,  2.,  2.,  2.,  2.,  2.,  2.,  2.,\n",
       "        2.,  2.,  2.,  2.,  2.,  2.,  2.,  2.,  2.,  2.,  2.,  2.,  2.,\n",
       "        2.,  2.,  2.,  2.,  2.,  2.,  2.,  2.,  2.,  2.,  2.,  2.,  2.,\n",
       "        2.,  2.,  2.,  2.,  2.,  2.,  2.,  2.,  2.,  2.,  2.,  2.,  2.,\n",
       "        2.,  2.,  2.,  2.,  2.,  2.,  2.,  2.,  2.,  2.,  2.,  2.,  2.,\n",
       "        2.,  2.,  2.,  2.,  2.,  2.,  2.,  2.,  2.,  2.,  2.,  2.,  2.,\n",
       "        2.,  2., -2.,  2.,  2.,  2.,  2.,  2.,  2.,  2.,  2.,  2.,  2.,\n",
       "        2.,  2.,  2.,  2.,  2.,  2.,  2.,  2.,  2.,  2.,  2.,  2.,  2.,\n",
       "        2.,  2.,  2.,  2.,  2.,  2.,  2.,  2.,  2.,  2.,  2., -2., -2.,\n",
       "       -2., -2.,  2., -2., -2., -2., -2.,  2.,  2.,  2.,  2.,  2.,  2.,\n",
       "        2.,  2.,  2.,  2., -2., -2., -2.,  2.,  2., -2.,  2.,  2.,  2.,\n",
       "        2.,  2., -2., -2., -2., -2.,  2.,  2., -2., -2.,  2.,  2.,  2.,\n",
       "        2., -2., -2., -2., -2., -2., -2., -2., -2., -2.,  2.,  2.,  2.,\n",
       "        2.,  2.,  2.,  2.,  2.,  2., -2., -2., -2.,  2.,  2.,  2., -2.,\n",
       "       -2., -2., -2.,  2.,  2., -2., -2.,  2.,  2.,  2., -2., -2., -2.,\n",
       "       -2., -2., -2., -2., -2., -2., -2.,  2.,  2., -2., -2., -2., -2.,\n",
       "       -2., -2., -2., -2., -2., -2., -2., -2., -2., -2., -2., -2., -2.,\n",
       "       -2., -2., -2., -2., -2., -2., -2., -2., -2., -2., -2., -2., -2.,\n",
       "       -2., -2., -2., -2., -2.,  2., -2., -2., -2.,  2.,  2.,  2.,  2.,\n",
       "        2., -2., -2., -2.,  2., -2., -2., -2., -2., -2.,  2.,  2., -2.,\n",
       "       -2., -2.,  2.,  2.,  2., -2., -2., -2.,  2.,  2.,  2., -2., -2.,\n",
       "       -2.,  2.,  2.,  2., -2., -2., -2., -2.,  2.,  2., -2., -2., -2.,\n",
       "        2.,  2.,  2., -2., -2., -2., -2., -2., -2., -2., -2., -2., -2.,\n",
       "        2., -2., -2., -2., -2.,  2.,  2.,  2.,  2.,  2.,  2., -2.,  2.,\n",
       "        2., -2., -2., -2., -2., -2., -2., -2., -2., -2., -2.,  2., -2.,\n",
       "       -2., -2., -2., -2.,  2., -2., -2., -2., -2., -2.,  2., -2., -2.,\n",
       "       -2., -2., -2.,  2., -2., -2., -2., -2., -2.,  2.,  2., -2., -2.,\n",
       "       -2.,  2.,  2., -2., -2., -2., -2., -2.,  2., -2., -2., -2., -2.,\n",
       "       -2., -2., -2., -2., -2., -2., -2., -2., -2., -2., -2., -2., -2.,\n",
       "       -2., -2., -2., -2., -2., -2., -2., -2., -2., -2., -2., -2.,  2.,\n",
       "       -2., -2., -2., -2., -2., -2., -2., -2., -2., -2., -2., -2., -2.,\n",
       "       -2., -2., -2., -2., -2., -2., -2., -2., -2., -2., -2., -2., -2.,\n",
       "       -2., -2., -2.,  2.,  2., -2., -2., -2., -2.,  2.,  2., -2., -2.,\n",
       "       -2.,  2.,  2., -2., -2., -2., -2., -2., -2., -2., -2., -2., -2.,\n",
       "       -2., -2., -2., -2., -2., -2., -2., -2., -2., -2., -2., -2., -2.,\n",
       "       -2., -2., -2., -2., -2., -2., -2., -2., -2., -2., -2., -2., -2.,\n",
       "       -2., -2., -2., -2., -2., -2., -2., -2., -2., -2., -2., -2., -2.,\n",
       "       -2., -2., -2., -2., -2., -2., -2., -2., -2., -2., -2., -2., -2.,\n",
       "       -2., -2., -2., -2., -2., -2., -2., -2., -2., -2., -2., -2., -2.,\n",
       "       -2., -2., -2., -2., -2., -2., -2., -2., -2., -2., -2., -2., -2.,\n",
       "       -2., -2., -2., -2., -2., -2., -2., -2., -2., -2., -2., -2., -2.,\n",
       "       -2., -2., -2., -2., -2., -2., -2., -2., -2., -2., -2., -2., -2.,\n",
       "       -2., -2., -2., -2., -2., -2., -2., -2., -2., -2., -2., -2., -2.,\n",
       "       -2., -2., -2., -2., -2., -2., -2., -2., -2., -2., -2., -2., -2.,\n",
       "       -2., -2., -2., -2., -2., -2., -2., -2., -2., -2., -2., -2., -2.,\n",
       "       -2., -2., -2., -2., -2., -2., -2., -2., -2., -2., -2., -2., -2.,\n",
       "       -2., -2., -2., -2., -2., -2., -2.,  2.,  2.,  2., -2.,  2.,  2.,\n",
       "       -2., -2., -2., -2., -2., -2., -2., -2., -2., -2., -2., -2., -2.,\n",
       "       -2., -2., -2., -2., -2., -2., -2., -2., -2., -2., -2., -2., -2.,\n",
       "       -2., -2., -2., -2., -2., -2., -2., -2., -2., -2., -2., -2., -2.,\n",
       "       -2., -2., -2., -2., -2., -2., -2., -2., -2., -2., -2., -2., -2.,\n",
       "       -2., -2., -2., -2., -2., -2., -2., -2., -2., -2.])"
      ]
     },
     "execution_count": 83,
     "metadata": {},
     "output_type": "execute_result"
    }
   ],
   "source": [
    "uniques_y_test_pred[:]"
   ]
  },
  {
   "cell_type": "code",
   "execution_count": 84,
   "metadata": {},
   "outputs": [
    {
     "name": "stdout",
     "output_type": "stream",
     "text": [
      "     Real_Class\n",
      "0          -2.0\n",
      "1          -2.0\n",
      "2          -2.0\n",
      "3          -2.0\n",
      "4           2.0\n",
      "..          ...\n",
      "824        -2.0\n",
      "825        -2.0\n",
      "826        -2.0\n",
      "827        -2.0\n",
      "828        -2.0\n",
      "\n",
      "[829 rows x 1 columns]\n"
     ]
    }
   ],
   "source": [
    "\n",
    "uniques_y_test_pred_pd = pd.DataFrame({'Real_Class': uniques_y_test_pred[:]})\n",
    "print(uniques_y_test_pred_pd)"
   ]
  },
  {
   "cell_type": "code",
   "execution_count": 85,
   "metadata": {},
   "outputs": [],
   "source": [
    "results_data_test['Real_Class'] = uniques_y_test_np\n",
    "results_data_test['Predicted_Class'] = uniques_y_test_pred_pd"
   ]
  },
  {
   "cell_type": "code",
   "execution_count": 86,
   "metadata": {},
   "outputs": [
    {
     "data": {
      "text/html": [
       "<div>\n",
       "<style scoped>\n",
       "    .dataframe tbody tr th:only-of-type {\n",
       "        vertical-align: middle;\n",
       "    }\n",
       "\n",
       "    .dataframe tbody tr th {\n",
       "        vertical-align: top;\n",
       "    }\n",
       "\n",
       "    .dataframe thead th {\n",
       "        text-align: right;\n",
       "    }\n",
       "</style>\n",
       "<table border=\"1\" class=\"dataframe\">\n",
       "  <thead>\n",
       "    <tr style=\"text-align: right;\">\n",
       "      <th></th>\n",
       "      <th>Open</th>\n",
       "      <th>High</th>\n",
       "      <th>Low</th>\n",
       "      <th>Close</th>\n",
       "      <th>Volume</th>\n",
       "      <th>Real_Class</th>\n",
       "      <th>Predicted_Class</th>\n",
       "    </tr>\n",
       "  </thead>\n",
       "  <tbody>\n",
       "    <tr>\n",
       "      <th>0</th>\n",
       "      <td>1.17145</td>\n",
       "      <td>1.17390</td>\n",
       "      <td>1.16697</td>\n",
       "      <td>1.17336</td>\n",
       "      <td>209621.9375</td>\n",
       "      <td>1.0</td>\n",
       "      <td>-2.0</td>\n",
       "    </tr>\n",
       "    <tr>\n",
       "      <th>1</th>\n",
       "      <td>1.17319</td>\n",
       "      <td>1.17438</td>\n",
       "      <td>1.17308</td>\n",
       "      <td>1.17427</td>\n",
       "      <td>8920.6504</td>\n",
       "      <td>0.0</td>\n",
       "      <td>-2.0</td>\n",
       "    </tr>\n",
       "    <tr>\n",
       "      <th>2</th>\n",
       "      <td>1.17427</td>\n",
       "      <td>1.17562</td>\n",
       "      <td>1.17198</td>\n",
       "      <td>1.17414</td>\n",
       "      <td>152661.7344</td>\n",
       "      <td>2.0</td>\n",
       "      <td>-2.0</td>\n",
       "    </tr>\n",
       "    <tr>\n",
       "      <th>3</th>\n",
       "      <td>1.17412</td>\n",
       "      <td>1.18259</td>\n",
       "      <td>1.17408</td>\n",
       "      <td>1.18138</td>\n",
       "      <td>214738.0938</td>\n",
       "      <td>2.0</td>\n",
       "      <td>-2.0</td>\n",
       "    </tr>\n",
       "    <tr>\n",
       "      <th>4</th>\n",
       "      <td>1.18135</td>\n",
       "      <td>1.18694</td>\n",
       "      <td>1.17955</td>\n",
       "      <td>1.18644</td>\n",
       "      <td>216994.3750</td>\n",
       "      <td>-1.0</td>\n",
       "      <td>2.0</td>\n",
       "    </tr>\n",
       "    <tr>\n",
       "      <th>5</th>\n",
       "      <td>1.18641</td>\n",
       "      <td>1.18799</td>\n",
       "      <td>1.18254</td>\n",
       "      <td>1.18314</td>\n",
       "      <td>204817.6406</td>\n",
       "      <td>-1.0</td>\n",
       "      <td>2.0</td>\n",
       "    </tr>\n",
       "    <tr>\n",
       "      <th>6</th>\n",
       "      <td>1.18314</td>\n",
       "      <td>1.18750</td>\n",
       "      <td>1.18055</td>\n",
       "      <td>1.18223</td>\n",
       "      <td>199182.5000</td>\n",
       "      <td>0.0</td>\n",
       "      <td>2.0</td>\n",
       "    </tr>\n",
       "    <tr>\n",
       "      <th>7</th>\n",
       "      <td>1.18150</td>\n",
       "      <td>1.18183</td>\n",
       "      <td>1.18059</td>\n",
       "      <td>1.18149</td>\n",
       "      <td>7389.2700</td>\n",
       "      <td>-1.0</td>\n",
       "      <td>2.0</td>\n",
       "    </tr>\n",
       "    <tr>\n",
       "      <th>8</th>\n",
       "      <td>1.18149</td>\n",
       "      <td>1.18199</td>\n",
       "      <td>1.17808</td>\n",
       "      <td>1.17948</td>\n",
       "      <td>187651.9063</td>\n",
       "      <td>-1.0</td>\n",
       "      <td>2.0</td>\n",
       "    </tr>\n",
       "    <tr>\n",
       "      <th>9</th>\n",
       "      <td>1.17946</td>\n",
       "      <td>1.17953</td>\n",
       "      <td>1.17362</td>\n",
       "      <td>1.17716</td>\n",
       "      <td>192445.1250</td>\n",
       "      <td>1.0</td>\n",
       "      <td>2.0</td>\n",
       "    </tr>\n",
       "  </tbody>\n",
       "</table>\n",
       "</div>"
      ],
      "text/plain": [
       "      Open     High      Low    Close       Volume  Real_Class  \\\n",
       "0  1.17145  1.17390  1.16697  1.17336  209621.9375         1.0   \n",
       "1  1.17319  1.17438  1.17308  1.17427    8920.6504         0.0   \n",
       "2  1.17427  1.17562  1.17198  1.17414  152661.7344         2.0   \n",
       "3  1.17412  1.18259  1.17408  1.18138  214738.0938         2.0   \n",
       "4  1.18135  1.18694  1.17955  1.18644  216994.3750        -1.0   \n",
       "5  1.18641  1.18799  1.18254  1.18314  204817.6406        -1.0   \n",
       "6  1.18314  1.18750  1.18055  1.18223  199182.5000         0.0   \n",
       "7  1.18150  1.18183  1.18059  1.18149    7389.2700        -1.0   \n",
       "8  1.18149  1.18199  1.17808  1.17948  187651.9063        -1.0   \n",
       "9  1.17946  1.17953  1.17362  1.17716  192445.1250         1.0   \n",
       "\n",
       "   Predicted_Class  \n",
       "0             -2.0  \n",
       "1             -2.0  \n",
       "2             -2.0  \n",
       "3             -2.0  \n",
       "4              2.0  \n",
       "5              2.0  \n",
       "6              2.0  \n",
       "7              2.0  \n",
       "8              2.0  \n",
       "9              2.0  "
      ]
     },
     "execution_count": 86,
     "metadata": {},
     "output_type": "execute_result"
    }
   ],
   "source": [
    "results_data_test.head(10)"
   ]
  },
  {
   "cell_type": "markdown",
   "metadata": {},
   "source": [
    "### Test Result Save CSV File "
   ]
  },
  {
   "cell_type": "code",
   "execution_count": 87,
   "metadata": {},
   "outputs": [],
   "source": [
    "#SAVE\n",
    "results_data_test.to_csv(test_results_csv, header=True, index=False)"
   ]
  },
  {
   "cell_type": "markdown",
   "metadata": {},
   "source": [
    "### TRAIN RESULTS TO CSV"
   ]
  },
  {
   "cell_type": "code",
   "execution_count": 88,
   "metadata": {},
   "outputs": [
    {
     "name": "stdout",
     "output_type": "stream",
     "text": [
      "data_train.shape:  (3596, 42)\n"
     ]
    }
   ],
   "source": [
    "print(\"data_train.shape: \", data_training.shape)\n"
   ]
  },
  {
   "cell_type": "code",
   "execution_count": 89,
   "metadata": {},
   "outputs": [
    {
     "name": "stdout",
     "output_type": "stream",
     "text": [
      "         Open     High      Low    Close        Volume\n",
      "0     1.23655  1.23817  1.22801  1.23179  1.078729e+06\n",
      "1     1.23158  1.23241  1.22967  1.23109  8.212280e+04\n",
      "2     1.23140  1.23154  1.21310  1.21496  1.130388e+06\n",
      "3     1.21495  1.21669  1.20594  1.20711  1.123270e+06\n",
      "4     1.20718  1.21160  1.20519  1.20794  1.118725e+06\n",
      "...       ...      ...      ...      ...           ...\n",
      "3591  1.12887  1.13117  1.11607  1.12843  4.503077e+05\n",
      "3592  1.12843  1.13765  1.12742  1.13165  4.213447e+05\n",
      "3593  1.13165  1.13340  1.12142  1.12580  3.638887e+05\n",
      "3594  1.12395  1.12532  1.12160  1.12237  1.277672e+04\n",
      "3595  1.12237  1.12393  1.11282  1.11765  2.643780e+05\n",
      "\n",
      "[3596 rows x 5 columns]\n",
      "(3596, 5)\n",
      "(3586, 5)\n"
     ]
    }
   ],
   "source": [
    "data_training_res = data_training\n",
    "data_training_res.reset_index(drop=True, inplace=True)\n",
    "results_data_train = pd.DataFrame(data_training_res['Open'])\n",
    "results_data_train['High'] = data_training_res['High']\n",
    "results_data_train['Low'] = data_training_res['Low']\n",
    "results_data_train['Close'] = data_training_res['Close']\n",
    "results_data_train['Volume'] = data_training_res['Volume']\n",
    "print(results_data_train)\n",
    "print(results_data_train.shape)\n",
    "results_data_train = results_data_train.iloc[RANGE:]\n",
    "results_data_train.reset_index(drop=True, inplace=True)\n",
    "print(results_data_train.shape)"
   ]
  },
  {
   "cell_type": "code",
   "execution_count": 90,
   "metadata": {},
   "outputs": [
    {
     "name": "stdout",
     "output_type": "stream",
     "text": [
      "[ 2.  2.  2. ... -2. -2. -2.]\n",
      "(3586,)\n"
     ]
    }
   ],
   "source": [
    "print(uniques_y_train_pred[:])\n",
    "print(uniques_y_train_pred.shape)"
   ]
  },
  {
   "cell_type": "code",
   "execution_count": 91,
   "metadata": {},
   "outputs": [
    {
     "name": "stdout",
     "output_type": "stream",
     "text": [
      "      Real_Class\n",
      "0            2.0\n",
      "1            2.0\n",
      "2            2.0\n",
      "3            2.0\n",
      "4            2.0\n",
      "...          ...\n",
      "3581        -2.0\n",
      "3582        -2.0\n",
      "3583        -2.0\n",
      "3584        -2.0\n",
      "3585        -2.0\n",
      "\n",
      "[3586 rows x 1 columns]\n",
      "(3586, 1)\n"
     ]
    }
   ],
   "source": [
    "\n",
    "uniques_y_train_pred_pd = pd.DataFrame({'Real_Class': uniques_y_train_pred[:]})\n",
    "print(uniques_y_train_pred_pd)\n",
    "print(uniques_y_train_pred_pd.shape)\n"
   ]
  },
  {
   "cell_type": "code",
   "execution_count": 92,
   "metadata": {},
   "outputs": [],
   "source": [
    "results_data_train['Real_Class'] = uniques_y_train_np\n",
    "results_data_train['Predicted_Class'] = uniques_y_train_pred_pd"
   ]
  },
  {
   "cell_type": "code",
   "execution_count": 93,
   "metadata": {},
   "outputs": [
    {
     "data": {
      "text/html": [
       "<div>\n",
       "<style scoped>\n",
       "    .dataframe tbody tr th:only-of-type {\n",
       "        vertical-align: middle;\n",
       "    }\n",
       "\n",
       "    .dataframe tbody tr th {\n",
       "        vertical-align: top;\n",
       "    }\n",
       "\n",
       "    .dataframe thead th {\n",
       "        text-align: right;\n",
       "    }\n",
       "</style>\n",
       "<table border=\"1\" class=\"dataframe\">\n",
       "  <thead>\n",
       "    <tr style=\"text-align: right;\">\n",
       "      <th></th>\n",
       "      <th>Open</th>\n",
       "      <th>High</th>\n",
       "      <th>Low</th>\n",
       "      <th>Close</th>\n",
       "      <th>Volume</th>\n",
       "      <th>Real_Class</th>\n",
       "      <th>Predicted_Class</th>\n",
       "    </tr>\n",
       "  </thead>\n",
       "  <tbody>\n",
       "    <tr>\n",
       "      <th>0</th>\n",
       "      <td>1.21754</td>\n",
       "      <td>1.22208</td>\n",
       "      <td>1.21466</td>\n",
       "      <td>1.21889</td>\n",
       "      <td>1.106444e+06</td>\n",
       "      <td>-1.0</td>\n",
       "      <td>2.0</td>\n",
       "    </tr>\n",
       "    <tr>\n",
       "      <th>1</th>\n",
       "      <td>1.21899</td>\n",
       "      <td>1.21999</td>\n",
       "      <td>1.21408</td>\n",
       "      <td>1.21666</td>\n",
       "      <td>1.132577e+06</td>\n",
       "      <td>-2.0</td>\n",
       "      <td>2.0</td>\n",
       "    </tr>\n",
       "    <tr>\n",
       "      <th>2</th>\n",
       "      <td>1.21663</td>\n",
       "      <td>1.21931</td>\n",
       "      <td>1.20414</td>\n",
       "      <td>1.20558</td>\n",
       "      <td>1.063896e+06</td>\n",
       "      <td>1.0</td>\n",
       "      <td>2.0</td>\n",
       "    </tr>\n",
       "    <tr>\n",
       "      <th>3</th>\n",
       "      <td>1.20628</td>\n",
       "      <td>1.20701</td>\n",
       "      <td>1.20509</td>\n",
       "      <td>1.20662</td>\n",
       "      <td>7.789710e+04</td>\n",
       "      <td>0.0</td>\n",
       "      <td>2.0</td>\n",
       "    </tr>\n",
       "    <tr>\n",
       "      <th>4</th>\n",
       "      <td>1.20657</td>\n",
       "      <td>1.20802</td>\n",
       "      <td>1.20459</td>\n",
       "      <td>1.20650</td>\n",
       "      <td>1.110041e+06</td>\n",
       "      <td>1.0</td>\n",
       "      <td>2.0</td>\n",
       "    </tr>\n",
       "    <tr>\n",
       "      <th>5</th>\n",
       "      <td>1.20640</td>\n",
       "      <td>1.21142</td>\n",
       "      <td>1.20518</td>\n",
       "      <td>1.20860</td>\n",
       "      <td>1.116064e+06</td>\n",
       "      <td>2.0</td>\n",
       "      <td>2.0</td>\n",
       "    </tr>\n",
       "    <tr>\n",
       "      <th>6</th>\n",
       "      <td>1.20851</td>\n",
       "      <td>1.21929</td>\n",
       "      <td>1.20256</td>\n",
       "      <td>1.21814</td>\n",
       "      <td>1.108055e+06</td>\n",
       "      <td>2.0</td>\n",
       "      <td>2.0</td>\n",
       "    </tr>\n",
       "    <tr>\n",
       "      <th>7</th>\n",
       "      <td>1.21808</td>\n",
       "      <td>1.22491</td>\n",
       "      <td>1.21587</td>\n",
       "      <td>1.22336</td>\n",
       "      <td>1.122153e+06</td>\n",
       "      <td>1.0</td>\n",
       "      <td>2.0</td>\n",
       "    </tr>\n",
       "    <tr>\n",
       "      <th>8</th>\n",
       "      <td>1.22333</td>\n",
       "      <td>1.23084</td>\n",
       "      <td>1.21984</td>\n",
       "      <td>1.22690</td>\n",
       "      <td>1.056604e+06</td>\n",
       "      <td>1.0</td>\n",
       "      <td>2.0</td>\n",
       "    </tr>\n",
       "    <tr>\n",
       "      <th>9</th>\n",
       "      <td>1.22640</td>\n",
       "      <td>1.22853</td>\n",
       "      <td>1.22591</td>\n",
       "      <td>1.22834</td>\n",
       "      <td>7.461340e+04</td>\n",
       "      <td>-1.0</td>\n",
       "      <td>2.0</td>\n",
       "    </tr>\n",
       "  </tbody>\n",
       "</table>\n",
       "</div>"
      ],
      "text/plain": [
       "      Open     High      Low    Close        Volume  Real_Class  \\\n",
       "0  1.21754  1.22208  1.21466  1.21889  1.106444e+06        -1.0   \n",
       "1  1.21899  1.21999  1.21408  1.21666  1.132577e+06        -2.0   \n",
       "2  1.21663  1.21931  1.20414  1.20558  1.063896e+06         1.0   \n",
       "3  1.20628  1.20701  1.20509  1.20662  7.789710e+04         0.0   \n",
       "4  1.20657  1.20802  1.20459  1.20650  1.110041e+06         1.0   \n",
       "5  1.20640  1.21142  1.20518  1.20860  1.116064e+06         2.0   \n",
       "6  1.20851  1.21929  1.20256  1.21814  1.108055e+06         2.0   \n",
       "7  1.21808  1.22491  1.21587  1.22336  1.122153e+06         1.0   \n",
       "8  1.22333  1.23084  1.21984  1.22690  1.056604e+06         1.0   \n",
       "9  1.22640  1.22853  1.22591  1.22834  7.461340e+04        -1.0   \n",
       "\n",
       "   Predicted_Class  \n",
       "0              2.0  \n",
       "1              2.0  \n",
       "2              2.0  \n",
       "3              2.0  \n",
       "4              2.0  \n",
       "5              2.0  \n",
       "6              2.0  \n",
       "7              2.0  \n",
       "8              2.0  \n",
       "9              2.0  "
      ]
     },
     "execution_count": 93,
     "metadata": {},
     "output_type": "execute_result"
    }
   ],
   "source": [
    "results_data_train.head(10)\n",
    "#results_data_train.tail(10)"
   ]
  },
  {
   "cell_type": "code",
   "execution_count": 94,
   "metadata": {},
   "outputs": [
    {
     "data": {
      "text/plain": [
       "array([-1., -2.,  1.,  0.,  1.,  2.,  2.,  1.,  1., -1., -1., -2.,  1.,\n",
       "        0., -1.,  0.,  2., -2.,  1.,  0.])"
      ]
     },
     "execution_count": 94,
     "metadata": {},
     "output_type": "execute_result"
    }
   ],
   "source": [
    "uniques_y_train_np[:20]"
   ]
  },
  {
   "cell_type": "markdown",
   "metadata": {},
   "source": [
    "### Test Result Save CSV File "
   ]
  },
  {
   "cell_type": "code",
   "execution_count": 95,
   "metadata": {},
   "outputs": [],
   "source": [
    "#Save\n",
    "results_data_train.to_csv(train_results_csv, header=True, index=False)"
   ]
  }
 ],
 "metadata": {
  "colab": {
   "name": "RDI_hour.ipynb",
   "provenance": []
  },
  "kernelspec": {
   "display_name": "Python 3",
   "language": "python",
   "name": "python3"
  },
  "language_info": {
   "codemirror_mode": {
    "name": "ipython",
    "version": 3
   },
   "file_extension": ".py",
   "mimetype": "text/x-python",
   "name": "python",
   "nbconvert_exporter": "python",
   "pygments_lexer": "ipython3",
   "version": "3.7.3"
  }
 },
 "nbformat": 4,
 "nbformat_minor": 1
}
